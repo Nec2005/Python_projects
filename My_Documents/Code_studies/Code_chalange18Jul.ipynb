{
 "cells": [
  {
   "cell_type": "markdown",
   "id": "aeea130c",
   "metadata": {},
   "source": [
    "Write a program that takes a sentence from the user and outputs the number of vowels in the sentence.\n",
    "Consider the possibility that the letters entered may be lowercase/uppercase.\n",
    "\n",
    "Output:\n",
    "cümle: Sakla samanı gelir zamanı.\n",
    "a: 6\n",
    "ı: 2\n",
    "e: 1\n",
    "i: 1"
   ]
  },
  {
   "cell_type": "code",
   "execution_count": 5,
   "id": "f2decee1",
   "metadata": {},
   "outputs": [
    {
     "name": "stdout",
     "output_type": "stream",
     "text": [
      "Enter a sentence, please :Sakla samanı gelir zamanı.\n",
      "a: 6\n",
      "e: 1\n",
      "i: 1\n",
      "ı: 2\n"
     ]
    }
   ],
   "source": [
    "sentence = list((input('Enter a sentence, please :').lower()))\n",
    "vowels = ['a', 'e', 'i', 'o', 'u', 'ı', 'ü','ö']\n",
    "\n",
    "for i in vowels :\n",
    "    if i in sentence :\n",
    "        print( i+':', sentence.count(i))\n",
    "    \n",
    "\n"
   ]
  },
  {
   "cell_type": "markdown",
   "id": "ac53f9f0",
   "metadata": {},
   "source": [
    "Write a program that takes an integer value from the user and checks if the number is a positive-even number. Consider possible different cases of the entered numbers."
   ]
  },
  {
   "cell_type": "code",
   "execution_count": null,
   "id": "38121c8e",
   "metadata": {},
   "outputs": [],
   "source": [
    "num = int(input('Enter a number(different from zero), please :'))\n",
    "while (num % 2 == 0) and (num > 0) :\n",
    "    print(num, 'is a positive even number')\n",
    "print('Try again!')\n",
    "num = int(input('Enter a number, please :'))"
   ]
  },
  {
   "cell_type": "code",
   "execution_count": null,
   "id": "e9473dfd",
   "metadata": {},
   "outputs": [],
   "source": []
  }
 ],
 "metadata": {
  "kernelspec": {
   "display_name": "Python 3 (ipykernel)",
   "language": "python",
   "name": "python3"
  },
  "language_info": {
   "codemirror_mode": {
    "name": "ipython",
    "version": 3
   },
   "file_extension": ".py",
   "mimetype": "text/x-python",
   "name": "python",
   "nbconvert_exporter": "python",
   "pygments_lexer": "ipython3",
   "version": "3.9.6"
  }
 },
 "nbformat": 4,
 "nbformat_minor": 5
}
