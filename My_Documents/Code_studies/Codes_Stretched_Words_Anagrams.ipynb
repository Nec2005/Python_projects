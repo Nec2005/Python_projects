{
 "cells": [
  {
   "cell_type": "markdown",
   "metadata": {
    "id": "tLRXmEwEnKC2"
   },
   "source": [
    "\n",
    "Given a list of strings, group anagrams together.\n",
    "Example:\n",
    "Input:\n",
    "[\"eat\", \"tea\", \"tan\", \"ate\", \"nat\", \"bat\"]\n",
    "Output:\n",
    "[\n",
    "  [\"ate\",\"eat\",\"tea\"],\n",
    "  [\"nat\",\"tan\"],\n",
    "  [\"bat\"]\n",
    "]\n",
    "Note:\n",
    "All inputs will be in lowercase.\n",
    "The order of your output does not matter."
   ]
  },
  {
   "cell_type": "code",
   "execution_count": 1,
   "metadata": {
    "colab": {
     "base_uri": "https://localhost:8080/"
    },
    "id": "QmyMU6pjHUcC",
    "outputId": "494a5393-3ac3-480e-d8d0-46d1f1c433ab"
   },
   "outputs": [
    {
     "name": "stdout",
     "output_type": "stream",
     "text": [
      "[['eat', 'tea', 'ate'], ['tan', 'nat'], ['bat']]\n",
      "['aet', 'ant', 'abt']\n"
     ]
    },
    {
     "data": {
      "text/plain": [
       "{'aet': ['eat', 'tea', 'ate'], 'ant': ['tan', 'nat'], 'abt': ['bat']}"
      ]
     },
     "execution_count": 1,
     "metadata": {},
     "output_type": "execute_result"
    }
   ],
   "source": [
    "anagrams = {}\n",
    "words = [\"eat\", \"tea\", \"tan\", \"ate\", \"nat\", \"bat\"]\n",
    "for i in words:\n",
    "    sorted_word = \"\".join(sorted(i))\n",
    "    if sorted_word in anagrams:\n",
    "        anagrams[sorted_word].append(i)\n",
    "    else:\n",
    "        anagrams[sorted_word] = [i]\n",
    "print(list(anagrams.values()))\n",
    "print(list(anagrams.keys()))\n",
    "anagrams"
   ]
  },
  {
   "cell_type": "code",
   "execution_count": null,
   "metadata": {
    "id": "g0bz6CrkHULP"
   },
   "outputs": [],
   "source": []
  },
  {
   "cell_type": "code",
   "execution_count": null,
   "metadata": {
    "colab": {
     "base_uri": "https://localhost:8080/"
    },
    "id": "u8UIPNCT5ucV",
    "outputId": "f8b9c1f2-6e92-4a46-f4f3-e735a4be8ee8"
   },
   "outputs": [
    {
     "data": {
      "text/plain": [
       "True"
      ]
     },
     "execution_count": 14,
     "metadata": {
      "tags": []
     },
     "output_type": "execute_result"
    }
   ],
   "source": [
    "words = [\"eat\", \"tea\", \"tan\", \"ate\", \"nat\", \"bat\"]\n",
    "a = sorted(\"tea\")\n",
    "b = sorted(\"eat\")\n",
    "c = sorted(\"ate"
   ]
  },
  {
   "cell_type": "code",
   "execution_count": null,
   "metadata": {
    "id": "4j_KaYLG-VIj"
   },
   "outputs": [],
   "source": []
  },
  {
   "cell_type": "code",
   "execution_count": null,
   "metadata": {
    "colab": {
     "base_uri": "https://localhost:8080/"
    },
    "id": "Yzn1lCVC6M2N",
    "outputId": "7f21eb44-8fe3-4954-8536-5a6e1d2db115"
   },
   "outputs": [
    {
     "name": "stdout",
     "output_type": "stream",
     "text": [
      "{'aet': [], 'ant': [], 'abt': []}\n",
      "{'aet': ['eat', 'tea', 'ate'], 'ant': ['tan', 'nat'], 'abt': ['bat']}\n",
      "[['eat', 'tea', 'ate'], ['tan', 'nat'], ['bat']]\n"
     ]
    }
   ],
   "source": [
    "string_ = [\"eat\", \"tea\", \"tan\", \"ate\", \"nat\", \"bat\"]\n",
    "new_dict = {}\n",
    "for i in string_:\n",
    "    x = \"\".join(sorted(i))\n",
    "    new_dict[x]=[]\n",
    "print(new_dict)\n",
    "for i in string_:\n",
    "    x= \"\".join(sorted(i))\n",
    "    if x in new_dict:\n",
    "        new_dict[x].append(i)\n",
    "print(new_dict)\n",
    "print(list(new_dict.values()))"
   ]
  },
  {
   "cell_type": "code",
   "execution_count": null,
   "metadata": {
    "id": "ivAHa32K6Mx9"
   },
   "outputs": [],
   "source": []
  },
  {
   "cell_type": "markdown",
   "metadata": {
    "id": "BhT2Vl3qw6Ef"
   },
   "source": [
    "Stretched Words\n",
    "Write a function that takes a string, and returns a new string with any duplicate consecutive letters removed.\n",
    "\n",
    "unstretch(\"ppoeemm\") ➞ \"poem\"\n",
    "\n",
    "unstretch(\"wiiiinnnnd\") ➞ \"wind\"\n",
    "\n",
    "unstretch(\"ttiiitllleeee\") ➞ \"title\"\n",
    "\n",
    "unstretch(\"cccccaaarrrbbonnnnn\") ➞ \"carbon\""
   ]
  },
  {
   "cell_type": "code",
   "execution_count": 9,
   "metadata": {
    "colab": {
     "base_uri": "https://localhost:8080/"
    },
    "id": "1R_GEdyd-0J9",
    "outputId": "b822d2d4-868b-4c3d-d457-1cbdf978f821"
   },
   "outputs": [
    {
     "name": "stdout",
     "output_type": "stream",
     "text": [
      "Enter a text : dddfffgeeertttt\n",
      "dfgert\n"
     ]
    }
   ],
   "source": [
    "text = input('Enter a text : ')\n",
    "combine = ''\n",
    "for i in text:\n",
    "    if i not in combine:\n",
    "        combine += i\n",
    "print(combine)"
   ]
  },
  {
   "cell_type": "code",
   "execution_count": 18,
   "metadata": {
    "id": "leLqQKkE-0OK"
   },
   "outputs": [],
   "source": [
    "def unstretch(word):\n",
    "\treturn word[0]+\"\".join(word[i] for i in range(1,len(word)) if word[i]!=word[i-1])"
   ]
  },
  {
   "cell_type": "code",
   "execution_count": 20,
   "metadata": {
    "colab": {
     "base_uri": "https://localhost:8080/",
     "height": 35
    },
    "id": "lKkKTcIxmSQG",
    "outputId": "6bcee82b-5f0d-49ff-8467-157df6764cc1"
   },
   "outputs": [
    {
     "data": {
      "application/vnd.google.colaboratory.intrinsic+json": {
       "type": "string"
      },
      "text/plain": [
       "'neck'"
      ]
     },
     "execution_count": 20,
     "metadata": {
      "tags": []
     },
     "output_type": "execute_result"
    }
   ],
   "source": [
    "unstretch('nnnneeeccckkkkk')"
   ]
  },
  {
   "cell_type": "code",
   "execution_count": 2,
   "metadata": {
    "colab": {
     "base_uri": "https://localhost:8080/",
     "height": 35
    },
    "id": "8xYmn7_pjYS7",
    "outputId": "c64296e7-1b58-4292-dc72-1dbc1042788d"
   },
   "outputs": [
    {
     "data": {
      "application/vnd.google.colaboratory.intrinsic+json": {
       "type": "string"
      },
      "text/plain": [
       "'d'"
      ]
     },
     "execution_count": 2,
     "metadata": {
      "tags": []
     },
     "output_type": "execute_result"
    }
   ],
   "source": [
    "combine = ''\n",
    "combine = combine + 'd'\n"
   ]
  },
  {
   "cell_type": "code",
   "execution_count": 40,
   "metadata": {
    "colab": {
     "base_uri": "https://localhost:8080/",
     "height": 35
    },
    "id": "BMjRKN25jYPc",
    "outputId": "27963fe8-8e8f-48a1-a994-2eb1f5f38224"
   },
   "outputs": [
    {
     "data": {
      "application/vnd.google.colaboratory.intrinsic+json": {
       "type": "string"
      },
      "text/plain": [
       "'dfgertefg'"
      ]
     },
     "execution_count": 40,
     "metadata": {
      "tags": []
     },
     "output_type": "execute_result"
    }
   ],
   "source": [
    "combine += 'e'\n",
    "combine += 'f'\n",
    "combine += 'g'\n",
    "combine"
   ]
  },
  {
   "cell_type": "code",
   "execution_count": null,
   "metadata": {
    "id": "zq_8aMRnjYLM"
   },
   "outputs": [],
   "source": []
  }
 ],
 "metadata": {
  "colab": {
   "collapsed_sections": [],
   "name": "Codes_Stretched Words_Anagrams.ipynb",
   "provenance": []
  },
  "kernelspec": {
   "display_name": "Python 3 (ipykernel)",
   "language": "python",
   "name": "python3"
  },
  "language_info": {
   "codemirror_mode": {
    "name": "ipython",
    "version": 3
   },
   "file_extension": ".py",
   "mimetype": "text/x-python",
   "name": "python",
   "nbconvert_exporter": "python",
   "pygments_lexer": "ipython3",
   "version": "3.9.6"
  }
 },
 "nbformat": 4,
 "nbformat_minor": 1
}
