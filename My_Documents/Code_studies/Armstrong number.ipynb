{
 "cells": [
  {
   "cell_type": "markdown",
   "id": "de2b1271",
   "metadata": {},
   "source": [
    "Find out if a given number is an \"Armstrong Number\".\n",
    "\n",
    "An n-digit number that is the sum of the nth powers of its digits is called an n-Armstrong number. Examples :\n",
    "371 = 3**3 + 7**3 + 1**3;\n",
    "9474 = 9**4 + 4**4 + 7**4 + 4**4;\n",
    "93084 = 9**5 + 3**5 + 0**5 + 8**5 + 4**5.\n",
    "\n",
    "Write a Python program that;\n",
    "takes a positive integer number from the user,\n",
    "checks the entered number if it is Armstrong,\n",
    "consider the negative, float and any entries other than numeric values then display a warning message to the user."
   ]
  },
  {
   "cell_type": "code",
   "execution_count": 27,
   "id": "8bd651d5",
   "metadata": {},
   "outputs": [
    {
     "name": "stdout",
     "output_type": "stream",
     "text": [
      "Enter a number :371\n",
      "371 is an Armstrong number\n"
     ]
    }
   ],
   "source": [
    "number = input(\"Enter a number :\")\n",
    "if number.isnumeric() :\n",
    "    sum_expon = 0\n",
    "    n = len(number)\n",
    "    for i in number :\n",
    "        expon = int(i)**int(n)\n",
    "        sum_expon += expon\n",
    "    if sum_expon == int(number) :\n",
    "        print(number, \"is an Armstrong number\")\n",
    "    else :\n",
    "        print(number, \"is not an Armstrong number\")\n",
    "else:\n",
    "    print(\"It is an invalid entry. Don't use non-numeric, float, or negative values!\")"
   ]
  },
  {
   "cell_type": "code",
   "execution_count": 25,
   "id": "b2499c86",
   "metadata": {},
   "outputs": [
    {
     "name": "stdout",
     "output_type": "stream",
     "text": [
      "It is an invalid entry. Don't use non-numeric, float, or negative values!\n"
     ]
    }
   ],
   "source": [
    "number = '-371'\n",
    "if number.isnumeric() :\n",
    "    sum_expon = 0\n",
    "    n = len(number)\n",
    "    for i in number :\n",
    "        expon = int(i)**int(n)\n",
    "        sum_expon += expon\n",
    "    if sum_expon == int(number) :\n",
    "        print(number, \"is an Armstrong number\")\n",
    "    else :\n",
    "        print(number, \"is not an Armstrong number\")\n",
    "else:\n",
    "    print(\"It is an invalid entry. Don't use non-numeric, float, or negative values!\")\n"
   ]
  },
  {
   "cell_type": "code",
   "execution_count": null,
   "id": "e446d7a2",
   "metadata": {},
   "outputs": [],
   "source": []
  },
  {
   "cell_type": "code",
   "execution_count": 9,
   "id": "497b3355",
   "metadata": {},
   "outputs": [
    {
     "name": "stdout",
     "output_type": "stream",
     "text": [
      "216\n"
     ]
    }
   ],
   "source": [
    "w = '543'\n",
    "b = 0\n",
    "for i in w :\n",
    "    a = int(i)**int(len(w))\n",
    "    b += a\n",
    "print(b)"
   ]
  },
  {
   "cell_type": "code",
   "execution_count": null,
   "id": "6d4907b6",
   "metadata": {},
   "outputs": [],
   "source": []
  },
  {
   "cell_type": "code",
   "execution_count": 2,
   "id": "697d15d8",
   "metadata": {},
   "outputs": [
    {
     "data": {
      "text/plain": [
       "3"
      ]
     },
     "execution_count": 2,
     "metadata": {},
     "output_type": "execute_result"
    }
   ],
   "source": [
    "len(number)"
   ]
  },
  {
   "cell_type": "code",
   "execution_count": null,
   "id": "c845788a",
   "metadata": {},
   "outputs": [],
   "source": []
  },
  {
   "cell_type": "code",
   "execution_count": null,
   "id": "fcf7246f",
   "metadata": {},
   "outputs": [],
   "source": []
  },
  {
   "cell_type": "code",
   "execution_count": null,
   "id": "324f7871",
   "metadata": {},
   "outputs": [],
   "source": []
  },
  {
   "cell_type": "code",
   "execution_count": null,
   "id": "393b805d",
   "metadata": {},
   "outputs": [],
   "source": []
  },
  {
   "cell_type": "code",
   "execution_count": null,
   "id": "abb30858",
   "metadata": {},
   "outputs": [],
   "source": []
  },
  {
   "cell_type": "code",
   "execution_count": null,
   "id": "f0755b0e",
   "metadata": {},
   "outputs": [],
   "source": []
  },
  {
   "cell_type": "code",
   "execution_count": null,
   "id": "4a4828db",
   "metadata": {},
   "outputs": [],
   "source": []
  }
 ],
 "metadata": {
  "kernelspec": {
   "display_name": "Python 3 (ipykernel)",
   "language": "python",
   "name": "python3"
  },
  "language_info": {
   "codemirror_mode": {
    "name": "ipython",
    "version": 3
   },
   "file_extension": ".py",
   "mimetype": "text/x-python",
   "name": "python",
   "nbconvert_exporter": "python",
   "pygments_lexer": "ipython3",
   "version": "3.9.6"
  }
 },
 "nbformat": 4,
 "nbformat_minor": 5
}
