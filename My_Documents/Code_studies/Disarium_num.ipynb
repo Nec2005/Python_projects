{
 "cells": [
  {
   "cell_type": "code",
   "execution_count": null,
   "id": "220b0f2f",
   "metadata": {},
   "outputs": [],
   "source": []
  },
  {
   "cell_type": "markdown",
   "id": "ba461f9e",
   "metadata": {},
   "source": [
    "Disarium Number\n",
    "A number is said to be Disarium if the sum of its digits raised to their respective positions is the number itself.\n",
    "\n",
    "Create a function that determines whether a number is a Disarium or not.\n",
    "is_disarium(75) ➞ False\n",
    "# 7^1 + 5^2 = 7 + 25 = 32\n",
    "\n",
    "is_disarium(135) ➞ True\n",
    "# 1^1 + 3^2 + 5^3 = 1 + 9 + 125 = 135\n",
    "\n",
    "is_disarium(544) ➞ False\n",
    "\n",
    "is_disarium(518) ➞ True\n",
    "\n",
    "is_disarium(466) ➞ False\n",
    "\n",
    "is_disarium(8) ➞ True"
   ]
  },
  {
   "cell_type": "code",
   "execution_count": 37,
   "id": "bb8c4248",
   "metadata": {},
   "outputs": [],
   "source": [
    "def is_disarium(x):\n",
    "    list_x = list(str(x))\n",
    "    sum_a = 0\n",
    "    y = 1\n",
    "    for i in list_x :\n",
    "        b = int(i) ** y\n",
    "        y += 1\n",
    "        sum_a += b\n",
    "    if sum_a == x:\n",
    "        return True\n",
    "    else:\n",
    "        return False\n",
    "        \n",
    "        "
   ]
  },
  {
   "cell_type": "code",
   "execution_count": 38,
   "id": "b398a4e6",
   "metadata": {},
   "outputs": [
    {
     "data": {
      "text/plain": [
       "False"
      ]
     },
     "execution_count": 38,
     "metadata": {},
     "output_type": "execute_result"
    }
   ],
   "source": [
    "is_disarium(544)"
   ]
  },
  {
   "cell_type": "code",
   "execution_count": 25,
   "id": "0d36bbf7",
   "metadata": {},
   "outputs": [
    {
     "data": {
      "text/plain": [
       "['7', '6', '5']"
      ]
     },
     "execution_count": 25,
     "metadata": {},
     "output_type": "execute_result"
    }
   ],
   "source": [
    "b =list(str(765))\n",
    "b"
   ]
  },
  {
   "cell_type": "code",
   "execution_count": null,
   "id": "00031ad2",
   "metadata": {},
   "outputs": [],
   "source": []
  },
  {
   "cell_type": "code",
   "execution_count": null,
   "id": "178f3157",
   "metadata": {},
   "outputs": [],
   "source": []
  },
  {
   "cell_type": "code",
   "execution_count": null,
   "id": "1ca2caf9",
   "metadata": {},
   "outputs": [],
   "source": []
  }
 ],
 "metadata": {
  "kernelspec": {
   "display_name": "Python 3 (ipykernel)",
   "language": "python",
   "name": "python3"
  },
  "language_info": {
   "codemirror_mode": {
    "name": "ipython",
    "version": 3
   },
   "file_extension": ".py",
   "mimetype": "text/x-python",
   "name": "python",
   "nbconvert_exporter": "python",
   "pygments_lexer": "ipython3",
   "version": "3.9.6"
  }
 },
 "nbformat": 4,
 "nbformat_minor": 5
}
