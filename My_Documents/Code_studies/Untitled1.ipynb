{
 "cells": [
  {
   "cell_type": "markdown",
   "id": "1ad52041",
   "metadata": {},
   "source": [
    "Given an array of non-negative integers representing an elevation map as shown below where the width of each bar is 1, compute how much water will be trapped on terrain after raining. To clarify further, the black boxes represents terrain and its height, and the blue boxes represents the water that could be trapped on the terrain.\n",
    "![image.png](attachment:image.png)\n",
    "\n",
    "input = [0,1,0,2,1,0,1,3,2,1,2,1]\n",
    "output = 6"
   ]
  },
  {
   "cell_type": "markdown",
   "id": "9b78dfe0",
   "metadata": {},
   "source": []
  },
  {
   "cell_type": "code",
   "execution_count": 20,
   "id": "ef629a91",
   "metadata": {},
   "outputs": [],
   "source": [
    "input1 = [0,1,0,2,1,0,1,3,2,1,2,1]"
   ]
  },
  {
   "cell_type": "code",
   "execution_count": 21,
   "id": "e3125460",
   "metadata": {},
   "outputs": [],
   "source": [
    "input1.sort(reverse=True)"
   ]
  },
  {
   "cell_type": "code",
   "execution_count": 22,
   "id": "d9b8b2ff",
   "metadata": {},
   "outputs": [
    {
     "data": {
      "text/plain": [
       "[3, 2, 2, 2, 1, 1, 1, 1, 1, 0, 0, 0]"
      ]
     },
     "execution_count": 22,
     "metadata": {},
     "output_type": "execute_result"
    }
   ],
   "source": [
    "input1"
   ]
  },
  {
   "cell_type": "code",
   "execution_count": 23,
   "id": "307a84fa",
   "metadata": {},
   "outputs": [
    {
     "data": {
      "text/plain": [
       "12"
      ]
     },
     "execution_count": 23,
     "metadata": {},
     "output_type": "execute_result"
    }
   ],
   "source": [
    "len(input1)"
   ]
  },
  {
   "cell_type": "code",
   "execution_count": 24,
   "id": "a33026b8",
   "metadata": {},
   "outputs": [],
   "source": [
    "input1.remove((max(input1))-1)"
   ]
  },
  {
   "cell_type": "code",
   "execution_count": 25,
   "id": "6c053f50",
   "metadata": {},
   "outputs": [],
   "source": [
    "input1.append((max(input1))-1)"
   ]
  },
  {
   "cell_type": "code",
   "execution_count": 26,
   "id": "33aa43f6",
   "metadata": {},
   "outputs": [
    {
     "data": {
      "text/plain": [
       "[3, 2, 2, 1, 1, 1, 1, 1, 0, 0, 0, 2]"
      ]
     },
     "execution_count": 26,
     "metadata": {},
     "output_type": "execute_result"
    }
   ],
   "source": [
    "input1"
   ]
  },
  {
   "cell_type": "code",
   "execution_count": 33,
   "id": "fd91b1f8",
   "metadata": {},
   "outputs": [],
   "source": [
    "input1 = [0,1,0,2,1,0,1,3,2,1,2,1]"
   ]
  },
  {
   "cell_type": "code",
   "execution_count": 29,
   "id": "b70d8cb9",
   "metadata": {},
   "outputs": [],
   "source": [
    "sum_list = []\n",
    "x = 1"
   ]
  },
  {
   "cell_type": "code",
   "execution_count": 34,
   "id": "b79b8924",
   "metadata": {},
   "outputs": [
    {
     "data": {
      "text/plain": [
       "[]"
      ]
     },
     "execution_count": 34,
     "metadata": {},
     "output_type": "execute_result"
    }
   ],
   "source": [
    "for i in input1 :\n",
    "    if  i == 0:\n",
    "        if i+1 >= 0 and i-1 >= 0 :\n",
    "            sum_list.append(input1[i+1]-input1[i-1])\n",
    "        elif i - 2 > 1 and i + 2 > 1 :\n",
    "            sum_list.append(input1[i-2]-input1[i-1])\n",
    "    elif i > 0:\n",
    "        if i-1 > i and i+1 > i:\n",
    "            sum_list.append(input1[i-1]-i)\n",
    "        \n",
    "sum_list  \n",
    "    "
   ]
  },
  {
   "cell_type": "code",
   "execution_count": 35,
   "id": "1c254a52",
   "metadata": {},
   "outputs": [
    {
     "data": {
      "text/plain": [
       "[]"
      ]
     },
     "execution_count": 35,
     "metadata": {},
     "output_type": "execute_result"
    }
   ],
   "source": [
    "input1 = [0,1,0,2,1,0,1,3,2,1,2,1]\n",
    "sum_list = []\n",
    "x = 1\n",
    "for i in input1 :\n",
    "    if  i == 0:\n",
    "        if i+1 >= 0 and i-1 >= 0 :\n",
    "            sum_list.append(input1[i+1]-input1[i-1])\n",
    "        elif i - 2 > 1 and i + 2 > 1 :\n",
    "            sum_list.append(input1[i-2]-input1[i-1])\n",
    "    elif i > 0:\n",
    "        if i-1 > i and i+1 > i:\n",
    "            sum_list.append(input1[i-1]-i)\n",
    "        \n",
    "sum_list  "
   ]
  },
  {
   "cell_type": "code",
   "execution_count": null,
   "id": "24fc7d70",
   "metadata": {},
   "outputs": [],
   "source": []
  },
  {
   "cell_type": "code",
   "execution_count": null,
   "id": "b3383fc5",
   "metadata": {},
   "outputs": [],
   "source": []
  },
  {
   "cell_type": "code",
   "execution_count": null,
   "id": "cb992b5e",
   "metadata": {},
   "outputs": [],
   "source": []
  },
  {
   "cell_type": "code",
   "execution_count": null,
   "id": "3d657314",
   "metadata": {},
   "outputs": [],
   "source": []
  },
  {
   "cell_type": "code",
   "execution_count": null,
   "id": "72beaded",
   "metadata": {},
   "outputs": [],
   "source": []
  },
  {
   "cell_type": "code",
   "execution_count": null,
   "id": "c2d3668d",
   "metadata": {},
   "outputs": [],
   "source": []
  },
  {
   "cell_type": "code",
   "execution_count": null,
   "id": "fc2f6f5f",
   "metadata": {},
   "outputs": [],
   "source": []
  },
  {
   "cell_type": "code",
   "execution_count": null,
   "id": "c0ad059e",
   "metadata": {},
   "outputs": [],
   "source": []
  },
  {
   "cell_type": "code",
   "execution_count": null,
   "id": "d4538cff",
   "metadata": {},
   "outputs": [],
   "source": []
  }
 ],
 "metadata": {
  "kernelspec": {
   "display_name": "Python 3 (ipykernel)",
   "language": "python",
   "name": "python3"
  },
  "language_info": {
   "codemirror_mode": {
    "name": "ipython",
    "version": 3
   },
   "file_extension": ".py",
   "mimetype": "text/x-python",
   "name": "python",
   "nbconvert_exporter": "python",
   "pygments_lexer": "ipython3",
   "version": "3.9.6"
  }
 },
 "nbformat": 4,
 "nbformat_minor": 5
}
