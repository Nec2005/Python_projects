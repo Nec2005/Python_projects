{
 "cells": [
  {
   "cell_type": "markdown",
   "id": "e5be5084",
   "metadata": {},
   "source": [
    "Aynı zamanda hem 2'ye hem 4'e hem de 5'e bölünebilen sayılara xyz sayısı diyelim. Hem 2'ye hem de 5'e bölünebilen sayılar ise abc sayısı olsun. 100 ile 100.000 arasındaki xyz sayılarından kaç tanesi aynı zamanda abc sayısıdır?"
   ]
  },
  {
   "cell_type": "code",
   "execution_count": 1,
   "id": "c2aad957",
   "metadata": {},
   "outputs": [
    {
     "name": "stdout",
     "output_type": "stream",
     "text": [
      "4996\n",
      "4996\n"
     ]
    }
   ],
   "source": [
    "# mine \n",
    "listxyz = []\n",
    "listabc = []\n",
    "for i in range(100, 100001) :\n",
    "    if i%2 == 0 and i%4 == 0 and i%5 == 0 :\n",
    "        listxyz.append(i)\n",
    "for ii in listxyz :\n",
    "    if i%2 == 0 and i%5 == 0 :\n",
    "        listabc.append(ii)\n",
    "print(len(listabc))\n",
    "print(len(listxyz))\n",
    "        "
   ]
  },
  {
   "cell_type": "code",
   "execution_count": 2,
   "id": "0e29a3f6",
   "metadata": {},
   "outputs": [
    {
     "data": {
      "text/plain": [
       "True"
      ]
     },
     "execution_count": 2,
     "metadata": {},
     "output_type": "execute_result"
    }
   ],
   "source": [
    "(20%2 and 20%4 and 20%5) == 0 "
   ]
  },
  {
   "cell_type": "code",
   "execution_count": 3,
   "id": "d54f2e06",
   "metadata": {},
   "outputs": [
    {
     "name": "stdout",
     "output_type": "stream",
     "text": [
      "4995\n"
     ]
    }
   ],
   "source": [
    "a =[]\n",
    "b=[]\n",
    "for n in range(100 ,1000000):\n",
    "    if n%2 == 0 and n%4 == 0 and n%5==0:\n",
    "        a.append(n)\n",
    "for n in range(100,100000):    \n",
    "    if n%2 == 0 and n%5 ==0:\n",
    "        b.append(n)\n",
    "x =set(a)\n",
    "y = set(b)\n",
    "print(len(x.intersection(y)))"
   ]
  },
  {
   "cell_type": "code",
   "execution_count": null,
   "id": "3a8738d9",
   "metadata": {},
   "outputs": [],
   "source": []
  },
  {
   "cell_type": "code",
   "execution_count": 4,
   "id": "be3d556d",
   "metadata": {
    "scrolled": true
   },
   "outputs": [
    {
     "name": "stdout",
     "output_type": "stream",
     "text": [
      "4996\n"
     ]
    }
   ],
   "source": [
    "xyz=[i for i in range(100, 100001) if i%2==0 and i%5==0 and i%4==0]\n",
    "abc=[i for i in range(100, 100001) if i%2==0 and i%5==0]\n",
    "cross_check=len(set(xyz).intersection(set(abc)))\n",
    "print(cross_check)"
   ]
  },
  {
   "cell_type": "code",
   "execution_count": null,
   "id": "a960929d",
   "metadata": {},
   "outputs": [],
   "source": []
  },
  {
   "cell_type": "code",
   "execution_count": null,
   "id": "44834119",
   "metadata": {},
   "outputs": [],
   "source": []
  }
 ],
 "metadata": {
  "kernelspec": {
   "display_name": "Python 3 (ipykernel)",
   "language": "python",
   "name": "python3"
  },
  "language_info": {
   "codemirror_mode": {
    "name": "ipython",
    "version": 3
   },
   "file_extension": ".py",
   "mimetype": "text/x-python",
   "name": "python",
   "nbconvert_exporter": "python",
   "pygments_lexer": "ipython3",
   "version": "3.9.6"
  }
 },
 "nbformat": 4,
 "nbformat_minor": 5
}
