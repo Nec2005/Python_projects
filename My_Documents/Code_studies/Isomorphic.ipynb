{
 "cells": [
  {
   "cell_type": "markdown",
   "id": "03e4116f",
   "metadata": {},
   "source": [
    "Isomorphic Strings\n",
    "Given two strings s and t, create a function to determine if they are isomorphic. Two strings are isomorphic if the characters in s can be replaced to get t. All occurrences of a character must be replaced with another character while preserving the order of characters. No two characters may map to the same character but a character may map to itself.\n",
    "\n",
    "Examples\n",
    "is_isomorphic(\"egg\", \"add\") ➞ True\n",
    "\n",
    "is_isomorphic(\"aba\", \"baa\") ➞ False\n",
    "\n",
    "is_isomorphic(\"paper\", \"title\") ➞ True"
   ]
  },
  {
   "cell_type": "code",
   "execution_count": null,
   "id": "88ec6803",
   "metadata": {},
   "outputs": [],
   "source": []
  },
  {
   "cell_type": "code",
   "execution_count": null,
   "id": "12df56e5",
   "metadata": {},
   "outputs": [],
   "source": [
    "def isomorphic_strings(text_1, text_2):\n",
    "    dictt = {}\n",
    "    count = 0\n",
    "    result = True\n",
    "    for i in text_1:\n",
    "        if i not in dictt.keys():\n",
    "            dictt[i] = text_2[count]\n",
    "            count += 1\n",
    "        else:\n",
    "            if dictt[i] == text_2[count]:\n",
    "                count += 1\n",
    "                continue\n",
    "            else:\n",
    "                result = False\n",
    "                break\n",
    "    return result\n",
    "\n",
    "isomorphic_strings(\"paper\", \"title\")"
   ]
  },
  {
   "cell_type": "code",
   "execution_count": null,
   "id": "c5cffdd7",
   "metadata": {},
   "outputs": [],
   "source": []
  },
  {
   "cell_type": "code",
   "execution_count": null,
   "id": "fcc2a922",
   "metadata": {},
   "outputs": [],
   "source": [
    "def is_isomorphic(s, t):\n",
    "    s_dicct,t_dicct ={},{}\n",
    "    if len(s) != len(t):\n",
    "        return False\n",
    "    for i in range(len(t)):\n",
    "        si, ti = s[i], t[i]\n",
    "        if si not in s_dicct:\n",
    "            s_dicct[si] = ti\n",
    "        if ti not in t_dicct:\n",
    "            t_dicct[ti] = si\n",
    "        if t_dicct[ti] !=  si or s_dicct[si] != ti:\n",
    "            return False\n",
    "    return True"
   ]
  },
  {
   "cell_type": "markdown",
   "id": "dce4b3a9",
   "metadata": {},
   "source": [
    "The Polybius Square cipher is a simple substitution cipher that makes use of a 5x5 square grid. The letters A-Z are written into the grid, with \"I\" and \"J\" typically sharing a slot (as there are 26 letters and only 25 slots).\n",
    "\n",
    "1\t2\t3\t4\t5\n",
    "1\tA\tB\tC\tD\tE\n",
    "2\tF\tG\tH\tI/J\tK\n",
    "3\tL\tM\tN\tO\tP\n",
    "4\tQ\tR\tS\tT\tU\n",
    "5\tV\tW\tX\tY\tZ\n",
    "To encipher a message, each letter is merely replaced by its row and column numbers in the grid.\n",
    "\n",
    "Create a function that takes a plaintext or ciphertext message, and returns the corresponding ciphertext or plaintext.\n",
    "\n",
    "Examples\n",
    "polybius(\"Hi\") ➞ \"2324\"\n",
    "\n",
    "polybius(\"2324  4423154215\") ➞ \"hi there\"\n",
    "\n",
    "polybius(\"543445 14343344 522433 21422415331443 52244423 4311311114\") ➞ \"you dont win friends with salad\"\n",
    "Notes\n",
    "As \"I\" and \"J\" share a slot, both are enciphered into 24, but deciphered only into \"I\" (see third and fourth test)."
   ]
  },
  {
   "cell_type": "code",
   "execution_count": null,
   "id": "bb21c5d5",
   "metadata": {},
   "outputs": [],
   "source": []
  },
  {
   "cell_type": "code",
   "execution_count": null,
   "id": "2fc8e829",
   "metadata": {},
   "outputs": [],
   "source": []
  },
  {
   "cell_type": "code",
   "execution_count": null,
   "id": "dc65c57e",
   "metadata": {},
   "outputs": [],
   "source": []
  },
  {
   "cell_type": "code",
   "execution_count": null,
   "id": "03dd217e",
   "metadata": {},
   "outputs": [],
   "source": []
  },
  {
   "cell_type": "code",
   "execution_count": null,
   "id": "efaa7fa1",
   "metadata": {},
   "outputs": [],
   "source": []
  },
  {
   "cell_type": "code",
   "execution_count": null,
   "id": "8d12f49e",
   "metadata": {},
   "outputs": [],
   "source": []
  }
 ],
 "metadata": {
  "kernelspec": {
   "display_name": "Python 3 (ipykernel)",
   "language": "python",
   "name": "python3"
  },
  "language_info": {
   "codemirror_mode": {
    "name": "ipython",
    "version": 3
   },
   "file_extension": ".py",
   "mimetype": "text/x-python",
   "name": "python",
   "nbconvert_exporter": "python",
   "pygments_lexer": "ipython3",
   "version": "3.9.6"
  }
 },
 "nbformat": 4,
 "nbformat_minor": 5
}
