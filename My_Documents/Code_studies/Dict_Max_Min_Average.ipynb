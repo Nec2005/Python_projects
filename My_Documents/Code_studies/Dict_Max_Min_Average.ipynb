{
 "cells": [
  {
   "cell_type": "markdown",
   "id": "a25e6637",
   "metadata": {},
   "source": [
    "Write a Python code that find the students who have maximum and minimum average at below.\n",
    "grades={\n",
    "'Student-1': {'Lesson-1': 57, 'Lesson-2': 46, 'Lesson-3': 58, 'Lesson-4': 81, 'Lesson-5': 85}, \n",
    "'Student-2': {'Lesson-1': 85, 'Lesson-2': 56, 'Lesson-3': 51, 'Lesson-4': 69, 'Lesson-5': 67}, \n",
    "'Student-3': {'Lesson-1': 68, 'Lesson-2': 76, 'Lesson-3': 87, 'Lesson-4': 57, 'Lesson-5': 56},\n",
    "'Student-4': {'Lesson-1': 78, 'Lesson-2': 93, 'Lesson-3': 88, 'Lesson-4': 38, 'Lesson-5': 54}, \n",
    "'Student-5': {'Lesson-1': 50, 'Lesson-2': 46, 'Lesson-3': 78, 'Lesson-4': 81, 'Lesson-5': 75}\n",
    "}"
   ]
  },
  {
   "cell_type": "code",
   "execution_count": 17,
   "id": "4a7f8792",
   "metadata": {},
   "outputs": [],
   "source": [
    "grades={\n",
    "'Student-1': {'Lesson-1': 57, 'Lesson-2': 46, 'Lesson-3': 58, 'Lesson-4': 81, 'Lesson-5': 85}, \n",
    "'Student-2': {'Lesson-1': 85, 'Lesson-2': 56, 'Lesson-3': 51, 'Lesson-4': 69, 'Lesson-5': 67}, \n",
    "'Student-3': {'Lesson-1': 68, 'Lesson-2': 76, 'Lesson-3': 87, 'Lesson-4': 57, 'Lesson-5': 56},\n",
    "'Student-4': {'Lesson-1': 78, 'Lesson-2': 93, 'Lesson-3': 88, 'Lesson-4': 38, 'Lesson-5': 54}, \n",
    "'Student-5': {'Lesson-1': 50, 'Lesson-2': 46, 'Lesson-3': 78, 'Lesson-4': 81, 'Lesson-5': 75}\n",
    "}\n",
    "\n",
    "\n"
   ]
  },
  {
   "cell_type": "code",
   "execution_count": 41,
   "id": "c481bfcb",
   "metadata": {},
   "outputs": [
    {
     "name": "stdout",
     "output_type": "stream",
     "text": [
      "{'Student-1': [65], 'Student-2': [65], 'Student-3': [68], 'Student-4': [70], 'Student-5': [66]}\n",
      "Student-1 has the minumum average\n",
      "Student-2 has the minumum average\n",
      "Student-4 has the maximum average\n"
     ]
    }
   ],
   "source": [
    "aver_dict = {}\n",
    "for i in grades :\n",
    "    x = grades[i].values()\n",
    "    aver = (sum(x)//len(x))\n",
    "    aver_dict[i] = [aver]\n",
    "print(aver_dict)\n",
    "\n",
    "for i in aver_dict :\n",
    "    if aver_dict[i] == max(aver_dict.values()) :\n",
    "        print(f\"{i} has the maximum average\" )\n",
    "    elif aver_dict[i] == min(aver_dict.values()) :\n",
    "        print(f\"{i} has the minumum average\" )"
   ]
  },
  {
   "cell_type": "code",
   "execution_count": 13,
   "id": "0c6d02b3",
   "metadata": {},
   "outputs": [
    {
     "data": {
      "text/plain": [
       "65"
      ]
     },
     "execution_count": 13,
     "metadata": {},
     "output_type": "execute_result"
    }
   ],
   "source": [
    "a = [57, 46, 58, 81, 85]\n",
    "aver = sum(a)//len(a)"
   ]
  },
  {
   "cell_type": "code",
   "execution_count": 31,
   "id": "4e218316",
   "metadata": {},
   "outputs": [],
   "source": [
    "q = {'Student-1': [65],\n",
    " 'Student-2': [65],\n",
    " 'Student-3': [68],\n",
    " 'Student-4': [70],\n",
    " 'Student-5': [66]}"
   ]
  },
  {
   "cell_type": "code",
   "execution_count": 35,
   "id": "e5ff2c73",
   "metadata": {},
   "outputs": [
    {
     "data": {
      "text/plain": [
       "True"
      ]
     },
     "execution_count": 35,
     "metadata": {},
     "output_type": "execute_result"
    }
   ],
   "source": [
    "q['Student-4'] == max(q.values())"
   ]
  },
  {
   "cell_type": "code",
   "execution_count": 34,
   "id": "b0af0c6c",
   "metadata": {},
   "outputs": [
    {
     "data": {
      "text/plain": [
       "dict_keys(['Student-1', 'Student-2', 'Student-3', 'Student-4', 'Student-5'])"
      ]
     },
     "execution_count": 34,
     "metadata": {},
     "output_type": "execute_result"
    }
   ],
   "source": [
    "q.keys()"
   ]
  },
  {
   "cell_type": "code",
   "execution_count": null,
   "id": "32c0aa76",
   "metadata": {},
   "outputs": [],
   "source": [
    "a = (1, 5, 3, 9)\n",
    "x = max(a)"
   ]
  },
  {
   "cell_type": "code",
   "execution_count": null,
   "id": "e2cbcaa9",
   "metadata": {},
   "outputs": [],
   "source": []
  }
 ],
 "metadata": {
  "kernelspec": {
   "display_name": "Python 3 (ipykernel)",
   "language": "python",
   "name": "python3"
  },
  "language_info": {
   "codemirror_mode": {
    "name": "ipython",
    "version": 3
   },
   "file_extension": ".py",
   "mimetype": "text/x-python",
   "name": "python",
   "nbconvert_exporter": "python",
   "pygments_lexer": "ipython3",
   "version": "3.9.6"
  }
 },
 "nbformat": 4,
 "nbformat_minor": 5
}
