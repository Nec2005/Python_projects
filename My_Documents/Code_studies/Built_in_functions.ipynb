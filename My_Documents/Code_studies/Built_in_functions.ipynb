{
 "cells": [
  {
   "cell_type": "code",
   "execution_count": 2,
   "source": [
    "def mySum(*args):\r\n",
    "    return sum(args)\r\n",
    "\r\n",
    "mySum(1,2,3) # 6\r\n",
    "mySum(1,2) # 3"
   ],
   "outputs": [
    {
     "output_type": "execute_result",
     "data": {
      "text/plain": [
       "3"
      ]
     },
     "metadata": {},
     "execution_count": 2
    }
   ],
   "metadata": {}
  },
  {
   "cell_type": "code",
   "execution_count": 3,
   "source": [
    "# Python program to illustrate \r\n",
    "# *args for variable number of arguments\r\n",
    "def myFun(*argv):\r\n",
    "    for arg in argv:\r\n",
    "        print (arg)\r\n",
    "   \r\n",
    "myFun('Hello', 'Welcome', 'to', 'GeeksforGeeks')"
   ],
   "outputs": [
    {
     "output_type": "stream",
     "name": "stdout",
     "text": [
      "Hello\n",
      "Welcome\n",
      "to\n",
      "GeeksforGeeks\n"
     ]
    }
   ],
   "metadata": {}
  },
  {
   "cell_type": "code",
   "execution_count": 4,
   "source": [
    "def myFun(arg1, *argv):\r\n",
    "    print (\"First argument :\", arg1)\r\n",
    "    for arg in argv:\r\n",
    "        print(\"Next argument through *argv :\", arg)\r\n",
    " \r\n",
    "myFun('Hello', 'Welcome', 'to', 'GeeksforGeeks')"
   ],
   "outputs": [
    {
     "output_type": "stream",
     "name": "stdout",
     "text": [
      "First argument : Hello\n",
      "Next argument through *argv : Welcome\n",
      "Next argument through *argv : to\n",
      "Next argument through *argv : GeeksforGeeks\n"
     ]
    }
   ],
   "metadata": {}
  },
  {
   "cell_type": "code",
   "execution_count": 5,
   "source": [
    "# Python program to illustrate \r\n",
    "# *kargs for variable number of keyword arguments\r\n",
    " \r\n",
    "def myFun(**kwargs):\r\n",
    "    for key, value in kwargs.items():\r\n",
    "        print (\"%s == %s\" %(key, value))\r\n",
    " \r\n",
    "# Driver code\r\n",
    "myFun(first ='Geeks', mid ='for', last='Geeks')   "
   ],
   "outputs": [
    {
     "output_type": "stream",
     "name": "stdout",
     "text": [
      "first == Geeks\n",
      "mid == for\n",
      "last == Geeks\n"
     ]
    }
   ],
   "metadata": {}
  },
  {
   "cell_type": "code",
   "execution_count": 6,
   "source": [
    "# Python program to illustrate  **kargs for\r\n",
    "# variable number of keyword arguments with\r\n",
    "# one extra argument.\r\n",
    " \r\n",
    "def myFun(arg1, **kwargs):\r\n",
    "    for key, value in kwargs.items():\r\n",
    "        print (\"%s == %s\" %(key, value))\r\n",
    " \r\n",
    "# Driver code\r\n",
    "myFun(\"Hi\", first ='Geeks', mid ='for', last='Geeks')   "
   ],
   "outputs": [
    {
     "output_type": "stream",
     "name": "stdout",
     "text": [
      "first == Geeks\n",
      "mid == for\n",
      "last == Geeks\n"
     ]
    }
   ],
   "metadata": {}
  },
  {
   "cell_type": "code",
   "execution_count": 7,
   "source": [
    "def fruiterer(fruit1, fruit2) :\r\n",
    "    print('I want to get', fruit1, 'and', fruit2)\r\n",
    "        \r\n",
    "fruiterer('orange', 'banana')\r\n"
   ],
   "outputs": [
    {
     "output_type": "stream",
     "name": "stdout",
     "text": [
      "I want to get orange and banana\n"
     ]
    }
   ],
   "metadata": {}
  },
  {
   "cell_type": "code",
   "execution_count": 8,
   "source": [
    "def fruiterer(*fruit) :\r\n",
    "    print('I want to get :')\r\n",
    "    for i in fruit :\r\n",
    "        print('-', i)\r\n",
    "        \r\n",
    "fruiterer('orange', 'banana', 'melon', 'ananas', 'apple')"
   ],
   "outputs": [
    {
     "output_type": "stream",
     "name": "stdout",
     "text": [
      "I want to get :\n",
      "- orange\n",
      "- banana\n",
      "- melon\n",
      "- ananas\n",
      "- apple\n"
     ]
    }
   ],
   "metadata": {}
  },
  {
   "cell_type": "code",
   "execution_count": 18,
   "source": [
    "def sum1(*args):\r\n",
    "    x = 0\r\n",
    "    for i in args:\r\n",
    "        x += i\r\n",
    "    print(x)\r\n"
   ],
   "outputs": [],
   "metadata": {}
  },
  {
   "cell_type": "code",
   "execution_count": 21,
   "source": [
    "\r\n",
    "sum1(2,3,4,5,6,7)"
   ],
   "outputs": [
    {
     "output_type": "stream",
     "name": "stdout",
     "text": [
      "27\n"
     ]
    }
   ],
   "metadata": {}
  },
  {
   "cell_type": "code",
   "execution_count": 25,
   "source": [
    "def sum1(*args):\r\n",
    "    x = 0\r\n",
    "    li = list(*args)\r\n",
    "    for i in li:\r\n",
    "        x += i\r\n",
    "    print(x)"
   ],
   "outputs": [],
   "metadata": {}
  },
  {
   "cell_type": "code",
   "execution_count": 26,
   "source": [
    "list1 = [2,3,4,5,6,7]\r\n",
    "sum1(list1)"
   ],
   "outputs": [
    {
     "output_type": "stream",
     "name": "stdout",
     "text": [
      "27\n"
     ]
    }
   ],
   "metadata": {}
  },
  {
   "cell_type": "code",
   "execution_count": 15,
   "source": [
    "def animals(**kwargs):\r\n",
    "    for key, value in kwargs.items():\r\n",
    "        print(value, \"are\", key)\r\n",
    " \r\n",
    "animals(Carnivores=\"Lions\", Omnivores=\"Bears\", Herbivores=\"Deers\", Nomnivores=\"Human\")"
   ],
   "outputs": [
    {
     "output_type": "stream",
     "name": "stdout",
     "text": [
      "Lions are Carnivores\n",
      "Bears are Omnivores\n",
      "Deers are Herbivores\n",
      "Human are Nomnivores\n"
     ]
    }
   ],
   "metadata": {}
  },
  {
   "cell_type": "code",
   "execution_count": 28,
   "source": [
    "def brothers(bro1, bro2, bro3):\r\n",
    "    print('Here are the names of brothers :')\r\n",
    "    print(bro1, bro2, bro3, sep='\\n')\r\n",
    "\r\n",
    "family = ['tom', 'sue', 'tim']\r\n",
    "brothers(*family)\r\n"
   ],
   "outputs": [
    {
     "output_type": "stream",
     "name": "stdout",
     "text": [
      "Here are the names of brothers :\n",
      "tom\n",
      "sue\n",
      "tim\n"
     ]
    }
   ],
   "metadata": {}
  },
  {
   "cell_type": "code",
   "execution_count": 29,
   "source": [
    "family = ['tom', 'sue', 'tim']\r\n",
    "print(*family)"
   ],
   "outputs": [
    {
     "output_type": "stream",
     "name": "stdout",
     "text": [
      "tom sue tim\n"
     ]
    }
   ],
   "metadata": {}
  },
  {
   "cell_type": "code",
   "execution_count": 34,
   "source": [
    "def gene(x, y):  # defined by positional args\r\n",
    "    print(x, \"belongs to Generation X\")\r\n",
    "    print(y, \"belongs to Generation Y\")\r\n",
    " \r\n",
    "dict_gene = {'y' : \"Marry\", 'x' : \"Fred\"}\r\n",
    "gene(**dict_gene)  # we call the function by a single argument(variable)"
   ],
   "outputs": [
    {
     "output_type": "stream",
     "name": "stdout",
     "text": [
      "Fred belongs to Generation X\n",
      "Marry belongs to Generation Y\n"
     ]
    }
   ],
   "metadata": {}
  },
  {
   "cell_type": "code",
   "execution_count": 35,
   "source": [
    "gene(23, 99)"
   ],
   "outputs": [
    {
     "output_type": "stream",
     "name": "stdout",
     "text": [
      "23 belongs to Generation X\n",
      "99 belongs to Generation Y\n"
     ]
    }
   ],
   "metadata": {}
  },
  {
   "cell_type": "code",
   "execution_count": null,
   "source": [],
   "outputs": [],
   "metadata": {}
  },
  {
   "cell_type": "code",
   "execution_count": 36,
   "source": [
    "def gene(x='Solomon', y='David'):  # defined by kwargs (default values assigned to x and y)\r\n",
    "    print(x, \"belongs to Generation X\")\r\n",
    "    print(y, \"belongs to Generation Y\")\r\n",
    " \r\n",
    "dict_gene = {'y' : \"Marry\", 'x' : \"Fred\"}\r\n",
    "gene(**dict_gene) "
   ],
   "outputs": [
    {
     "output_type": "stream",
     "name": "stdout",
     "text": [
      "Fred belongs to Generation X\n",
      "Marry belongs to Generation Y\n"
     ]
    }
   ],
   "metadata": {}
  },
  {
   "cell_type": "code",
   "execution_count": 37,
   "source": [
    "gene() # default lar calisti"
   ],
   "outputs": [
    {
     "output_type": "stream",
     "name": "stdout",
     "text": [
      "Solomon belongs to Generation X\n",
      "David belongs to Generation Y\n"
     ]
    }
   ],
   "metadata": {}
  },
  {
   "cell_type": "code",
   "execution_count": null,
   "source": [],
   "outputs": [],
   "metadata": {}
  }
 ],
 "metadata": {
  "orig_nbformat": 4,
  "language_info": {
   "name": "python",
   "version": "3.9.5",
   "mimetype": "text/x-python",
   "codemirror_mode": {
    "name": "ipython",
    "version": 3
   },
   "pygments_lexer": "ipython3",
   "nbconvert_exporter": "python",
   "file_extension": ".py"
  },
  "kernelspec": {
   "name": "python3",
   "display_name": "Python 3.9.5 64-bit (windows store)"
  },
  "interpreter": {
   "hash": "91e309b0d6f9bd13113d0dab55954c7a828cac190944509a12384aacede56c3d"
  }
 },
 "nbformat": 4,
 "nbformat_minor": 2
}