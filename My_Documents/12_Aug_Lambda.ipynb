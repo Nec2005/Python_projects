{
 "cells": [
  {
   "cell_type": "code",
   "execution_count": 5,
   "id": "768e0296",
   "metadata": {},
   "outputs": [
    {
     "name": "stdout",
     "output_type": "stream",
     "text": [
      "['Monday', 'Friday', 'Sunday']\n"
     ]
    }
   ],
   "source": [
    "list1 = ['Monday', 'Tuesday', 'Wednesday', 'Thursday', 'Friday', 'Saturday', 'Sunday']\n",
    "\n",
    "six_len = filter(lambda x : len(x) == 6, list1)  \n",
    "print(list(six_len))\n",
    "    "
   ]
  },
  {
   "cell_type": "markdown",
   "id": "79e03af2",
   "metadata": {},
   "source": [
    "Girilen bir sayinin rakamlari sayisini veren bir kod yazmak istiyorum. Asagidaki hatali, nasil duzeltilir acaba, ne yapmam gerekiyor?\n"
   ]
  },
  {
   "cell_type": "code",
   "execution_count": 10,
   "id": "511db36b",
   "metadata": {},
   "outputs": [
    {
     "name": "stdout",
     "output_type": "stream",
     "text": [
      "Enter number234\n",
      "3\n"
     ]
    }
   ],
   "source": [
    "number = input(\"Enter number\")\n",
    "k = 0\n",
    "for i in number:\n",
    "    k += 1\n",
    "\n",
    "print(k)\n",
    "    \n"
   ]
  },
  {
   "cell_type": "code",
   "execution_count": null,
   "id": "4e5e42c6",
   "metadata": {},
   "outputs": [],
   "source": [
    "def square(x):\n",
    "    return x**2\n",
    "    "
   ]
  },
  {
   "cell_type": "code",
   "execution_count": null,
   "id": "281d9a50",
   "metadata": {},
   "outputs": [],
   "source": [
    "lambda x: x**2 ()"
   ]
  },
  {
   "cell_type": "code",
   "execution_count": null,
   "id": "cfe745cd",
   "metadata": {},
   "outputs": [],
   "source": [
    "lambda x, y: (x+y)/2 "
   ]
  },
  {
   "cell_type": "code",
   "execution_count": 1,
   "id": "fcdd28f0",
   "metadata": {},
   "outputs": [
    {
     "data": {
      "text/plain": [
       "<function __main__.<lambda>(x)>"
      ]
     },
     "execution_count": 1,
     "metadata": {},
     "output_type": "execute_result"
    }
   ],
   "source": [
    "lambda x: 'odd' if x%2 != 0 else 'even'"
   ]
  },
  {
   "cell_type": "code",
   "execution_count": 2,
   "id": "6b30ea16",
   "metadata": {},
   "outputs": [
    {
     "name": "stdout",
     "output_type": "stream",
     "text": [
      "4\n"
     ]
    }
   ],
   "source": [
    "print((lambda x: x**2)(2))"
   ]
  },
  {
   "cell_type": "code",
   "execution_count": 3,
   "id": "66b1e19f",
   "metadata": {},
   "outputs": [
    {
     "name": "stdout",
     "output_type": "stream",
     "text": [
      "4.0\n"
     ]
    }
   ],
   "source": [
    "print((lambda x, y: (x+y)/2)(3, 5))"
   ]
  },
  {
   "cell_type": "code",
   "execution_count": 4,
   "id": "2294719f",
   "metadata": {},
   "outputs": [
    {
     "name": "stdout",
     "output_type": "stream",
     "text": [
      "[4, 3, 2, 1]\n"
     ]
    }
   ],
   "source": [
    "print((lambda x : x[::-1])([1,2,3,4]))"
   ]
  },
  {
   "cell_type": "code",
   "execution_count": 5,
   "id": "3d2448a2",
   "metadata": {},
   "outputs": [
    {
     "name": "stdout",
     "output_type": "stream",
     "text": [
      "samot\n"
     ]
    }
   ],
   "source": [
    "print((lambda x : x[::-1])(\"tomas\"))"
   ]
  },
  {
   "cell_type": "code",
   "execution_count": 24,
   "id": "10232871",
   "metadata": {
    "scrolled": true
   },
   "outputs": [],
   "source": [
    "def even_odd(list1):\n",
    "    for i in list1 :\n",
    "        print(i, \":\" ,(lambda i: \"odd\" if i%2 != 0 else \"even\")(i))  "
   ]
  },
  {
   "cell_type": "code",
   "execution_count": 26,
   "id": "199bfa42",
   "metadata": {},
   "outputs": [
    {
     "name": "stdout",
     "output_type": "stream",
     "text": [
      "1 : odd\n",
      "2 : even\n",
      "3 : odd\n",
      "4 : even\n"
     ]
    }
   ],
   "source": [
    "list1 = [1,2,3,4]\n",
    "even_odd(list1)"
   ]
  },
  {
   "cell_type": "code",
   "execution_count": 27,
   "id": "cea5432f",
   "metadata": {},
   "outputs": [
    {
     "name": "stdout",
     "output_type": "stream",
     "text": [
      "6 : even\n",
      "12 : even\n",
      "-5 : odd\n",
      "11 : odd\n"
     ]
    }
   ],
   "source": [
    "list2 = [6, 12, -5, 11]\n",
    "even_odd(list2)"
   ]
  },
  {
   "cell_type": "code",
   "execution_count": null,
   "id": "50655fe2",
   "metadata": {},
   "outputs": [],
   "source": [
    "(lambda x, y : (x +y)/2)(3, 5)"
   ]
  },
  {
   "cell_type": "code",
   "execution_count": 29,
   "id": "2c7f2a2a",
   "metadata": {},
   "outputs": [
    {
     "name": "stdout",
     "output_type": "stream",
     "text": [
      "3.0\n"
     ]
    }
   ],
   "source": [
    "average = lambda x, y: (x +y)/2\n",
    "print(average(4, 2))"
   ]
  },
  {
   "cell_type": "code",
   "execution_count": 30,
   "id": "a61b3610",
   "metadata": {},
   "outputs": [],
   "source": [
    "iterable = 'clarusway'\n",
    "reverser = lambda x: x[::-1]"
   ]
  },
  {
   "cell_type": "code",
   "execution_count": 31,
   "id": "a7a6a0c6",
   "metadata": {},
   "outputs": [
    {
     "data": {
      "text/plain": [
       "'yawsuralc'"
      ]
     },
     "execution_count": 31,
     "metadata": {},
     "output_type": "execute_result"
    }
   ],
   "source": [
    "reverser(iterable)"
   ]
  },
  {
   "cell_type": "code",
   "execution_count": null,
   "id": "503efcf6",
   "metadata": {},
   "outputs": [],
   "source": [
    "# map(function, iterable) iterable in elemanina teker teker fonk. uygulanir"
   ]
  },
  {
   "cell_type": "code",
   "execution_count": 34,
   "id": "85ec5cc3",
   "metadata": {},
   "outputs": [
    {
     "name": "stdout",
     "output_type": "stream",
     "text": [
      "<class 'map'>\n",
      "[1, 4, 9, 16, 25]\n"
     ]
    }
   ],
   "source": [
    "iterable = [1, 2, 3, 4, 5]\n",
    "map(lambda x: x**2, iterable)  \n",
    "result = map(lambda x: x**2, iterable)  \n",
    "\n",
    "print(type(result))\n",
    "\n",
    "print(list(result))"
   ]
  },
  {
   "cell_type": "code",
   "execution_count": 37,
   "id": "b623ed17",
   "metadata": {},
   "outputs": [],
   "source": [
    "def square(n):\n",
    "    return n ** 2"
   ]
  },
  {
   "cell_type": "code",
   "execution_count": 38,
   "id": "572b3e90",
   "metadata": {},
   "outputs": [],
   "source": [
    "numbers = [2,3,4,5]"
   ]
  },
  {
   "cell_type": "code",
   "execution_count": 40,
   "id": "36e0d4cb",
   "metadata": {},
   "outputs": [],
   "source": [
    "result = map(square, numbers )"
   ]
  },
  {
   "cell_type": "code",
   "execution_count": 41,
   "id": "2a557cd5",
   "metadata": {},
   "outputs": [
    {
     "name": "stdout",
     "output_type": "stream",
     "text": [
      "['one', 'six', 'ten']\n"
     ]
    }
   ],
   "source": [
    "letter1 = ['o', 's', 't', ]\n",
    "letter2 = ['n', 'i', 'e', 'w']\n",
    "letter3 = ['e', 'x', 'n', 'o']\n",
    "numbers = map(lambda x, y, z: x+y+z, letter1, letter2, letter3)\n",
    "\n",
    "print(list(numbers))"
   ]
  },
  {
   "cell_type": "code",
   "execution_count": 44,
   "id": "2857565e",
   "metadata": {},
   "outputs": [
    {
     "name": "stdout",
     "output_type": "stream",
     "text": [
      "[6.0, 6.0, 6.0, 6.0]\n"
     ]
    }
   ],
   "source": [
    "nums1 = [9,6,7,4]\n",
    "nums2 = [3,6,5,8]\n",
    "numbers = map(lambda x,y: (x+y)/2, nums1, nums2)\n",
    "\n",
    "print(list(numbers))"
   ]
  },
  {
   "cell_type": "code",
   "execution_count": 49,
   "id": "7a00da0f",
   "metadata": {},
   "outputs": [],
   "source": [
    "kelimeler = ['ali veli deli', \"mehmet aganin kuzeni\", \"cemil'in bacisi\"]"
   ]
  },
  {
   "cell_type": "code",
   "execution_count": 47,
   "id": "e7b24d0d",
   "metadata": {},
   "outputs": [
    {
     "name": "stdout",
     "output_type": "stream",
     "text": [
      "[13, 20, 15]\n"
     ]
    }
   ],
   "source": [
    "len1 = map(lambda x: len(x), kelimeler)\n",
    "print(list(len1))"
   ]
  },
  {
   "cell_type": "code",
   "execution_count": 50,
   "id": "5f7dff46",
   "metadata": {},
   "outputs": [
    {
     "data": {
      "text/plain": [
       "[13, 20, 15]"
      ]
     },
     "execution_count": 50,
     "metadata": {},
     "output_type": "execute_result"
    }
   ],
   "source": [
    "list(map(len, kelimeler))"
   ]
  },
  {
   "cell_type": "code",
   "execution_count": 57,
   "id": "5c9c628d",
   "metadata": {},
   "outputs": [],
   "source": [
    "words1 = ['you', 'much', 'hard']\n",
    "words2 = ['i', 'you', 'he']\n",
    "words3 = ['love', 'ate', 'works']\n",
    "new = map(lambda x,y,z: x + ' '+ y+' '+z, words2, words3,words1)"
   ]
  },
  {
   "cell_type": "code",
   "execution_count": 56,
   "id": "669f7952",
   "metadata": {},
   "outputs": [
    {
     "data": {
      "text/plain": [
       "['i love you', 'love ate much', 'you works hard']"
      ]
     },
     "execution_count": 56,
     "metadata": {},
     "output_type": "execute_result"
    }
   ],
   "source": [
    "list(new)"
   ]
  },
  {
   "cell_type": "code",
   "execution_count": 58,
   "id": "b1ed7052",
   "metadata": {},
   "outputs": [],
   "source": [
    "first_ten = [0,1,2,3,4,5,6,7,8,9]"
   ]
  },
  {
   "cell_type": "code",
   "execution_count": 60,
   "id": "389f580a",
   "metadata": {},
   "outputs": [
    {
     "name": "stdout",
     "output_type": "stream",
     "text": [
      "<class 'filter'>\n",
      "Even numbers are : [0, 2, 4, 6, 8]\n"
     ]
    }
   ],
   "source": [
    "even = filter(lambda x:x%2 == 0, first_ten)\n",
    "print(type(even))\n",
    "\n",
    "print('Even numbers are :', list(even))"
   ]
  },
  {
   "cell_type": "code",
   "execution_count": 61,
   "id": "cc8b7b37",
   "metadata": {},
   "outputs": [],
   "source": [
    "words = [\"apple\", \"swim\", \"clock\", \"me\", \"kiwi\", \"banana\"]"
   ]
  },
  {
   "cell_type": "code",
   "execution_count": 63,
   "id": "9b26f7c5",
   "metadata": {},
   "outputs": [
    {
     "data": {
      "text/plain": [
       "['swim', 'me', 'kiwi']"
      ]
     },
     "execution_count": 63,
     "metadata": {},
     "output_type": "execute_result"
    }
   ],
   "source": [
    "new = filter(lambda x: len(x) < 5, words)\n",
    "list(new)"
   ]
  },
  {
   "cell_type": "code",
   "execution_count": 64,
   "id": "f00d45c1",
   "metadata": {},
   "outputs": [
    {
     "name": "stdout",
     "output_type": "stream",
     "text": [
      "swim\n",
      "me\n",
      "kiwi\n"
     ]
    }
   ],
   "source": [
    "for i in filter(lambda x: len(x) < 5, words):\n",
    "    print(i)"
   ]
  },
  {
   "cell_type": "code",
   "execution_count": 75,
   "id": "dff7c58f",
   "metadata": {},
   "outputs": [],
   "source": [
    "first_ten = ['a', 'b', 'c', 'd', 'e', 'f', 'g', 'h', 'i', 'j']\n",
    "vowels = ['a', 'e', 'i', 'o', 'u']"
   ]
  },
  {
   "cell_type": "code",
   "execution_count": null,
   "id": "80116244",
   "metadata": {},
   "outputs": [],
   "source": [
    "vowels_list = filter(lambda x: True if x in vowels else False, first_ten )"
   ]
  },
  {
   "cell_type": "code",
   "execution_count": null,
   "id": "ee087dad",
   "metadata": {},
   "outputs": [],
   "source": []
  },
  {
   "cell_type": "code",
   "execution_count": 78,
   "id": "ca1ab5e7",
   "metadata": {},
   "outputs": [],
   "source": [
    "vowels_list = filter(lambda x: x in vowels, first_ten )"
   ]
  },
  {
   "cell_type": "code",
   "execution_count": 79,
   "id": "14e1edfb",
   "metadata": {},
   "outputs": [
    {
     "name": "stdout",
     "output_type": "stream",
     "text": [
      "['a', 'e', 'i']\n"
     ]
    }
   ],
   "source": [
    "print(list(vowels_list))"
   ]
  },
  {
   "cell_type": "code",
   "execution_count": 80,
   "id": "816a5195",
   "metadata": {},
   "outputs": [],
   "source": [
    "C = [\"right 20\", \"right 30\", \"left 50\", \"up 10\", \"down 20\"]"
   ]
  },
  {
   "cell_type": "code",
   "execution_count": 88,
   "id": "ce90b793",
   "metadata": {},
   "outputs": [
    {
     "data": {
      "text/plain": [
       "[0, -10]"
      ]
     },
     "execution_count": 88,
     "metadata": {},
     "output_type": "execute_result"
    }
   ],
   "source": [
    "x = y = 0\n",
    "\n",
    "for i in range(len(C)) :\n",
    "    if C[i].startswith(\"r\"): x = x + int(C[i].split()[1])\n",
    "    elif C[i].startswith(\"l\"): x = x - int(C[i].split()[1])\n",
    "    elif C[i].startswith(\"u\"): y = y + int(C[i].split()[1])\n",
    "    elif C[i].startswith(\"d\"): y = y - int(C[i].split()[1])\n",
    "        \n",
    "[x, y]"
   ]
  },
  {
   "cell_type": "code",
   "execution_count": 84,
   "id": "ac7c2cad",
   "metadata": {},
   "outputs": [
    {
     "data": {
      "text/plain": [
       "20"
      ]
     },
     "execution_count": 84,
     "metadata": {},
     "output_type": "execute_result"
    }
   ],
   "source": [
    "int(C[0].split()[1])"
   ]
  },
  {
   "cell_type": "code",
   "execution_count": null,
   "id": "e7f9f719",
   "metadata": {},
   "outputs": [],
   "source": []
  }
 ],
 "metadata": {
  "kernelspec": {
   "display_name": "Python 3 (ipykernel)",
   "language": "python",
   "name": "python3"
  },
  "language_info": {
   "codemirror_mode": {
    "name": "ipython",
    "version": 3
   },
   "file_extension": ".py",
   "mimetype": "text/x-python",
   "name": "python",
   "nbconvert_exporter": "python",
   "pygments_lexer": "ipython3",
   "version": "3.9.6"
  }
 },
 "nbformat": 4,
 "nbformat_minor": 5
}
