{
 "cells": [
  {
   "cell_type": "code",
   "execution_count": 1,
   "id": "2ffea83c",
   "metadata": {},
   "outputs": [],
   "source": [
    "import os"
   ]
  },
  {
   "cell_type": "code",
   "execution_count": 2,
   "id": "bb4a5b71",
   "metadata": {},
   "outputs": [],
   "source": [
    "dosya = os.listdir()"
   ]
  },
  {
   "cell_type": "code",
   "execution_count": 4,
   "id": "5388e01f",
   "metadata": {},
   "outputs": [
    {
     "data": {
      "text/plain": [
       "'C:\\\\Users\\\\a\\\\Desktop\\\\Python_documents'"
      ]
     },
     "execution_count": 4,
     "metadata": {},
     "output_type": "execute_result"
    }
   ],
   "source": [
    "pwd"
   ]
  },
  {
   "cell_type": "code",
   "execution_count": 3,
   "id": "17801676",
   "metadata": {
    "collapsed": true
   },
   "outputs": [
    {
     "data": {
      "text/plain": [
       "['.ipynb_checkpoints',\n",
       " '02Agu_Generate_ArmstrongNum.ipynb',\n",
       " '05_09Aug_Func_Argms_kwargm.ipynb',\n",
       " '18 Aug_Modules.ipynb',\n",
       " '18_Aug_Lambda_def_le.ipynb',\n",
       " '19_Aug_Modules_Packages.ipynb',\n",
       " '23_Aug_modules_exampl.ipynb',\n",
       " '26_Aug_Errors _Exceptions.ipynb',\n",
       " '26_Aug_Exception Handling.ipynb',\n",
       " '2Agu_Functions.ipynb',\n",
       " '30_Aug_Exception Handlings.ipynb',\n",
       " '30_Aug_Reading _files.ipynb',\n",
       " 'circle.py',\n",
       " 'Code challange',\n",
       " 'Code_studies',\n",
       " 'dates and formatting.ipynb',\n",
       " 'dummy_file.txt',\n",
       " 'factoriel.py',\n",
       " 'fibo.py',\n",
       " 'fishes.txt',\n",
       " 'Fizz Buzz numbers.ipynb',\n",
       " 'fruits.csv',\n",
       " 'fruits.txt',\n",
       " 'Functions_exampl_argmns.ipynb',\n",
       " 'Function_unpacking_argm_kwarg.ipynb',\n",
       " 'how_much_water _ trapped.ipynb',\n",
       " 'Lambda_exampl.ipynb',\n",
       " 'Modules_examp.ipynb',\n",
       " 'python_workshop_3_mine.ipynb',\n",
       " 'python_workshop_3_mine2.ipynb',\n",
       " 'read_write.ipynb',\n",
       " 'teamwork6.ipynb',\n",
       " 'test.txt',\n",
       " 'untitled.txt',\n",
       " 'upper_package',\n",
       " '__pycache__']"
      ]
     },
     "execution_count": 3,
     "metadata": {},
     "output_type": "execute_result"
    }
   ],
   "source": [
    "dosya"
   ]
  },
  {
   "cell_type": "code",
   "execution_count": 5,
   "id": "189d98b6",
   "metadata": {},
   "outputs": [],
   "source": [
    "import shutil"
   ]
  },
  {
   "cell_type": "code",
   "execution_count": null,
   "id": "4dbf9de1",
   "metadata": {},
   "outputs": [],
   "source": [
    "shutil.make_archive()"
   ]
  },
  {
   "cell_type": "code",
   "execution_count": 8,
   "id": "557331b8",
   "metadata": {},
   "outputs": [],
   "source": [
    "my_file = open(\"test.txt\", encoding= 'utf-8')\n",
    "my_file.close()"
   ]
  },
  {
   "cell_type": "code",
   "execution_count": 11,
   "id": "58fd3fa9",
   "metadata": {},
   "outputs": [
    {
     "name": "stdout",
     "output_type": "stream",
     "text": [
      "Banana\n",
      "Orange\n",
      "Apple\n",
      "Strawberry\n",
      "Cherry\n",
      "Melon\n",
      "\n"
     ]
    }
   ],
   "source": [
    "file = open('C://Users//a//Desktop//Python_documents//Sessions/fruits.txt', \"r\")\n",
    "\n",
    "print(file.read())\n",
    "\n",
    "file.close()"
   ]
  },
  {
   "cell_type": "code",
   "execution_count": 12,
   "id": "4ee99c5b",
   "metadata": {},
   "outputs": [
    {
     "name": "stdout",
     "output_type": "stream",
     "text": [
      "Orca is a kind of Dolphin.\n",
      "\n",
      "\n",
      "\n",
      "Blu\n"
     ]
    }
   ],
   "source": [
    "sea = open(\"fishes.txt\", 'r')\n",
    "\n",
    "print(sea.read(33))\n",
    "\n",
    "sea.close()"
   ]
  },
  {
   "cell_type": "code",
   "execution_count": 15,
   "id": "dbb98628",
   "metadata": {},
   "outputs": [],
   "source": [
    "file = open(\"fishes.txt\", 'r')\n",
    "\n",
    "content = file.read()\n",
    "\n",
    "file.close()"
   ]
  },
  {
   "cell_type": "code",
   "execution_count": 16,
   "id": "1bb318bb",
   "metadata": {},
   "outputs": [
    {
     "data": {
      "text/plain": [
       "'Orca is a kind of Dolphin.\\nBlue Whale is the largest animal known on earth.\\nSharks are the sister group to the Rays (batoids).\\nThe Tuna Fish can weigh up to 260 kg.\\nSquid and Octopus are in the same class.\\n\\n'"
      ]
     },
     "execution_count": 16,
     "metadata": {},
     "output_type": "execute_result"
    }
   ],
   "source": [
    "content"
   ]
  },
  {
   "cell_type": "code",
   "execution_count": 17,
   "id": "4923be68",
   "metadata": {},
   "outputs": [
    {
     "data": {
      "text/plain": [
       "207"
      ]
     },
     "execution_count": 17,
     "metadata": {},
     "output_type": "execute_result"
    }
   ],
   "source": [
    "len(content)"
   ]
  },
  {
   "cell_type": "code",
   "execution_count": 18,
   "id": "86b006d7",
   "metadata": {},
   "outputs": [
    {
     "name": "stdout",
     "output_type": "stream",
     "text": [
      "Orca is a kind of Dolphin.\n",
      "Blue W\n",
      "hale is the largest animal known \n"
     ]
    }
   ],
   "source": [
    "sea = open(\"fishes.txt\", 'r')\n",
    "\n",
    "print(sea.read(33))\n",
    "\n",
    "print(sea.read(33))\n",
    "\n",
    "sea.close()"
   ]
  },
  {
   "cell_type": "code",
   "execution_count": 19,
   "id": "e6f4a558",
   "metadata": {},
   "outputs": [
    {
     "name": "stdout",
     "output_type": "stream",
     "text": [
      "Orca is a kind of Dolphin.\n",
      "Blue W\n",
      "hale is the largest animal known \n",
      "Orca is a kind of Dolphin.\n",
      "Blue W\n"
     ]
    }
   ],
   "source": [
    "sea = open(\"fishes.txt\", 'r')\n",
    "\n",
    "print(sea.read(33))\n",
    "print(sea.read(33))\n",
    "\n",
    "sea.seek(0)\n",
    "print(sea.read(33))\n",
    "\n",
    "sea.close()"
   ]
  },
  {
   "cell_type": "code",
   "execution_count": 20,
   "id": "f0deb406",
   "metadata": {},
   "outputs": [
    {
     "name": "stdout",
     "output_type": "stream",
     "text": [
      "Orca is a kind of Dolphin.\n",
      "Blue W\n",
      "hale is the largest animal known \n",
      "Orca is a kind of Dolphin.\n",
      "Blue W\n",
      "34\n"
     ]
    }
   ],
   "source": [
    "sea = open(\"fishes.txt\", 'r')\n",
    "\n",
    "print(sea.read(33))\n",
    "print(sea.read(33))\n",
    "\n",
    "sea.seek(0)\n",
    "print(sea.read(33))\n",
    "print(sea.tell())\n",
    "\n",
    "sea.close()"
   ]
  },
  {
   "cell_type": "code",
   "execution_count": null,
   "id": "5711bf73",
   "metadata": {},
   "outputs": [],
   "source": [
    "sea = open(\"fishes.txt\", 'r')\n",
    "\n",
    "print(sea.read(33))\n",
    "print(sea.read(15))\n",
    "print(sea.tell())\n",
    "\n",
    "sea.seek(0)\n",
    "print(sea.read(33))\n",
    "print(sea.tell())\n",
    "\n",
    "sea.close()"
   ]
  },
  {
   "cell_type": "code",
   "execution_count": 21,
   "id": "50a60132",
   "metadata": {},
   "outputs": [
    {
     "name": "stdout",
     "output_type": "stream",
     "text": [
      "I want to sing\n",
      "Like the birds sing,\n",
      "Not worrying about\n",
      "Who hears or\n",
      "What they think.\n"
     ]
    }
   ],
   "source": [
    "file = open('rumi.txt', 'r')\n",
    "\n",
    "print(file.read())\n",
    "\n",
    "file.close()"
   ]
  },
  {
   "cell_type": "code",
   "execution_count": 22,
   "id": "e8e9eca9",
   "metadata": {},
   "outputs": [
    {
     "name": "stdout",
     "output_type": "stream",
     "text": [
      "I want to sing\n",
      "Like the birds sing,\n"
     ]
    }
   ],
   "source": [
    "file = open('rumi.txt', 'r')\n",
    "\n",
    "print(file.read(35))\n",
    "\n",
    "file.close()"
   ]
  },
  {
   "cell_type": "code",
   "execution_count": 23,
   "id": "2d3b90c8",
   "metadata": {},
   "outputs": [
    {
     "name": "stdout",
     "output_type": "stream",
     "text": [
      "I want to sing\n",
      "Like the birds sing,\n",
      "\n",
      "Not worrying\n"
     ]
    }
   ],
   "source": [
    "file = open('rumi.txt', 'r')\n",
    "\n",
    "print(file.read(35))\n",
    "print(file.read(13))\n",
    "\n",
    "file.close()"
   ]
  },
  {
   "cell_type": "code",
   "execution_count": 24,
   "id": "2c4110b1",
   "metadata": {},
   "outputs": [
    {
     "name": "stdout",
     "output_type": "stream",
     "text": [
      "I want to sing\n",
      "Like the birds sing,\n",
      "\n",
      "Not worrying\n",
      "50\n"
     ]
    }
   ],
   "source": [
    "file = open('rumi.txt', 'r')\n",
    "\n",
    "print(file.read(35))\n",
    "print(file.read(13))\n",
    "print(file.tell())\n",
    "\n",
    "file.close()"
   ]
  },
  {
   "cell_type": "code",
   "execution_count": 25,
   "id": "c6323748",
   "metadata": {},
   "outputs": [
    {
     "name": "stdout",
     "output_type": "stream",
     "text": [
      "I want to sing\n",
      "Like the birds sing,\n",
      "\n",
      "Not worrying\n",
      "50\n",
      "\n",
      "Like the birds sing,\n"
     ]
    }
   ],
   "source": [
    "file = open('rumi.txt', 'r')\n",
    "\n",
    "print(file.read(35))\n",
    "print(file.read(13))\n",
    "print(file.tell())\n",
    "\n",
    "file.seek(15)\n",
    "print(file.read(21))\n",
    "\n",
    "file.close()"
   ]
  },
  {
   "cell_type": "code",
   "execution_count": 26,
   "id": "f9105ec8",
   "metadata": {},
   "outputs": [
    {
     "name": "stdout",
     "output_type": "stream",
     "text": [
      "Orca is a kin\n",
      "d of Dolphin.\n",
      "\n",
      "\n",
      "Blue Whale is\n"
     ]
    }
   ],
   "source": [
    "sea = open(\"fishes.txt\", 'r')   \n",
    "\n",
    "print(sea.readline(13))\n",
    "print(sea.readline(13))\n",
    "print(sea.readline(13))\n",
    "print(sea.readline(13))\n",
    "\n",
    "sea.close()"
   ]
  },
  {
   "cell_type": "code",
   "execution_count": 27,
   "id": "0560c962",
   "metadata": {},
   "outputs": [],
   "source": [
    "sea = open(\"fishes.txt\", 'r')   \n",
    "\n",
    "part1 = sea.readline(13)\n",
    "part2 = sea.readline(13)\n",
    "part3 = sea.readline(13)\n",
    "part4 = sea.readline(13)\n",
    "\n",
    "sea.close()"
   ]
  },
  {
   "cell_type": "code",
   "execution_count": 28,
   "id": "d99fcfcf",
   "metadata": {},
   "outputs": [
    {
     "data": {
      "text/plain": [
       "'\\n'"
      ]
     },
     "execution_count": 28,
     "metadata": {},
     "output_type": "execute_result"
    }
   ],
   "source": [
    "part3"
   ]
  },
  {
   "cell_type": "code",
   "execution_count": 29,
   "id": "f0b33184",
   "metadata": {},
   "outputs": [
    {
     "data": {
      "text/plain": [
       "'Orca is a kin'"
      ]
     },
     "execution_count": 29,
     "metadata": {},
     "output_type": "execute_result"
    }
   ],
   "source": [
    "part1"
   ]
  },
  {
   "cell_type": "code",
   "execution_count": 30,
   "id": "636e6ac3",
   "metadata": {},
   "outputs": [
    {
     "data": {
      "text/plain": [
       "'d of Dolphin.'"
      ]
     },
     "execution_count": 30,
     "metadata": {},
     "output_type": "execute_result"
    }
   ],
   "source": [
    "part2"
   ]
  },
  {
   "cell_type": "code",
   "execution_count": 31,
   "id": "5411efcd",
   "metadata": {},
   "outputs": [
    {
     "data": {
      "text/plain": [
       "'\\n'"
      ]
     },
     "execution_count": 31,
     "metadata": {},
     "output_type": "execute_result"
    }
   ],
   "source": [
    "part3"
   ]
  },
  {
   "cell_type": "code",
   "execution_count": 32,
   "id": "b8473121",
   "metadata": {},
   "outputs": [
    {
     "data": {
      "text/plain": [
       "'Blue Whale is'"
      ]
     },
     "execution_count": 32,
     "metadata": {},
     "output_type": "execute_result"
    }
   ],
   "source": [
    "part4"
   ]
  },
  {
   "cell_type": "code",
   "execution_count": 33,
   "id": "cf0972d8",
   "metadata": {},
   "outputs": [
    {
     "data": {
      "text/plain": [
       "'Orca is a kind of Dolphin.\\n'"
      ]
     },
     "execution_count": 33,
     "metadata": {},
     "output_type": "execute_result"
    }
   ],
   "source": [
    "first_line= part1 + part2 + part3\n",
    "first_line"
   ]
  },
  {
   "cell_type": "code",
   "execution_count": 39,
   "id": "0f3edc82",
   "metadata": {},
   "outputs": [
    {
     "name": "stdout",
     "output_type": "stream",
     "text": [
      "I want to sing\n",
      "\n",
      "Like the birds sing,\n",
      "\n",
      "Not worrying about\n",
      "\n"
     ]
    }
   ],
   "source": [
    "rumi = open('rumi.txt', 'r')\n",
    "\n",
    "print(rumi.readline())\n",
    "print(rumi.readline())\n",
    "print(rumi.readline(1000000)) # 19 dahil sonsuz a kadar yazilabilir\n",
    "\n",
    "rumi.close()"
   ]
  },
  {
   "cell_type": "code",
   "execution_count": null,
   "id": "075ff07c",
   "metadata": {},
   "outputs": [],
   "source": []
  },
  {
   "cell_type": "code",
   "execution_count": null,
   "id": "683d1f02",
   "metadata": {},
   "outputs": [],
   "source": []
  },
  {
   "cell_type": "code",
   "execution_count": null,
   "id": "cbb9de67",
   "metadata": {},
   "outputs": [],
   "source": []
  }
 ],
 "metadata": {
  "kernelspec": {
   "display_name": "Python 3 (ipykernel)",
   "language": "python",
   "name": "python3"
  },
  "language_info": {
   "codemirror_mode": {
    "name": "ipython",
    "version": 3
   },
   "file_extension": ".py",
   "mimetype": "text/x-python",
   "name": "python",
   "nbconvert_exporter": "python",
   "pygments_lexer": "ipython3",
   "version": "3.9.6"
  }
 },
 "nbformat": 4,
 "nbformat_minor": 5
}
