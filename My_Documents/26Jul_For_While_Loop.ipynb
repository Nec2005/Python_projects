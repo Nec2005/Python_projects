{
 "cells": [
  {
   "cell_type": "code",
   "execution_count": 1,
   "id": "b1c1c5e3",
   "metadata": {},
   "outputs": [
    {
     "name": "stdout",
     "output_type": "stream",
     "text": [
      "0\n",
      "1\n",
      "2\n",
      "3\n",
      "4\n",
      "5\n",
      "now, number is bigger or equal to 6\n"
     ]
    }
   ],
   "source": [
    "number  = 0\n",
    "\n",
    "while number < 6 :\n",
    "    print(number)\n",
    "    number += 1\n",
    "print('now, number is bigger or equal to 6')"
   ]
  },
  {
   "cell_type": "code",
   "execution_count": null,
   "id": "4c373b03",
   "metadata": {},
   "outputs": [],
   "source": [
    "age = input('Enter your age: ')\n",
    "while  age.isnumeric():\n",
    "    print('Girdigin yas dogrudur, yasin {age}')\n",
    "\n",
    "   "
   ]
  },
  {
   "cell_type": "code",
   "execution_count": 1,
   "id": "fd2e203b",
   "metadata": {},
   "outputs": [
    {
     "data": {
      "text/plain": [
       "False"
      ]
     },
     "execution_count": 1,
     "metadata": {},
     "output_type": "execute_result"
    }
   ],
   "source": [
    "\"-16\".isdigit()"
   ]
  },
  {
   "cell_type": "code",
   "execution_count": 3,
   "id": "6a8bb805",
   "metadata": {},
   "outputs": [
    {
     "name": "stdout",
     "output_type": "stream",
     "text": [
      "Enter your age: 23\n",
      "Your age is: 23\n"
     ]
    }
   ],
   "source": [
    "age = input('Enter your age: ')\n",
    "\n",
    "while not age.isdigit():\n",
    "    print(\"You entered incorrect! Write out correct format\")\n",
    "    age = input('Enter your age: ')\n",
    "print('Your age is:', age)"
   ]
  },
  {
   "cell_type": "code",
   "execution_count": null,
   "id": "6a1892a3",
   "metadata": {},
   "outputs": [],
   "source": [
    "number = 87\n",
    "question = 'Enter a number:'\n",
    "\n",
    "while True:\n",
    "    guess = int(input(question))\n",
    "    if guess < number :\n",
    "        print('Enter little higher:')\n",
    "        \n",
    "    elif guess > number : \n",
    "        print('Enter little lower:')\n",
    "        \n",
    "    else:\n",
    "        print('Correct')\n",
    "        break\n",
    "    \n",
    "    "
   ]
  },
  {
   "cell_type": "code",
   "execution_count": 2,
   "id": "49a3ac08",
   "metadata": {},
   "outputs": [
    {
     "name": "stdout",
     "output_type": "stream",
     "text": [
      "Enter a sentence: give me\n"
     ]
    },
    {
     "data": {
      "text/plain": [
       "'me'"
      ]
     },
     "execution_count": 2,
     "metadata": {},
     "output_type": "execute_result"
    }
   ],
   "source": [
    "sentence = input('Enter a sentence: ')\n",
    "list1 = sentence.split()\n",
    "dict1 = {}\n",
    "i = 0\n",
    "\n",
    "while i < len(list1) :\n",
    "    dict1[list1[i]] = len(list1[i])\n",
    "    i += 1\n",
    "max(dict1)\n",
    "    \n",
    "\n",
    "\n",
    "\n"
   ]
  },
  {
   "cell_type": "code",
   "execution_count": null,
   "id": "63cfe5e8",
   "metadata": {},
   "outputs": [],
   "source": []
  },
  {
   "cell_type": "code",
   "execution_count": 8,
   "id": "99b1f172",
   "metadata": {},
   "outputs": [],
   "source": [
    "words = 'ben sizlerle birlikte olmaktan cok memnunum'.split()"
   ]
  },
  {
   "cell_type": "code",
   "execution_count": 3,
   "id": "d1a49a54",
   "metadata": {},
   "outputs": [
    {
     "name": "stdout",
     "output_type": "stream",
     "text": [
      "give me a sentence:clarusway is the best\n",
      "the length of the longest word is: 9\n"
     ]
    }
   ],
   "source": [
    "sentence = input('give me a sentence:')\n",
    "\n",
    "words = sentence.split()\n",
    "i = 0\n",
    "longest = 0\n",
    "\n",
    "while i < len(words) :\n",
    "    if len(words[i]) > longest :\n",
    "        longest = len(words[i])\n",
    "    i += 1\n",
    "\n",
    "print(\"the length of the longest word is:\", longest)"
   ]
  },
  {
   "cell_type": "code",
   "execution_count": 10,
   "id": "cb2db627",
   "metadata": {},
   "outputs": [
    {
     "data": {
      "text/plain": [
       "3"
      ]
     },
     "execution_count": 10,
     "metadata": {},
     "output_type": "execute_result"
    }
   ],
   "source": [
    "len(words[0])"
   ]
  },
  {
   "cell_type": "code",
   "execution_count": 4,
   "id": "1b359f58",
   "metadata": {},
   "outputs": [
    {
     "name": "stdout",
     "output_type": "stream",
     "text": [
      "Hello Ahmed\n",
      "Hello Aisha\n",
      "Hello Adam\n",
      "Hello Joseph\n",
      "Hello Gabriel\n"
     ]
    }
   ],
   "source": [
    "names = [\"Ahmed\", \"Aisha\", \"Adam\", \"Joseph\", \"Gabriel\"]\n",
    "for i in names :\n",
    "    print(f'Hello {i}')"
   ]
  },
  {
   "cell_type": "code",
   "execution_count": 5,
   "id": "f9bc4b4f",
   "metadata": {},
   "outputs": [
    {
     "data": {
      "text/plain": [
       "[1, 2, 3, 4, 5]"
      ]
     },
     "execution_count": 5,
     "metadata": {},
     "output_type": "execute_result"
    }
   ],
   "source": [
    "list1=[]\n",
    "for i in range(1,6) :\n",
    "    list1.append(i)\n",
    "list1"
   ]
  },
  {
   "cell_type": "code",
   "execution_count": 6,
   "id": "6420c829",
   "metadata": {},
   "outputs": [
    {
     "data": {
      "text/plain": [
       "range(1, 6)"
      ]
     },
     "execution_count": 6,
     "metadata": {},
     "output_type": "execute_result"
    }
   ],
   "source": [
    "range(1, 6)"
   ]
  },
  {
   "cell_type": "code",
   "execution_count": 7,
   "id": "d48575a1",
   "metadata": {},
   "outputs": [
    {
     "data": {
      "text/plain": [
       "[1, 2, 3, 4, 5, 6, 7, 8, 9]"
      ]
     },
     "execution_count": 7,
     "metadata": {},
     "output_type": "execute_result"
    }
   ],
   "source": [
    "list(range(1, 10))"
   ]
  },
  {
   "cell_type": "code",
   "execution_count": 8,
   "id": "a9fd4e5a",
   "metadata": {},
   "outputs": [
    {
     "data": {
      "text/plain": [
       "(1, 2, 3, 4, 5, 6, 7, 8, 9)"
      ]
     },
     "execution_count": 8,
     "metadata": {},
     "output_type": "execute_result"
    }
   ],
   "source": [
    "tuple(range(1, 10))"
   ]
  },
  {
   "cell_type": "code",
   "execution_count": 9,
   "id": "af5c37fb",
   "metadata": {},
   "outputs": [
    {
     "name": "stdout",
     "output_type": "stream",
     "text": [
      "1 2 3 4 5 6 7 8 9\n"
     ]
    }
   ],
   "source": [
    "print(*range(1, 10))"
   ]
  },
  {
   "cell_type": "code",
   "execution_count": 11,
   "id": "cf93213e",
   "metadata": {},
   "outputs": [
    {
     "name": "stdout",
     "output_type": "stream",
     "text": [
      "0 1 2 3 4 5 6 7 8 9 10 "
     ]
    }
   ],
   "source": [
    "for i in range(11):\n",
    "    print(i, end=\" \")"
   ]
  },
  {
   "cell_type": "code",
   "execution_count": 12,
   "id": "a16ed08b",
   "metadata": {},
   "outputs": [
    {
     "ename": "TypeError",
     "evalue": "object of type 'int' has no len()",
     "output_type": "error",
     "traceback": [
      "\u001b[1;31m---------------------------------------------------------------------------\u001b[0m",
      "\u001b[1;31mTypeError\u001b[0m                                 Traceback (most recent call last)",
      "\u001b[1;32m~\\AppData\\Local\\Temp/ipykernel_7500/175595530.py\u001b[0m in \u001b[0;36m<module>\u001b[1;34m\u001b[0m\n\u001b[1;32m----> 1\u001b[1;33m \u001b[0mlen\u001b[0m\u001b[1;33m(\u001b[0m\u001b[1;36m1000\u001b[0m\u001b[1;33m)\u001b[0m\u001b[1;33m\u001b[0m\u001b[1;33m\u001b[0m\u001b[0m\n\u001b[0m",
      "\u001b[1;31mTypeError\u001b[0m: object of type 'int' has no len()"
     ]
    }
   ],
   "source": [
    "len(1000)"
   ]
  },
  {
   "cell_type": "code",
   "execution_count": 17,
   "id": "8d40e55e",
   "metadata": {},
   "outputs": [
    {
     "name": "stdout",
     "output_type": "stream",
     "text": [
      "c-l-a-r-u-s-w-a-y-"
     ]
    }
   ],
   "source": [
    "course = 'clarusway'\n",
    "for i in course:\n",
    "    print(i, end=\"-\")"
   ]
  },
  {
   "cell_type": "code",
   "execution_count": 20,
   "id": "4a832a2a",
   "metadata": {},
   "outputs": [
    {
     "name": "stdout",
     "output_type": "stream",
     "text": [
      "c-l-a-r-u-s-w-a-y"
     ]
    }
   ],
   "source": [
    "word = 'clarusway' #sadece son harfi almamak icin\n",
    "count= 0\n",
    "\n",
    "for i in word:\n",
    "    count += 1\n",
    "    if count < len(word):\n",
    "        i = i + '-'\n",
    "    print(i, end=\"\")\n",
    "    \n"
   ]
  },
  {
   "cell_type": "code",
   "execution_count": 21,
   "id": "5af0d9f9",
   "metadata": {},
   "outputs": [
    {
     "data": {
      "text/plain": [
       "3"
      ]
     },
     "execution_count": 21,
     "metadata": {},
     "output_type": "execute_result"
    }
   ],
   "source": [
    "key, val =3, 5\n",
    "key"
   ]
  },
  {
   "cell_type": "code",
   "execution_count": 25,
   "id": "aac467b2",
   "metadata": {},
   "outputs": [
    {
     "name": "stdout",
     "output_type": "stream",
     "text": [
      "Enter a number:5\n",
      "5 * 0 : 0\n",
      "5 * 1 : 5\n",
      "5 * 2 : 10\n",
      "5 * 3 : 15\n",
      "5 * 4 : 20\n",
      "5 * 5 : 25\n",
      "5 * 6 : 30\n",
      "5 * 7 : 35\n",
      "5 * 8 : 40\n",
      "5 * 9 : 45\n",
      "5 * 10 : 50\n"
     ]
    }
   ],
   "source": [
    "num = int(input('Enter a number:'))\n",
    "for i in range(0, 11):\n",
    "    print(f\"{num} * {i} : {i*num}\")"
   ]
  },
  {
   "cell_type": "code",
   "execution_count": 26,
   "id": "54efa9d8",
   "metadata": {},
   "outputs": [
    {
     "name": "stdout",
     "output_type": "stream",
     "text": [
      "5 x 0 =  5\n",
      "5 x 1 =  5\n",
      "5 x 2 =  5\n",
      "5 x 3 =  5\n",
      "5 x 4 =  5\n",
      "5 x 5 =  5\n",
      "5 x 6 =  5\n",
      "5 x 7 =  5\n",
      "5 x 8 =  5\n",
      "5 x 9 =  5\n",
      "5 x 10 =  5\n"
     ]
    }
   ],
   "source": [
    "for i in range(11):\n",
    "    print(\"{} x {} = \".format(num, i), num * 1)"
   ]
  },
  {
   "cell_type": "code",
   "execution_count": 27,
   "id": "ad9f51d6",
   "metadata": {},
   "outputs": [
    {
     "name": "stdout",
     "output_type": "stream",
     "text": [
      "\n",
      "1\n",
      "22\n",
      "333\n",
      "4444\n",
      "55555\n",
      "666666\n",
      "7777777\n",
      "88888888\n",
      "999999999\n"
     ]
    }
   ],
   "source": [
    "\n",
    "for i in range(10) :\n",
    "    print(str(i)*i)"
   ]
  },
  {
   "cell_type": "code",
   "execution_count": 28,
   "id": "47a821b9",
   "metadata": {},
   "outputs": [
    {
     "name": "stdout",
     "output_type": "stream",
     "text": [
      "5 7 9 11 13 15 17 19 21 23\n"
     ]
    }
   ],
   "source": [
    "print(*range(5,25,2))"
   ]
  },
  {
   "cell_type": "code",
   "execution_count": 29,
   "id": "3f5dc33c",
   "metadata": {},
   "outputs": [
    {
     "name": "stdout",
     "output_type": "stream",
     "text": [
      "10 8 6 4 2\n"
     ]
    }
   ],
   "source": [
    "print(*range(10,0,-2))"
   ]
  },
  {
   "cell_type": "code",
   "execution_count": 33,
   "id": "d68648fd",
   "metadata": {},
   "outputs": [
    {
     "name": "stdout",
     "output_type": "stream",
     "text": [
      "one : 1\n",
      "two : 2\n",
      "three : 3\n",
      "four : 4\n",
      "five : 5\n"
     ]
    }
   ],
   "source": [
    "text = ['one', 'two', 'three', 'four', 'five']\n",
    "numbers = [1, 2, 3, 4, 5]\n",
    "for x, y in zip(text, numbers):\n",
    "    print(x , ':', y)"
   ]
  },
  {
   "cell_type": "code",
   "execution_count": 34,
   "id": "b3fabb4c",
   "metadata": {},
   "outputs": [
    {
     "data": {
      "text/plain": [
       "[('one', 1), ('two', 2), ('three', 3), ('four', 4), ('five', 5)]"
      ]
     },
     "execution_count": 34,
     "metadata": {},
     "output_type": "execute_result"
    }
   ],
   "source": [
    "list(zip(text, numbers))"
   ]
  },
  {
   "cell_type": "code",
   "execution_count": 37,
   "id": "05c6015c",
   "metadata": {},
   "outputs": [
    {
     "name": "stdout",
     "output_type": "stream",
     "text": [
      "evens: [0, 2, 4, 6, 8]\n",
      "odds: [1, 3, 5, 7, 9]\n"
     ]
    }
   ],
   "source": [
    "evens = []\n",
    "odds = []\n",
    "for i in range(0, 10) :\n",
    "    if i%2 == 0 :\n",
    "        evens.append(i)\n",
    "    else :\n",
    "        odds.append(i)\n",
    "print('evens:', evens)\n",
    "print('odds:', odds)\n",
    "    "
   ]
  },
  {
   "cell_type": "code",
   "execution_count": null,
   "id": "6b41666b",
   "metadata": {},
   "outputs": [],
   "source": []
  },
  {
   "cell_type": "code",
   "execution_count": null,
   "id": "452aee40",
   "metadata": {},
   "outputs": [],
   "source": []
  },
  {
   "cell_type": "code",
   "execution_count": null,
   "id": "73a7f65e",
   "metadata": {},
   "outputs": [],
   "source": []
  },
  {
   "cell_type": "code",
   "execution_count": null,
   "id": "157bf46e",
   "metadata": {},
   "outputs": [],
   "source": []
  },
  {
   "cell_type": "code",
   "execution_count": null,
   "id": "b760557b",
   "metadata": {},
   "outputs": [],
   "source": []
  }
 ],
 "metadata": {
  "kernelspec": {
   "display_name": "Python 3 (ipykernel)",
   "language": "python",
   "name": "python3"
  },
  "language_info": {
   "codemirror_mode": {
    "name": "ipython",
    "version": 3
   },
   "file_extension": ".py",
   "mimetype": "text/x-python",
   "name": "python",
   "nbconvert_exporter": "python",
   "pygments_lexer": "ipython3",
   "version": "3.9.6"
  }
 },
 "nbformat": 4,
 "nbformat_minor": 5
}
