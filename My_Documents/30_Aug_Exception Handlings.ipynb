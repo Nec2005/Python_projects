{
 "cells": [
  {
   "cell_type": "code",
   "execution_count": 6,
   "id": "6ef53bde",
   "metadata": {},
   "outputs": [
    {
     "name": "stdout",
     "output_type": "stream",
     "text": [
      "The first number please : 4\n",
      "The second number please : h\n",
      "Something is wrong! Try again.\n",
      "Thanks for using our mini divison calculator! Come again!\n"
     ]
    }
   ],
   "source": [
    "while True: # hangi satirda error yukselmesi bekleniyorsa onu try blogu icine almaliyiz\n",
    "    \n",
    "    try:\n",
    "        no_one = int(input(\"The first number please : \"))\n",
    "        no_two = int(input(\"The second number please : \"))\n",
    "        \n",
    "        division = no_one / no_two  # normal part of the program\n",
    "    except :\n",
    "        print(\"Something is wrong! Try again.\")  # executes when division by zero\n",
    "    else:\n",
    "        print(\"The result of the division is : \", division)  # executes if there is no exception\n",
    "    finally:\n",
    "        print(\"Thanks for using our mini divison calculator! Come again!\")\n",
    "        break  # exits the while loop"
   ]
  },
  {
   "cell_type": "code",
   "execution_count": null,
   "id": "a15ef9bf",
   "metadata": {},
   "outputs": [],
   "source": []
  },
  {
   "cell_type": "code",
   "execution_count": null,
   "id": "f589ce3b",
   "metadata": {},
   "outputs": [],
   "source": [
    "while True:\n",
    "    no_one = int(input(\"The first number please : \"))\n",
    "    no_two = int(input(\"The second number please : \"))\n",
    "    try:\n",
    "        division = no_one / no_two\n",
    "        print(\"The result of the division is : \", division)\n",
    "        break\n",
    "    except Exception as e:\n",
    "        print(\"Something went wrong...Try again.\")\n",
    "        print(\"Probably it is because of '{}' error\".format(e))\n",
    "        break"
   ]
  },
  {
   "cell_type": "code",
   "execution_count": 11,
   "id": "1c06c2f3",
   "metadata": {},
   "outputs": [
    {
     "ename": "NameError",
     "evalue": "name 'xyz' is not defined",
     "output_type": "error",
     "traceback": [
      "\u001b[1;31m---------------------------------------------------------------------------\u001b[0m",
      "\u001b[1;31mNameError\u001b[0m                                 Traceback (most recent call last)",
      "\u001b[1;32m~\\AppData\\Local\\Temp/ipykernel_5840/300679574.py\u001b[0m in \u001b[0;36m<module>\u001b[1;34m\u001b[0m\n\u001b[0;32m      3\u001b[0m     \u001b[0mb\u001b[0m \u001b[1;33m=\u001b[0m \u001b[1;36m2\u001b[0m\u001b[1;33m\u001b[0m\u001b[1;33m\u001b[0m\u001b[0m\n\u001b[1;32m----> 4\u001b[1;33m     \u001b[0mprint\u001b[0m\u001b[1;33m(\u001b[0m\u001b[1;34m'The resulf is:'\u001b[0m\u001b[1;33m,\u001b[0m \u001b[0mc\u001b[0m\u001b[1;33m)\u001b[0m\u001b[1;33m\u001b[0m\u001b[1;33m\u001b[0m\u001b[0m\n\u001b[0m\u001b[0;32m      5\u001b[0m \u001b[1;32mexcept\u001b[0m \u001b[0mException\u001b[0m \u001b[1;32mas\u001b[0m \u001b[0mder\u001b[0m\u001b[1;33m:\u001b[0m\u001b[1;33m\u001b[0m\u001b[1;33m\u001b[0m\u001b[0m\n",
      "\u001b[1;31mNameError\u001b[0m: name 'c' is not defined",
      "\nDuring handling of the above exception, another exception occurred:\n",
      "\u001b[1;31mNameError\u001b[0m                                 Traceback (most recent call last)",
      "\u001b[1;32m~\\AppData\\Local\\Temp/ipykernel_5840/300679574.py\u001b[0m in \u001b[0;36m<module>\u001b[1;34m\u001b[0m\n\u001b[0;32m      4\u001b[0m     \u001b[0mprint\u001b[0m\u001b[1;33m(\u001b[0m\u001b[1;34m'The resulf is:'\u001b[0m\u001b[1;33m,\u001b[0m \u001b[0mc\u001b[0m\u001b[1;33m)\u001b[0m\u001b[1;33m\u001b[0m\u001b[1;33m\u001b[0m\u001b[0m\n\u001b[0;32m      5\u001b[0m \u001b[1;32mexcept\u001b[0m \u001b[0mException\u001b[0m \u001b[1;32mas\u001b[0m \u001b[0mder\u001b[0m\u001b[1;33m:\u001b[0m\u001b[1;33m\u001b[0m\u001b[1;33m\u001b[0m\u001b[0m\n\u001b[1;32m----> 6\u001b[1;33m     \u001b[0mprint\u001b[0m\u001b[1;33m(\u001b[0m\u001b[1;34m\"Probably it is because of '{}' error\"\u001b[0m\u001b[1;33m.\u001b[0m\u001b[0mformat\u001b[0m\u001b[1;33m(\u001b[0m\u001b[0mxyz\u001b[0m\u001b[1;33m)\u001b[0m\u001b[1;33m)\u001b[0m\u001b[1;33m\u001b[0m\u001b[1;33m\u001b[0m\u001b[0m\n\u001b[0m\u001b[0;32m      7\u001b[0m \u001b[1;33m\u001b[0m\u001b[0m\n",
      "\u001b[1;31mNameError\u001b[0m: name 'xyz' is not defined"
     ]
    }
   ],
   "source": [
    "try :\n",
    "    a = 10\n",
    "    b = 2\n",
    "    print('The resulf is:', c)\n",
    "except Exception as der:\n",
    "    print(\"Probably it is because of '{}' error\".format(xyz))\n",
    "    "
   ]
  },
  {
   "cell_type": "code",
   "execution_count": 12,
   "id": "69a1358f",
   "metadata": {},
   "outputs": [
    {
     "name": "stdout",
     "output_type": "stream",
     "text": [
      "Attempt to divide Zero\n"
     ]
    }
   ],
   "source": [
    "try:\n",
    "    x = 2/0\n",
    "    \n",
    "except ZeroDivisionError:\n",
    "    print('Attempt to divide Zero')\n",
    "except:\n",
    "    print('Something wrong')"
   ]
  },
  {
   "cell_type": "code",
   "execution_count": 14,
   "id": "87ae52f7",
   "metadata": {},
   "outputs": [
    {
     "name": "stdout",
     "output_type": "stream",
     "text": [
      "Attempt to divide Zero\n"
     ]
    }
   ],
   "source": [
    "try:\n",
    "    x = 2/0\n",
    "\n",
    "except ArithmeticError:\n",
    "    print('Attempt to divide Zero')\n",
    "except:\n",
    "    print('Something wrong')"
   ]
  },
  {
   "cell_type": "code",
   "execution_count": 6,
   "id": "66c21674",
   "metadata": {},
   "outputs": [
    {
     "name": "stdout",
     "output_type": "stream",
     "text": [
      "Enter a index number :bes\n",
      "You should enter integer. Try again!\n",
      "Enter a index number :8\n",
      "Enter a true index number, between 0 - 5\n",
      "Enter a index number :3\n",
      "My favorite fruit is apple\n"
     ]
    }
   ],
   "source": [
    "while True :\n",
    "    fruits =['banana', 'mango', 'pear', 'apple', 'kiwi', 'grape']\n",
    "    \n",
    "    try:\n",
    "        indx = int(input('Enter a index number :'))\n",
    "        print(f\"Your favorite fruit is {fruits[indx]}\")\n",
    "        break\n",
    "    \n",
    "    except IndexError:\n",
    "        print('Enter a true index number, between 0 - 5')\n",
    "    except ValueError:\n",
    "        print('You should enter integer. Try again!')\n",
    "         \n"
   ]
  },
  {
   "cell_type": "code",
   "execution_count": 8,
   "id": "490b3ac4",
   "metadata": {},
   "outputs": [
    {
     "name": "stdout",
     "output_type": "stream",
     "text": [
      "Enter a index number :9\n",
      "Enter a true index number, between 0 - 5, you have  2 tries remaining.\n",
      "Our fruits are always fresh!\n",
      "Enter a index number :h\n",
      "You should enter integer. you have  1 tries remaining.Try again!\n",
      "Our fruits are always fresh!\n",
      "Enter a index number :gr\n",
      "You should enter integer. you have  0 tries remaining.Try again!\n",
      "Our fruits are always fresh!\n"
     ]
    }
   ],
   "source": [
    "count = 3\n",
    "\n",
    "while count > 0 :\n",
    "    fruits =['banana', 'mango', 'pear', 'apple', 'kiwi', 'grape']\n",
    "    \n",
    "    try:\n",
    "        indx = int(input('Enter a index number :'))\n",
    "        print(f\"Your favorite fruit is {fruits[indx]}\")\n",
    "       \n",
    "    \n",
    "    except IndexError:\n",
    "        count -= 1\n",
    "        print(f'Enter a true index number, between 0 - 5, you have  {count} tries remaining.')\n",
    "        \n",
    "    except ValueError:\n",
    "        count -= 1\n",
    "        print(f'You should enter integer. you have  {count} tries remaining.Try again!')\n",
    "    else:\n",
    "        print(\"Congrats! You entered a valid input\")\n",
    "        break\n",
    "    finally :\n",
    "        print(\"Our fruits are always fresh!\")\n",
    "         "
   ]
  },
  {
   "cell_type": "code",
   "execution_count": 9,
   "id": "63dff9c7",
   "metadata": {},
   "outputs": [
    {
     "name": "stdout",
     "output_type": "stream",
     "text": [
      "Enter a index number :4\n",
      "Your favorite fruit is kiwi\n",
      "Congrats! You entered a valid input\n",
      "Our fruits are always fresh!\n"
     ]
    }
   ],
   "source": [
    "count = 3\n",
    "\n",
    "while count > 0 :\n",
    "    fruits =['banana', 'mango', 'pear', 'apple', 'kiwi', 'grape']\n",
    "    \n",
    "    try:\n",
    "        indx = int(input('Enter a index number :'))\n",
    "        print(f\"Your favorite fruit is {fruits[indx]}\")\n",
    "       \n",
    "    \n",
    "    except IndexError:\n",
    "        count -= 1\n",
    "        print(f'Enter a true index number, between 0 - 5, you have  {count} tries remaining.')\n",
    "        \n",
    "    except ValueError:\n",
    "        count -= 1\n",
    "        print(f'You should enter integer. you have  {count} tries remaining.Try again!')\n",
    "    else:\n",
    "        print(\"Congrats! You entered a valid input\")\n",
    "        break\n",
    "    finally :\n",
    "        print(\"Our fruits are always fresh!\")\n",
    "         "
   ]
  },
  {
   "cell_type": "code",
   "execution_count": null,
   "id": "5345d8ec",
   "metadata": {},
   "outputs": [],
   "source": []
  },
  {
   "cell_type": "code",
   "execution_count": null,
   "id": "948994d3",
   "metadata": {},
   "outputs": [],
   "source": []
  }
 ],
 "metadata": {
  "kernelspec": {
   "display_name": "Python 3 (ipykernel)",
   "language": "python",
   "name": "python3"
  },
  "language_info": {
   "codemirror_mode": {
    "name": "ipython",
    "version": 3
   },
   "file_extension": ".py",
   "mimetype": "text/x-python",
   "name": "python",
   "nbconvert_exporter": "python",
   "pygments_lexer": "ipython3",
   "version": "3.9.6"
  }
 },
 "nbformat": 4,
 "nbformat_minor": 5
}
