{
 "cells": [
  {
   "cell_type": "code",
   "execution_count": 9,
   "id": "a935486e",
   "metadata": {},
   "outputs": [],
   "source": [
    "generate = (i ** 2 for i in range(6))"
   ]
  },
  {
   "cell_type": "code",
   "execution_count": null,
   "id": "2aa2febf",
   "metadata": {},
   "outputs": [],
   "source": [
    "#[ body for variable in iterable]"
   ]
  },
  {
   "cell_type": "code",
   "execution_count": 2,
   "id": "b32dc767",
   "metadata": {},
   "outputs": [
    {
     "data": {
      "text/plain": [
       "<generator object <genexpr> at 0x000001BA86719AC0>"
      ]
     },
     "execution_count": 2,
     "metadata": {},
     "output_type": "execute_result"
    }
   ],
   "source": [
    "generate"
   ]
  },
  {
   "cell_type": "code",
   "execution_count": 12,
   "id": "02c924c1",
   "metadata": {},
   "outputs": [
    {
     "name": "stdout",
     "output_type": "stream",
     "text": [
      "\n"
     ]
    }
   ],
   "source": [
    "print(*generate)"
   ]
  },
  {
   "cell_type": "code",
   "execution_count": 11,
   "id": "a5f815aa",
   "metadata": {},
   "outputs": [],
   "source": [
    "for i in generate:   # daha once cikti aldigimiz icin gostermez, \n",
    "                        #     generatorlarin ozelligi\n",
    "    print(i)"
   ]
  },
  {
   "cell_type": "code",
   "execution_count": 10,
   "id": "bc3ac6fa",
   "metadata": {},
   "outputs": [
    {
     "data": {
      "text/plain": [
       "[0, 1, 4, 9, 16, 25]"
      ]
     },
     "execution_count": 10,
     "metadata": {},
     "output_type": "execute_result"
    }
   ],
   "source": [
    "list(generate) # tek atimlik"
   ]
  },
  {
   "cell_type": "code",
   "execution_count": 14,
   "id": "91236f14",
   "metadata": {},
   "outputs": [],
   "source": [
    "generate = (i ** 2 for i in range(6))"
   ]
  },
  {
   "cell_type": "code",
   "execution_count": 15,
   "id": "089d47a6",
   "metadata": {},
   "outputs": [
    {
     "name": "stdout",
     "output_type": "stream",
     "text": [
      "0\n"
     ]
    }
   ],
   "source": [
    "print(next(generate)) # tek tek iterate eder"
   ]
  },
  {
   "cell_type": "code",
   "execution_count": 16,
   "id": "874564db",
   "metadata": {},
   "outputs": [
    {
     "name": "stdout",
     "output_type": "stream",
     "text": [
      "1\n"
     ]
    }
   ],
   "source": [
    "print(next(generate)) # tek tek iterate eder, sirayla"
   ]
  },
  {
   "cell_type": "code",
   "execution_count": 17,
   "id": "60c68ad1",
   "metadata": {},
   "outputs": [
    {
     "name": "stdout",
     "output_type": "stream",
     "text": [
      "4\n"
     ]
    }
   ],
   "source": [
    "print(next(generate)) # tek tek iterate eder, sirayla"
   ]
  },
  {
   "cell_type": "code",
   "execution_count": 21,
   "id": "df57b139",
   "metadata": {},
   "outputs": [
    {
     "ename": "StopIteration",
     "evalue": "",
     "output_type": "error",
     "traceback": [
      "\u001b[1;31m---------------------------------------------------------------------------\u001b[0m",
      "\u001b[1;31mStopIteration\u001b[0m                             Traceback (most recent call last)",
      "\u001b[1;32m~\\AppData\\Local\\Temp/ipykernel_13452/1196648374.py\u001b[0m in \u001b[0;36m<module>\u001b[1;34m\u001b[0m\n\u001b[1;32m----> 1\u001b[1;33m \u001b[0mprint\u001b[0m\u001b[1;33m(\u001b[0m\u001b[0mnext\u001b[0m\u001b[1;33m(\u001b[0m\u001b[0mgenerate\u001b[0m\u001b[1;33m)\u001b[0m\u001b[1;33m)\u001b[0m \u001b[1;31m# tek tek iterate eder, sirayla\u001b[0m\u001b[1;33m\u001b[0m\u001b[1;33m\u001b[0m\u001b[0m\n\u001b[0m",
      "\u001b[1;31mStopIteration\u001b[0m: "
     ]
    }
   ],
   "source": [
    "print(next(generate)) # tek tek iterate eder, sirayla"
   ]
  },
  {
   "cell_type": "code",
   "execution_count": 22,
   "id": "df9c6eb0",
   "metadata": {},
   "outputs": [
    {
     "name": "stdout",
     "output_type": "stream",
     "text": [
      "\n"
     ]
    }
   ],
   "source": [
    "print(*generate)"
   ]
  },
  {
   "cell_type": "code",
   "execution_count": 23,
   "id": "316ad615",
   "metadata": {},
   "outputs": [
    {
     "name": "stdout",
     "output_type": "stream",
     "text": [
      "\n"
     ]
    }
   ],
   "source": [
    "print(* generate)"
   ]
  },
  {
   "cell_type": "code",
   "execution_count": 31,
   "id": "3992899a",
   "metadata": {},
   "outputs": [
    {
     "name": "stdout",
     "output_type": "stream",
     "text": [
      "Enter a positive integer number:17333509997782249308725103962772\n",
      "17333509997782249308725103962772 is an Armstrong number.\n"
     ]
    }
   ],
   "source": [
    "while True :\n",
    "    \n",
    "    number = input(\"Enter a positive integer number:\")\n",
    "    digits = len(number)\n",
    "    summ = 0\n",
    "    \n",
    "    if not number.isdigit():\n",
    "        print(number, \" is invalid entry, Enter valid input!\")\n",
    "    elif int(number) >= 0 :\n",
    "        for i in range(digits):\n",
    "            summ = summ + int(number[i])** digits\n",
    "        \n",
    "        if summ == int(number) :\n",
    "            print(number, \"is an Armstrong number.\")\n",
    "            break\n",
    "        else :\n",
    "            print(number, \"is not an Armstrong number. Sorry\")\n",
    "            break\n",
    "        "
   ]
  },
  {
   "cell_type": "code",
   "execution_count": null,
   "id": "d4f57baf",
   "metadata": {},
   "outputs": [],
   "source": []
  },
  {
   "cell_type": "code",
   "execution_count": null,
   "id": "92b519cf",
   "metadata": {},
   "outputs": [],
   "source": []
  },
  {
   "cell_type": "code",
   "execution_count": 36,
   "id": "2b51342f",
   "metadata": {},
   "outputs": [
    {
     "name": "stdout",
     "output_type": "stream",
     "text": [
      "Enter a number :-2324\n",
      "It is an invalid entry. Don't use non-numeric, float, or negative values!\n",
      "Enter a number :35.5\n",
      "It is an invalid entry. Don't use non-numeric, float, or negative values!\n",
      "Enter a number :32453477\n",
      "32453477 is not an Armstrong number\n"
     ]
    }
   ],
   "source": [
    "while True:\n",
    "    number = input(\"Enter a number :\")\n",
    "    if number.isnumeric() :\n",
    "        sum_expon = 0\n",
    "        n = len(number)\n",
    "        for i in number :\n",
    "            expon = int(i)**int(n)\n",
    "            sum_expon += expon\n",
    "        if sum_expon == int(number) :\n",
    "            print(number, \"is an Armstrong number\")\n",
    "            break\n",
    "        else :\n",
    "            print(number, \"is not an Armstrong number\")\n",
    "            break\n",
    "    else:\n",
    "        print(\"It is an invalid entry. Don't use non-numeric, float, or negative values!\")"
   ]
  },
  {
   "cell_type": "markdown",
   "id": "67656fa7",
   "metadata": {},
   "source": [
    "### Is it  a prime number?\n"
   ]
  },
  {
   "cell_type": "code",
   "execution_count": 40,
   "id": "97195672",
   "metadata": {},
   "outputs": [
    {
     "name": "stdout",
     "output_type": "stream",
     "text": [
      "Enter a number to check if is is a Prime number:1\n",
      "8 is not a prime\n"
     ]
    }
   ],
   "source": [
    "int(input(\"Enter a number to check if is is a Prime number:\"))\n",
    "count = 0\n",
    "\n",
    "for i in range(1, n+1):\n",
    "    if i % 2 == 0:\n",
    "        count += 1\n",
    "if (n == 0) or (n == 1) or (count >=3):\n",
    "    print(n, \"is not a prime\")\n",
    "else :\n",
    "    print(n, \"is a Prime Number\")\n"
   ]
  },
  {
   "cell_type": "code",
   "execution_count": null,
   "id": "4f160e50",
   "metadata": {},
   "outputs": [],
   "source": []
  },
  {
   "cell_type": "code",
   "execution_count": null,
   "id": "4a5c0fd2",
   "metadata": {},
   "outputs": [],
   "source": []
  },
  {
   "cell_type": "code",
   "execution_count": null,
   "id": "3908931c",
   "metadata": {},
   "outputs": [],
   "source": []
  },
  {
   "cell_type": "code",
   "execution_count": null,
   "id": "09fb5bd9",
   "metadata": {},
   "outputs": [],
   "source": []
  },
  {
   "cell_type": "code",
   "execution_count": null,
   "id": "57a526e6",
   "metadata": {},
   "outputs": [],
   "source": []
  },
  {
   "cell_type": "code",
   "execution_count": 38,
   "id": "e7c57dcc",
   "metadata": {},
   "outputs": [
    {
     "name": "stdout",
     "output_type": "stream",
     "text": [
      "Enter a number to check prime number:1\n",
      "1 is not a prime number\n"
     ]
    }
   ],
   "source": [
    "num = int(input('Enter a number to check prime number:'))\n",
    "check_list = []\n",
    "for i in range(2, 100) :\n",
    "    a = num%i != 0 and num > 1 and num%1 == 0 and num%num == 0\n",
    "    if i == num:\n",
    "        continue\n",
    "    check_list.append(a)\n",
    "    \n",
    "if False in check_list :\n",
    "    print(num, 'is not a prime number')\n",
    "else:\n",
    "    print(num, 'is  a prime number')"
   ]
  }
 ],
 "metadata": {
  "kernelspec": {
   "display_name": "Python 3 (ipykernel)",
   "language": "python",
   "name": "python3"
  },
  "language_info": {
   "codemirror_mode": {
    "name": "ipython",
    "version": 3
   },
   "file_extension": ".py",
   "mimetype": "text/x-python",
   "name": "python",
   "nbconvert_exporter": "python",
   "pygments_lexer": "ipython3",
   "version": "3.9.6"
  }
 },
 "nbformat": 4,
 "nbformat_minor": 5
}
