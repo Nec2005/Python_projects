{
 "cells": [
  {
   "cell_type": "code",
   "execution_count": 24,
   "id": "10232871",
   "metadata": {
    "scrolled": true
   },
   "outputs": [],
   "source": [
    "def even_odd(list1):\n",
    "    for i in list1 :\n",
    "        print(i, \":\" ,(lambda i: \"odd\" if i%2 != 0 else \"even\")(i))  "
   ]
  },
  {
   "cell_type": "code",
   "execution_count": 26,
   "id": "199bfa42",
   "metadata": {},
   "outputs": [
    {
     "name": "stdout",
     "output_type": "stream",
     "text": [
      "1 : odd\n",
      "2 : even\n",
      "3 : odd\n",
      "4 : even\n"
     ]
    }
   ],
   "source": [
    "list1 = [1,2,3,4]\n",
    "even_odd(list1)"
   ]
  },
  {
   "cell_type": "code",
   "execution_count": 27,
   "id": "cea5432f",
   "metadata": {},
   "outputs": [
    {
     "name": "stdout",
     "output_type": "stream",
     "text": [
      "6 : even\n",
      "12 : even\n",
      "-5 : odd\n",
      "11 : odd\n"
     ]
    }
   ],
   "source": [
    "list2 = [6, 12, -5, 11]\n",
    "even_odd(list2)"
   ]
  },
  {
   "cell_type": "code",
   "execution_count": null,
   "id": "50655fe2",
   "metadata": {},
   "outputs": [],
   "source": [
    "(lambda x, y : (x +y)/2)(3, 5)"
   ]
  },
  {
   "cell_type": "code",
   "execution_count": 29,
   "id": "2c7f2a2a",
   "metadata": {},
   "outputs": [
    {
     "name": "stdout",
     "output_type": "stream",
     "text": [
      "3.0\n"
     ]
    }
   ],
   "source": [
    "average = lambda x, y: (x +y)/2\n",
    "print(average(4, 2))"
   ]
  },
  {
   "cell_type": "code",
   "execution_count": 30,
   "id": "a61b3610",
   "metadata": {},
   "outputs": [],
   "source": [
    "iterable = 'clarusway'\n",
    "reverser = lambda x: x[::-1]"
   ]
  },
  {
   "cell_type": "code",
   "execution_count": 31,
   "id": "a7a6a0c6",
   "metadata": {},
   "outputs": [
    {
     "data": {
      "text/plain": [
       "'yawsuralc'"
      ]
     },
     "execution_count": 31,
     "metadata": {},
     "output_type": "execute_result"
    }
   ],
   "source": [
    "reverser(iterable)"
   ]
  },
  {
   "cell_type": "code",
   "execution_count": null,
   "id": "503efcf6",
   "metadata": {},
   "outputs": [],
   "source": [
    "# map(function, iterable) iterable in elemanina teker teker fonk. uygulanir"
   ]
  },
  {
   "cell_type": "code",
   "execution_count": 34,
   "id": "85ec5cc3",
   "metadata": {},
   "outputs": [
    {
     "name": "stdout",
     "output_type": "stream",
     "text": [
      "<class 'map'>\n",
      "[1, 4, 9, 16, 25]\n"
     ]
    }
   ],
   "source": [
    "iterable = [1, 2, 3, 4, 5]\n",
    "map(lambda x: x**2, iterable)  \n",
    "result = map(lambda x: x**2, iterable)  \n",
    "\n",
    "print(type(result))\n",
    "\n",
    "print(list(result))"
   ]
  },
  {
   "cell_type": "code",
   "execution_count": 37,
   "id": "b623ed17",
   "metadata": {},
   "outputs": [],
   "source": [
    "def square(n):\n",
    "    return n ** 2"
   ]
  },
  {
   "cell_type": "code",
   "execution_count": 38,
   "id": "572b3e90",
   "metadata": {},
   "outputs": [],
   "source": [
    "numbers = [2,3,4,5]"
   ]
  },
  {
   "cell_type": "code",
   "execution_count": 40,
   "id": "36e0d4cb",
   "metadata": {},
   "outputs": [],
   "source": [
    "result = map(square, numbers )"
   ]
  },
  {
   "cell_type": "code",
   "execution_count": 41,
   "id": "2a557cd5",
   "metadata": {},
   "outputs": [
    {
     "name": "stdout",
     "output_type": "stream",
     "text": [
      "['one', 'six', 'ten']\n"
     ]
    }
   ],
   "source": [
    "letter1 = ['o', 's', 't', ]\n",
    "letter2 = ['n', 'i', 'e', 'w']\n",
    "letter3 = ['e', 'x', 'n', 'o']\n",
    "numbers = map(lambda x, y, z: x+y+z, letter1, letter2, letter3)\n",
    "\n",
    "print(list(numbers))"
   ]
  },
  {
   "cell_type": "code",
   "execution_count": 44,
   "id": "2857565e",
   "metadata": {},
   "outputs": [
    {
     "name": "stdout",
     "output_type": "stream",
     "text": [
      "[6.0, 6.0, 6.0, 6.0]\n"
     ]
    }
   ],
   "source": [
    "nums1 = [9,6,7,4]\n",
    "nums2 = [3,6,5,8]\n",
    "numbers = map(lambda x,y: (x+y)/2, nums1, nums2)\n",
    "\n",
    "print(list(numbers))"
   ]
  },
  {
   "cell_type": "code",
   "execution_count": 49,
   "id": "7a00da0f",
   "metadata": {},
   "outputs": [],
   "source": [
    "kelimeler = ['ali veli deli', \"mehmet aganin kuzeni\", \"cemil'in bacisi\"]"
   ]
  },
  {
   "cell_type": "code",
   "execution_count": 47,
   "id": "e7b24d0d",
   "metadata": {},
   "outputs": [
    {
     "name": "stdout",
     "output_type": "stream",
     "text": [
      "[13, 20, 15]\n"
     ]
    }
   ],
   "source": [
    "len1 = map(lambda x: len(x), kelimeler)\n",
    "print(list(len1))"
   ]
  },
  {
   "cell_type": "code",
   "execution_count": 50,
   "id": "5f7dff46",
   "metadata": {},
   "outputs": [
    {
     "data": {
      "text/plain": [
       "[13, 20, 15]"
      ]
     },
     "execution_count": 50,
     "metadata": {},
     "output_type": "execute_result"
    }
   ],
   "source": [
    "list(map(len, kelimeler))"
   ]
  },
  {
   "cell_type": "code",
   "execution_count": 57,
   "id": "5c9c628d",
   "metadata": {},
   "outputs": [],
   "source": [
    "words1 = ['you', 'much', 'hard']\n",
    "words2 = ['i', 'you', 'he']\n",
    "words3 = ['love', 'ate', 'works']\n",
    "new = map(lambda x,y,z: x + ' '+ y+' '+z, words2, words3,words1)"
   ]
  },
  {
   "cell_type": "code",
   "execution_count": 56,
   "id": "669f7952",
   "metadata": {},
   "outputs": [
    {
     "data": {
      "text/plain": [
       "['i love you', 'love ate much', 'you works hard']"
      ]
     },
     "execution_count": 56,
     "metadata": {},
     "output_type": "execute_result"
    }
   ],
   "source": [
    "list(new)"
   ]
  },
  {
   "cell_type": "code",
   "execution_count": 58,
   "id": "b1ed7052",
   "metadata": {},
   "outputs": [],
   "source": [
    "first_ten = [0,1,2,3,4,5,6,7,8,9]"
   ]
  },
  {
   "cell_type": "code",
   "execution_count": 60,
   "id": "389f580a",
   "metadata": {},
   "outputs": [
    {
     "name": "stdout",
     "output_type": "stream",
     "text": [
      "<class 'filter'>\n",
      "Even numbers are : [0, 2, 4, 6, 8]\n"
     ]
    }
   ],
   "source": [
    "even = filter(lambda x:x%2 == 0, first_ten)\n",
    "print(type(even))\n",
    "\n",
    "print('Even numbers are :', list(even))"
   ]
  },
  {
   "cell_type": "code",
   "execution_count": 61,
   "id": "cc8b7b37",
   "metadata": {},
   "outputs": [],
   "source": [
    "words = [\"apple\", \"swim\", \"clock\", \"me\", \"kiwi\", \"banana\"]"
   ]
  },
  {
   "cell_type": "code",
   "execution_count": 63,
   "id": "9b26f7c5",
   "metadata": {},
   "outputs": [
    {
     "data": {
      "text/plain": [
       "['swim', 'me', 'kiwi']"
      ]
     },
     "execution_count": 63,
     "metadata": {},
     "output_type": "execute_result"
    }
   ],
   "source": [
    "new = filter(lambda x: len(x) < 5, words)\n",
    "list(new)"
   ]
  },
  {
   "cell_type": "code",
   "execution_count": 64,
   "id": "f00d45c1",
   "metadata": {},
   "outputs": [
    {
     "name": "stdout",
     "output_type": "stream",
     "text": [
      "swim\n",
      "me\n",
      "kiwi\n"
     ]
    }
   ],
   "source": [
    "for i in filter(lambda x: len(x) < 5, words):\n",
    "    print(i)"
   ]
  },
  {
   "cell_type": "code",
   "execution_count": 75,
   "id": "dff7c58f",
   "metadata": {},
   "outputs": [],
   "source": [
    "first_ten = ['a', 'b', 'c', 'd', 'e', 'f', 'g', 'h', 'i', 'j']\n",
    "vowels = ['a', 'e', 'i', 'o', 'u']"
   ]
  },
  {
   "cell_type": "code",
   "execution_count": null,
   "id": "80116244",
   "metadata": {},
   "outputs": [],
   "source": [
    "vowels_list = filter(lambda x: True if x in vowels else False, first_ten )"
   ]
  },
  {
   "cell_type": "code",
   "execution_count": null,
   "id": "ee087dad",
   "metadata": {},
   "outputs": [],
   "source": []
  },
  {
   "cell_type": "code",
   "execution_count": 78,
   "id": "ca1ab5e7",
   "metadata": {},
   "outputs": [],
   "source": [
    "vowels_list = filter(lambda x: x in vowels, first_ten )"
   ]
  },
  {
   "cell_type": "code",
   "execution_count": 79,
   "id": "14e1edfb",
   "metadata": {},
   "outputs": [
    {
     "name": "stdout",
     "output_type": "stream",
     "text": [
      "['a', 'e', 'i']\n"
     ]
    }
   ],
   "source": [
    "print(list(vowels_list))"
   ]
  },
  {
   "cell_type": "code",
   "execution_count": 80,
   "id": "816a5195",
   "metadata": {},
   "outputs": [],
   "source": [
    "C = [\"right 20\", \"right 30\", \"left 50\", \"up 10\", \"down 20\"]"
   ]
  },
  {
   "cell_type": "code",
   "execution_count": 88,
   "id": "ce90b793",
   "metadata": {},
   "outputs": [
    {
     "data": {
      "text/plain": [
       "[0, -10]"
      ]
     },
     "execution_count": 88,
     "metadata": {},
     "output_type": "execute_result"
    }
   ],
   "source": [
    "x = y = 0\n",
    "\n",
    "for i in range(len(C)) :\n",
    "    if C[i].startswith(\"r\"): x = x + int(C[i].split()[1])\n",
    "    elif C[i].startswith(\"l\"): x = x - int(C[i].split()[1])\n",
    "    elif C[i].startswith(\"u\"): y = y + int(C[i].split()[1])\n",
    "    elif C[i].startswith(\"d\"): y = y - int(C[i].split()[1])\n",
    "        \n",
    "[x, y]"
   ]
  },
  {
   "cell_type": "code",
   "execution_count": 84,
   "id": "ac7c2cad",
   "metadata": {},
   "outputs": [
    {
     "data": {
      "text/plain": [
       "20"
      ]
     },
     "execution_count": 84,
     "metadata": {},
     "output_type": "execute_result"
    }
   ],
   "source": [
    "int(C[0].split()[1])"
   ]
  },
  {
   "cell_type": "code",
   "execution_count": 1,
   "id": "e7f9f719",
   "metadata": {},
   "outputs": [
    {
     "name": "stdout",
     "output_type": "stream",
     "text": [
      "4\n",
      "8\n",
      "16\n"
     ]
    }
   ],
   "source": [
    "def modular_function(n):\n",
    "    return lambda x: x ** n\n",
    "    \n",
    "power_of_2 = modular_function(2)  # first sub-function derived from def\n",
    "power_of_3 = modular_function(3)  # second sub-function derived from def\n",
    "power_of_4 = modular_function(4)  # third sub-function derived from def\n",
    "\n",
    "print(power_of_2(2))  # 2 to the power of 2\n",
    "print(power_of_3(2))  # 2 to the power of 3\n",
    "print(power_of_4(2))  # 2 to the power of 4"
   ]
  },
  {
   "cell_type": "code",
   "execution_count": 2,
   "id": "5445608c",
   "metadata": {},
   "outputs": [],
   "source": [
    "def repeater(n):\n",
    "    return lambda x : x * n"
   ]
  },
  {
   "cell_type": "code",
   "execution_count": 4,
   "id": "8eef012e",
   "metadata": {},
   "outputs": [
    {
     "data": {
      "text/plain": [
       "<function __main__.repeater.<locals>.<lambda>(x)>"
      ]
     },
     "execution_count": 4,
     "metadata": {},
     "output_type": "execute_result"
    }
   ],
   "source": [
    "repeat_5 = repeater(5) # lambda x:x * 5 oldu\n",
    "repeat_5\n"
   ]
  },
  {
   "cell_type": "code",
   "execution_count": 5,
   "id": "11cb268c",
   "metadata": {},
   "outputs": [
    {
     "data": {
      "text/plain": [
       "'sizi cok ozledimsizi cok ozledimsizi cok ozledimsizi cok ozledimsizi cok ozledim'"
      ]
     },
     "execution_count": 5,
     "metadata": {},
     "output_type": "execute_result"
    }
   ],
   "source": [
    "repeat_5(\"sizi cok ozledim\")"
   ]
  },
  {
   "cell_type": "code",
   "execution_count": 6,
   "id": "a14b1c0a",
   "metadata": {},
   "outputs": [],
   "source": [
    "repeat_2 = repeater(2)"
   ]
  },
  {
   "cell_type": "code",
   "execution_count": 7,
   "id": "991d0e72",
   "metadata": {},
   "outputs": [
    {
     "data": {
      "text/plain": [
       "'Evden ayrilammiyorumEvden ayrilammiyorum'"
      ]
     },
     "execution_count": 7,
     "metadata": {},
     "output_type": "execute_result"
    }
   ],
   "source": [
    "repeat_2(\"Evden ayrilammiyorum\")"
   ]
  },
  {
   "cell_type": "code",
   "execution_count": 9,
   "id": "a6678308",
   "metadata": {},
   "outputs": [],
   "source": [
    "def functioner(n):\n",
    "    return lambda x : x + ' ' + n    "
   ]
  },
  {
   "cell_type": "code",
   "execution_count": 10,
   "id": "f909adea",
   "metadata": {},
   "outputs": [],
   "source": [
    "myprint_smile = functioner(':)')"
   ]
  },
  {
   "cell_type": "code",
   "execution_count": 12,
   "id": "d0fc6a78",
   "metadata": {},
   "outputs": [
    {
     "data": {
      "text/plain": [
       "'hello :)'"
      ]
     },
     "execution_count": 12,
     "metadata": {},
     "output_type": "execute_result"
    }
   ],
   "source": [
    "myprint_smile('hello')"
   ]
  },
  {
   "cell_type": "code",
   "execution_count": 13,
   "id": "a6a694d9",
   "metadata": {},
   "outputs": [],
   "source": [
    "def functioner(emoji):\n",
    "    return lambda message : print(message, emoji)"
   ]
  },
  {
   "cell_type": "code",
   "execution_count": 14,
   "id": "6306d35a",
   "metadata": {},
   "outputs": [],
   "source": [
    "smile_print = functioner(':)')"
   ]
  },
  {
   "cell_type": "code",
   "execution_count": 15,
   "id": "23f1a4de",
   "metadata": {},
   "outputs": [
    {
     "name": "stdout",
     "output_type": "stream",
     "text": [
      "iki :)\n"
     ]
    }
   ],
   "source": [
    "smile_print('iki')"
   ]
  },
  {
   "cell_type": "code",
   "execution_count": 16,
   "id": "9f41bde8",
   "metadata": {},
   "outputs": [
    {
     "data": {
      "text/plain": [
       "'hello :)'"
      ]
     },
     "execution_count": 16,
     "metadata": {},
     "output_type": "execute_result"
    }
   ],
   "source": [
    "(lambda a : a + \":)\")(\"hello \")"
   ]
  },
  {
   "cell_type": "code",
   "execution_count": 17,
   "id": "f738a60a",
   "metadata": {},
   "outputs": [],
   "source": [
    "smile = lambda a : a + \":)\""
   ]
  },
  {
   "cell_type": "code",
   "execution_count": 18,
   "id": "dc9de204",
   "metadata": {},
   "outputs": [
    {
     "data": {
      "text/plain": [
       "' hello :)'"
      ]
     },
     "execution_count": 18,
     "metadata": {},
     "output_type": "execute_result"
    }
   ],
   "source": [
    "smile(\" hello \")"
   ]
  },
  {
   "cell_type": "code",
   "execution_count": 19,
   "id": "5d7f177f",
   "metadata": {},
   "outputs": [],
   "source": [
    "def x():\n",
    "    return 1, 2, 3, 4"
   ]
  },
  {
   "cell_type": "code",
   "execution_count": 20,
   "id": "2870d301",
   "metadata": {},
   "outputs": [
    {
     "data": {
      "text/plain": [
       "tuple"
      ]
     },
     "execution_count": 20,
     "metadata": {},
     "output_type": "execute_result"
    }
   ],
   "source": [
    "type(x())"
   ]
  },
  {
   "cell_type": "code",
   "execution_count": 21,
   "id": "f95f4ae9",
   "metadata": {},
   "outputs": [
    {
     "data": {
      "text/plain": [
       "(1, 2, 3, 4)"
      ]
     },
     "execution_count": 21,
     "metadata": {},
     "output_type": "execute_result"
    }
   ],
   "source": [
    "x()"
   ]
  },
  {
   "cell_type": "code",
   "execution_count": 22,
   "id": "4f62dd18",
   "metadata": {},
   "outputs": [],
   "source": [
    "a, b, c ,d = x()"
   ]
  },
  {
   "cell_type": "code",
   "execution_count": 23,
   "id": "cfb8cdeb",
   "metadata": {},
   "outputs": [
    {
     "data": {
      "text/plain": [
       "1"
      ]
     },
     "execution_count": 23,
     "metadata": {},
     "output_type": "execute_result"
    }
   ],
   "source": [
    "a"
   ]
  },
  {
   "cell_type": "code",
   "execution_count": 24,
   "id": "93277fc1",
   "metadata": {},
   "outputs": [
    {
     "name": "stdout",
     "output_type": "stream",
     "text": [
      "1\n",
      "2\n",
      "3\n",
      "4\n"
     ]
    }
   ],
   "source": [
    "for i in x():\n",
    "    print(i)"
   ]
  },
  {
   "cell_type": "code",
   "execution_count": 25,
   "id": "1ac4f82a",
   "metadata": {},
   "outputs": [],
   "source": [
    "num = [1, 4, 4]"
   ]
  },
  {
   "cell_type": "code",
   "execution_count": 26,
   "id": "0d2dfde4",
   "metadata": {},
   "outputs": [
    {
     "data": {
      "text/plain": [
       "4"
      ]
     },
     "execution_count": 26,
     "metadata": {},
     "output_type": "execute_result"
    }
   ],
   "source": [
    "max(num, key = num.count)"
   ]
  },
  {
   "cell_type": "code",
   "execution_count": 28,
   "id": "bc786029",
   "metadata": {},
   "outputs": [
    {
     "data": {
      "text/plain": [
       "2"
      ]
     },
     "execution_count": 28,
     "metadata": {},
     "output_type": "execute_result"
    }
   ],
   "source": [
    "num.count(4)"
   ]
  },
  {
   "cell_type": "code",
   "execution_count": null,
   "id": "956ed439",
   "metadata": {},
   "outputs": [],
   "source": [
    "def count_max(list1):\n",
    "     return list1.count(max(list1, key = list1.count))"
   ]
  },
  {
   "cell_type": "code",
   "execution_count": null,
   "id": "8773e38d",
   "metadata": {},
   "outputs": [],
   "source": []
  },
  {
   "cell_type": "code",
   "execution_count": 38,
   "id": "386ced1d",
   "metadata": {},
   "outputs": [],
   "source": [
    "def equal(a, b, c):\n",
    "    numbers = [a, b, c]\n",
    "    \n",
    "    res = numbers.count(max(numbers, key = numbers.count))\n",
    "    \n",
    "    if res > 1 :\n",
    "        return res\n",
    "    else: \n",
    "        return 0"
   ]
  },
  {
   "cell_type": "code",
   "execution_count": 39,
   "id": "ad9ab57c",
   "metadata": {},
   "outputs": [
    {
     "data": {
      "text/plain": [
       "2"
      ]
     },
     "execution_count": 39,
     "metadata": {},
     "output_type": "execute_result"
    }
   ],
   "source": [
    "equal(1,4,4)"
   ]
  },
  {
   "cell_type": "code",
   "execution_count": 40,
   "id": "f1062fdd",
   "metadata": {},
   "outputs": [
    {
     "data": {
      "text/plain": [
       "3"
      ]
     },
     "execution_count": 40,
     "metadata": {},
     "output_type": "execute_result"
    }
   ],
   "source": [
    "equal(1,1,1)"
   ]
  },
  {
   "cell_type": "code",
   "execution_count": 41,
   "id": "b6b5670c",
   "metadata": {},
   "outputs": [
    {
     "data": {
      "text/plain": [
       "0"
      ]
     },
     "execution_count": 41,
     "metadata": {},
     "output_type": "execute_result"
    }
   ],
   "source": [
    "equal(1,2,3)"
   ]
  },
  {
   "cell_type": "code",
   "execution_count": 44,
   "id": "9690615d",
   "metadata": {},
   "outputs": [],
   "source": [
    "def equall(* arg):\n",
    "    numbers = list(arg)\n",
    "    \n",
    "    res = numbers.count(max(numbers, key = numbers.count))\n",
    "    \n",
    "    if res > 1 :\n",
    "        return res\n",
    "    else: \n",
    "        return 0"
   ]
  },
  {
   "cell_type": "code",
   "execution_count": 45,
   "id": "60445c0c",
   "metadata": {},
   "outputs": [
    {
     "data": {
      "text/plain": [
       "3"
      ]
     },
     "execution_count": 45,
     "metadata": {},
     "output_type": "execute_result"
    }
   ],
   "source": [
    "equall(1,2,3,2,2,4)"
   ]
  },
  {
   "cell_type": "code",
   "execution_count": null,
   "id": "541865c8",
   "metadata": {},
   "outputs": [],
   "source": [
    "def equal(a, b, c):\n",
    "    numbers = [a, b, c]\n",
    "    \n",
    "    res = numbers.count(max(numbers, key = numbers.count))\n",
    "    \n",
    "    if res > 1 :\n",
    "        return res\n",
    "    else: \n",
    "        return 0"
   ]
  },
  {
   "cell_type": "code",
   "execution_count": 50,
   "id": "be7e59bb",
   "metadata": {},
   "outputs": [],
   "source": [
    "equallambda = lambda a, b, c : [a,b,c].count(max([a,b,c], key = [a,b,c].count)) \n"
   ]
  },
  {
   "cell_type": "code",
   "execution_count": 54,
   "id": "fa65fe7d",
   "metadata": {},
   "outputs": [],
   "source": [
    "equallambda = lambda a, b, c : [a,b,c].count(max([a,b,c], key = [a,b,c].count))\\\n",
    "if [a,b,c].count(max([a,b,c], key = [a,b,c].count)) > 1  else 0"
   ]
  },
  {
   "cell_type": "code",
   "execution_count": null,
   "id": "082a92e8",
   "metadata": {},
   "outputs": [],
   "source": [
    "# res if res > 1 else 0"
   ]
  },
  {
   "cell_type": "code",
   "execution_count": 53,
   "id": "af887ff5",
   "metadata": {},
   "outputs": [
    {
     "data": {
      "text/plain": [
       "1"
      ]
     },
     "execution_count": 53,
     "metadata": {},
     "output_type": "execute_result"
    }
   ],
   "source": [
    "1 if True else 0"
   ]
  },
  {
   "cell_type": "code",
   "execution_count": null,
   "id": "bfd6d4dd",
   "metadata": {},
   "outputs": [],
   "source": [
    "# body_if if condition else body_else"
   ]
  },
  {
   "cell_type": "code",
   "execution_count": 55,
   "id": "d145390b",
   "metadata": {},
   "outputs": [
    {
     "data": {
      "text/plain": [
       "2"
      ]
     },
     "execution_count": 55,
     "metadata": {},
     "output_type": "execute_result"
    }
   ],
   "source": [
    "equallambda(1,4,4)"
   ]
  },
  {
   "cell_type": "code",
   "execution_count": 56,
   "id": "044564b7",
   "metadata": {},
   "outputs": [],
   "source": [
    "equallambdaa = lambda * arg : list(arg).count(max(list(arg), key = list(arg).count))\\\n",
    "if list(arg).count(max(list(arg), key = list(arg).count)) > 1  else 0"
   ]
  },
  {
   "cell_type": "code",
   "execution_count": 57,
   "id": "1fa4af8a",
   "metadata": {},
   "outputs": [
    {
     "data": {
      "text/plain": [
       "3"
      ]
     },
     "execution_count": 57,
     "metadata": {},
     "output_type": "execute_result"
    }
   ],
   "source": [
    "equallambdaa(1,2,3,3,3,4,5)"
   ]
  },
  {
   "cell_type": "code",
   "execution_count": 76,
   "id": "1a0264e9",
   "metadata": {},
   "outputs": [],
   "source": [
    "def function_generator(funct):\n",
    "    return lambda  x : funct(x)"
   ]
  },
  {
   "cell_type": "code",
   "execution_count": 84,
   "id": "38142b80",
   "metadata": {},
   "outputs": [],
   "source": [
    "def function_generator(function):\n",
    "    return lambda x : function(x)\n",
    "    \n",
    "    "
   ]
  },
  {
   "cell_type": "code",
   "execution_count": 82,
   "id": "9c7263f0",
   "metadata": {},
   "outputs": [
    {
     "name": "stdout",
     "output_type": "stream",
     "text": [
      "beni yazdir\n"
     ]
    }
   ],
   "source": [
    "(lambda x : print(x))('beni yazdir')"
   ]
  },
  {
   "cell_type": "code",
   "execution_count": 83,
   "id": "44b3a0e5",
   "metadata": {},
   "outputs": [
    {
     "data": {
      "text/plain": [
       "9"
      ]
     },
     "execution_count": 83,
     "metadata": {},
     "output_type": "execute_result"
    }
   ],
   "source": [
    "(lambda x : max(x))([1,2,3,4,9])"
   ]
  },
  {
   "cell_type": "code",
   "execution_count": null,
   "id": "671c178a",
   "metadata": {},
   "outputs": [],
   "source": []
  },
  {
   "cell_type": "code",
   "execution_count": null,
   "id": "58cef6f3",
   "metadata": {},
   "outputs": [],
   "source": []
  },
  {
   "cell_type": "code",
   "execution_count": 85,
   "id": "84ecbe62",
   "metadata": {},
   "outputs": [],
   "source": [
    "myPrint = function_generator(print)\n",
    "\n",
    "# myMax()= function_generator(max)\n",
    "# myBool() = function_generator(bool)\n",
    "# mySorted() = function_generator(sorted)"
   ]
  },
  {
   "cell_type": "code",
   "execution_count": 86,
   "id": "494f5ec1",
   "metadata": {},
   "outputs": [
    {
     "name": "stdout",
     "output_type": "stream",
     "text": [
      "artik istedigini yazdir\n"
     ]
    }
   ],
   "source": [
    "myPrint('artik istedigini yazdir')"
   ]
  },
  {
   "cell_type": "code",
   "execution_count": 87,
   "id": "817383e0",
   "metadata": {},
   "outputs": [],
   "source": [
    "myBool = function_generator(bool)"
   ]
  },
  {
   "cell_type": "code",
   "execution_count": 88,
   "id": "8016e2b9",
   "metadata": {},
   "outputs": [
    {
     "data": {
      "text/plain": [
       "False"
      ]
     },
     "execution_count": 88,
     "metadata": {},
     "output_type": "execute_result"
    }
   ],
   "source": [
    "myBool(0)"
   ]
  },
  {
   "cell_type": "code",
   "execution_count": 80,
   "id": "5fc9001d",
   "metadata": {},
   "outputs": [],
   "source": [
    "myMax = function_generator(max)"
   ]
  },
  {
   "cell_type": "code",
   "execution_count": 81,
   "id": "36b50680",
   "metadata": {},
   "outputs": [
    {
     "data": {
      "text/plain": [
       "9"
      ]
     },
     "execution_count": 81,
     "metadata": {},
     "output_type": "execute_result"
    }
   ],
   "source": [
    "myMax([1,2,3,9])"
   ]
  }
 ],
 "metadata": {
  "kernelspec": {
   "display_name": "Python 3 (ipykernel)",
   "language": "python",
   "name": "python3"
  },
  "language_info": {
   "codemirror_mode": {
    "name": "ipython",
    "version": 3
   },
   "file_extension": ".py",
   "mimetype": "text/x-python",
   "name": "python",
   "nbconvert_exporter": "python",
   "pygments_lexer": "ipython3",
   "version": "3.9.6"
  }
 },
 "nbformat": 4,
 "nbformat_minor": 5
}
