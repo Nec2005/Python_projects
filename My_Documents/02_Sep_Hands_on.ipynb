{
 "cells": [
  {
   "cell_type": "markdown",
   "id": "caf60e62",
   "metadata": {},
   "source": [
    "Task:\n",
    "\n",
    "Count the number of each letter in a sentence.\n",
    "\n",
    "The department you work for undertook a project construction that makes word / text analysis. You are asked to calculate the number of letters or any chars in the sentences entered under this project. Write a Python program that; takes a sentence from the user, counts the number of each letter of the sentence, collects the letters/chars as a key and the counted numbers as a value in a dictionary.\n",
    "\n",
    "hippo runs to us! {'s': 2, 'r': 1, 't': 1, 'h': 1, 'n': 1, 'i': 1, 'u': 2, 'o': 2, 'p': 2, ' ': 3, '!': 1}"
   ]
  },
  {
   "cell_type": "code",
   "execution_count": 1,
   "id": "cc1574d8",
   "metadata": {},
   "outputs": [],
   "source": [
    "word = {1 : '1', 2 : '2'}"
   ]
  },
  {
   "cell_type": "code",
   "execution_count": 3,
   "id": "9481ef38",
   "metadata": {},
   "outputs": [],
   "source": [
    "keys = word.keys()"
   ]
  },
  {
   "cell_type": "code",
   "execution_count": 4,
   "id": "ac9a1fa7",
   "metadata": {},
   "outputs": [
    {
     "data": {
      "text/plain": [
       "dict_keys([1, 2])"
      ]
     },
     "execution_count": 4,
     "metadata": {},
     "output_type": "execute_result"
    }
   ],
   "source": [
    "keys"
   ]
  },
  {
   "cell_type": "code",
   "execution_count": 6,
   "id": "1596f53c",
   "metadata": {},
   "outputs": [],
   "source": [
    "word_1 = {}"
   ]
  },
  {
   "cell_type": "code",
   "execution_count": 7,
   "id": "8b683ed0",
   "metadata": {},
   "outputs": [],
   "source": [
    "word_1[3] = 1"
   ]
  },
  {
   "cell_type": "code",
   "execution_count": 8,
   "id": "0e3a0757",
   "metadata": {},
   "outputs": [
    {
     "data": {
      "text/plain": [
       "{3: 1}"
      ]
     },
     "execution_count": 8,
     "metadata": {},
     "output_type": "execute_result"
    }
   ],
   "source": [
    "word_1"
   ]
  },
  {
   "cell_type": "code",
   "execution_count": 10,
   "id": "0b2d042f",
   "metadata": {},
   "outputs": [
    {
     "data": {
      "text/plain": [
       "{3: 1, 1: 1}"
      ]
     },
     "execution_count": 10,
     "metadata": {},
     "output_type": "execute_result"
    }
   ],
   "source": [
    "word_1[1] = 1\n",
    "word_1"
   ]
  },
  {
   "cell_type": "code",
   "execution_count": 11,
   "id": "0f423cc8",
   "metadata": {},
   "outputs": [],
   "source": [
    "word_1[3] += 1"
   ]
  },
  {
   "cell_type": "code",
   "execution_count": 13,
   "id": "edf4f526",
   "metadata": {},
   "outputs": [
    {
     "data": {
      "text/plain": [
       "{3: 2, 1: 1}"
      ]
     },
     "execution_count": 13,
     "metadata": {},
     "output_type": "execute_result"
    }
   ],
   "source": [
    "word_1"
   ]
  },
  {
   "cell_type": "code",
   "execution_count": 14,
   "id": "9ea3679b",
   "metadata": {},
   "outputs": [],
   "source": [
    "word_1[3] += 1"
   ]
  },
  {
   "cell_type": "code",
   "execution_count": 15,
   "id": "f2a7b27e",
   "metadata": {},
   "outputs": [
    {
     "data": {
      "text/plain": [
       "{3: 3, 1: 1}"
      ]
     },
     "execution_count": 15,
     "metadata": {},
     "output_type": "execute_result"
    }
   ],
   "source": [
    "word_1"
   ]
  },
  {
   "cell_type": "code",
   "execution_count": 19,
   "id": "b86123ff",
   "metadata": {},
   "outputs": [
    {
     "data": {
      "text/plain": [
       "{3: 3, 1: 1, 'ali': 22}"
      ]
     },
     "execution_count": 19,
     "metadata": {},
     "output_type": "execute_result"
    }
   ],
   "source": [
    "word_1['ali'] = 22\n",
    "word_1"
   ]
  },
  {
   "cell_type": "code",
   "execution_count": 20,
   "id": "703b48d7",
   "metadata": {},
   "outputs": [
    {
     "data": {
      "text/plain": [
       "True"
      ]
     },
     "execution_count": 20,
     "metadata": {},
     "output_type": "execute_result"
    }
   ],
   "source": [
    "'ali' in word_1"
   ]
  },
  {
   "cell_type": "code",
   "execution_count": 16,
   "id": "08debcf9",
   "metadata": {},
   "outputs": [],
   "source": [
    "string = 'bugun ayriliktan bir onceki session..'"
   ]
  },
  {
   "cell_type": "code",
   "execution_count": 17,
   "id": "45e4bb5c",
   "metadata": {},
   "outputs": [],
   "source": [
    "word_dict = {}"
   ]
  },
  {
   "cell_type": "code",
   "execution_count": 24,
   "id": "7a0585fb",
   "metadata": {},
   "outputs": [
    {
     "name": "stdout",
     "output_type": "stream",
     "text": [
      "{'b': 6, 'u': 6, 'g': 3, 'n': 12, ' ': 12, 'a': 6, 'y': 3, 'r': 6, 'i': 15, 'l': 3, 'k': 6, 't': 3, 'o': 6, 'c': 3, 'e': 6, 's': 9, '.': 6}\n"
     ]
    }
   ],
   "source": [
    "for n in string :\n",
    "    \n",
    "    keys = word_dict.keys()\n",
    "    \n",
    "    if n in word_dict :\n",
    "        word_dict[n] += 1\n",
    "    else:\n",
    "        word_dict[n] = 1\n",
    " \n",
    "print(word_dict)"
   ]
  },
  {
   "cell_type": "code",
   "execution_count": 23,
   "id": "b143361a",
   "metadata": {},
   "outputs": [],
   "source": [
    "veri = [\"a\", \"b\", True, (False, 1), {\"1\" : 2}, [1,2], {\"2\" : \"two\"}, {2, \"3\"}, \"c\", 23, 0]"
   ]
  },
  {
   "cell_type": "code",
   "execution_count": null,
   "id": "f201e96c",
   "metadata": {},
   "outputs": [],
   "source": []
  },
  {
   "cell_type": "code",
   "execution_count": 34,
   "id": "52fc9275",
   "metadata": {},
   "outputs": [],
   "source": [
    "tipler = ['int', 'str', 'list', 'tuple', 'dict', 'set', 'bool']"
   ]
  },
  {
   "cell_type": "code",
   "execution_count": 35,
   "id": "1fc50d63",
   "metadata": {},
   "outputs": [
    {
     "data": {
      "text/plain": [
       "{'int': 0, 'str': 0, 'list': 0, 'tuple': 0, 'dict': 0, 'set': 0, 'bool': 0}"
      ]
     },
     "execution_count": 35,
     "metadata": {},
     "output_type": "execute_result"
    }
   ],
   "source": [
    "{}.fromkeys(tipler, 0)"
   ]
  },
  {
   "cell_type": "code",
   "execution_count": 36,
   "id": "c0db5e3e",
   "metadata": {},
   "outputs": [],
   "source": [
    "toplam = {}.fromkeys(tipler, 0)"
   ]
  },
  {
   "cell_type": "code",
   "execution_count": 37,
   "id": "d6496106",
   "metadata": {},
   "outputs": [
    {
     "data": {
      "text/plain": [
       "{'int': 0, 'str': 0, 'list': 0, 'tuple': 0, 'dict': 0, 'set': 0, 'bool': 0}"
      ]
     },
     "execution_count": 37,
     "metadata": {},
     "output_type": "execute_result"
    }
   ],
   "source": [
    "toplam"
   ]
  },
  {
   "cell_type": "code",
   "execution_count": 30,
   "id": "3a483bd2",
   "metadata": {},
   "outputs": [
    {
     "data": {
      "text/plain": [
       "11"
      ]
     },
     "execution_count": 30,
     "metadata": {},
     "output_type": "execute_result"
    }
   ],
   "source": [
    "len(veri)"
   ]
  },
  {
   "cell_type": "code",
   "execution_count": 38,
   "id": "64c866e5",
   "metadata": {},
   "outputs": [
    {
     "data": {
      "text/plain": [
       "str"
      ]
     },
     "execution_count": 38,
     "metadata": {},
     "output_type": "execute_result"
    }
   ],
   "source": [
    "type(veri[0])"
   ]
  },
  {
   "cell_type": "code",
   "execution_count": 40,
   "id": "98fc3da6",
   "metadata": {},
   "outputs": [
    {
     "name": "stdout",
     "output_type": "stream",
     "text": [
      "{'int': 4, 'str': 6, 'list': 2, 'tuple': 2, 'dict': 4, 'set': 2, 'bool': 2}\n"
     ]
    }
   ],
   "source": [
    "for i in range(len(veri)):\n",
    "    \n",
    "    if type(veri[i]) == int : toplam['int'] += 1\n",
    "    elif type(veri[i]) == str : toplam['str'] += 1 \n",
    "    elif type(veri[i]) == bool : toplam['bool'] += 1\n",
    "    elif type(veri[i]) == list : toplam['list'] += 1\n",
    "    elif type(veri[i]) == tuple : toplam['tuple'] += 1\n",
    "    elif type(veri[i]) == dict : toplam['dict'] += 1\n",
    "    elif type(veri[i]) == set : toplam['set'] += 1\n",
    "\n",
    "print(toplam)"
   ]
  },
  {
   "cell_type": "markdown",
   "id": "0ad455e7",
   "metadata": {},
   "source": [
    "## OBEB (Ortak Bolenlerin En buyugu)"
   ]
  },
  {
   "cell_type": "code",
   "execution_count": 44,
   "id": "3346b569",
   "metadata": {},
   "outputs": [],
   "source": [
    "def obeb(a, b) :\n",
    "    \"\"\" ilk paramaetreyi buyuk olan sayi olarak giriniz\"\"\"\n",
    "    if b == 0 :\n",
    "        return a\n",
    "    else:\n",
    "        return obeb(b, a % b)\n",
    "    "
   ]
  },
  {
   "cell_type": "code",
   "execution_count": 49,
   "id": "6bd55a06",
   "metadata": {},
   "outputs": [
    {
     "data": {
      "text/plain": [
       "5"
      ]
     },
     "execution_count": 49,
     "metadata": {},
     "output_type": "execute_result"
    }
   ],
   "source": [
    "obeb(65, 25)"
   ]
  },
  {
   "cell_type": "code",
   "execution_count": 50,
   "id": "55336952",
   "metadata": {},
   "outputs": [
    {
     "data": {
      "text/plain": [
       "8"
      ]
     },
     "execution_count": 50,
     "metadata": {},
     "output_type": "execute_result"
    }
   ],
   "source": [
    "obeb(24, 8)"
   ]
  },
  {
   "cell_type": "code",
   "execution_count": 47,
   "id": "a7aea19c",
   "metadata": {},
   "outputs": [
    {
     "data": {
      "text/plain": [
       "2"
      ]
     },
     "execution_count": 47,
     "metadata": {},
     "output_type": "execute_result"
    }
   ],
   "source": [
    "obeb(44, 30)"
   ]
  },
  {
   "cell_type": "code",
   "execution_count": 51,
   "id": "5cd147a3",
   "metadata": {},
   "outputs": [],
   "source": [
    "def facto(n) :\n",
    "    \n",
    "    if n == 0: return 1\n",
    "    else : \n",
    "        return n * facto(n-1)"
   ]
  },
  {
   "cell_type": "code",
   "execution_count": 52,
   "id": "8fe0971a",
   "metadata": {},
   "outputs": [
    {
     "data": {
      "text/plain": [
       "24"
      ]
     },
     "execution_count": 52,
     "metadata": {},
     "output_type": "execute_result"
    }
   ],
   "source": [
    "facto(4)"
   ]
  },
  {
   "cell_type": "markdown",
   "id": "40e99441",
   "metadata": {},
   "source": [
    "Problem : Given a collection of distinct integers, return all possible combinations. Example:\n",
    "\n",
    "Input: [1,2,3]\n",
    "\n",
    "Output: [ [1,2,3], [1,3,2], [2,1,3], [2,3,1], [3,1,2], [3,2,1] ]"
   ]
  },
  {
   "cell_type": "code",
   "execution_count": 53,
   "id": "47107924",
   "metadata": {},
   "outputs": [],
   "source": [
    "solution = [[]]"
   ]
  },
  {
   "cell_type": "code",
   "execution_count": null,
   "id": "080a1c6b",
   "metadata": {},
   "outputs": [],
   "source": [
    "# solution - 1 = [[1], [2], [3]]\n",
    "\n",
    "\n",
    "# solution -2 = [[1, 2,], [1, 3], [2, 1], [2, 3], [3, 2], [3, 1]]\n",
    "\n",
    "#solution - 3 = [[1,2,3], [1, 3, 2], [2, 1, 3], [2, 3, 1], [3, 2, 1], [3, 1, 2] ]\n",
    "\n"
   ]
  },
  {
   "cell_type": "code",
   "execution_count": 54,
   "id": "4dee91e7",
   "metadata": {},
   "outputs": [
    {
     "name": "stdout",
     "output_type": "stream",
     "text": [
      "[]\n"
     ]
    }
   ],
   "source": [
    "for i in solution:\n",
    "    print(i)"
   ]
  },
  {
   "cell_type": "code",
   "execution_count": 55,
   "id": "632cfb7a",
   "metadata": {},
   "outputs": [
    {
     "data": {
      "text/plain": [
       "1"
      ]
     },
     "execution_count": 55,
     "metadata": {},
     "output_type": "execute_result"
    }
   ],
   "source": [
    "len(solution)"
   ]
  },
  {
   "cell_type": "code",
   "execution_count": 56,
   "id": "86dc96a2",
   "metadata": {},
   "outputs": [],
   "source": [
    "num = [1, 2, 3]"
   ]
  },
  {
   "cell_type": "code",
   "execution_count": 57,
   "id": "9de27ab1",
   "metadata": {},
   "outputs": [],
   "source": [
    "num_set = set(num)"
   ]
  },
  {
   "cell_type": "code",
   "execution_count": 58,
   "id": "2c3e47e4",
   "metadata": {},
   "outputs": [
    {
     "data": {
      "text/plain": [
       "{1, 2, 3}"
      ]
     },
     "execution_count": 58,
     "metadata": {},
     "output_type": "execute_result"
    }
   ],
   "source": [
    "num_set"
   ]
  },
  {
   "cell_type": "code",
   "execution_count": 59,
   "id": "9cfd1c69",
   "metadata": {},
   "outputs": [
    {
     "data": {
      "text/plain": [
       "set()"
      ]
     },
     "execution_count": 59,
     "metadata": {},
     "output_type": "execute_result"
    }
   ],
   "source": [
    "set([])"
   ]
  },
  {
   "cell_type": "code",
   "execution_count": 61,
   "id": "be18a00f",
   "metadata": {},
   "outputs": [
    {
     "data": {
      "text/plain": [
       "set()"
      ]
     },
     "execution_count": 61,
     "metadata": {},
     "output_type": "execute_result"
    }
   ],
   "source": [
    "set_bos_list = set([])\n",
    "set_bos_list"
   ]
  },
  {
   "cell_type": "code",
   "execution_count": 62,
   "id": "cf917da4",
   "metadata": {},
   "outputs": [
    {
     "data": {
      "text/plain": [
       "{1, 2, 3}"
      ]
     },
     "execution_count": 62,
     "metadata": {},
     "output_type": "execute_result"
    }
   ],
   "source": [
    "num_set - set_bos_list"
   ]
  },
  {
   "cell_type": "code",
   "execution_count": 64,
   "id": "1ad1e40a",
   "metadata": {},
   "outputs": [
    {
     "data": {
      "text/plain": [
       "{2, 3}"
      ]
     },
     "execution_count": 64,
     "metadata": {},
     "output_type": "execute_result"
    }
   ],
   "source": [
    "num_set - set([1])"
   ]
  },
  {
   "cell_type": "code",
   "execution_count": 65,
   "id": "8f0730fa",
   "metadata": {},
   "outputs": [
    {
     "data": {
      "text/plain": [
       "{1, 3}"
      ]
     },
     "execution_count": 65,
     "metadata": {},
     "output_type": "execute_result"
    }
   ],
   "source": [
    "num_set - set([2])"
   ]
  },
  {
   "cell_type": "code",
   "execution_count": 66,
   "id": "08de3241",
   "metadata": {},
   "outputs": [
    {
     "data": {
      "text/plain": [
       "[1, 2, 3]"
      ]
     },
     "execution_count": 66,
     "metadata": {},
     "output_type": "execute_result"
    }
   ],
   "source": [
    "[1] + [2, 3]"
   ]
  },
  {
   "cell_type": "code",
   "execution_count": 67,
   "id": "ccf1b3e4",
   "metadata": {},
   "outputs": [
    {
     "data": {
      "text/plain": [
       "[2]"
      ]
     },
     "execution_count": 67,
     "metadata": {},
     "output_type": "execute_result"
    }
   ],
   "source": [
    "[] + [2]"
   ]
  },
  {
   "cell_type": "code",
   "execution_count": 68,
   "id": "4310938f",
   "metadata": {},
   "outputs": [
    {
     "data": {
      "text/plain": [
       "{3}"
      ]
     },
     "execution_count": 68,
     "metadata": {},
     "output_type": "execute_result"
    }
   ],
   "source": [
    "num_set - set([1] + [2])"
   ]
  },
  {
   "cell_type": "code",
   "execution_count": 69,
   "id": "3aeb60b9",
   "metadata": {},
   "outputs": [
    {
     "data": {
      "text/plain": [
       "[1, 2, 3]"
      ]
     },
     "execution_count": 69,
     "metadata": {},
     "output_type": "execute_result"
    }
   ],
   "source": [
    "[1, 2] + [3]"
   ]
  },
  {
   "cell_type": "code",
   "execution_count": 70,
   "id": "0af26235",
   "metadata": {},
   "outputs": [
    {
     "data": {
      "text/plain": [
       "[[]]"
      ]
     },
     "execution_count": 70,
     "metadata": {},
     "output_type": "execute_result"
    }
   ],
   "source": [
    "solution"
   ]
  },
  {
   "cell_type": "code",
   "execution_count": null,
   "id": "e756e24c",
   "metadata": {},
   "outputs": [],
   "source": [
    "solution = [[]]"
   ]
  },
  {
   "cell_type": "code",
   "execution_count": null,
   "id": "7593b733",
   "metadata": {},
   "outputs": [],
   "source": [
    "#solution = [[]]\n",
    "\n",
    "# solution - 1 = [[1], [2], [3]]\n",
    "\n",
    "\n",
    "# solution -2 = [[1, 2,], [1, 3], [2, 1], [2, 3], [3, 2], [3, 1]]\n",
    "\n",
    "#solution - 3 = [[1,2,3], [1, 3, 2], [2, 1, 3], [2, 3, 1], [3, 2, 1], [3, 1, 2] ]\n",
    "\n"
   ]
  },
  {
   "cell_type": "code",
   "execution_count": 71,
   "id": "f4cf038f",
   "metadata": {},
   "outputs": [
    {
     "data": {
      "text/plain": [
       "[1, 2, 3]"
      ]
     },
     "execution_count": 71,
     "metadata": {},
     "output_type": "execute_result"
    }
   ],
   "source": [
    "num"
   ]
  },
  {
   "cell_type": "code",
   "execution_count": null,
   "id": "51877232",
   "metadata": {},
   "outputs": [],
   "source": [
    "#[body for i in iterable]"
   ]
  },
  {
   "cell_type": "code",
   "execution_count": 72,
   "id": "941f67be",
   "metadata": {},
   "outputs": [
    {
     "data": {
      "text/plain": [
       "[[0], [1], [2]]"
      ]
     },
     "execution_count": 72,
     "metadata": {},
     "output_type": "execute_result"
    }
   ],
   "source": [
    "[[i] for i in range(3)]"
   ]
  },
  {
   "cell_type": "code",
   "execution_count": 74,
   "id": "4f524a44",
   "metadata": {},
   "outputs": [
    {
     "data": {
      "text/plain": [
       "[[0], [1], [4]]"
      ]
     },
     "execution_count": 74,
     "metadata": {},
     "output_type": "execute_result"
    }
   ],
   "source": [
    "[[i** 2] for i in range(3)]"
   ]
  },
  {
   "cell_type": "code",
   "execution_count": 75,
   "id": "9f055020",
   "metadata": {},
   "outputs": [
    {
     "data": {
      "text/plain": [
       "[[0, 'a'], [1, 'a'], [4, 'a']]"
      ]
     },
     "execution_count": 75,
     "metadata": {},
     "output_type": "execute_result"
    }
   ],
   "source": [
    "[[i** 2] + [\"a\"] for i in range(3)]"
   ]
  },
  {
   "cell_type": "code",
   "execution_count": null,
   "id": "db786f63",
   "metadata": {},
   "outputs": [],
   "source": []
  },
  {
   "cell_type": "code",
   "execution_count": 73,
   "id": "a932b28b",
   "metadata": {},
   "outputs": [
    {
     "data": {
      "text/plain": [
       "[[0], [1], [2]]"
      ]
     },
     "execution_count": 73,
     "metadata": {},
     "output_type": "execute_result"
    }
   ],
   "source": [
    "bos = []\n",
    "for i in range(3):\n",
    "    bos.append([i])\n",
    "bos"
   ]
  },
  {
   "cell_type": "code",
   "execution_count": 79,
   "id": "e1d66376",
   "metadata": {},
   "outputs": [
    {
     "data": {
      "text/plain": [
       "['04', '05', '06', '14', '15', '16', '24', '25', '26']"
      ]
     },
     "execution_count": 79,
     "metadata": {},
     "output_type": "execute_result"
    }
   ],
   "source": [
    "boss = []\n",
    "for i in range(3):\n",
    "    for j in range(4, 7):\n",
    "        boss.append(str(i) + str(j))\n",
    "boss"
   ]
  },
  {
   "cell_type": "code",
   "execution_count": 80,
   "id": "52097ffd",
   "metadata": {},
   "outputs": [
    {
     "data": {
      "text/plain": [
       "['04', '05', '06', '14', '15', '16', '24', '25', '26']"
      ]
     },
     "execution_count": 80,
     "metadata": {},
     "output_type": "execute_result"
    }
   ],
   "source": [
    "[str(i)+str(j) for i in range(3) for j in range(4, 7)]"
   ]
  },
  {
   "cell_type": "code",
   "execution_count": 81,
   "id": "93ef18fc",
   "metadata": {},
   "outputs": [
    {
     "data": {
      "text/plain": [
       "{1, 2, 3}"
      ]
     },
     "execution_count": 81,
     "metadata": {},
     "output_type": "execute_result"
    }
   ],
   "source": [
    "num_set"
   ]
  },
  {
   "cell_type": "code",
   "execution_count": null,
   "id": "b09ce96c",
   "metadata": {},
   "outputs": [],
   "source": [
    "#solution = [[]]\n",
    "\n",
    "# solution - 1 = [[1], [2], [3]]\n",
    "\n",
    "\n",
    "# solution -2 = [[1, 2,], [1, 3], [2, 1], [2, 3], [3, 2], [3, 1]]\n",
    "\n",
    "#solution - 3 = [[1,2,3], [1, 3, 2], [2, 1, 3], [2, 3, 1], [3, 2, 1], [3, 1, 2] ]\n",
    "\n"
   ]
  },
  {
   "cell_type": "code",
   "execution_count": 82,
   "id": "15eb2dfd",
   "metadata": {},
   "outputs": [
    {
     "name": "stdout",
     "output_type": "stream",
     "text": [
      "[[1], [2], [3]]\n",
      "[[1, 2], [1, 3], [2, 1], [2, 3], [3, 1], [3, 2]]\n",
      "[[1, 2, 3], [1, 3, 2], [2, 1, 3], [2, 3, 1], [3, 1, 2], [3, 2, 1]]\n"
     ]
    }
   ],
   "source": [
    "for index in range(len(num)) :\n",
    "    solution = [i + [j] for i in solution for j in num_set.difference(set(i))]\n",
    "    print(solution)\n",
    "    "
   ]
  },
  {
   "cell_type": "code",
   "execution_count": null,
   "id": "dcfe852d",
   "metadata": {},
   "outputs": [],
   "source": []
  },
  {
   "cell_type": "code",
   "execution_count": null,
   "id": "f71729ab",
   "metadata": {},
   "outputs": [],
   "source": []
  },
  {
   "cell_type": "code",
   "execution_count": null,
   "id": "78edc6cd",
   "metadata": {},
   "outputs": [],
   "source": []
  },
  {
   "cell_type": "code",
   "execution_count": null,
   "id": "514b2f41",
   "metadata": {},
   "outputs": [],
   "source": []
  },
  {
   "cell_type": "code",
   "execution_count": null,
   "id": "430fed65",
   "metadata": {},
   "outputs": [],
   "source": []
  },
  {
   "cell_type": "code",
   "execution_count": null,
   "id": "030fef5d",
   "metadata": {},
   "outputs": [],
   "source": []
  },
  {
   "cell_type": "code",
   "execution_count": null,
   "id": "be2c1b8a",
   "metadata": {},
   "outputs": [],
   "source": []
  }
 ],
 "metadata": {
  "kernelspec": {
   "display_name": "Python 3 (ipykernel)",
   "language": "python",
   "name": "python3"
  },
  "language_info": {
   "codemirror_mode": {
    "name": "ipython",
    "version": 3
   },
   "file_extension": ".py",
   "mimetype": "text/x-python",
   "name": "python",
   "nbconvert_exporter": "python",
   "pygments_lexer": "ipython3",
   "version": "3.9.6"
  }
 },
 "nbformat": 4,
 "nbformat_minor": 5
}
