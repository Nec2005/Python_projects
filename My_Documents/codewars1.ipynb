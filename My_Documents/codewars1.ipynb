{
 "cells": [
  {
   "cell_type": "markdown",
   "source": [
    "Complete the square sum function so that it squares each number passed into it and then sums the results together.\r\n",
    "\r\n",
    "For example, for [1, 2, 2] it should return 9 because 1^2 + 2^2 + 2^2 = 9."
   ],
   "metadata": {}
  },
  {
   "cell_type": "code",
   "execution_count": 1,
   "source": [
    "def sum_square(list1):\r\n",
    "    sum1 = 0\r\n",
    "    for i in list1:\r\n",
    "        sum1 += i**2\r\n",
    "    return sum1\r\n",
    "\r\n",
    "\r\n"
   ],
   "outputs": [],
   "metadata": {}
  },
  {
   "cell_type": "code",
   "execution_count": 2,
   "source": [
    "sum_square([1,2,3])"
   ],
   "outputs": [
    {
     "output_type": "execute_result",
     "data": {
      "text/plain": [
       "14"
      ]
     },
     "metadata": {},
     "execution_count": 2
    }
   ],
   "metadata": {}
  },
  {
   "cell_type": "code",
   "execution_count": null,
   "source": [
    "def square_sum(numbers):\r\n",
    "    return sum(x * x for x in numbers) "
   ],
   "outputs": [],
   "metadata": {}
  },
  {
   "cell_type": "code",
   "execution_count": null,
   "source": [
    "def square_sum(numbers):\r\n",
    "    return sum(map(lambda x: x**2, numbers))"
   ],
   "outputs": [],
   "metadata": {}
  },
  {
   "cell_type": "code",
   "execution_count": 6,
   "source": [
    "def square_sum(numbers):\r\n",
    "    return sum([x**2 for x in numbers])"
   ],
   "outputs": [],
   "metadata": {}
  },
  {
   "cell_type": "code",
   "execution_count": 7,
   "source": [
    "square_sum([7,8,9,10])"
   ],
   "outputs": [
    {
     "output_type": "execute_result",
     "data": {
      "text/plain": [
       "294"
      ]
     },
     "metadata": {},
     "execution_count": 7
    }
   ],
   "metadata": {}
  },
  {
   "cell_type": "code",
   "execution_count": null,
   "source": [
    "def square_sum(numbers):\r\n",
    "    return sum(x ** 2 for x in numbers)\r\n"
   ],
   "outputs": [],
   "metadata": {}
  },
  {
   "cell_type": "markdown",
   "source": [
    "Given an array of integers, find the one that appears an odd number of times.\r\n",
    "\r\n",
    "There will always be only one integer that appears an odd number of times.\r\n",
    "\r\n",
    "find_it([20,1,-1,2,-2,3,3,5,5,1,2,4,20,4,-1,-2,5]), 5)\r\n",
    "\r\n",
    "(find_it([1,1,2,-2,5,2,4,4,-1,-2,5]), -1); \r\n",
    "\r\n",
    "(find_it([20,1,1,2,2,3,3,5,5,4,20,4,5]), 5);\r\n",
    "\r\n",
    "(find_it([10]), 10);"
   ],
   "metadata": {}
  },
  {
   "cell_type": "markdown",
   "source": [],
   "metadata": {}
  },
  {
   "cell_type": "code",
   "execution_count": 3,
   "source": [
    "def find_odds(seq): \r\n",
    "    odds = set() \r\n",
    "    for x in seq: \r\n",
    "        odds.symmetric_difference_update([x]) "
   ],
   "outputs": [],
   "metadata": {}
  },
  {
   "cell_type": "code",
   "execution_count": 4,
   "source": [
    "find_odds([20,1,1,2,2,3,3,5,5,4,20,4,5])"
   ],
   "outputs": [],
   "metadata": {}
  },
  {
   "cell_type": "code",
   "execution_count": 6,
   "source": [
    "def find_odd_occurring(alist):\r\n",
    "    \"\"\"Return the element that occurs odd number of times in alist.\r\n",
    " \r\n",
    "    alist is a list in which all elements except one element occurs an even\r\n",
    "    number of times.\r\n",
    "    \"\"\"\r\n",
    "    ans = 0\r\n",
    " \r\n",
    "    for element in alist:\r\n",
    "        ans ^= element\r\n",
    " \r\n",
    "    return ans\r\n",
    " \r\n",
    " \r\n",
    "alist = input('Enter the list: ').split()\r\n",
    "alist = [int(i) for i in alist]\r\n",
    "ans = find_odd_occurring(alist)\r\n",
    "print('The element that occurs odd number of times:', ans)"
   ],
   "outputs": [
    {
     "output_type": "stream",
     "name": "stdout",
     "text": [
      "The element that occurs odd number of times: 3\n"
     ]
    }
   ],
   "metadata": {}
  },
  {
   "cell_type": "code",
   "execution_count": 7,
   "source": [
    "find_odd_occurring([20,1,1,2,2,3,3,5,5,4,20,4,5])"
   ],
   "outputs": [
    {
     "output_type": "execute_result",
     "data": {
      "text/plain": [
       "5"
      ]
     },
     "metadata": {},
     "execution_count": 7
    }
   ],
   "metadata": {}
  },
  {
   "cell_type": "code",
   "execution_count": 11,
   "source": [
    "\r\n",
    "x= 5\r\n",
    "x ^= 10\r\n",
    "x"
   ],
   "outputs": [
    {
     "output_type": "execute_result",
     "data": {
      "text/plain": [
       "15"
      ]
     },
     "metadata": {},
     "execution_count": 11
    }
   ],
   "metadata": {}
  },
  {
   "cell_type": "code",
   "execution_count": null,
   "source": [],
   "outputs": [],
   "metadata": {}
  },
  {
   "cell_type": "code",
   "execution_count": null,
   "source": [
    "def find_it(seq):\r\n",
    "    for i in seq:\r\n",
    "        if seq.count(i)%2!=0:\r\n",
    "            return i"
   ],
   "outputs": [],
   "metadata": {}
  },
  {
   "cell_type": "code",
   "execution_count": null,
   "source": [
    "def find_it(seq):\r\n",
    "    nums = set()\r\n",
    "    for num in seq:\r\n",
    "        if num in nums:\r\n",
    "            nums.remove(num)\r\n",
    "        else:\r\n",
    "            nums.add(num)\r\n",
    "    return nums.pop()"
   ],
   "outputs": [],
   "metadata": {}
  },
  {
   "cell_type": "code",
   "execution_count": null,
   "source": [
    "def find_it(seq):\r\n",
    "    return [x for x in set(seq) if seq.count(x) % 2][0]"
   ],
   "outputs": [],
   "metadata": {}
  },
  {
   "cell_type": "code",
   "execution_count": null,
   "source": [
    "def find_it(seq):\r\n",
    "    return [x for x in seq if seq.count(x) % 2][0]"
   ],
   "outputs": [],
   "metadata": {}
  },
  {
   "cell_type": "code",
   "execution_count": 1,
   "source": [
    "txt = \"adana'da ye!\"\r\n",
    "\r\n",
    "for i in txt:\r\n",
    "    if i.isalnum():\r\n",
    "        pass\r\n",
    "    else:\r\n",
    "        i.replace(i, \"\" )\r\n",
    "\r\n",
    "print(txt)"
   ],
   "outputs": [
    {
     "output_type": "stream",
     "name": "stdout",
     "text": [
      "adana'da ye!\n"
     ]
    }
   ],
   "metadata": {}
  }
 ],
 "metadata": {
  "orig_nbformat": 4,
  "language_info": {
   "name": "python",
   "version": "3.9.6",
   "mimetype": "text/x-python",
   "codemirror_mode": {
    "name": "ipython",
    "version": 3
   },
   "pygments_lexer": "ipython3",
   "nbconvert_exporter": "python",
   "file_extension": ".py"
  },
  "kernelspec": {
   "name": "python3",
   "display_name": "Python 3.9.6 64-bit"
  },
  "interpreter": {
   "hash": "bf18297ba29ab59974e3cde921359bf4732846305eb0ebd212cf3897d725727a"
  }
 },
 "nbformat": 4,
 "nbformat_minor": 2
}