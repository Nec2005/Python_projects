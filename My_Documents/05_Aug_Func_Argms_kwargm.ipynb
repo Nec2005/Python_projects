{
 "cells": [
  {
   "cell_type": "code",
   "execution_count": 7,
   "id": "5b0c135f",
   "metadata": {},
   "outputs": [],
   "source": [
    "a = 'i'\n",
    "b = 'love' \n",
    "c = 'you'\n",
    "        \n"
   ]
  },
  {
   "cell_type": "code",
   "execution_count": 4,
   "id": "0c725775",
   "metadata": {},
   "outputs": [],
   "source": [
    "def texter(text1, text2, text3) :\n",
    "    print(text2, text3, text1)\n",
    "    "
   ]
  },
  {
   "cell_type": "code",
   "execution_count": 5,
   "id": "edad5c4f",
   "metadata": {},
   "outputs": [
    {
     "name": "stdout",
     "output_type": "stream",
     "text": [
      "i love you\n"
     ]
    }
   ],
   "source": [
    "texter(c, a, b)"
   ]
  },
  {
   "cell_type": "code",
   "execution_count": null,
   "id": "6640c43a",
   "metadata": {},
   "outputs": [],
   "source": [
    "def texter(text1, text2, text3) :\n",
    "    print(f\"{text2}, {text3}, {text1})"
   ]
  },
  {
   "cell_type": "code",
   "execution_count": 9,
   "id": "34718112",
   "metadata": {},
   "outputs": [
    {
     "name": "stdout",
     "output_type": "stream",
     "text": [
      "i love you\n"
     ]
    }
   ],
   "source": [
    "texter(text1 = 'you', text3 = 'love', text2 = 'i')"
   ]
  },
  {
   "cell_type": "code",
   "execution_count": null,
   "id": "c880f827",
   "metadata": {},
   "outputs": [],
   "source": [
    "def func(x = 'ali', y = 11):\n",
    "    body"
   ]
  },
  {
   "cell_type": "code",
   "execution_count": 10,
   "id": "6ebc28ba",
   "metadata": {},
   "outputs": [],
   "source": [
    "def parrot(voltage, state='a stiff', action='voom', type='Norwegian Blue'):\n",
    "    print(\"-- This parrot wouldn't\", action, end=' ')\n",
    "    print(\"if you put\", voltage, \"volts through it.\")\n",
    "    print(\"-- Lovely plumage, the\", type)\n",
    "    print(\"-- It's\", state, \"!\")"
   ]
  },
  {
   "cell_type": "code",
   "execution_count": 11,
   "id": "30cc6498",
   "metadata": {},
   "outputs": [
    {
     "name": "stdout",
     "output_type": "stream",
     "text": [
      "-- This parrot wouldn't voom if you put 1000 volts through it.\n",
      "-- Lovely plumage, the Norwegian Blue\n",
      "-- It's a stiff !\n"
     ]
    }
   ],
   "source": [
    "parrot(1000)"
   ]
  },
  {
   "cell_type": "code",
   "execution_count": 12,
   "id": "705fbfca",
   "metadata": {},
   "outputs": [
    {
     "name": "stdout",
     "output_type": "stream",
     "text": [
      "-- This parrot wouldn't VOOOOOM if you put 1000000 volts through it.\n",
      "-- Lovely plumage, the Norwegian Blue\n",
      "-- It's a stiff !\n"
     ]
    }
   ],
   "source": [
    "parrot(voltage=1000000, action='VOOOOOM')"
   ]
  },
  {
   "cell_type": "code",
   "execution_count": 13,
   "id": "0245a7e4",
   "metadata": {},
   "outputs": [
    {
     "name": "stdout",
     "output_type": "stream",
     "text": [
      "-- This parrot wouldn't VOOOOOM if you put 1000000 volts through it.\n",
      "-- Lovely plumage, the Norwegian Blue\n",
      "-- It's a stiff !\n"
     ]
    }
   ],
   "source": [
    "parrot(action='VOOOOOM', voltage=1000000 )"
   ]
  },
  {
   "cell_type": "code",
   "execution_count": 14,
   "id": "48a64409",
   "metadata": {},
   "outputs": [
    {
     "name": "stdout",
     "output_type": "stream",
     "text": [
      "-- This parrot wouldn't jump if you put a million volts through it.\n",
      "-- Lovely plumage, the Norwegian Blue\n",
      "-- It's bereft of life !\n"
     ]
    }
   ],
   "source": [
    "parrot(\"a million\", \"bereft of life\" , \"jump\")"
   ]
  },
  {
   "cell_type": "code",
   "execution_count": 15,
   "id": "02b29a9d",
   "metadata": {},
   "outputs": [
    {
     "name": "stdout",
     "output_type": "stream",
     "text": [
      "-- This parrot wouldn't voom if you put a thousand volts through it.\n",
      "-- Lovely plumage, the Norwegian Blue\n",
      "-- It's pushing up the daisies !\n"
     ]
    }
   ],
   "source": [
    "parrot('a thousand', state='pushing up the daisies')"
   ]
  },
  {
   "cell_type": "code",
   "execution_count": 16,
   "id": "61586e8c",
   "metadata": {},
   "outputs": [
    {
     "ename": "TypeError",
     "evalue": "parrot() missing 1 required positional argument: 'voltage'",
     "output_type": "error",
     "traceback": [
      "\u001b[1;31m---------------------------------------------------------------------------\u001b[0m",
      "\u001b[1;31mTypeError\u001b[0m                                 Traceback (most recent call last)",
      "\u001b[1;32m~\\AppData\\Local\\Temp/ipykernel_11540/100472207.py\u001b[0m in \u001b[0;36m<module>\u001b[1;34m\u001b[0m\n\u001b[1;32m----> 1\u001b[1;33m \u001b[0mparrot\u001b[0m\u001b[1;33m(\u001b[0m\u001b[1;33m)\u001b[0m\u001b[1;33m\u001b[0m\u001b[1;33m\u001b[0m\u001b[0m\n\u001b[0m",
      "\u001b[1;31mTypeError\u001b[0m: parrot() missing 1 required positional argument: 'voltage'"
     ]
    }
   ],
   "source": [
    "parrot()"
   ]
  },
  {
   "cell_type": "code",
   "execution_count": 17,
   "id": "e2d60e3c",
   "metadata": {},
   "outputs": [
    {
     "ename": "SyntaxError",
     "evalue": "positional argument follows keyword argument (Temp/ipykernel_11540/1735260538.py, line 1)",
     "output_type": "error",
     "traceback": [
      "\u001b[1;36m  File \u001b[1;32m\"C:\\Users\\a\\AppData\\Local\\Temp/ipykernel_11540/1735260538.py\"\u001b[1;36m, line \u001b[1;32m1\u001b[0m\n\u001b[1;33m    parrot(voltage = '5', 'dead')\u001b[0m\n\u001b[1;37m                                ^\u001b[0m\n\u001b[1;31mSyntaxError\u001b[0m\u001b[1;31m:\u001b[0m positional argument follows keyword argument\n"
     ]
    }
   ],
   "source": [
    "parrot(voltage = '5', 'dead')"
   ]
  },
  {
   "cell_type": "code",
   "execution_count": null,
   "id": "23790e99",
   "metadata": {},
   "outputs": [],
   "source": [
    "def argu(a, b = \"dunya\", c, d = \"saturn\"):\n",
    "    print(a, b, c, d, sep = \"\\n\" )"
   ]
  },
  {
   "cell_type": "code",
   "execution_count": 22,
   "id": "cf57fadd",
   "metadata": {},
   "outputs": [],
   "source": [
    "def argu(a, c, b = 'dunya', d = 'saturn'):\n",
    "    print(a, b, c, d, sep = '\\n')"
   ]
  },
  {
   "cell_type": "code",
   "execution_count": 20,
   "id": "c52c45cd",
   "metadata": {},
   "outputs": [
    {
     "ename": "TypeError",
     "evalue": "argu() missing 2 required positional arguments: 'a' and 'b'",
     "output_type": "error",
     "traceback": [
      "\u001b[1;31m---------------------------------------------------------------------------\u001b[0m",
      "\u001b[1;31mTypeError\u001b[0m                                 Traceback (most recent call last)",
      "\u001b[1;32m~\\AppData\\Local\\Temp/ipykernel_11540/2532134526.py\u001b[0m in \u001b[0;36m<module>\u001b[1;34m\u001b[0m\n\u001b[1;32m----> 1\u001b[1;33m \u001b[0margu\u001b[0m\u001b[1;33m(\u001b[0m\u001b[1;33m)\u001b[0m\u001b[1;33m\u001b[0m\u001b[1;33m\u001b[0m\u001b[0m\n\u001b[0m",
      "\u001b[1;31mTypeError\u001b[0m: argu() missing 2 required positional arguments: 'a' and 'b'"
     ]
    }
   ],
   "source": [
    "argu()\n"
   ]
  },
  {
   "cell_type": "code",
   "execution_count": 23,
   "id": "3c4f9061",
   "metadata": {},
   "outputs": [
    {
     "name": "stdout",
     "output_type": "stream",
     "text": [
      "uranus\n",
      "dunya\n",
      "jupiter\n",
      "saturn\n"
     ]
    }
   ],
   "source": [
    "argu('uranus', 'jupiter')"
   ]
  },
  {
   "cell_type": "code",
   "execution_count": 24,
   "id": "d0c80874",
   "metadata": {},
   "outputs": [
    {
     "name": "stdout",
     "output_type": "stream",
     "text": [
      "uranus\n",
      "dunya\n",
      "jupiter\n",
      "saturn\n"
     ]
    }
   ],
   "source": [
    "argu(a = 'uranus', c = 'jupiter')"
   ]
  },
  {
   "cell_type": "code",
   "execution_count": 25,
   "id": "ad44904f",
   "metadata": {},
   "outputs": [
    {
     "ename": "SyntaxError",
     "evalue": "positional argument follows keyword argument (Temp/ipykernel_11540/2175790497.py, line 1)",
     "output_type": "error",
     "traceback": [
      "\u001b[1;36m  File \u001b[1;32m\"C:\\Users\\a\\AppData\\Local\\Temp/ipykernel_11540/2175790497.py\"\u001b[1;36m, line \u001b[1;32m1\u001b[0m\n\u001b[1;33m    argu('pluto', c = 'venus', 'mars')\u001b[0m\n\u001b[1;37m                                     ^\u001b[0m\n\u001b[1;31mSyntaxError\u001b[0m\u001b[1;31m:\u001b[0m positional argument follows keyword argument\n"
     ]
    }
   ],
   "source": [
    "argu('pluto', c = 'venus', 'mars')"
   ]
  },
  {
   "cell_type": "code",
   "execution_count": null,
   "id": "4483fc96",
   "metadata": {},
   "outputs": [],
   "source": [
    "def argu(a, c, b = 'dunya', d = 'saturn'):\n",
    "    print(a, b, c, d, sep = '\\n')"
   ]
  },
  {
   "cell_type": "code",
   "execution_count": 26,
   "id": "84b3eb0b",
   "metadata": {},
   "outputs": [
    {
     "ename": "TypeError",
     "evalue": "argu() got multiple values for argument 'c'",
     "output_type": "error",
     "traceback": [
      "\u001b[1;31m---------------------------------------------------------------------------\u001b[0m",
      "\u001b[1;31mTypeError\u001b[0m                                 Traceback (most recent call last)",
      "\u001b[1;32m~\\AppData\\Local\\Temp/ipykernel_11540/2215635206.py\u001b[0m in \u001b[0;36m<module>\u001b[1;34m\u001b[0m\n\u001b[1;32m----> 1\u001b[1;33m \u001b[0margu\u001b[0m\u001b[1;33m(\u001b[0m\u001b[1;34m'pluto'\u001b[0m\u001b[1;33m,\u001b[0m \u001b[1;34m'mars'\u001b[0m\u001b[1;33m,\u001b[0m \u001b[0mc\u001b[0m \u001b[1;33m=\u001b[0m \u001b[1;34m'venus'\u001b[0m\u001b[1;33m,\u001b[0m \u001b[1;33m)\u001b[0m\u001b[1;33m\u001b[0m\u001b[1;33m\u001b[0m\u001b[0m\n\u001b[0m",
      "\u001b[1;31mTypeError\u001b[0m: argu() got multiple values for argument 'c'"
     ]
    }
   ],
   "source": [
    "argu('pluto', 'mars', c = 'venus', )"
   ]
  },
  {
   "cell_type": "code",
   "execution_count": 27,
   "id": "743d2d90",
   "metadata": {},
   "outputs": [
    {
     "name": "stdout",
     "output_type": "stream",
     "text": [
      "dunya\n",
      "venus\n",
      "pluto\n",
      "gunes\n"
     ]
    }
   ],
   "source": [
    "argu(d = 'gunes', a = 'dunya', c = 'pluto', b = 'venus')"
   ]
  },
  {
   "cell_type": "code",
   "execution_count": null,
   "id": "871a579b",
   "metadata": {},
   "outputs": [],
   "source": [
    "def argu(a, c, b = 'dunya', d = 'saturn'):\n",
    "    print(a, b, c, d, sep = '\\n')"
   ]
  },
  {
   "cell_type": "code",
   "execution_count": 28,
   "id": "aabd02b0",
   "metadata": {},
   "outputs": [
    {
     "name": "stdout",
     "output_type": "stream",
     "text": [
      "gunes\n",
      "pluto\n",
      "dunya\n",
      "venus\n"
     ]
    }
   ],
   "source": [
    "argu('gunes', 'dunya', 'pluto', 'venus')"
   ]
  },
  {
   "cell_type": "code",
   "execution_count": 29,
   "id": "12d543f7",
   "metadata": {},
   "outputs": [
    {
     "name": "stdout",
     "output_type": "stream",
     "text": [
      "dunya\n",
      "venus\n",
      "pluto\n",
      "gunes\n"
     ]
    }
   ],
   "source": [
    "argu('dunya', 'pluto', 'venus', 'gunes')"
   ]
  },
  {
   "cell_type": "code",
   "execution_count": 30,
   "id": "e4447b67",
   "metadata": {},
   "outputs": [
    {
     "name": "stdout",
     "output_type": "stream",
     "text": [
      "Athens in Europe\n",
      "Ulaanbaatar in Asia\n",
      "Cape Town in Africa\n"
     ]
    }
   ],
   "source": [
    "def city(capital, continent='Europe'):\n",
    "    print(capital, 'in', continent)\n",
    "\n",
    "city('Athens')  # we don't have to pass any arguments into 'continent'\n",
    "city('Ulaanbaatar', continent='Asia')  # we can change the default value by kwargs\n",
    "city('Cape Town', 'Africa')  # we can change the default value by positional args."
   ]
  },
  {
   "cell_type": "markdown",
   "id": "a9a97aed",
   "metadata": {},
   "source": [
    "def name(*parameter)\n",
    "\n",
    "    name(multiple args)\n",
    "    \n",
    "def name(**parameter)\n",
    "\n",
    "    name(multiple kwargs)"
   ]
  },
  {
   "cell_type": "code",
   "execution_count": 40,
   "id": "82c67e1a",
   "metadata": {},
   "outputs": [
    {
     "name": "stdout",
     "output_type": "stream",
     "text": [
      "[2, 4, 6, 8, 10]\n",
      "[1, 3, 5, 7, 9]\n"
     ]
    }
   ],
   "source": [
    "def slicer(*args):\n",
    "    even_list = []\n",
    "    odd_list = []\n",
    "    for i in args:\n",
    "        if i%2 == 0:\n",
    "            even_list.append(i)\n",
    "        else:\n",
    "            odd_list.append(i)\n",
    "    print(even_list)\n",
    "    print(odd_list)\n",
    "            \n",
    "slicer(1,2,3,4,5,6,7,8,9,10)"
   ]
  },
  {
   "cell_type": "code",
   "execution_count": 37,
   "id": "5236558c",
   "metadata": {},
   "outputs": [],
   "source": [
    "def slicer(* num):\n",
    "    evens = []\n",
    "    odds = []\n",
    "    \n",
    "    for i in num:\n",
    "        if i % 2 == 0 :\n",
    "            evens.append(i)\n",
    "        else:\n",
    "            odds.append(i)\n",
    "    print('even list:', evens)\n",
    "    print('odd list:', odds)"
   ]
  },
  {
   "cell_type": "code",
   "execution_count": 39,
   "id": "28a62768",
   "metadata": {},
   "outputs": [
    {
     "name": "stdout",
     "output_type": "stream",
     "text": [
      "even list: [2, 4, 6, 8]\n",
      "odd list: [1, 3, 5, 7, 9]\n"
     ]
    }
   ],
   "source": [
    "slicer(1,2,3,4,5,6,7,8,9)"
   ]
  },
  {
   "cell_type": "code",
   "execution_count": 41,
   "id": "760ae0b6",
   "metadata": {},
   "outputs": [],
   "source": [
    "test = dict(isim = 'ahmet', soyisim = 'mehmet')"
   ]
  },
  {
   "cell_type": "code",
   "execution_count": 42,
   "id": "776b0c2a",
   "metadata": {},
   "outputs": [
    {
     "data": {
      "text/plain": [
       "{'isim': 'ahmet', 'soyisim': 'mehmet'}"
      ]
     },
     "execution_count": 42,
     "metadata": {},
     "output_type": "execute_result"
    }
   ],
   "source": [
    "test"
   ]
  },
  {
   "cell_type": "code",
   "execution_count": 44,
   "id": "b3c69b7b",
   "metadata": {},
   "outputs": [
    {
     "name": "stdout",
     "output_type": "stream",
     "text": [
      "Lions are Carnivores\n",
      "Bears are Omnivores\n",
      "Deers are Herbivores\n",
      "Human are Nomnivores\n"
     ]
    }
   ],
   "source": [
    "def animals(**kwargs):\n",
    "    for key, value in kwargs.items():\n",
    "        print(value, \"are\", key)\n",
    " \n",
    "animals(Carnivores=\"Lions\", Omnivores=\"Bears\", Herbivores=\"Deers\", Nomnivores=\"Human\")"
   ]
  },
  {
   "cell_type": "code",
   "execution_count": 56,
   "id": "22d956e7",
   "metadata": {},
   "outputs": [],
   "source": [
    "\n",
    "\n",
    "def organizer(**kwargs):\n",
    "    for keys, values in kwargs.items():\n",
    "        print(list(kwargs.keys()))\n",
    "        print(list(kwargs.values()))\n",
    "        break"
   ]
  },
  {
   "cell_type": "code",
   "execution_count": 57,
   "id": "c9080a9d",
   "metadata": {},
   "outputs": [
    {
     "name": "stdout",
     "output_type": "stream",
     "text": [
      "['Beth', 'Oscar', 'Justin', 'Frank']\n",
      "[26, 42, 18, 33]\n"
     ]
    }
   ],
   "source": [
    "organizer(Beth = 26, Oscar = 42, Justin=18, Frank=33)"
   ]
  },
  {
   "cell_type": "code",
   "execution_count": 62,
   "id": "a1fa1472",
   "metadata": {},
   "outputs": [],
   "source": [
    "def organizer(** people):\n",
    "    names = []\n",
    "    ages = []\n",
    "    for key, value in people.items():\n",
    "        names.append(key)\n",
    "        ages.append(value)\n",
    "    print(names, '\\n', ages)"
   ]
  },
  {
   "cell_type": "code",
   "execution_count": 63,
   "id": "37d18525",
   "metadata": {},
   "outputs": [
    {
     "name": "stdout",
     "output_type": "stream",
     "text": [
      "['Beth', 'Oscar', 'Justin', 'Frank'] \n",
      " [26, 42, 18, 33]\n"
     ]
    }
   ],
   "source": [
    "organizer(Beth = 26, Oscar = 42, Justin=18, Frank=33)"
   ]
  },
  {
   "cell_type": "code",
   "execution_count": null,
   "id": "b60d9cad",
   "metadata": {},
   "outputs": [],
   "source": []
  }
 ],
 "metadata": {
  "kernelspec": {
   "display_name": "Python 3 (ipykernel)",
   "language": "python",
   "name": "python3"
  },
  "language_info": {
   "codemirror_mode": {
    "name": "ipython",
    "version": 3
   },
   "file_extension": ".py",
   "mimetype": "text/x-python",
   "name": "python",
   "nbconvert_exporter": "python",
   "pygments_lexer": "ipython3",
   "version": "3.9.6"
  }
 },
 "nbformat": 4,
 "nbformat_minor": 5
}
