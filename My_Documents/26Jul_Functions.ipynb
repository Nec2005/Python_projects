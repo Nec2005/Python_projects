{
 "cells": [
  {
   "cell_type": "code",
   "execution_count": null,
   "id": "4f586387",
   "metadata": {},
   "outputs": [],
   "source": [
    "print('Say:I love you!')\n",
    "print()\n",
    "print()"
   ]
  },
  {
   "cell_type": "code",
   "execution_count": null,
   "id": "dbed8b82",
   "metadata": {},
   "outputs": [],
   "source": [
    "all() #Return True if all elements of the iterable are true (or if the iterable is empty)."
   ]
  },
  {
   "cell_type": "code",
   "execution_count": 2,
   "id": "56fd88b0",
   "metadata": {},
   "outputs": [
    {
     "name": "stdout",
     "output_type": "stream",
     "text": [
      "True\n",
      "False\n",
      "True\n"
     ]
    }
   ],
   "source": [
    "names = ['names', 'tom']\n",
    "mood = ['happy', 0]\n",
    "empty = {}\n",
    "print(all(names), all(mood), all(empty), sep= '\\n')"
   ]
  },
  {
   "cell_type": "code",
   "execution_count": null,
   "id": "66c00b7a",
   "metadata": {},
   "outputs": [],
   "source": [
    "any() #Return True if any element of the iterable is true. If the iterable is empty, return False."
   ]
  },
  {
   "cell_type": "code",
   "execution_count": 9,
   "id": "caaad2db",
   "metadata": {},
   "outputs": [
    {
     "name": "stdout",
     "output_type": "stream",
     "text": [
      "False\n",
      "True\n",
      "True\n",
      "False\n"
     ]
    }
   ],
   "source": [
    "mylist = [False, 0, False]\n",
    "listA= ['Susan', 'Tom', False, 0, '0']\n",
    "list2 = ['aLI', 'Veli']\n",
    "list3={}\n",
    "\n",
    "print(any(mylist), any(listA), any(list2), any(list3), sep= '\\n')"
   ]
  },
  {
   "cell_type": "code",
   "execution_count": null,
   "id": "a5716d09",
   "metadata": {},
   "outputs": [],
   "source": []
  },
  {
   "cell_type": "code",
   "execution_count": null,
   "id": "25a06cee",
   "metadata": {},
   "outputs": [],
   "source": []
  },
  {
   "cell_type": "code",
   "execution_count": null,
   "id": "4c76dac5",
   "metadata": {},
   "outputs": [],
   "source": [
    "filter() #filter(function or None, iterable) --> filter object\n",
    "\n",
    "# Return an iterator yielding those items of iterable for which function(item)\n",
    "# is true. If function is None, return the items that are true."
   ]
  },
  {
   "cell_type": "code",
   "execution_count": 3,
   "id": "e187c9ef",
   "metadata": {},
   "outputs": [],
   "source": [
    "listA= ['Susan', 'Tom', False, 0, '0']\n",
    "\n",
    "havadaki_object = filter(None, listA) # sadece True tyleri listeler"
   ]
  },
  {
   "cell_type": "code",
   "execution_count": 4,
   "id": "ab22407b",
   "metadata": {},
   "outputs": [
    {
     "data": {
      "text/plain": [
       "<filter at 0x18cb78dbd00>"
      ]
     },
     "execution_count": 4,
     "metadata": {},
     "output_type": "execute_result"
    }
   ],
   "source": [
    "havadaki_object"
   ]
  },
  {
   "cell_type": "code",
   "execution_count": 5,
   "id": "1969bee6",
   "metadata": {},
   "outputs": [
    {
     "name": "stdout",
     "output_type": "stream",
     "text": [
      "Susan\n",
      "Tom\n",
      "0\n"
     ]
    }
   ],
   "source": [
    "for i in havadaki_object : # sadece truetylrei listeliyor\n",
    "    print(i)"
   ]
  },
  {
   "cell_type": "code",
   "execution_count": 11,
   "id": "c4003762",
   "metadata": {},
   "outputs": [
    {
     "data": {
      "text/plain": [
       "<filter at 0x18cb7d45850>"
      ]
     },
     "execution_count": 11,
     "metadata": {},
     "output_type": "execute_result"
    }
   ],
   "source": [
    "ages = [5, 12, 17, 18, 24, 32]\n",
    "\n",
    "def myFunc(x):\n",
    "  if x < 18:\n",
    "    return False\n",
    "  else:\n",
    "    return True\n",
    "\n",
    "adults = filter(myFunc, ages)\n",
    "adults\n"
   ]
  },
  {
   "cell_type": "code",
   "execution_count": 12,
   "id": "d09ead74",
   "metadata": {},
   "outputs": [
    {
     "name": "stdout",
     "output_type": "stream",
     "text": [
      "18\n",
      "24\n",
      "32\n"
     ]
    }
   ],
   "source": [
    "for x in adults:\n",
    "  print(x)"
   ]
  },
  {
   "cell_type": "code",
   "execution_count": null,
   "id": "987b2699",
   "metadata": {},
   "outputs": [],
   "source": []
  },
  {
   "cell_type": "code",
   "execution_count": null,
   "id": "9e2bb6d9",
   "metadata": {},
   "outputs": [],
   "source": []
  }
 ],
 "metadata": {
  "kernelspec": {
   "display_name": "Python 3 (ipykernel)",
   "language": "python",
   "name": "python3"
  },
  "language_info": {
   "codemirror_mode": {
    "name": "ipython",
    "version": 3
   },
   "file_extension": ".py",
   "mimetype": "text/x-python",
   "name": "python",
   "nbconvert_exporter": "python",
   "pygments_lexer": "ipython3",
   "version": "3.9.6"
  }
 },
 "nbformat": 4,
 "nbformat_minor": 5
}
