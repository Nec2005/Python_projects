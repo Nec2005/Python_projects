{
 "cells": [
  {
   "cell_type": "code",
   "execution_count": null,
   "id": "09fb4bf4",
   "metadata": {},
   "outputs": [],
   "source": [
    "# filter(function, iterable)"
   ]
  },
  {
   "cell_type": "code",
   "execution_count": null,
   "id": "ce9dd13f",
   "metadata": {},
   "outputs": [],
   "source": [
    "enumerate"
   ]
  },
  {
   "cell_type": "code",
   "execution_count": 3,
   "id": "140c709e",
   "metadata": {},
   "outputs": [
    {
     "name": "stdout",
     "output_type": "stream",
     "text": [
      "[(0, 'bread'), (1, 'water'), (2, 'olive')]\n"
     ]
    }
   ],
   "source": [
    "grocery = ['bread', 'water', 'olive']\n",
    "enum_grocery = enumerate(grocery)\n",
    "\n",
    "print(list(enum_grocery))"
   ]
  },
  {
   "cell_type": "code",
   "execution_count": null,
   "id": "0903250d",
   "metadata": {},
   "outputs": [],
   "source": [
    "enum_grocery = enumerate(grocery)"
   ]
  },
  {
   "cell_type": "code",
   "execution_count": 4,
   "id": "3a90adc6",
   "metadata": {},
   "outputs": [
    {
     "data": {
      "text/plain": [
       "-222"
      ]
     },
     "execution_count": 4,
     "metadata": {},
     "output_type": "execute_result"
    }
   ],
   "source": [
    "min([-222, 0, 16])"
   ]
  },
  {
   "cell_type": "code",
   "execution_count": 6,
   "id": "3f063fb9",
   "metadata": {},
   "outputs": [],
   "source": [
    "numbers = [2.5, 30, -15]"
   ]
  },
  {
   "cell_type": "code",
   "execution_count": 8,
   "id": "e5ec7e39",
   "metadata": {},
   "outputs": [
    {
     "data": {
      "text/plain": [
       "17.5"
      ]
     },
     "execution_count": 8,
     "metadata": {},
     "output_type": "execute_result"
    }
   ],
   "source": [
    "numbers_sum = sum(numbers)\n",
    "numbers_sum"
   ]
  },
  {
   "cell_type": "code",
   "execution_count": null,
   "id": "f5f12e9f",
   "metadata": {},
   "outputs": [],
   "source": [
    "sum()"
   ]
  },
  {
   "cell_type": "code",
   "execution_count": 10,
   "id": "a2556384",
   "metadata": {},
   "outputs": [
    {
     "data": {
      "text/plain": [
       "37.5"
      ]
     },
     "execution_count": 10,
     "metadata": {},
     "output_type": "execute_result"
    }
   ],
   "source": [
    "numbers_sum = sum(numbers, 20)\n",
    "numbers_sum"
   ]
  },
  {
   "cell_type": "code",
   "execution_count": 12,
   "id": "b9bb6c72",
   "metadata": {},
   "outputs": [
    {
     "data": {
      "text/plain": [
       "3.67"
      ]
     },
     "execution_count": 12,
     "metadata": {},
     "output_type": "execute_result"
    }
   ],
   "source": [
    "round(3.675, 2)"
   ]
  },
  {
   "cell_type": "code",
   "execution_count": 13,
   "id": "1c560e59",
   "metadata": {},
   "outputs": [
    {
     "data": {
      "text/plain": [
       "3.67"
      ]
     },
     "execution_count": 13,
     "metadata": {},
     "output_type": "execute_result"
    }
   ],
   "source": [
    "round(3.665, 2)"
   ]
  },
  {
   "cell_type": "code",
   "execution_count": 16,
   "id": "935d247e",
   "metadata": {},
   "outputs": [
    {
     "name": "stdout",
     "output_type": "stream",
     "text": [
      "15\n",
      "-2.5\n",
      "amazing amazing amazing \n"
     ]
    }
   ],
   "source": [
    "def multiply(a, b):\n",
    "    print(a*b)\n",
    "    \n",
    "multiply(3, 5)\n",
    "multiply(-1, 2.5)\n",
    "multiply('amazing ', 3)"
   ]
  },
  {
   "cell_type": "code",
   "execution_count": null,
   "id": "4df42978",
   "metadata": {},
   "outputs": [],
   "source": [
    "def motto():\n",
    "    print(\"Don't hesitate to reinvent yourself\")"
   ]
  },
  {
   "cell_type": "code",
   "execution_count": 20,
   "id": "01bec6cd",
   "metadata": {},
   "outputs": [],
   "source": [
    "def mevlana():\n",
    "    print(\" Cömertlik ve yardım etme gibi ol Şefkat ve merhamette güneş \\\n",
    "Başkalarının kusurunu örtmede gece gibi ol.\\\n",
    "Hiddet ve asabivette ölü gibi ol.\\\n",
    "Tevazu ve alçak gönüllülükte toprak gibi ol.\\\n",
    "Hoşgörülükte deniz gibi ol.\\\n",
    "Ya olduğun gibi görün, ya göründuğün gibi ol.\")"
   ]
  },
  {
   "cell_type": "code",
   "execution_count": 21,
   "id": "1b803163",
   "metadata": {},
   "outputs": [
    {
     "name": "stdout",
     "output_type": "stream",
     "text": [
      " Cömertlik ve yardım etme gibi ol Şefkat ve merhamette güneş Başkalarının kusurunu örtmede gece gibi ol.Hiddet ve asabivette ölü gibi ol.Tevazu ve alçak gönüllülükte toprak gibi ol.Hoşgörülükte deniz gibi ol.Ya olduğun gibi görün, ya göründiiğün gibi ol.\n"
     ]
    }
   ],
   "source": [
    "mevlana()"
   ]
  },
  {
   "cell_type": "code",
   "execution_count": 18,
   "id": "1b4c9e85",
   "metadata": {},
   "outputs": [],
   "source": [
    "def add(a, b):\n",
    "    print(a + b)"
   ]
  },
  {
   "cell_type": "code",
   "execution_count": 19,
   "id": "a7c9ade6",
   "metadata": {},
   "outputs": [
    {
     "name": "stdout",
     "output_type": "stream",
     "text": [
      "2\n"
     ]
    }
   ],
   "source": [
    "add(-3,5)"
   ]
  },
  {
   "cell_type": "code",
   "execution_count": 28,
   "id": "c92e5f38",
   "metadata": {},
   "outputs": [],
   "source": [
    "def calculator(x, y, z):\n",
    "    if z == '+' :\n",
    "        print(x + y) \n",
    "    elif z == '-':\n",
    "        print(x - y)\n",
    "    elif z == '*':\n",
    "        print(x * y)\n",
    "    elif z == '/':\n",
    "        print(x / y)\n",
    "    else :\n",
    "        print(\"Enter a valid opr.\")"
   ]
  },
  {
   "cell_type": "code",
   "execution_count": 29,
   "id": "ce90c1de",
   "metadata": {},
   "outputs": [
    {
     "name": "stdout",
     "output_type": "stream",
     "text": [
      "18\n"
     ]
    }
   ],
   "source": [
    "calculator(3, 6, '*')"
   ]
  },
  {
   "cell_type": "code",
   "execution_count": 30,
   "id": "317ebc08",
   "metadata": {},
   "outputs": [
    {
     "name": "stdout",
     "output_type": "stream",
     "text": [
      "50\n"
     ]
    }
   ],
   "source": [
    "def multiply_2(a, b):\n",
    "    return(a * b)\n",
    "\n",
    "print(multiply_2(10, 5))"
   ]
  },
  {
   "cell_type": "code",
   "execution_count": 32,
   "id": "fed8a570",
   "metadata": {},
   "outputs": [
    {
     "name": "stdout",
     "output_type": "stream",
     "text": [
      "<class 'int'>\n"
     ]
    }
   ],
   "source": [
    "print(type(multiply_2(10, 5)))"
   ]
  },
  {
   "cell_type": "code",
   "execution_count": 34,
   "id": "52604186",
   "metadata": {},
   "outputs": [
    {
     "name": "stdout",
     "output_type": "stream",
     "text": [
      "\n"
     ]
    },
    {
     "data": {
      "text/plain": [
       "NoneType"
      ]
     },
     "execution_count": 34,
     "metadata": {},
     "output_type": "execute_result"
    }
   ],
   "source": [
    "type(print())"
   ]
  },
  {
   "cell_type": "code",
   "execution_count": 35,
   "id": "09e2f345",
   "metadata": {},
   "outputs": [],
   "source": [
    "def calculator_2 (x, y, z):\n",
    "    if z == '+' :\n",
    "        return (x + y) \n",
    "    elif z == '-':\n",
    "        return (x - y)\n",
    "    elif z == '*':\n",
    "        return (x * y)\n",
    "    elif z == '/':\n",
    "        return (x / y)\n",
    "    else :return \"Enter a valid opr.\""
   ]
  },
  {
   "cell_type": "code",
   "execution_count": 37,
   "id": "2412e79d",
   "metadata": {},
   "outputs": [
    {
     "name": "stdout",
     "output_type": "stream",
     "text": [
      "11\n"
     ]
    }
   ],
   "source": [
    "print(calculator_2(9, 2, '+'))"
   ]
  },
  {
   "cell_type": "code",
   "execution_count": 38,
   "id": "c7465b5d",
   "metadata": {},
   "outputs": [
    {
     "name": "stdout",
     "output_type": "stream",
     "text": [
      "Enter a valid opr.\n"
     ]
    }
   ],
   "source": [
    "print(calculator_2(9, 2, '&'))"
   ]
  },
  {
   "cell_type": "code",
   "execution_count": 41,
   "id": "17e0faae",
   "metadata": {},
   "outputs": [],
   "source": [
    "def absolute_value(num) :\n",
    "    \"\"\"This function  gives absolute value \n",
    "of the entered number\"\"\"\n",
    "    \n",
    "    if num < 0:\n",
    "        return -num\n",
    "    else:\n",
    "        return num"
   ]
  },
  {
   "cell_type": "code",
   "execution_count": 40,
   "id": "9b0bc8a4",
   "metadata": {},
   "outputs": [
    {
     "data": {
      "text/plain": [
       "22"
      ]
     },
     "execution_count": 40,
     "metadata": {},
     "output_type": "execute_result"
    }
   ],
   "source": [
    "absolute_value(-22)"
   ]
  },
  {
   "cell_type": "code",
   "execution_count": 42,
   "id": "f07d254f",
   "metadata": {},
   "outputs": [
    {
     "name": "stdout",
     "output_type": "stream",
     "text": [
      "This function  gives absolute value \n",
      "    of the entered number\n"
     ]
    }
   ],
   "source": [
    "print(absolute_value.__doc__)"
   ]
  },
  {
   "cell_type": "code",
   "execution_count": 43,
   "id": "9a2481d8",
   "metadata": {},
   "outputs": [
    {
     "name": "stdout",
     "output_type": "stream",
     "text": [
      "print(value, ..., sep=' ', end='\\n', file=sys.stdout, flush=False)\n",
      "\n",
      "Prints the values to a stream, or to sys.stdout by default.\n",
      "Optional keyword arguments:\n",
      "file:  a file-like object (stream); defaults to the current sys.stdout.\n",
      "sep:   string inserted between values, default a space.\n",
      "end:   string appended after the last value, default a newline.\n",
      "flush: whether to forcibly flush the stream.\n"
     ]
    }
   ],
   "source": [
    "print(print.__doc__)"
   ]
  },
  {
   "cell_type": "code",
   "execution_count": 44,
   "id": "594715ae",
   "metadata": {},
   "outputs": [
    {
     "name": "stdout",
     "output_type": "stream",
     "text": [
      "Return the absolute value of the argument.\n"
     ]
    }
   ],
   "source": [
    "print(abs.__doc__)\n"
   ]
  },
  {
   "cell_type": "code",
   "execution_count": null,
   "id": "11c4daf4",
   "metadata": {},
   "outputs": [],
   "source": []
  },
  {
   "cell_type": "code",
   "execution_count": null,
   "id": "95b829f9",
   "metadata": {},
   "outputs": [],
   "source": []
  },
  {
   "cell_type": "code",
   "execution_count": null,
   "id": "1e0b472d",
   "metadata": {},
   "outputs": [],
   "source": []
  },
  {
   "cell_type": "code",
   "execution_count": null,
   "id": "101bd010",
   "metadata": {},
   "outputs": [],
   "source": []
  },
  {
   "cell_type": "code",
   "execution_count": null,
   "id": "93fd14cf",
   "metadata": {},
   "outputs": [],
   "source": []
  },
  {
   "cell_type": "code",
   "execution_count": null,
   "id": "5cdc020e",
   "metadata": {},
   "outputs": [],
   "source": []
  }
 ],
 "metadata": {
  "kernelspec": {
   "display_name": "Python 3 (ipykernel)",
   "language": "python",
   "name": "python3"
  },
  "language_info": {
   "codemirror_mode": {
    "name": "ipython",
    "version": 3
   },
   "file_extension": ".py",
   "mimetype": "text/x-python",
   "name": "python",
   "nbconvert_exporter": "python",
   "pygments_lexer": "ipython3",
   "version": "3.9.6"
  }
 },
 "nbformat": 4,
 "nbformat_minor": 5
}
