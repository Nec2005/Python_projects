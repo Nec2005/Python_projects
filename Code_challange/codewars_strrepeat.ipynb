{
 "cells": [
  {
   "cell_type": "markdown",
   "source": [
    "Write a function called repeatStr which repeats the given string string exactly n times.\r\n",
    "\r\n",
    "repeatStr(6, \"I\") // \"IIIIII\"\r\n",
    "\r\n",
    "repeatStr(5, \"Hello\") // \"HelloHelloHelloHelloHello\""
   ],
   "metadata": {}
  },
  {
   "cell_type": "code",
   "execution_count": 1,
   "source": [
    "def repeat_str(repeat, string):\r\n",
    "     return repeat * string"
   ],
   "outputs": [],
   "metadata": {}
  },
  {
   "cell_type": "code",
   "execution_count": 2,
   "source": [
    "repeat_str(5, 'love')"
   ],
   "outputs": [
    {
     "output_type": "execute_result",
     "data": {
      "text/plain": [
       "'lovelovelovelovelove'"
      ]
     },
     "metadata": {},
     "execution_count": 2
    }
   ],
   "metadata": {}
  }
 ],
 "metadata": {
  "orig_nbformat": 4,
  "language_info": {
   "name": "python",
   "version": "3.9.6",
   "mimetype": "text/x-python",
   "codemirror_mode": {
    "name": "ipython",
    "version": 3
   },
   "pygments_lexer": "ipython3",
   "nbconvert_exporter": "python",
   "file_extension": ".py"
  },
  "kernelspec": {
   "name": "python3",
   "display_name": "Python 3.9.6 64-bit"
  },
  "interpreter": {
   "hash": "bf18297ba29ab59974e3cde921359bf4732846305eb0ebd212cf3897d725727a"
  }
 },
 "nbformat": 4,
 "nbformat_minor": 2
}