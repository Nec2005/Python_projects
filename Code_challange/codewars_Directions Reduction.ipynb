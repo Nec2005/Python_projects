{
 "cells": [
  {
   "cell_type": "markdown",
   "source": [
    "Other examples:\r\n",
    "In [\"NORTH\", \"SOUTH\", \"EAST\", \"WEST\"], the direction \"NORTH\" + \"SOUTH\" is going north and coming back right away.\r\n",
    "\r\n",
    "The path becomes [\"EAST\", \"WEST\"], now \"EAST\" and \"WEST\" annihilate each other, therefore, the final result is [] (nil in Clojure).\r\n",
    "\r\n",
    "In [\"NORTH\", \"EAST\", \"WEST\", \"SOUTH\", \"WEST\", \"WEST\"], \"NORTH\" and \"SOUTH\" are not directly opposite but they become directly opposite after the reduction of \"EAST\" and \"WEST\" so the whole path is reducible to [\"WEST\", \"WEST\"].\r\n",
    "\r\n",
    "Task\r\n",
    "Write a function dirReduc which will take an array of strings and returns an array of strings with the needless directions removed (W<->E or S<->N side by side).\r\n",
    "\r\n",
    "The Haskell version takes a list of directions with data Direction = North | East | West | South.\r\n",
    "The Clojure version returns nil when the path is reduced to nothing.\r\n",
    "The Rust version takes a slice of enum Direction {North, East, West, South}.\r\n",
    "See more examples in \"Sample Tests:\"\r\n",
    "Notes\r\n",
    "Not all paths can be made simpler. The path [\"NORTH\", \"WEST\", \"SOUTH\", \"EAST\"] is not reducible. \"NORTH\" and \"WEST\", \"WEST\" and \"SOUTH\", \"SOUTH\" and \"EAST\" are not directly opposite of each other and can't become such. Hence the result path is itself : [\"NORTH\", \"WEST\", \"SOUTH\", \"EAST\"]."
   ],
   "metadata": {}
  },
  {
   "cell_type": "code",
   "execution_count": 37,
   "source": [
    "list1 = ['North', 'South', 'South', 'East', 'West', 'North', 'West']\r\n",
    "new = list(map(lambda x : x.lower(), list1))\r\n",
    "if new.index('north') + 1 == new.index('south'):\r\n",
    "    new.pop(new.index('north'))\r\n",
    "    new.pop(new.index('south'))\r\n",
    "if new.index('south') + 1 == new.index('north'):\r\n",
    "    new.pop(new.index('south'))\r\n",
    "    new.pop(new.index('north'))\r\n",
    "if new.index('west') + 1 == new.index('east'):\r\n",
    "    new.pop(new.index('west'))\r\n",
    "    new.pop(new.index('east'))\r\n",
    "if new.index('east') + 1 == new.index('west'):\r\n",
    "    new.pop(new.index('east'))\r\n",
    "    new.pop(new.index('west'))\r\n",
    "\r\n",
    "new"
   ],
   "outputs": [
    {
     "output_type": "execute_result",
     "data": {
      "text/plain": [
       "['south', 'north', 'west']"
      ]
     },
     "metadata": {},
     "execution_count": 37
    }
   ],
   "metadata": {}
  },
  {
   "cell_type": "code",
   "execution_count": 50,
   "source": [
    "def dirReduc(arr):\r\n",
    "    new = list(map(lambda x : x.lower(), arr))\r\n",
    "    directions = ['north', 'south', 'west', 'east']\r\n",
    "    if new.index('north') + 1 == new.index('south'):\r\n",
    "        new.pop(new.index('north'))\r\n",
    "        new.pop(new.index('south'))\r\n",
    "    if new.index('south') + 1 == new.index('north'):\r\n",
    "        new.pop(new.index('south'))\r\n",
    "        new.pop(new.index('north'))\r\n",
    "    if new.index('west') + 1 == new.index('east'):\r\n",
    "        new.pop(new.index('west'))\r\n",
    "        new.pop(new.index('east'))\r\n",
    "    if new.index('east') + 1 == new.index('west'):\r\n",
    "        new.pop(new.index('east'))\r\n",
    "        new.pop(new.index('west'))\r\n",
    "    \r\n",
    "    for i in new :\r\n",
    "        if i in ['north', 'south', 'west', 'east']:\r\n",
    "            return dirReduc(new)\r\n",
    "        \r\n",
    "        else:\r\n",
    "            return new\r\n",
    "\r\n"
   ],
   "outputs": [],
   "metadata": {}
  },
  {
   "cell_type": "code",
   "execution_count": null,
   "source": [
    "arr = [\"NORTH\", \"EAST\", \"WEST\", \"SOUTH\", \"WEST\", \"WEST\"]\r\n",
    "\r\n",
    "dirReduc(arr)\r\n"
   ],
   "outputs": [
    {
     "output_type": "error",
     "ename": "Error",
     "evalue": "Session cannot generate requests",
     "traceback": [
      "Error: Session cannot generate requests",
      "at w.executeCodeCell (c:\\Users\\a\\.vscode\\extensions\\ms-toolsai.jupyter-2021.8.1236758218\\out\\client\\extension.js:90:327199)",
      "at w.execute (c:\\Users\\a\\.vscode\\extensions\\ms-toolsai.jupyter-2021.8.1236758218\\out\\client\\extension.js:90:326520)",
      "at w.start (c:\\Users\\a\\.vscode\\extensions\\ms-toolsai.jupyter-2021.8.1236758218\\out\\client\\extension.js:90:322336)",
      "at runMicrotasks (<anonymous>)",
      "at processTicksAndRejections (internal/process/task_queues.js:93:5)",
      "at t.CellExecutionQueue.executeQueuedCells (c:\\Users\\a\\.vscode\\extensions\\ms-toolsai.jupyter-2021.8.1236758218\\out\\client\\extension.js:90:336863)",
      "at t.CellExecutionQueue.start (c:\\Users\\a\\.vscode\\extensions\\ms-toolsai.jupyter-2021.8.1236758218\\out\\client\\extension.js:90:336403)"
     ]
    }
   ],
   "metadata": {}
  },
  {
   "cell_type": "code",
   "execution_count": null,
   "source": [
    "def dirReduc(arr):\r\n",
    "    new = list(map(lambda x : x.lower(), arr))\r\n",
    "    directions = ['north', 'south', 'west', 'east']\r\n",
    "    for i in new:\r\n",
    "        \r\n",
    "            if i == 'north':\r\n",
    "                 \r\n",
    "                if new.index('north') + 1 == new.index('south'):\r\n",
    "                    new.pop(new.index('north'))\r\n",
    "                    new.pop(new.index('south'))\r\n",
    "            if i == 'south' :\r\n",
    "                 \r\n",
    "                if new.index('south') + 1 == new.index('north'):\r\n",
    "                    new.pop(new.index('south'))\r\n",
    "                    new.pop(new.index('north'))\r\n",
    "            \r\n",
    "            if i == 'west':\r\n",
    "                if 'east' not in new:\r\n",
    "                    break \r\n",
    "                if new.index(i) + 1 == new.index('east'):\r\n",
    "                    new.pop(new.index(i))\r\n",
    "                    new.pop(new.index('east'))\r\n",
    "\r\n",
    "            if i == 'east' :            \r\n",
    "                if new.index(i) + 1 == new.index('west'):\r\n",
    "                    new.pop(new.index(i))\r\n",
    "                    new.pop(new.index('west'))\r\n",
    "            else :\r\n",
    "                pass\r\n",
    "    \r\n",
    "    return new\r\n",
    "        \r\n",
    "        "
   ],
   "outputs": [
    {
     "output_type": "error",
     "ename": "Error",
     "evalue": "Session cannot generate requests",
     "traceback": [
      "Error: Session cannot generate requests",
      "at w.executeCodeCell (c:\\Users\\a\\.vscode\\extensions\\ms-toolsai.jupyter-2021.8.1236758218\\out\\client\\extension.js:90:327199)",
      "at w.execute (c:\\Users\\a\\.vscode\\extensions\\ms-toolsai.jupyter-2021.8.1236758218\\out\\client\\extension.js:90:326520)",
      "at w.start (c:\\Users\\a\\.vscode\\extensions\\ms-toolsai.jupyter-2021.8.1236758218\\out\\client\\extension.js:90:322336)",
      "at runMicrotasks (<anonymous>)",
      "at processTicksAndRejections (internal/process/task_queues.js:93:5)",
      "at t.CellExecutionQueue.executeQueuedCells (c:\\Users\\a\\.vscode\\extensions\\ms-toolsai.jupyter-2021.8.1236758218\\out\\client\\extension.js:90:336863)",
      "at t.CellExecutionQueue.start (c:\\Users\\a\\.vscode\\extensions\\ms-toolsai.jupyter-2021.8.1236758218\\out\\client\\extension.js:90:336403)"
     ]
    }
   ],
   "metadata": {}
  },
  {
   "cell_type": "code",
   "execution_count": 11,
   "source": [
    "list1 = ['North', 'South', 'South', 'East', 'West', 'North', 'West']\r\n",
    "new = list(map(lambda x : x.lower(), list1))\r\n",
    "for i in range(len(list1)-1):\r\n",
    "    if new[i] == 'north':\r\n",
    "        if new[i + 1] == 'south':\r\n",
    "            new.(new[i])\r\n",
    "            new.remove(new[i+1])\r\n",
    "\r\n",
    "\r\n",
    "new\r\n",
    "    # if list1[i].lower == 'south':\r\n",
    "    #     if list1[i + 1].lower == 'north':\r\n",
    "    #         list1.pop(i)\r\n",
    "    #         list1.pop(i + 1)\r\n",
    "\r\n",
    "    # if list1[i].lower == 'east':\r\n",
    "    #     if list1[i + 1].lower == 'west':\r\n",
    "    #         list1.pop(i)\r\n",
    "    #         list1.pop(i + 1)\r\n",
    "    # if list1[i].lower == 'west':\r\n",
    "    #     if list1[i + 1].lower == 'east':\r\n",
    "    #         list1.pop(i)\r\n",
    "    #         list1.pop(i + 1)\r\n",
    "\r\n",
    "\r\n"
   ],
   "outputs": [
    {
     "output_type": "error",
     "ename": "IndexError",
     "evalue": "list index out of range",
     "traceback": [
      "\u001b[1;31m---------------------------------------------------------------------------\u001b[0m",
      "\u001b[1;31mIndexError\u001b[0m                                Traceback (most recent call last)",
      "\u001b[1;32m~\\AppData\\Local\\Temp/ipykernel_7240/2951401057.py\u001b[0m in \u001b[0;36m<module>\u001b[1;34m\u001b[0m\n\u001b[0;32m      2\u001b[0m \u001b[0mnew\u001b[0m \u001b[1;33m=\u001b[0m \u001b[0mlist\u001b[0m\u001b[1;33m(\u001b[0m\u001b[0mmap\u001b[0m\u001b[1;33m(\u001b[0m\u001b[1;32mlambda\u001b[0m \u001b[0mx\u001b[0m \u001b[1;33m:\u001b[0m \u001b[0mx\u001b[0m\u001b[1;33m.\u001b[0m\u001b[0mlower\u001b[0m\u001b[1;33m(\u001b[0m\u001b[1;33m)\u001b[0m\u001b[1;33m,\u001b[0m \u001b[0mlist1\u001b[0m\u001b[1;33m)\u001b[0m\u001b[1;33m)\u001b[0m\u001b[1;33m\u001b[0m\u001b[1;33m\u001b[0m\u001b[0m\n\u001b[0;32m      3\u001b[0m \u001b[1;32mfor\u001b[0m \u001b[0mi\u001b[0m \u001b[1;32min\u001b[0m \u001b[0mrange\u001b[0m\u001b[1;33m(\u001b[0m\u001b[0mlen\u001b[0m\u001b[1;33m(\u001b[0m\u001b[0mlist1\u001b[0m\u001b[1;33m)\u001b[0m\u001b[1;33m-\u001b[0m\u001b[1;36m1\u001b[0m\u001b[1;33m)\u001b[0m\u001b[1;33m:\u001b[0m\u001b[1;33m\u001b[0m\u001b[1;33m\u001b[0m\u001b[0m\n\u001b[1;32m----> 4\u001b[1;33m     \u001b[1;32mif\u001b[0m \u001b[0mnew\u001b[0m\u001b[1;33m[\u001b[0m\u001b[0mi\u001b[0m\u001b[1;33m]\u001b[0m \u001b[1;33m==\u001b[0m \u001b[1;34m'north'\u001b[0m\u001b[1;33m:\u001b[0m\u001b[1;33m\u001b[0m\u001b[1;33m\u001b[0m\u001b[0m\n\u001b[0m\u001b[0;32m      5\u001b[0m         \u001b[1;32mif\u001b[0m \u001b[0mnew\u001b[0m\u001b[1;33m[\u001b[0m\u001b[0mi\u001b[0m \u001b[1;33m+\u001b[0m \u001b[1;36m1\u001b[0m\u001b[1;33m]\u001b[0m \u001b[1;33m==\u001b[0m \u001b[1;34m'south'\u001b[0m\u001b[1;33m:\u001b[0m\u001b[1;33m\u001b[0m\u001b[1;33m\u001b[0m\u001b[0m\n\u001b[0;32m      6\u001b[0m             \u001b[0mnew\u001b[0m\u001b[1;33m.\u001b[0m\u001b[0mremove\u001b[0m\u001b[1;33m(\u001b[0m\u001b[0mnew\u001b[0m\u001b[1;33m[\u001b[0m\u001b[0mi\u001b[0m\u001b[1;33m]\u001b[0m\u001b[1;33m)\u001b[0m\u001b[1;33m\u001b[0m\u001b[1;33m\u001b[0m\u001b[0m\n",
      "\u001b[1;31mIndexError\u001b[0m: list index out of range"
     ]
    }
   ],
   "metadata": {}
  },
  {
   "cell_type": "code",
   "execution_count": 25,
   "source": [
    "list1.pop(1)\r\n",
    "list1"
   ],
   "outputs": [
    {
     "output_type": "execute_result",
     "data": {
      "text/plain": [
       "['North', 'South', 'East', 'West', 'North', 'West']"
      ]
     },
     "metadata": {},
     "execution_count": 25
    }
   ],
   "metadata": {}
  },
  {
   "cell_type": "code",
   "execution_count": 29,
   "source": [
    "list1 = ['North', 'South', 'South', 'East', 'West', 'North', 'West']\r\n",
    "new = list(map(lambda x : x.lower(), list1))\r\n",
    "print(new)\r\n",
    "for i in range(len(new)-1):\r\n",
    "    if new[i] == 'north':\r\n",
    "        if new[i + 1].lower == 'south':\r\n",
    "            new.pop(i)\r\n",
    "            new.pop(i + 1)\r\n",
    "print(new)"
   ],
   "outputs": [
    {
     "output_type": "stream",
     "name": "stdout",
     "text": [
      "['north', 'south', 'south', 'east', 'west', 'north', 'west']\n",
      "['north', 'south', 'south', 'east', 'west', 'north', 'west']\n"
     ]
    }
   ],
   "metadata": {}
  },
  {
   "cell_type": "code",
   "execution_count": 1,
   "source": [
    "lst = ['North', 'South', 'South', 'East', 'West', 'North', 'West']\r\n"
   ],
   "outputs": [],
   "metadata": {}
  },
  {
   "cell_type": "code",
   "execution_count": 12,
   "source": [
    "lst.remove('North')\r\n",
    "lst.remove('South')"
   ],
   "outputs": [],
   "metadata": {}
  },
  {
   "cell_type": "code",
   "execution_count": 13,
   "source": [
    "def dirREDUC(dir):\r\n",
    "    while 'NS' in dir or 'SN' in dir or 'WE' in dir or 'EW' in dir:\r\n",
    "        dir = dir.replace('NS', \"\").replace(\"SN\", \"\").replace(\"WE\", \"\").replace('EW', \"\")\r\n",
    "    \r\n",
    "    return dir\r\n",
    "\r\n",
    "    if dir == \"\" :\r\n",
    "        return 0\r\n",
    "    return dir\r\n",
    "\r\n",
    "\r\n",
    "dirREDUC(\"NWSNNWWENS\")"
   ],
   "outputs": [
    {
     "output_type": "execute_result",
     "data": {
      "text/plain": [
       "'NWNW'"
      ]
     },
     "metadata": {},
     "execution_count": 13
    }
   ],
   "metadata": {}
  },
  {
   "cell_type": "code",
   "execution_count": 14,
   "source": [
    "list(range(len(list1)-1))"
   ],
   "outputs": [
    {
     "output_type": "execute_result",
     "data": {
      "text/plain": [
       "[0, 1, 2, 3, 4]"
      ]
     },
     "metadata": {},
     "execution_count": 14
    }
   ],
   "metadata": {}
  }
 ],
 "metadata": {
  "orig_nbformat": 4,
  "language_info": {
   "name": "python",
   "version": "3.9.6",
   "mimetype": "text/x-python",
   "codemirror_mode": {
    "name": "ipython",
    "version": 3
   },
   "pygments_lexer": "ipython3",
   "nbconvert_exporter": "python",
   "file_extension": ".py"
  },
  "kernelspec": {
   "name": "python3",
   "display_name": "Python 3.9.6 64-bit"
  },
  "interpreter": {
   "hash": "bf18297ba29ab59974e3cde921359bf4732846305eb0ebd212cf3897d725727a"
  }
 },
 "nbformat": 4,
 "nbformat_minor": 2
}