{
 "cells": [
  {
   "cell_type": "raw",
   "id": "3d250472",
   "metadata": {},
   "source": [
    "# Longest Alternating Substring\n",
    "Given a string of digits, return the longest substring with alternating odd/even or even/odd digits. If two or more substrings have the same length, return the substring that occurs first.\n",
    "\n",
    "Examples\n",
    "longest_substring(\"225424272163254474441338664823\") ➞ \"272163254\"\n",
    "\n",
    "# substrings = 254, 272163254, 474, 41, 38, 23\n",
    "\n",
    "longest_substring(\"594127169973391692147228678476\") ➞ \"16921472\"\n",
    "\n",
    "# substrings = 94127, 169, 16921472, 678, 476\n",
    "\n",
    "longest_substring(\"721449827599186159274227324466\") ➞ \"7214\"\n",
    "# substrings = 7214, 498, 27, 18, 61, 9274, 27, 32\n",
    "# 7214 and 9274 have same length, but 7214 occurs first."
   ]
  },
  {
   "cell_type": "code",
   "execution_count": 71,
   "id": "e2abcd17",
   "metadata": {},
   "outputs": [
    {
     "data": {
      "text/plain": [
       "'16921472'"
      ]
     },
     "execution_count": 71,
     "metadata": {},
     "output_type": "execute_result"
    }
   ],
   "source": [
    "def longest_substr(str_digit):\n",
    "    \n",
    "    even = ['0', '2', '4', '6', '8']\n",
    "    odd = ['1', '3', '5', '7', '9']\n",
    "    list_str = []\n",
    "    str_num= \"\"\n",
    "\n",
    "    i = 0\n",
    "    while  i < len(str_digit)-1:\n",
    "\n",
    "        if  str_digit[i] in even:        \n",
    "            if str_digit[i+1] in odd: \n",
    "\n",
    "                if str_digit[i] in str_num:\n",
    "                    str_num += str_digit[i+1]\n",
    "                else:\n",
    "                    str_num += str_digit[i]\n",
    "                    str_num += str_digit[i+1]\n",
    "\n",
    "            else:\n",
    "                list_str.append(str_num)\n",
    "                str_num = \"\"\n",
    "\n",
    "\n",
    "        if str_digit[i] in odd: \n",
    "            if str_digit[i+1] in even: \n",
    "\n",
    "                if str_digit[i] in str_num:\n",
    "                    str_num += str_digit[i+1]\n",
    "                else:\n",
    "                    str_num += str_digit[i]\n",
    "                    str_num += str_digit[i+1]\n",
    "\n",
    "            else:\n",
    "                list_str.append(str_num)\n",
    "                str_num = \"\"\n",
    "        i += 1\n",
    "        if i == len(str_digit)-1:\n",
    "            list_str.append(str_num)\n",
    "\n",
    "     \n",
    "    result = list(filter(lambda x: len(x) == max(list(map(lambda x: len(x), list_str))), list_str))\n",
    "    return result[0]\n",
    "        \n",
    "    \n",
    "longest_substr(\"594127169973391692147228678476\")   "
   ]
  },
  {
   "cell_type": "code",
   "execution_count": 5,
   "id": "d8d3ef2b",
   "metadata": {},
   "outputs": [],
   "source": [
    "odd = \"13579\""
   ]
  },
  {
   "cell_type": "code",
   "execution_count": 6,
   "id": "44f42f7a",
   "metadata": {},
   "outputs": [
    {
     "data": {
      "text/plain": [
       "['1', '3', '5', '7', '9']"
      ]
     },
     "execution_count": 6,
     "metadata": {},
     "output_type": "execute_result"
    }
   ],
   "source": [
    "list(odd)"
   ]
  },
  {
   "cell_type": "code",
   "execution_count": 45,
   "id": "ed3a53be",
   "metadata": {},
   "outputs": [
    {
     "data": {
      "text/plain": [
       "30"
      ]
     },
     "execution_count": 45,
     "metadata": {},
     "output_type": "execute_result"
    }
   ],
   "source": [
    "str_digit = \"594127169973391692147228678476\"\n",
    "even = ['0', '2', '4', '6', '8']\n",
    "odd = ['1', '3', '5', '7', '9']\n",
    "len(str_digit)"
   ]
  },
  {
   "cell_type": "code",
   "execution_count": 41,
   "id": "931c4b9b",
   "metadata": {},
   "outputs": [
    {
     "name": "stdout",
     "output_type": "stream",
     "text": [
      "['', '94127', '169', '', '', '', '', '', '16921472', '', '', '678']\n"
     ]
    }
   ],
   "source": [
    "str_digit = \"594127169973391692147228678476\"\n",
    "even = ['0', '2', '4', '6', '8']\n",
    "odd = ['1', '3', '5', '7', '9']\n",
    "list_str = []\n",
    "str_num= \"\"\n",
    "\n",
    "for i in range(len(str_digit)-1):\n",
    "    \n",
    "    if  str_digit[i] in even:        \n",
    "        if str_digit[i+1] in odd: \n",
    "            \n",
    "            if  str_digit[i] in str_num:\n",
    "                str_num += str_digit[i+1]\n",
    "            else:\n",
    "                str_num += str_digit[i]\n",
    "                str_num += str_digit[i+1]\n",
    "        \n",
    "        else:\n",
    "            list_str.append(str_num)\n",
    "            str_num = \"\"\n",
    "            \n",
    "        \n",
    "    if str_digit[i] in odd: \n",
    "        if str_digit[i+1] in even: \n",
    "            \n",
    "            if str_digit[i] in str_num:\n",
    "                str_num += str_digit[i+1]\n",
    "            else:\n",
    "                str_num += str_digit[i]\n",
    "                str_num += str_digit[i+1]\n",
    "                  \n",
    "        else:\n",
    "            list_str.append(str_num)\n",
    "            str_num = \"\"\n",
    "        \n",
    "        \n",
    "print(list_str) \n",
    "    \n",
    "\n"
   ]
  },
  {
   "cell_type": "code",
   "execution_count": 39,
   "id": "c8f92e87",
   "metadata": {},
   "outputs": [
    {
     "name": "stdout",
     "output_type": "stream",
     "text": [
      "[0, 1, 2, 3, 4, 5, 6, 7, 8, 9, 10, 11, 12, 13, 14, 15, 16, 17, 18, 19, 20, 21, 22, 23, 24, 25, 26, 27, 28]\n"
     ]
    }
   ],
   "source": [
    "print(list(range(29)))"
   ]
  },
  {
   "cell_type": "code",
   "execution_count": 33,
   "id": "90f6bb0d",
   "metadata": {},
   "outputs": [
    {
     "data": {
      "text/plain": [
       "True"
      ]
     },
     "execution_count": 33,
     "metadata": {},
     "output_type": "execute_result"
    }
   ],
   "source": [
    "a= \"23\"\n",
    "'3' in a"
   ]
  },
  {
   "cell_type": "code",
   "execution_count": 69,
   "id": "fd373b54",
   "metadata": {},
   "outputs": [
    {
     "data": {
      "text/plain": [
       "'3245'"
      ]
     },
     "execution_count": 69,
     "metadata": {},
     "output_type": "execute_result"
    }
   ],
   "source": [
    "a = ['', '3245', '7214', '', '', '', '', '', '32', '', '', '678', '476']\n",
    "# res = list(map(lambda x: len(x), a))\n",
    "max(res)\n",
    "result = list(filter(lambda x: len(x) == max(list(map(lambda x: len(x), a))), a))\n",
    "result[0]"
   ]
  },
  {
   "cell_type": "code",
   "execution_count": null,
   "id": "0211a1e2",
   "metadata": {},
   "outputs": [],
   "source": [
    "len()"
   ]
  }
 ],
 "metadata": {
  "kernelspec": {
   "display_name": "Python 3 (ipykernel)",
   "language": "python",
   "name": "python3"
  },
  "language_info": {
   "codemirror_mode": {
    "name": "ipython",
    "version": 3
   },
   "file_extension": ".py",
   "mimetype": "text/x-python",
   "name": "python",
   "nbconvert_exporter": "python",
   "pygments_lexer": "ipython3",
   "version": "3.9.6"
  }
 },
 "nbformat": 4,
 "nbformat_minor": 5
}
