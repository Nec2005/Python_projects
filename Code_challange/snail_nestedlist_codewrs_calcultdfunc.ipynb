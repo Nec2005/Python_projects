{
 "cells": [
  {
   "cell_type": "markdown",
   "id": "b58f9600",
   "metadata": {},
   "source": [
    "Salyangoz Sıralaması\n",
    "Bir n x ndizi verildiğinde , en dıştaki öğelerden ortadaki öğeye düzenlenen dizi öğelerini saat yönünde hareket ettirin.\n",
    "array = [[1,2,3],\n",
    "         [4,5,6],\n",
    "         [7,8,9]]\n",
    "         \n",
    "snail(array) #=> [1,2,3,6,9,8,7,4,5]\n",
    "\n",
    "Daha iyi anlamak için lütfen bir sonraki dizinin numaralarını art arda takip edin:\n",
    "\n",
    "array = [[1,2,3],\n",
    "         [8,9,4],\n",
    "         [7,6,5]]\n",
    "         \n",
    "snail(array) #=> [1,2,3,4,5,6,7,8,9]"
   ]
  },
  {
   "cell_type": "code",
   "execution_count": null,
   "id": "ad655de1",
   "metadata": {},
   "outputs": [],
   "source": []
  },
  {
   "cell_type": "code",
   "execution_count": 25,
   "id": "878b6b49",
   "metadata": {},
   "outputs": [
    {
     "name": "stdout",
     "output_type": "stream",
     "text": [
      "[1, 2, 3, 4, 5, 6, 12, 18, 24, 30, 36, 35, 34, 33, 32, 31, 25, 19, 13, 7, 8, 9, 10, 11, 17, 23, 29, 28, 27, 26, 20, 14, 15, 16, 22, 21]\n"
     ]
    }
   ],
   "source": [
    "def snail(list1):\n",
    "    if len(list1) < 1:\n",
    "        return list1\n",
    "    else:\n",
    "        outer = list1[0] + [item[-1] for item in list1[1:-1]] + list1[-1][::-1] + [item[0] for item in list1[-2:0:-1]]\n",
    "    \n",
    "        inner = [item[1:-1] for item in list1[1:-1]]\n",
    "    \n",
    "        return outer + snail(inner)\n",
    "\n",
    "\n",
    "\n",
    "\n",
    "list2= [[ 1,  2,  3,  4,  5,  6],\n",
    "         [ 7,  8,  9, 10, 11, 12],\n",
    "         [13, 14, 15, 16, 17, 18],\n",
    "         [19, 20, 21, 22, 23, 24],\n",
    "         [25, 26, 27, 28, 29, 30],\n",
    "         [31, 32, 33, 34, 35, 36]]\n",
    "print(snail(list2))"
   ]
  },
  {
   "cell_type": "code",
   "execution_count": 29,
   "id": "2296186f",
   "metadata": {},
   "outputs": [
    {
     "name": "stdout",
     "output_type": "stream",
     "text": [
      "[1, 2, 3, 4, 5, 6, 12, 18, 24, 30, 36, 35, 34, 33, 32, 31, 25, 19, 13, 7, [8, 9, 10, 11], [14, 15, 16, 17], [20, 21, 22, 23], [26, 27, 28, 29]]\n"
     ]
    }
   ],
   "source": [
    "def snail(list1):\n",
    "    if len(list1) < 1:\n",
    "        return list1\n",
    "    else:\n",
    "        outer = list1[0] + [item[-1] for item in list1[1:-1]] + list1[-1][::-1] + [item[0] for item in list1[-2:0:-1]]\n",
    "    \n",
    "        inner = [item[1:-1] for item in list1[1:-1]]\n",
    "    \n",
    "        return outer +  inner #+ snail(inner)\n",
    "\n",
    "\n",
    "\n",
    "\n",
    "list2= [[ 1,  2,  3,  4,  5,  6],\n",
    "         [ 7,  8,  9, 10, 11, 12],\n",
    "         [13, 14, 15, 16, 17, 18],\n",
    "         [19, 20, 21, 22, 23, 24],\n",
    "         [25, 26, 27, 28, 29, 30],\n",
    "         [31, 32, 33, 34, 35, 36]]\n",
    "print(snail(list2))"
   ]
  },
  {
   "cell_type": "code",
   "execution_count": 31,
   "id": "1733fc33",
   "metadata": {},
   "outputs": [
    {
     "data": {
      "text/plain": [
       "[1, 2, 3, 3, 2, 1]"
      ]
     },
     "execution_count": 31,
     "metadata": {},
     "output_type": "execute_result"
    }
   ],
   "source": [
    "array1 = [[1,2,3]]\n",
    "snail(array1)\n",
    "         "
   ]
  },
  {
   "cell_type": "code",
   "execution_count": 18,
   "id": "fe81a8db",
   "metadata": {},
   "outputs": [
    {
     "data": {
      "text/plain": [
       "[1, 2, 3, 4, 5, 6]"
      ]
     },
     "execution_count": 18,
     "metadata": {},
     "output_type": "execute_result"
    }
   ],
   "source": [
    "[1,2,3] + [4,5,6]"
   ]
  },
  {
   "cell_type": "code",
   "execution_count": null,
   "id": "3ed24942",
   "metadata": {},
   "outputs": [],
   "source": []
  },
  {
   "cell_type": "code",
   "execution_count": 20,
   "id": "dc1ffd69",
   "metadata": {},
   "outputs": [],
   "source": [
    "array = [[1,2,3],\n",
    "         [4,5,6],\n",
    "         [7,8,9]]"
   ]
  },
  {
   "cell_type": "code",
   "execution_count": 23,
   "id": "fd6e801d",
   "metadata": {},
   "outputs": [
    {
     "data": {
      "text/plain": [
       "[1, 2, 3, 4, 5, 6, 7, 8, 9]"
      ]
     },
     "execution_count": 23,
     "metadata": {},
     "output_type": "execute_result"
    }
   ],
   "source": [
    "array[0]+array[1]+array[2]"
   ]
  },
  {
   "cell_type": "code",
   "execution_count": 28,
   "id": "13b671aa",
   "metadata": {},
   "outputs": [
    {
     "data": {
      "text/plain": [
       "[[25, 26, 27, 28, 29, 30],\n",
       " [19, 20, 21, 22, 23, 24],\n",
       " [13, 14, 15, 16, 17, 18],\n",
       " [7, 8, 9, 10, 11, 12]]"
      ]
     },
     "execution_count": 28,
     "metadata": {},
     "output_type": "execute_result"
    }
   ],
   "source": [
    "list2[-2:0:-1]"
   ]
  },
  {
   "cell_type": "code",
   "execution_count": 9,
   "id": "857dff0d",
   "metadata": {},
   "outputs": [
    {
     "data": {
      "text/plain": [
       "[1, 2, 3, 4, 5, 6, 7, 8, 9]"
      ]
     },
     "execution_count": 9,
     "metadata": {},
     "output_type": "execute_result"
    }
   ],
   "source": [
    "result = []\n",
    "\n",
    "# for x in range(len(array[0])*len(array)):\n",
    "#     result.append(array[0][])\n",
    "\n",
    "for i in array :\n",
    "    for j in range(len(array[0])):\n",
    "        result.append(i[j])\n",
    "\n",
    "result\n",
    "\n"
   ]
  },
  {
   "cell_type": "code",
   "execution_count": 3,
   "id": "37309e17",
   "metadata": {},
   "outputs": [
    {
     "data": {
      "text/plain": [
       "6"
      ]
     },
     "execution_count": 3,
     "metadata": {},
     "output_type": "execute_result"
    }
   ],
   "source": [
    "array[1][-1]"
   ]
  },
  {
   "cell_type": "code",
   "execution_count": null,
   "id": "0e47a45a",
   "metadata": {},
   "outputs": [],
   "source": []
  },
  {
   "cell_type": "markdown",
   "id": "5045532f",
   "metadata": {},
   "source": [
    "This time we want to write calculations using functions and get the results. Let's have a look at some examples:\n",
    "\n",
    "seven(times(five())) # must return 35\n",
    "\n",
    "four(plus(nine())) # must return 13\n",
    "\n",
    "eight(minus(three())) # must return 5\n",
    "\n",
    "six(divided_by(two())) # must return 3\n",
    "\n",
    "Requirements:\n",
    "\n",
    "There must be a function for each number from 0 (\"zero\") to 9 (\"nine\")\n",
    "There must be a function for each of the following mathematical operations: plus, minus, times, dividedBy (divided_by in Ruby and Python)\n",
    "Each calculation consist of exactly one operation and two numbers\n",
    "The most outer function represents the left operand, the most inner function represents the right operand\n",
    "Division should be integer division. For example, this should return 2, not 2.666666...:\n",
    "eight(divided_by(three()))"
   ]
  },
  {
   "cell_type": "code",
   "execution_count": null,
   "id": "8854e4e9",
   "metadata": {},
   "outputs": [],
   "source": [
    "def two(): #your code here\n",
    "def three(): #your code here\n",
    "def four(): #your code here\n",
    "def five(): #your code here\n",
    "def six(): #your code here\n",
    "def seven(): #your code here\n",
    "def eight(): #your code here\n",
    "def nine(): #your code here\n",
    "\n",
    "def plus(): #your code here\n",
    "def minus(): #your code here\n",
    "def times(): #your code here\n",
    "def divided_by(): #your code here"
   ]
  },
  {
   "cell_type": "code",
   "execution_count": null,
   "id": "027a9155",
   "metadata": {},
   "outputs": [],
   "source": [
    "def four():\n",
    "    return 4\n",
    "    \n",
    "    \n",
    "    \n",
    "def plus(number):\n",
    "    return \n",
    "    #your code here"
   ]
  },
  {
   "cell_type": "code",
   "execution_count": null,
   "id": "a9b07527",
   "metadata": {},
   "outputs": [],
   "source": [
    "four(plus(nine()))  ##13"
   ]
  },
  {
   "cell_type": "code",
   "execution_count": 8,
   "id": "60c2a6a6",
   "metadata": {},
   "outputs": [],
   "source": [
    "def seven(operation = None):\n",
    "    if operation == None:\n",
    "        return 7\n",
    "    else:\n",
    "        return operation(7)\n",
    "def five(operation = None):\n",
    "     if operation == None:\n",
    "        return 5\n",
    "     else:\n",
    "        return operation(5)\n",
    "def times(number):\n",
    "    return lambda x: x * number"
   ]
  },
  {
   "cell_type": "code",
   "execution_count": 10,
   "id": "df80ae58",
   "metadata": {},
   "outputs": [
    {
     "data": {
      "text/plain": [
       "49"
      ]
     },
     "execution_count": 10,
     "metadata": {},
     "output_type": "execute_result"
    }
   ],
   "source": [
    "seven(times(seven()))"
   ]
  },
  {
   "cell_type": "code",
   "execution_count": 14,
   "id": "83524788",
   "metadata": {},
   "outputs": [
    {
     "data": {
      "text/plain": [
       "<function __main__.times.<locals>.<lambda>(x)>"
      ]
     },
     "execution_count": 14,
     "metadata": {},
     "output_type": "execute_result"
    }
   ],
   "source": [
    "times(seven())"
   ]
  },
  {
   "cell_type": "code",
   "execution_count": 16,
   "id": "afc952d4",
   "metadata": {},
   "outputs": [],
   "source": [
    "def two(n = None):\n",
    "    return 2 if n == None else n(2)\n",
    "\n",
    "def three(n = None):\n",
    "    return 3 if n == None else n(3)\n",
    "\n",
    "def four(n = None):\n",
    "    return 4 if n == None else n(4)\n",
    "    \n",
    "def five(n = None):\n",
    "    return 5 if n == None else n(5)\n",
    "\n",
    "def six(n = None):\n",
    "    return 6 if n == None else n(6)\n",
    "    \n",
    "def seven(n = None):\n",
    "    return 7 if n == None else n(7)\n",
    "\n",
    "def eight(n = None):\n",
    "    return 8 if n == None else n(8)\n",
    "\n",
    "def nine(n = None):\n",
    "    return 9 if n == None else n(9)\n",
    "\n",
    "    \n",
    "    \n",
    "def times(number):\n",
    "    return lambda x: x * number\n",
    "\n",
    "def plus(number):\n",
    "    return lambda x: x + number\n",
    "\n",
    "def minus(number):\n",
    "    return lambda x: x - number\n",
    "\n",
    "def divided_by(number):\n",
    "    return lambda x: x // number\n",
    "\n"
   ]
  },
  {
   "cell_type": "code",
   "execution_count": 17,
   "id": "5b9389b5",
   "metadata": {},
   "outputs": [
    {
     "data": {
      "text/plain": [
       "11"
      ]
     },
     "execution_count": 17,
     "metadata": {},
     "output_type": "execute_result"
    }
   ],
   "source": [
    "two(plus(nine()))"
   ]
  },
  {
   "cell_type": "code",
   "execution_count": 6,
   "id": "e8f70572",
   "metadata": {},
   "outputs": [
    {
     "data": {
      "text/plain": [
       "2.5"
      ]
     },
     "execution_count": 6,
     "metadata": {},
     "output_type": "execute_result"
    }
   ],
   "source": [
    "5 /2"
   ]
  },
  {
   "cell_type": "code",
   "execution_count": 12,
   "id": "c577cd04",
   "metadata": {},
   "outputs": [
    {
     "data": {
      "text/plain": [
       "4"
      ]
     },
     "execution_count": 12,
     "metadata": {},
     "output_type": "execute_result"
    }
   ],
   "source": [
    "four()"
   ]
  }
 ],
 "metadata": {
  "kernelspec": {
   "display_name": "Python 3 (ipykernel)",
   "language": "python",
   "name": "python3"
  },
  "language_info": {
   "codemirror_mode": {
    "name": "ipython",
    "version": 3
   },
   "file_extension": ".py",
   "mimetype": "text/x-python",
   "name": "python",
   "nbconvert_exporter": "python",
   "pygments_lexer": "ipython3",
   "version": "3.9.6"
  }
 },
 "nbformat": 4,
 "nbformat_minor": 5
}
