{
 "cells": [
  {
   "cell_type": "markdown",
   "source": [
    "Given a string containing just the characters '(', ')', '{', '}', '[' and ']',\r\n",
    "determine if the input string is valid.\r\n",
    "An input string is valid if:\r\n",
    "Open brackets must be closed by the same type of brackets.\r\n",
    "Open brackets must be closed in the correct order.\r\n",
    "Note that an empty string is also considered valid.\r\n",
    "Example 1:\r\n",
    "Input: \"()\"\r\n",
    "Output: True\r\n",
    "Example 2:\r\n",
    "Input: \"()[]{}\"\r\n",
    "Output: True\r\n",
    "Example 3:\r\n",
    "Input: \"(]\"\r\n",
    "Output: False\r\n",
    "Example 4:\r\n",
    "Input: \"([)]\"\r\n",
    "Output: False\r\n",
    "Example 5:\r\n",
    "Input: \"{[]}\"\r\n",
    "Output: True (edited) "
   ],
   "metadata": {}
  },
  {
   "cell_type": "code",
   "execution_count": null,
   "source": [],
   "outputs": [],
   "metadata": {}
  },
  {
   "cell_type": "code",
   "execution_count": null,
   "source": [],
   "outputs": [],
   "metadata": {}
  },
  {
   "cell_type": "code",
   "execution_count": null,
   "source": [],
   "outputs": [],
   "metadata": {}
  },
  {
   "cell_type": "code",
   "execution_count": null,
   "source": [],
   "outputs": [],
   "metadata": {}
  }
 ],
 "metadata": {
  "orig_nbformat": 4,
  "language_info": {
   "name": "python"
  }
 },
 "nbformat": 4,
 "nbformat_minor": 2
}