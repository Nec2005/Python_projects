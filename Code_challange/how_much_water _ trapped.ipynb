{
 "cells": [
  {
   "cell_type": "markdown",
   "id": "0d4aa992",
   "metadata": {},
   "source": [
    "Given an array of non-negative integers representing an elevation map as shown below where the width of each bar is 1, compute how much water will be trapped on terrain after raining. To clarify further, the black boxes represents terrain and its height, and the blue boxes represents the water that could be trapped on the terrain.\n",
    "\n",
    "inpput = [0,1,0,2,1,0,1,3,2,1,2,1]\n",
    "\n",
    "output = 6"
   ]
  },
  {
   "cell_type": "code",
   "execution_count": null,
   "id": "accfdfc4",
   "metadata": {},
   "outputs": [],
   "source": []
  },
  {
   "cell_type": "code",
   "execution_count": null,
   "id": "e299b666",
   "metadata": {},
   "outputs": [],
   "source": [
    "height = []\n",
    "# Unless user types `ok`, get input of numbers from the user\n",
    "while True:\n",
    "    num = input(\"Type 'ok' when you are done: \")\n",
    "    # if the input is not equal to `ok`, add the input number to the height array\n",
    "    if num != \"ok\":\n",
    "        height.append(int(num))\n",
    "    # if the input equals to `ok`, get out of the while loop\n",
    "    else:\n",
    "        break\n",
    "# initialize areas which holds total amount of water to be trapped, and set to 0\n",
    "areas = 0\n",
    "# initialize maximum left and right, and set to 0\n",
    "max_l = max_r = 0\n",
    "# initialize left, and set to 0\n",
    "l = 0\n",
    "# initialize right and set to the last index of the input array\n",
    "r = len(height)-1\n",
    "# unless the current position of the height on left\n",
    "# is not greater than the one on right, run the loop\n",
    "while l < r:\n",
    "    # if the current position on left is lower than the right,\n",
    "    # max level on left determines the amount of water to be trapped.\n",
    "    if height[l] < height[r]:\n",
    "        # if the current height on left is greater than max height on left\n",
    "        # then the water not to be trapped, and set the max height to the new max\n",
    "        if height[l] > max_l:\n",
    "            max_l = height[l]\n",
    "        # otherwise, add the amount of water to be trapped.\n",
    "        else:\n",
    "            areas += max_l - height[l]\n",
    "        # increase current position on left by one\n",
    "        l += 1\n",
    "    # if the current position on left is higher than the right,\n",
    "    # max level on right determines the amount of water to be trapped.\n",
    "    else:\n",
    "        # if the current height on right is greater than max height on height\n",
    "        # then the water not to be trapped, and set the max height to the new max\n",
    "        if height[r] > max_r:\n",
    "            max_r = height[r]\n",
    "        # otherwise, add the amount of water to be trapped.\n",
    "        else:\n",
    "            areas += max_r - height[r]\n",
    "        # decrease current position on right by one\n",
    "        r -= 1\n",
    "# print the amount of water to be trapped\n",
    "print(\"\\nRain-trapped area : \", areas)"
   ]
  },
  {
   "cell_type": "code",
   "execution_count": null,
   "id": "f0a53260",
   "metadata": {},
   "outputs": [],
   "source": []
  }
 ],
 "metadata": {
  "kernelspec": {
   "display_name": "Python 3 (ipykernel)",
   "language": "python",
   "name": "python3"
  },
  "language_info": {
   "codemirror_mode": {
    "name": "ipython",
    "version": 3
   },
   "file_extension": ".py",
   "mimetype": "text/x-python",
   "name": "python",
   "nbconvert_exporter": "python",
   "pygments_lexer": "ipython3",
   "version": "3.9.6"
  }
 },
 "nbformat": 4,
 "nbformat_minor": 5
}
