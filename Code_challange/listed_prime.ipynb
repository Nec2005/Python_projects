{
 "cells": [
  {
   "cell_type": "markdown",
   "id": "c0342a94",
   "metadata": {},
   "source": [
    "Filter fonksiyonunu hatırlayalım! 1'den 100'e kadar olan sayılardan asal olanları listeleyiniz. "
   ]
  },
  {
   "cell_type": "code",
   "execution_count": 21,
   "id": "31aac1d2",
   "metadata": {
    "collapsed": true
   },
   "outputs": [
    {
     "data": {
      "text/plain": [
       "[2,\n",
       " 3,\n",
       " 5,\n",
       " 7,\n",
       " 11,\n",
       " 13,\n",
       " 17,\n",
       " 19,\n",
       " 23,\n",
       " 29,\n",
       " 31,\n",
       " 37,\n",
       " 41,\n",
       " 43,\n",
       " 47,\n",
       " 53,\n",
       " 59,\n",
       " 61,\n",
       " 67,\n",
       " 71,\n",
       " 73,\n",
       " 79,\n",
       " 83,\n",
       " 89,\n",
       " 97]"
      ]
     },
     "execution_count": 21,
     "metadata": {},
     "output_type": "execute_result"
    }
   ],
   "source": [
    "def isprime(number):\n",
    "    number = int(number)\n",
    "    count = 0\n",
    "    for i in range(1, number+1):\n",
    "         if number%i == 0: \n",
    "            count += 1\n",
    "    return count < 3 and i != 0 and i != 1\n",
    "    \n",
    "def listed_prime(num):\n",
    "    return list(filter(isprime, range(1, num + 1)))\n",
    "\n",
    "listed_prime(100)"
   ]
  },
  {
   "cell_type": "code",
   "execution_count": 20,
   "id": "a78e30e1",
   "metadata": {},
   "outputs": [
    {
     "name": "stdout",
     "output_type": "stream",
     "text": [
      "[2, 3, 5, 7, 11, 13, 17, 19, 23, 29, 31, 37, 41, 43, 47, 53, 59, 61, 67, 71, 73, 79, 83, 89, 97]\n"
     ]
    }
   ],
   "source": [
    "list_prime = list(filter(isprime, range(1, 101)))\n",
    "print(list_prime)"
   ]
  },
  {
   "cell_type": "code",
   "execution_count": 19,
   "id": "051cda7b",
   "metadata": {
    "collapsed": true
   },
   "outputs": [
    {
     "data": {
      "text/plain": [
       "[2,\n",
       " 3,\n",
       " 5,\n",
       " 7,\n",
       " 11,\n",
       " 13,\n",
       " 17,\n",
       " 19,\n",
       " 23,\n",
       " 29,\n",
       " 31,\n",
       " 37,\n",
       " 41,\n",
       " 43,\n",
       " 47,\n",
       " 53,\n",
       " 59,\n",
       " 61,\n",
       " 67,\n",
       " 71,\n",
       " 73,\n",
       " 79,\n",
       " 83,\n",
       " 89,\n",
       " 97]"
      ]
     },
     "execution_count": 19,
     "metadata": {},
     "output_type": "execute_result"
    }
   ],
   "source": [
    "def listed_prime(num):\n",
    "    return list(filter(lambda x : isprime(x), range(1, num + 1)))\n",
    "listed_prime(100)    "
   ]
  },
  {
   "cell_type": "code",
   "execution_count": null,
   "id": "40049219",
   "metadata": {},
   "outputs": [],
   "source": [
    "all()"
   ]
  }
 ],
 "metadata": {
  "kernelspec": {
   "display_name": "Python 3 (ipykernel)",
   "language": "python",
   "name": "python3"
  },
  "language_info": {
   "codemirror_mode": {
    "name": "ipython",
    "version": 3
   },
   "file_extension": ".py",
   "mimetype": "text/x-python",
   "name": "python",
   "nbconvert_exporter": "python",
   "pygments_lexer": "ipython3",
   "version": "3.9.6"
  }
 },
 "nbformat": 4,
 "nbformat_minor": 5
}
