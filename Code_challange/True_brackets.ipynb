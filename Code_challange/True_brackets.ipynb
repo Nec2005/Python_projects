{
 "cells": [
  {
   "cell_type": "markdown",
   "metadata": {},
   "source": [
    "Given a string containing just the characters '(', ')', '{', '}', '[' and ']',\n",
    "determine if the input string is valid.\n",
    "An input string is valid if:\n",
    "Open brackets must be closed by the same type of brackets.\n",
    "Open brackets must be closed in the correct order.\n",
    "Note that an empty string is also considered valid.\n",
    "\n",
    "Example 1:\n",
    "Input: \"()\"\n",
    "Output: True\n",
    "\n",
    "Example 2:\n",
    "Input: \"()[]{}\"\n",
    "Output: True\n",
    "\n",
    "Example 3:\n",
    "Input: \"(]\"\n",
    "\n",
    "Output: False\n",
    "Example 4:\n",
    "Input: \"([)]\"\n",
    "Output: False\n",
    "Example 5:\n",
    "Input: \"{[]}\"\n",
    "Output: True (edited) "
   ]
  },
  {
   "cell_type": "code",
   "execution_count": 2,
   "metadata": {},
   "outputs": [],
   "source": [
    "list1 =  ['(', ')', '{', '}', '[', ']' ]\n",
    "opened = ['(', '{', '[' ]\n",
    "closes = [')', '}', ']']"
   ]
  },
  {
   "cell_type": "code",
   "execution_count": 135,
   "metadata": {},
   "outputs": [
    {
     "name": "stdout",
     "output_type": "stream",
     "text": [
      "False\n"
     ]
    }
   ],
   "source": [
    "input1 = \"([)]\"\n",
    "\n",
    "for i in input1:\n",
    "    if i == \"{\" and input1[input1.index(i) + 1] == '}' :\n",
    "        result = True\n",
    "     \n",
    "    elif i == '(' and input1[input1.index(i) + 1] == ')' :\n",
    "        result = True\n",
    "        \n",
    "    elif i == \"[\" and input1[input1.index(i) + 1] == ']' :\n",
    "        result = True\n",
    "    else :\n",
    "        result = False   \n",
    "    if result == True:\n",
    "        print(True)\n",
    "        break\n",
    "    else:\n",
    "        print(False)\n",
    "        break\n",
    "        \n",
    "        \n",
    "    "
   ]
  },
  {
   "cell_type": "code",
   "execution_count": 3,
   "metadata": {},
   "outputs": [
    {
     "data": {
      "text/plain": [
       "True"
      ]
     },
     "execution_count": 3,
     "metadata": {},
     "output_type": "execute_result"
    }
   ],
   "source": [
    "input1 = \"{]{}]\""
   ]
  },
  {
   "cell_type": "code",
   "execution_count": null,
   "metadata": {},
   "outputs": [],
   "source": []
  },
  {
   "cell_type": "code",
   "execution_count": null,
   "metadata": {},
   "outputs": [],
   "source": [
    "def char(text):\n",
    "    if text[0] == \"(\":\n",
    "        result = True if text[1] == \")\" or text[-1] == \")\" else False\n",
    "    elif text[0] == \"{\":\n",
    "        result = True if text[1] == \"}\" or text[-1] == \"}\" else False\n",
    "    elif text[0] == \"[\":\n",
    "        result = True if text[1] == \"]\" or text[-1] == \"]\" else False\n",
    "    else:\n",
    "        result = \"Invalid Entry\"\n",
    "        \n",
    "    print(result)\n",
    "        \n",
    "text = str(input(\"Please Entry: \"))\n",
    "\n",
    "char(text)"
   ]
  },
  {
   "cell_type": "code",
   "execution_count": null,
   "metadata": {},
   "outputs": [],
   "source": [
    "# ()==True\n",
    "# ([)] == False"
   ]
  },
  {
   "cell_type": "code",
   "execution_count": null,
   "metadata": {},
   "outputs": [],
   "source": [
    "([{({})}]({})) # birim parantezleri silip bos string kalirsa True"
   ]
  },
  {
   "cell_type": "code",
   "execution_count": null,
   "metadata": {},
   "outputs": [],
   "source": [
    "\"[[{({})}]({}))\" "
   ]
  },
  {
   "cell_type": "code",
   "execution_count": 4,
   "metadata": {},
   "outputs": [],
   "source": [
    "x = \"[[{({})}]({}))\" "
   ]
  },
  {
   "cell_type": "code",
   "execution_count": 3,
   "metadata": {},
   "outputs": [],
   "source": [
    "def isValid(s) :\n",
    "    while \"()\" in s or \"{}\" in s or \"[]\" in s:\n",
    "        s = s.replace(\"()\", \"\").replace('[]', \"\").replace(\"{}\", \"\")\n",
    "    return s == \"\""
   ]
  },
  {
   "cell_type": "code",
   "execution_count": 5,
   "metadata": {},
   "outputs": [
    {
     "data": {
      "text/plain": [
       "False"
      ]
     },
     "execution_count": 5,
     "metadata": {},
     "output_type": "execute_result"
    }
   ],
   "source": [
    "isValid(x)"
   ]
  },
  {
   "cell_type": "code",
   "execution_count": 2,
   "metadata": {},
   "outputs": [
    {
     "data": {
      "text/plain": [
       "'aliveli'"
      ]
     },
     "execution_count": 2,
     "metadata": {},
     "output_type": "execute_result"
    }
   ],
   "source": [
    "\"ali-veli\".replace('-', \"\")"
   ]
  },
  {
   "cell_type": "code",
   "execution_count": null,
   "metadata": {},
   "outputs": [],
   "source": []
  }
 ],
 "metadata": {
  "interpreter": {
   "hash": "bf18297ba29ab59974e3cde921359bf4732846305eb0ebd212cf3897d725727a"
  },
  "kernelspec": {
   "display_name": "Python 3 (ipykernel)",
   "language": "python",
   "name": "python3"
  },
  "language_info": {
   "codemirror_mode": {
    "name": "ipython",
    "version": 3
   },
   "file_extension": ".py",
   "mimetype": "text/x-python",
   "name": "python",
   "nbconvert_exporter": "python",
   "pygments_lexer": "ipython3",
   "version": "3.9.6"
  }
 },
 "nbformat": 4,
 "nbformat_minor": 2
}
