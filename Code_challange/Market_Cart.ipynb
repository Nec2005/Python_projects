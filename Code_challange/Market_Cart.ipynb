{
  "nbformat": 4,
  "nbformat_minor": 0,
  "metadata": {
    "colab": {
      "name": "Market_Cart.ipynb",
      "provenance": [],
      "collapsed_sections": []
    },
    "kernelspec": {
      "name": "python3",
      "display_name": "Python 3"
    },
    "language_info": {
      "name": "python"
    }
  },
  "cells": [
    {
      "cell_type": "code",
      "metadata": {
        "id": "UtZReJO0ygrd"
      },
      "source": [
        ""
      ],
      "execution_count": null,
      "outputs": []
    },
    {
      "cell_type": "markdown",
      "metadata": {
        "id": "V224QRdCyoCD"
      },
      "source": [
        "Bir markete gittiniz. Markette her ürünün bir kod numarası var.\n",
        "1 : Domates 2 : Soğan 3 : Biber 4 : Yumurta 5 : Elma 6 : Armut ... vs. şeklinde.\n",
        "Kullanıcıya almak istediği ürünü sorunuz ve kod numarası ile seçim yaptırınız. Çıkış için \"q\" opsiyonunu sununuz. Kullanıcının her ürün seçimi sonrası \" .... domates sepete eklendi\" gibi bir dönüt veriniz. Kullanıcı ürün almaya devam ettikçe ürünleri bir listede toplayınız, almaktan vazgeçtiği durumda teşekkür edip, aldığı toplam ürünleri çıktı veren bir kod yazınız.\n",
        "Beklenen Çıktı:\n",
        "Teşekkür Ederiz...\n",
        "Sepetinizde Bulunan Ürünler: elma, armut, yumurta ... vs."
      ]
    },
    {
      "cell_type": "markdown",
      "metadata": {
        "id": "p6_Z_vb06m6J"
      },
      "source": [
        "You went to a market. Every product in the market has a code number. 1 : Tomato 2 : Onion 3 : Pepper 4 : Egg 5 : Apple 6 : Pear ... etc. shaped. Ask the user about the product they want to buy and make a selection with the code number. Offer option \"q\" for output. After each product selection of the user, give a feedback such as \" .... tomato added to cart\". As the user continues to buy products, collect the products in a list, thank them in case they stop buying, and write a code that outputs the total products purchased. Expected Output: Thank You... Items In Your Cart: apple, pear, egg ... etc."
      ]
    },
    {
      "cell_type": "code",
      "metadata": {
        "id": "DAEljLT590BK"
      },
      "source": [
        ""
      ],
      "execution_count": null,
      "outputs": []
    },
    {
      "cell_type": "code",
      "metadata": {
        "id": "zFhcuxLoyqGe"
      },
      "source": [
        "products = {1 : 'Tomato', 2 : 'Onion', 3 : 'Pepper', 4 : 'Milk', 5 : 'Egg', 6 : 'Apple', 7 : 'Pear', 'q' : 'Exit'}\n",
        "\n",
        "ask = '1:Tomato, 2:Onion, 3:Pepper, 4:Milk, 5:Egg, 6:Apple, 7:Pear, q:Exit \\\n",
        "                \\nEnter the code number of your products:'\n",
        "\n",
        "cart = []\n"
      ],
      "execution_count": null,
      "outputs": []
    },
    {
      "cell_type": "code",
      "metadata": {
        "colab": {
          "base_uri": "https://localhost:8080/"
        },
        "id": "Mx7Aohd39yyN",
        "outputId": "b055d2ee-4acb-48c3-a967-239578b5ed10"
      },
      "source": [
        "products = {1 : 'Tomato', 2 : 'Onion', 3 : 'Pepper', 4 : 'Milk', 5 : 'Egg', 6 : 'Apple', 7 : 'Pear', 'q' : 'Exit'}\n",
        "\n",
        "ask = '1:Tomato, 2:Onion, 3:Pepper, 4:Milk, 5:Egg, 6:Apple, 7:Pear, q:Exit \\\n",
        "                \\nEnter the code number of your products:'\n",
        "\n",
        "cart = []\n",
        "\n",
        "chosen = input(ask)\n",
        "for i in products:\n",
        "    if chosen.isnumeric():\n",
        "        if int(chosen) == i:\n",
        "            cart.append(products[i])\n",
        "            print('{} added your cart.'.format(products[i]))\n",
        "            chosen = input(ask)\n",
        "    else : \n",
        "        print('Thank You.Items in your cart :')\n",
        "        for j in cart:\n",
        "            print(j, end=\" \")\n",
        "                \n",
        "        break\n",
        "    "
      ],
      "execution_count": null,
      "outputs": [
        {
          "output_type": "stream",
          "text": [
            "1:Tomato, 2:Onion, 3:Pepper, 4:Milk, 5:Egg, 6:Apple, 7:Pear, q:Exit                 \n",
            "Enter the code number of your products:1\n",
            "Tomato added your cart.\n",
            "1:Tomato, 2:Onion, 3:Pepper, 4:Milk, 5:Egg, 6:Apple, 7:Pear, q:Exit                 \n",
            "Enter the code number of your products:2\n",
            "Onion added your cart.\n",
            "1:Tomato, 2:Onion, 3:Pepper, 4:Milk, 5:Egg, 6:Apple, 7:Pear, q:Exit                 \n",
            "Enter the code number of your products:3\n",
            "Pepper added your cart.\n",
            "1:Tomato, 2:Onion, 3:Pepper, 4:Milk, 5:Egg, 6:Apple, 7:Pear, q:Exit                 \n",
            "Enter the code number of your products:q\n",
            "Thank You.Items in your cart :\n",
            "Egg Tomato Onion Pepper "
          ],
          "name": "stdout"
        }
      ]
    },
    {
      "cell_type": "code",
      "metadata": {
        "id": "50k_RwMnyqJ4"
      },
      "source": [
        ""
      ],
      "execution_count": null,
      "outputs": []
    },
    {
      "cell_type": "code",
      "metadata": {
        "id": "Smeagz2eyqNB"
      },
      "source": [
        "products = {1 : 'Tomato', 2 : 'Onion', 3 : 'Pepper', 4 : 'Milk', 5 : 'Egg', 6 : 'Apple', 7 : 'Pear', 'q' : 'Exit'}"
      ],
      "execution_count": null,
      "outputs": []
    },
    {
      "cell_type": "code",
      "metadata": {
        "colab": {
          "base_uri": "https://localhost:8080/"
        },
        "id": "3FLoLLPMyqPo",
        "outputId": "98d087a2-930b-48b8-9021-cd04d0b6ec64"
      },
      "source": [
        "cart = []\n",
        "cart.append(products[2])\n",
        "cart"
      ],
      "execution_count": null,
      "outputs": [
        {
          "output_type": "execute_result",
          "data": {
            "text/plain": [
              "['Onion']"
            ]
          },
          "metadata": {
            "tags": []
          },
          "execution_count": 16
        }
      ]
    },
    {
      "cell_type": "code",
      "metadata": {
        "colab": {
          "base_uri": "https://localhost:8080/"
        },
        "id": "BDSyxcD1yqSf",
        "outputId": "d2622845-00df-4b08-bcc2-cceeaf26c661"
      },
      "source": [
        "cart = [1, 4, 5, 6,]\n",
        "cart[1]"
      ],
      "execution_count": null,
      "outputs": [
        {
          "output_type": "execute_result",
          "data": {
            "text/plain": [
              "4"
            ]
          },
          "metadata": {
            "tags": []
          },
          "execution_count": 22
        }
      ]
    },
    {
      "cell_type": "code",
      "metadata": {
        "colab": {
          "base_uri": "https://localhost:8080/",
          "height": 167
        },
        "id": "GgK0_GyhyqV4",
        "outputId": "cddf1170-bd96-46e2-d66a-9a0ab5643e3f"
      },
      "source": [
        "int('')"
      ],
      "execution_count": null,
      "outputs": [
        {
          "output_type": "error",
          "ename": "ValueError",
          "evalue": "ignored",
          "traceback": [
            "\u001b[0;31m---------------------------------------------------------------------------\u001b[0m",
            "\u001b[0;31mValueError\u001b[0m                                Traceback (most recent call last)",
            "\u001b[0;32m<ipython-input-8-127aaace2233>\u001b[0m in \u001b[0;36m<module>\u001b[0;34m()\u001b[0m\n\u001b[0;32m----> 1\u001b[0;31m \u001b[0mint\u001b[0m\u001b[0;34m(\u001b[0m\u001b[0;34m'q'\u001b[0m\u001b[0;34m)\u001b[0m\u001b[0;34m\u001b[0m\u001b[0;34m\u001b[0m\u001b[0m\n\u001b[0m",
            "\u001b[0;31mValueError\u001b[0m: invalid literal for int() with base 10: 'q'"
          ]
        }
      ]
    }
  ]
}