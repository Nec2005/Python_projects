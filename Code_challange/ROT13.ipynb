{
 "cells": [
  {
   "cell_type": "markdown",
   "id": "61d16613",
   "metadata": {},
   "source": [
    "ROT13 is a simple letter substitution cipher that replaces a letter with the letter 13 letters after it in the alphabet. ROT13 is an example of the Caesar cipher.\n",
    "\n",
    "Create a function that takes a string and returns the string ciphered with Rot13. If there are numbers or special characters included in the string, they should be returned as they are. Only letters from the latin/english alphabet should be shifted, like in the original Rot13 \n",
    "\n",
    "Please note that using encode is considered cheating.\n",
    "\n",
    "\n",
    "rot13(\"test\") ====> \"grfg\"\n",
    "\n",
    "rot13(\"Test\") =====> \"Grfg\"\n",
    "\n",
    "rot13('This is an encrypted message!') =====> 'Guvf vf na rapelcgrq zrffntr!'"
   ]
  },
  {
   "cell_type": "code",
   "execution_count": 12,
   "id": "a4f262dd",
   "metadata": {},
   "outputs": [
    {
     "data": {
      "text/plain": [
       "'Guvf vf na rapelcgrq zrffntr!'"
      ]
     },
     "execution_count": 12,
     "metadata": {},
     "output_type": "execute_result"
    }
   ],
   "source": [
    "def rot13(message):\n",
    "    # import string\n",
    "    # alph = string.ascii_lowercase\n",
    "    \n",
    "    alph = 'abcdefghijklmnopqrstuvwxyz'\n",
    "    new = \"\"\n",
    "\n",
    "    for i in message:\n",
    "        if not i.isalpha():           \n",
    "            new += i\n",
    "\n",
    "        else:\n",
    "            indx = alph.find(i.lower())\n",
    "            if indx < 13:\n",
    "                new_indx = indx + 13\n",
    "                new += alph[new_indx].upper() if i.isupper() else alph[new_indx]\n",
    "            else:\n",
    "                new_indx = indx - 13\n",
    "                new += alph[new_indx].upper() if i.isupper() else alph[new_indx]\n",
    "    return new\n",
    "\n",
    "rot13('This is an encrypted message!')"
   ]
  },
  {
   "cell_type": "code",
   "execution_count": 1,
   "id": "8018c3eb",
   "metadata": {},
   "outputs": [],
   "source": [
    "# import string\n",
    "# alph = string.ascii_lowercase\n",
    "# alph"
   ]
  },
  {
   "cell_type": "code",
   "execution_count": 17,
   "id": "067f4fe4",
   "metadata": {},
   "outputs": [
    {
     "data": {
      "text/plain": [
       "12"
      ]
     },
     "execution_count": 17,
     "metadata": {},
     "output_type": "execute_result"
    }
   ],
   "source": [
    "alph.find('m')"
   ]
  },
  {
   "cell_type": "code",
   "execution_count": 16,
   "id": "26405a71",
   "metadata": {},
   "outputs": [
    {
     "data": {
      "text/plain": [
       "'G'"
      ]
     },
     "execution_count": 16,
     "metadata": {},
     "output_type": "execute_result"
    }
   ],
   "source": [
    "alph[6].upper()"
   ]
  },
  {
   "cell_type": "code",
   "execution_count": 13,
   "id": "b3c3bf09",
   "metadata": {},
   "outputs": [
    {
     "data": {
      "text/plain": [
       "26"
      ]
     },
     "execution_count": 13,
     "metadata": {},
     "output_type": "execute_result"
    }
   ],
   "source": [
    "len(alph)"
   ]
  },
  {
   "cell_type": "code",
   "execution_count": null,
   "id": "d3252442",
   "metadata": {},
   "outputs": [],
   "source": []
  },
  {
   "cell_type": "code",
   "execution_count": 2,
   "id": "5c842ac9",
   "metadata": {},
   "outputs": [
    {
     "data": {
      "text/plain": [
       "'abcdefghijklmnopqrstuvwxyz'"
      ]
     },
     "execution_count": 2,
     "metadata": {},
     "output_type": "execute_result"
    }
   ],
   "source": [
    "alph = string.ascii_lowercase\n",
    "alph"
   ]
  },
  {
   "cell_type": "code",
   "execution_count": 7,
   "id": "cf73360a",
   "metadata": {},
   "outputs": [
    {
     "data": {
      "text/plain": [
       "'O'"
      ]
     },
     "execution_count": 7,
     "metadata": {},
     "output_type": "execute_result"
    }
   ],
   "source": [
    "alph[-12].upper()"
   ]
  },
  {
   "cell_type": "code",
   "execution_count": 6,
   "id": "0687a731",
   "metadata": {},
   "outputs": [
    {
     "data": {
      "text/plain": [
       "-1"
      ]
     },
     "execution_count": 6,
     "metadata": {},
     "output_type": "execute_result"
    }
   ],
   "source": [
    "alph.find('T')"
   ]
  },
  {
   "cell_type": "code",
   "execution_count": 9,
   "id": "540845f6",
   "metadata": {},
   "outputs": [
    {
     "data": {
      "text/plain": [
       "'GrfG naq FbyiR!'"
      ]
     },
     "execution_count": 9,
     "metadata": {},
     "output_type": "execute_result"
    }
   ],
   "source": [
    "new = \"\"\n",
    "\n",
    "for i in message:\n",
    "    if not i.isalpha():           \n",
    "        new += i\n",
    "    \n",
    "    else:\n",
    "        indx = alph.find(i.lower())\n",
    "        if indx < 13:\n",
    "            new_indx = indx + 13\n",
    "            new += alph[new_indx].upper() if i.isupper() else alph[new_indx]\n",
    "        else:\n",
    "            new_indx = indx - 13\n",
    "            new += alph[new_indx].upper() if i.isupper() else alph[new_indx]\n",
    "        \n",
    "new"
   ]
  },
  {
   "cell_type": "code",
   "execution_count": 4,
   "id": "c8016a3c",
   "metadata": {},
   "outputs": [
    {
     "data": {
      "text/plain": [
       "True"
      ]
     },
     "execution_count": 4,
     "metadata": {},
     "output_type": "execute_result"
    }
   ],
   "source": [
    "'T'.isupper()"
   ]
  },
  {
   "cell_type": "code",
   "execution_count": null,
   "id": "933ba17d",
   "metadata": {},
   "outputs": [],
   "source": []
  },
  {
   "cell_type": "code",
   "execution_count": null,
   "id": "1b0f5e51",
   "metadata": {},
   "outputs": [],
   "source": []
  }
 ],
 "metadata": {
  "kernelspec": {
   "display_name": "Python 3 (ipykernel)",
   "language": "python",
   "name": "python3"
  },
  "language_info": {
   "codemirror_mode": {
    "name": "ipython",
    "version": 3
   },
   "file_extension": ".py",
   "mimetype": "text/x-python",
   "name": "python",
   "nbconvert_exporter": "python",
   "pygments_lexer": "ipython3",
   "version": "3.9.6"
  }
 },
 "nbformat": 4,
 "nbformat_minor": 5
}
