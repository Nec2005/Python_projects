{
  "nbformat": 4,
  "nbformat_minor": 0,
  "metadata": {
    "colab": {
      "name": "Codes_Stretched Words_Anagrams.ipynb",
      "provenance": [],
      "collapsed_sections": []
    },
    "kernelspec": {
      "name": "python3",
      "display_name": "Python 3"
    },
    "language_info": {
      "name": "python"
    }
  },
  "cells": [
    {
      "cell_type": "markdown",
      "metadata": {
        "id": "tLRXmEwEnKC2"
      },
      "source": [
        "\n",
        "Given a list of strings, group anagrams together.\n",
        "Example:\n",
        "Input:\n",
        "[\"eat\", \"tea\", \"tan\", \"ate\", \"nat\", \"bat\"]\n",
        "Output:\n",
        "[\n",
        "  [\"ate\",\"eat\",\"tea\"],\n",
        "  [\"nat\",\"tan\"],\n",
        "  [\"bat\"]\n",
        "]\n",
        "Note:\n",
        "All inputs will be in lowercase.\n",
        "The order of your output does not matter."
      ]
    },
    {
      "cell_type": "code",
      "metadata": {
        "colab": {
          "base_uri": "https://localhost:8080/"
        },
        "id": "QmyMU6pjHUcC",
        "outputId": "494a5393-3ac3-480e-d8d0-46d1f1c433ab"
      },
      "source": [
        "anagrams = {}\n",
        "words = [\"eat\", \"tea\", \"tan\", \"ate\", \"nat\", \"bat\"]\n",
        "for i in words:\n",
        "    sorted_word = \"\".join(sorted(i))\n",
        "    if sorted_word in anagrams:\n",
        "        anagrams[sorted_word].append(i)\n",
        "    else:\n",
        "        anagrams[sorted_word] = [i]\n",
        "print(list(anagrams.values()))\n",
        "print(list(anagrams.keys()))\n",
        "anagrams"
      ],
      "execution_count": 44,
      "outputs": [
        {
          "output_type": "stream",
          "text": [
            "[['eat', 'tea', 'ate'], ['tan', 'nat'], ['bat']]\n",
            "['aet', 'ant', 'abt']\n"
          ],
          "name": "stdout"
        },
        {
          "output_type": "execute_result",
          "data": {
            "text/plain": [
              "{'abt': ['bat'], 'aet': ['eat', 'tea', 'ate'], 'ant': ['tan', 'nat']}"
            ]
          },
          "metadata": {
            "tags": []
          },
          "execution_count": 44
        }
      ]
    },
    {
      "cell_type": "code",
      "metadata": {
        "id": "g0bz6CrkHULP"
      },
      "source": [
        ""
      ],
      "execution_count": null,
      "outputs": []
    },
    {
      "cell_type": "code",
      "metadata": {
        "colab": {
          "base_uri": "https://localhost:8080/"
        },
        "id": "u8UIPNCT5ucV",
        "outputId": "f8b9c1f2-6e92-4a46-f4f3-e735a4be8ee8"
      },
      "source": [
        "words = [\"eat\", \"tea\", \"tan\", \"ate\", \"nat\", \"bat\"]\n",
        "a = sorted(\"tea\")\n",
        "b = sorted(\"eat\")\n",
        "c = sorted(\"ate"
      ],
      "execution_count": null,
      "outputs": [
        {
          "output_type": "execute_result",
          "data": {
            "text/plain": [
              "True"
            ]
          },
          "metadata": {
            "tags": []
          },
          "execution_count": 14
        }
      ]
    },
    {
      "cell_type": "code",
      "metadata": {
        "id": "4j_KaYLG-VIj"
      },
      "source": [
        ""
      ],
      "execution_count": null,
      "outputs": []
    },
    {
      "cell_type": "code",
      "metadata": {
        "colab": {
          "base_uri": "https://localhost:8080/"
        },
        "id": "Yzn1lCVC6M2N",
        "outputId": "7f21eb44-8fe3-4954-8536-5a6e1d2db115"
      },
      "source": [
        "string_ = [\"eat\", \"tea\", \"tan\", \"ate\", \"nat\", \"bat\"]\n",
        "new_dict = {}\n",
        "for i in string_:\n",
        "    x = \"\".join(sorted(i))\n",
        "    new_dict[x]=[]\n",
        "print(new_dict)\n",
        "for i in string_:\n",
        "    x= \"\".join(sorted(i))\n",
        "    if x in new_dict:\n",
        "        new_dict[x].append(i)\n",
        "print(new_dict)\n",
        "print(list(new_dict.values()))"
      ],
      "execution_count": null,
      "outputs": [
        {
          "output_type": "stream",
          "text": [
            "{'aet': [], 'ant': [], 'abt': []}\n",
            "{'aet': ['eat', 'tea', 'ate'], 'ant': ['tan', 'nat'], 'abt': ['bat']}\n",
            "[['eat', 'tea', 'ate'], ['tan', 'nat'], ['bat']]\n"
          ],
          "name": "stdout"
        }
      ]
    },
    {
      "cell_type": "code",
      "metadata": {
        "id": "ivAHa32K6Mx9"
      },
      "source": [
        ""
      ],
      "execution_count": null,
      "outputs": []
    },
    {
      "cell_type": "markdown",
      "metadata": {
        "id": "BhT2Vl3qw6Ef"
      },
      "source": [
        "Stretched Words\n",
        "Write a function that takes a string, and returns a new string with any duplicate consecutive letters removed.\n",
        "\n",
        "unstretch(\"ppoeemm\") ➞ \"poem\"\n",
        "\n",
        "unstretch(\"wiiiinnnnd\") ➞ \"wind\"\n",
        "\n",
        "unstretch(\"ttiiitllleeee\") ➞ \"title\"\n",
        "\n",
        "unstretch(\"cccccaaarrrbbonnnnn\") ➞ \"carbon\""
      ]
    },
    {
      "cell_type": "code",
      "metadata": {
        "colab": {
          "base_uri": "https://localhost:8080/"
        },
        "id": "1R_GEdyd-0J9",
        "outputId": "b822d2d4-868b-4c3d-d457-1cbdf978f821"
      },
      "source": [
        "text = input('Enter a text : ')\n",
        "combine = ''\n",
        "for i in text:\n",
        "    if i not in combine:\n",
        "        combine += i\n",
        "print(combine)"
      ],
      "execution_count": 9,
      "outputs": [
        {
          "output_type": "stream",
          "text": [
            "Enter a text : dddfffgeeertttt\n",
            "dfgert\n"
          ],
          "name": "stdout"
        }
      ]
    },
    {
      "cell_type": "code",
      "metadata": {
        "id": "leLqQKkE-0OK"
      },
      "source": [
        "def unstretch(word):\n",
        "\treturn word[0]+\"\".join(word[i] for i in range(1,len(word)) if word[i]!=word[i-1])"
      ],
      "execution_count": 18,
      "outputs": []
    },
    {
      "cell_type": "code",
      "metadata": {
        "colab": {
          "base_uri": "https://localhost:8080/",
          "height": 35
        },
        "id": "lKkKTcIxmSQG",
        "outputId": "6bcee82b-5f0d-49ff-8467-157df6764cc1"
      },
      "source": [
        "unstretch('nnnneeeccckkkkk')"
      ],
      "execution_count": 20,
      "outputs": [
        {
          "output_type": "execute_result",
          "data": {
            "application/vnd.google.colaboratory.intrinsic+json": {
              "type": "string"
            },
            "text/plain": [
              "'neck'"
            ]
          },
          "metadata": {
            "tags": []
          },
          "execution_count": 20
        }
      ]
    },
    {
      "cell_type": "code",
      "metadata": {
        "colab": {
          "base_uri": "https://localhost:8080/",
          "height": 35
        },
        "id": "8xYmn7_pjYS7",
        "outputId": "c64296e7-1b58-4292-dc72-1dbc1042788d"
      },
      "source": [
        "combine = ''\n",
        "combine = combine + 'd'\n"
      ],
      "execution_count": 2,
      "outputs": [
        {
          "output_type": "execute_result",
          "data": {
            "application/vnd.google.colaboratory.intrinsic+json": {
              "type": "string"
            },
            "text/plain": [
              "'d'"
            ]
          },
          "metadata": {
            "tags": []
          },
          "execution_count": 2
        }
      ]
    },
    {
      "cell_type": "code",
      "metadata": {
        "colab": {
          "base_uri": "https://localhost:8080/",
          "height": 35
        },
        "id": "BMjRKN25jYPc",
        "outputId": "27963fe8-8e8f-48a1-a994-2eb1f5f38224"
      },
      "source": [
        "combine += 'e'\n",
        "combine += 'f'\n",
        "combine += 'g'\n",
        "combine"
      ],
      "execution_count": 40,
      "outputs": [
        {
          "output_type": "execute_result",
          "data": {
            "application/vnd.google.colaboratory.intrinsic+json": {
              "type": "string"
            },
            "text/plain": [
              "'dfgertefg'"
            ]
          },
          "metadata": {
            "tags": []
          },
          "execution_count": 40
        }
      ]
    },
    {
      "cell_type": "code",
      "metadata": {
        "id": "zq_8aMRnjYLM"
      },
      "source": [
        ""
      ],
      "execution_count": null,
      "outputs": []
    }
  ]
}