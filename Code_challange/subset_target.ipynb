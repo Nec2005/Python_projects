{
 "cells": [
  {
   "cell_type": "markdown",
   "source": [
    "This problem was asked by Google.\r\n",
    "Given a list of integers S and a target number k, write a function that\r\n",
    "returns a subset of S that adds up to k. If such a subset cannot be made,\r\n",
    "then return null.\r\n",
    "Integers can appear more than once in the list. You may assume all numbers\r\n",
    "in the list are positive.\r\n",
    "For example, given S = [12, 1, 61, 5, 9, 2] and k = 24, return [12, 9, 2,\r\n",
    "1] since it sums up to 24."
   ],
   "metadata": {}
  },
  {
   "cell_type": "code",
   "execution_count": 2,
   "source": [
    "S = [12, 1, 61, 5, 9, 2]"
   ],
   "outputs": [],
   "metadata": {}
  },
  {
   "cell_type": "code",
   "execution_count": 21,
   "source": [
    "S.sort(reverse=True)\r\n",
    "S"
   ],
   "outputs": [
    {
     "output_type": "execute_result",
     "data": {
      "text/plain": [
       "[61, 12, 9, 5, 2, 1]"
      ]
     },
     "metadata": {},
     "execution_count": 21
    }
   ],
   "metadata": {}
  },
  {
   "cell_type": "code",
   "execution_count": 20,
   "source": [
    "S = [12, 1, 61, 5, 9, 2]\r\n",
    "S.sort(reverse=True)\r\n",
    "new = []\r\n",
    "k = 24\r\n",
    "for i in S :\r\n",
    "    new.append(i)\r\n",
    "    if sum(new) > k :\r\n",
    "        new.remove(i)\r\n",
    "    if sum(new)== k:\r\n",
    "        print(new)"
   ],
   "outputs": [
    {
     "output_type": "stream",
     "name": "stdout",
     "text": [
      "[12, 9, 2, 1]\n"
     ]
    }
   ],
   "metadata": {}
  },
  {
   "cell_type": "code",
   "execution_count": 21,
   "source": [
    "def sublist_target(lst, k):\r\n",
    "    new = []\r\n",
    "    lst.sort(reverse=True)\r\n",
    "    for i in lst:\r\n",
    "        new.append(i)\r\n",
    "        if sum(new) > k :\r\n",
    "            new.remove(i)\r\n",
    "        if sum(new) == k:\r\n",
    "            return new\r\n",
    "\r\n",
    "\r\n",
    "            \r\n",
    "sublist_target([12, 1, 61, 5, 9, 2], 24)"
   ],
   "outputs": [
    {
     "output_type": "execute_result",
     "data": {
      "text/plain": [
       "[12, 9, 2, 1]"
      ]
     },
     "metadata": {},
     "execution_count": 21
    }
   ],
   "metadata": {}
  },
  {
   "cell_type": "code",
   "execution_count": 8,
   "source": [
    "print(type(S.sort(reverse=True)))"
   ],
   "outputs": [
    {
     "output_type": "stream",
     "name": "stdout",
     "text": [
      "<class 'NoneType'>\n"
     ]
    }
   ],
   "metadata": {}
  },
  {
   "cell_type": "code",
   "execution_count": null,
   "source": [],
   "outputs": [],
   "metadata": {}
  }
 ],
 "metadata": {
  "orig_nbformat": 4,
  "language_info": {
   "name": "python",
   "version": "3.9.7",
   "mimetype": "text/x-python",
   "codemirror_mode": {
    "name": "ipython",
    "version": 3
   },
   "pygments_lexer": "ipython3",
   "nbconvert_exporter": "python",
   "file_extension": ".py"
  },
  "kernelspec": {
   "name": "python3",
   "display_name": "Python 3.9.7 64-bit (windows store)"
  },
  "interpreter": {
   "hash": "91e309b0d6f9bd13113d0dab55954c7a828cac190944509a12384aacede56c3d"
  }
 },
 "nbformat": 4,
 "nbformat_minor": 2
}