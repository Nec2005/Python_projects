{
  "nbformat": 4,
  "nbformat_minor": 0,
  "metadata": {
    "colab": {
      "name": "Harshad number",
      "provenance": [],
      "collapsed_sections": []
    },
    "kernelspec": {
      "name": "python3",
      "display_name": "Python 3"
    },
    "language_info": {
      "name": "python"
    }
  },
  "cells": [
    {
      "cell_type": "markdown",
      "metadata": {
        "id": "Fibd7Kne2s2k"
      },
      "source": [
        "A number is said to be Harshad if it's exactly divisible by the sum of its digits. Create a function that determines whether a number is a Harshad or not.\n",
        "\n",
        "is_harshad(75) ➞ False\n",
        "# 7 + 5 = 12\n",
        "# 75 is not exactly divisible by 12\n",
        " \n",
        "is_harshad(171) ➞ True\n",
        "# 1 + 7 + 1 = 9\n",
        "# 9 exactly divides 171\n",
        " \n",
        "is_harshad(481) ➞ True\n",
        "\n",
        "is_harshad(89) ➞ False\n",
        "\n",
        "is_harshad(516) ➞ True\n",
        "\n",
        "is_harshad(200) ➞ True"
      ]
    },
    {
      "cell_type": "markdown",
      "metadata": {
        "id": "N-hF6_KC9o9S"
      },
      "source": [
        ""
      ]
    },
    {
      "cell_type": "code",
      "metadata": {
        "id": "Y3LnxWrM2sn9"
      },
      "source": [
        "def is_harshad(x) :\n",
        "    sum_x = 0\n",
        "    for i in (str(x)) :\n",
        "        sum_x += int(i)\n",
        "    if x % sum_x == 0 :\n",
        "        print('True') \n",
        "    else :\n",
        "        print('False')"
      ],
      "execution_count": null,
      "outputs": []
    },
    {
      "cell_type": "code",
      "metadata": {
        "colab": {
          "base_uri": "https://localhost:8080/"
        },
        "id": "vz0mKcGX3gbT",
        "outputId": "40f888c3-4ef3-423b-c54b-2e6b06820c60"
      },
      "source": [
        "is_harshad(171)"
      ],
      "execution_count": null,
      "outputs": [
        {
          "output_type": "stream",
          "text": [
            "True\n"
          ],
          "name": "stdout"
        }
      ]
    },
    {
      "cell_type": "code",
      "metadata": {
        "colab": {
          "base_uri": "https://localhost:8080/"
        },
        "id": "K7nX0Gh83gWt",
        "outputId": "5df2ba83-453f-4c34-d725-8e53a88e0c4b"
      },
      "source": [
        "x = 171\n",
        "sum_x = 0\n",
        "for i in (str(x)) :\n",
        "    sum_x += int(i)\n",
        "if x % sum_x == 0 :\n",
        "  print('True') \n",
        "else :\n",
        "  print('False')\n",
        "\n",
        "\n"
      ],
      "execution_count": null,
      "outputs": [
        {
          "output_type": "stream",
          "text": [
            "True\n"
          ],
          "name": "stdout"
        }
      ]
    },
    {
      "cell_type": "code",
      "metadata": {
        "colab": {
          "base_uri": "https://localhost:8080/",
          "height": 167
        },
        "id": "0yr9wrOb5XEk",
        "outputId": "efcfae09-ec45-42aa-bb4f-3cb119ce90ba"
      },
      "source": [
        "sum()"
      ],
      "execution_count": null,
      "outputs": [
        {
          "output_type": "error",
          "ename": "TypeError",
          "evalue": "ignored",
          "traceback": [
            "\u001b[0;31m---------------------------------------------------------------------------\u001b[0m",
            "\u001b[0;31mTypeError\u001b[0m                                 Traceback (most recent call last)",
            "\u001b[0;32m<ipython-input-8-3e45cc959e70>\u001b[0m in \u001b[0;36m<module>\u001b[0;34m()\u001b[0m\n\u001b[0;32m----> 1\u001b[0;31m \u001b[0msum\u001b[0m\u001b[0;34m(\u001b[0m\u001b[0mint\u001b[0m\u001b[0;34m(\u001b[0m\u001b[0mlist\u001b[0m\u001b[0;34m(\u001b[0m\u001b[0;34m'324'\u001b[0m\u001b[0;34m)\u001b[0m\u001b[0;34m)\u001b[0m\u001b[0;34m)\u001b[0m\u001b[0;34m\u001b[0m\u001b[0;34m\u001b[0m\u001b[0m\n\u001b[0m",
            "\u001b[0;31mTypeError\u001b[0m: int() argument must be a string, a bytes-like object or a number, not 'list'"
          ]
        }
      ]
    },
    {
      "cell_type": "code",
      "metadata": {
        "id": "GEnX9VFB2dj5"
      },
      "source": [
        "481 % 13"
      ],
      "execution_count": null,
      "outputs": []
    }
  ]
}