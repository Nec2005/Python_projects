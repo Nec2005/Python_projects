{
 "cells": [
  {
   "cell_type": "markdown",
   "id": "0351e1c5",
   "metadata": {},
   "source": [
    "Problem :\n",
    "Given a collection of distinct integers, return all possible permutations.\n",
    "Example:\n",
    "\n",
    "Input:\n",
    "[1,2,3]\n",
    "\n",
    "Output:\n",
    "[\n",
    "  [1,2,3],\n",
    "  [1,3,2],\n",
    "  [2,1,3],\n",
    "  [2,3,1],\n",
    "  [3,1,2],\n",
    "  [3,2,1]\n",
    "]"
   ]
  },
  {
   "cell_type": "code",
   "execution_count": 24,
   "id": "8f5bb2d3",
   "metadata": {},
   "outputs": [
    {
     "name": "stdout",
     "output_type": "stream",
     "text": [
      "{1: [1, 2, 3], 2: [1, 2, 3], 3: [1, 2, 3], 4: [1, 2, 3], 5: [1, 2, 3], 6: [1, 2, 3]}\n"
     ]
    }
   ],
   "source": [
    "list1 = [1, 2, 3]\n",
    "i = 1\n",
    "fact = 1\n",
    "while i < len(list1) + 1 :\n",
    "    fact *= i\n",
    "    i += 1\n",
    "i = 1\n",
    "fact_dict = {}\n",
    "while i < fact + 1:\n",
    "    fact_dict[i] = []\n",
    "    i += 1\n",
    "fact_dict\n",
    "count = 0\n",
    "for i in list1:\n",
    "       \n",
    "    for j in range(1, fact+1):\n",
    "        fact_dict[j].append(i)\n",
    "        count += 1\n",
    "    if count == fact//len(list1):\n",
    "        continue\n",
    "            \n",
    "\n",
    "print(fact_dict)\n"
   ]
  },
  {
   "cell_type": "code",
   "execution_count": 4,
   "id": "02a6d145",
   "metadata": {},
   "outputs": [
    {
     "data": {
      "text/plain": [
       "4"
      ]
     },
     "execution_count": 4,
     "metadata": {},
     "output_type": "execute_result"
    }
   ],
   "source": [
    "i"
   ]
  },
  {
   "cell_type": "code",
   "execution_count": null,
   "id": "73b0e637",
   "metadata": {},
   "outputs": [],
   "source": [
    "fact_dict = {1: [], 2: [], 3: [], 4: [], 5: [], 6: []}"
   ]
  },
  {
   "cell_type": "code",
   "execution_count": null,
   "id": "3cf3e5e5",
   "metadata": {},
   "outputs": [],
   "source": []
  },
  {
   "cell_type": "code",
   "execution_count": 10,
   "id": "0f49fce1",
   "metadata": {},
   "outputs": [
    {
     "name": "stdout",
     "output_type": "stream",
     "text": [
      "['orange']\n"
     ]
    }
   ],
   "source": [
    "fruits = []\n",
    "\n",
    "fruits.insert(2, \"orange\")\n",
    "\n",
    "print(fruits)"
   ]
  },
  {
   "cell_type": "code",
   "execution_count": null,
   "id": "3c39d7a4",
   "metadata": {},
   "outputs": [],
   "source": []
  },
  {
   "cell_type": "code",
   "execution_count": null,
   "id": "431c77aa",
   "metadata": {},
   "outputs": [],
   "source": [
    "fact_dict = {1: [1, 2, 3],\n",
    "             2: [1, 2, 3],\n",
    "             3: [1, 2, 3],\n",
    "             4: [1, 2, 3],\n",
    "             5: [1, 2, 3],\n",
    "             6: [1, 2, 3]}"
   ]
  },
  {
   "cell_type": "code",
   "execution_count": null,
   "id": "73cda9eb",
   "metadata": {},
   "outputs": [],
   "source": []
  }
 ],
 "metadata": {
  "kernelspec": {
   "display_name": "Python 3 (ipykernel)",
   "language": "python",
   "name": "python3"
  },
  "language_info": {
   "codemirror_mode": {
    "name": "ipython",
    "version": 3
   },
   "file_extension": ".py",
   "mimetype": "text/x-python",
   "name": "python",
   "nbconvert_exporter": "python",
   "pygments_lexer": "ipython3",
   "version": "3.9.6"
  }
 },
 "nbformat": 4,
 "nbformat_minor": 5
}
