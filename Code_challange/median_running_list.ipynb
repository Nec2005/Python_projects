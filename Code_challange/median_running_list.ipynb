{
 "cells": [
  {
   "cell_type": "markdown",
   "id": "e1b17d76",
   "metadata": {},
   "source": [
    "This problem was asked by Microsoft.\n",
    "Compute the running median of a sequence of numbers. That is, given a\n",
    "stream of numbers, print out the median of the list so far on each new\n",
    "element.\n",
    "Recall that the median of an even-numbered list is the average of the two\n",
    "middle numbers.\n",
    "For example, given the sequence [2, 1, 5, 7, 2, 0, 5], your algorithm\n",
    "should print out:\n",
    "2\n",
    "1.5\n",
    "2\n",
    "3.5\n",
    "2\n",
    "2\n",
    "2"
   ]
  },
  {
   "cell_type": "code",
   "execution_count": 60,
   "id": "e0c6cb43",
   "metadata": {},
   "outputs": [
    {
     "name": "stdout",
     "output_type": "stream",
     "text": [
      "2\n",
      "1.5\n",
      "2\n",
      "3.5\n",
      "2\n",
      "2.0\n",
      "2\n"
     ]
    }
   ],
   "source": [
    "def median(list1):\n",
    "\n",
    "    median_l = lambda lst: (lst[(len(lst)+1)//2] + lst[(len(lst)+1)//2 - 1])/2   if len(lst)%2 == 0 else lst[(len(lst)+1)//2 - 1]\n",
    "\n",
    "    new_list = []\n",
    "    for i in range(len(list1)):\n",
    "        new_list.append(list1[i])\n",
    "        print(median_l(sorted(new_list)))\n",
    "        \n",
    "median([2, 1, 5, 7, 2, 0, 5])"
   ]
  },
  {
   "cell_type": "code",
   "execution_count": 57,
   "id": "4f432e5c",
   "metadata": {},
   "outputs": [
    {
     "name": "stdout",
     "output_type": "stream",
     "text": [
      "2\n",
      "1.5\n",
      "2\n",
      "3.5\n",
      "2\n",
      "2.0\n",
      "2\n"
     ]
    }
   ],
   "source": [
    "\n",
    "median = lambda lst: (lst[(len(lst)+1)//2] + lst[(len(lst)+1)//2 - 1])/2   if len(lst)%2 == 0 else lst[(len(lst)+1)//2 - 1]\n",
    "\n",
    "list1 = [2, 1, 5, 7, 2, 0, 5]\n",
    "\n",
    "new_list = []\n",
    "for i in range(len(list1)):\n",
    "    new_list.append(list1[i])\n",
    "    print(median(sorted(new_list)))\n",
    "\n",
    "    \n",
    "    \n"
   ]
  },
  {
   "cell_type": "code",
   "execution_count": 56,
   "id": "2b766cb4",
   "metadata": {},
   "outputs": [
    {
     "name": "stdout",
     "output_type": "stream",
     "text": [
      "2\n",
      "1.5\n",
      "2\n",
      "3.5\n",
      "2\n",
      "2.0\n",
      "2\n"
     ]
    }
   ],
   "source": [
    "list1 = [2, 1, 5, 7, 2, 0, 5]\n",
    "\n",
    "new_list = []\n",
    "for i in range(len(list1)):\n",
    "    new_list.append(list1[i])\n",
    "    print(median(sorted(new_list)))"
   ]
  },
  {
   "cell_type": "code",
   "execution_count": null,
   "id": "7f284ddf",
   "metadata": {},
   "outputs": [],
   "source": [
    "list1 = [2, 1, 5, 7, 2, 0, 5]\n",
    "\n",
    "new_list = []\n",
    "for i in range(len(list1)):\n",
    "    new_list.append(list1[i])\n",
    "    print(median(sorted(new_list)))"
   ]
  },
  {
   "cell_type": "code",
   "execution_count": null,
   "id": "7cf9fd86",
   "metadata": {},
   "outputs": [],
   "source": []
  },
  {
   "cell_type": "code",
   "execution_count": 2,
   "id": "5e46f04c",
   "metadata": {},
   "outputs": [
    {
     "data": {
      "text/plain": [
       "[0, 1, 2, 2, 5, 5, 7]"
      ]
     },
     "execution_count": 2,
     "metadata": {},
     "output_type": "execute_result"
    }
   ],
   "source": [
    "sorted(list1)"
   ]
  },
  {
   "cell_type": "code",
   "execution_count": 20,
   "id": "a71c8c71",
   "metadata": {},
   "outputs": [
    {
     "data": {
      "text/plain": [
       "7"
      ]
     },
     "execution_count": 20,
     "metadata": {},
     "output_type": "execute_result"
    }
   ],
   "source": [
    "list1[(len(list1)+1)//2 - 1]"
   ]
  },
  {
   "cell_type": "code",
   "execution_count": 18,
   "id": "28d0e76c",
   "metadata": {},
   "outputs": [
    {
     "data": {
      "text/plain": [
       "4"
      ]
     },
     "execution_count": 18,
     "metadata": {},
     "output_type": "execute_result"
    }
   ],
   "source": [
    "(len(list1)+1)//2"
   ]
  },
  {
   "cell_type": "code",
   "execution_count": 19,
   "id": "910aaa01",
   "metadata": {},
   "outputs": [
    {
     "data": {
      "text/plain": [
       "2"
      ]
     },
     "execution_count": 19,
     "metadata": {},
     "output_type": "execute_result"
    }
   ],
   "source": [
    "list1[4]"
   ]
  },
  {
   "cell_type": "code",
   "execution_count": 46,
   "id": "7a2ef650",
   "metadata": {},
   "outputs": [],
   "source": [
    "median = lambda lst: (lst[(len(lst)+1)//2] + lst[(len(lst)+1)//2 - 1])/2   if len(lst)%2 == 0 else lst[(len(lst)+1)//2 - 1]"
   ]
  },
  {
   "cell_type": "code",
   "execution_count": 47,
   "id": "d59b3f35",
   "metadata": {},
   "outputs": [
    {
     "data": {
      "text/plain": [
       "7"
      ]
     },
     "execution_count": 47,
     "metadata": {},
     "output_type": "execute_result"
    }
   ],
   "source": [
    "median(list1)"
   ]
  },
  {
   "cell_type": "code",
   "execution_count": 48,
   "id": "6f555001",
   "metadata": {},
   "outputs": [
    {
     "data": {
      "text/plain": [
       "3.0"
      ]
     },
     "execution_count": 48,
     "metadata": {},
     "output_type": "execute_result"
    }
   ],
   "source": [
    "list2 = [2, 3, 3, 1]\n",
    "median(list2)"
   ]
  },
  {
   "cell_type": "code",
   "execution_count": 44,
   "id": "32cb95b4",
   "metadata": {},
   "outputs": [
    {
     "data": {
      "text/plain": [
       "1"
      ]
     },
     "execution_count": 44,
     "metadata": {},
     "output_type": "execute_result"
    }
   ],
   "source": [
    "3//2\n"
   ]
  }
 ],
 "metadata": {
  "kernelspec": {
   "display_name": "Python 3 (ipykernel)",
   "language": "python",
   "name": "python3"
  },
  "language_info": {
   "codemirror_mode": {
    "name": "ipython",
    "version": 3
   },
   "file_extension": ".py",
   "mimetype": "text/x-python",
   "name": "python",
   "nbconvert_exporter": "python",
   "pygments_lexer": "ipython3",
   "version": "3.9.6"
  }
 },
 "nbformat": 4,
 "nbformat_minor": 5
}
