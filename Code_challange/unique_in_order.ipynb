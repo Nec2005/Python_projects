{
 "cells": [
  {
   "cell_type": "markdown",
   "id": "dc66744d",
   "metadata": {},
   "source": [
    "Implement the function unique_in_order which takes as argument a sequence and returns a list of items without any elements with the same value next to each other and preserving the original order of elements.\n",
    "\n",
    "For example:\n",
    "\n",
    "unique_in_order('AAAABBBCCDAABBB') == ['A', 'B', 'C', 'D', 'A', 'B']\n",
    "\n",
    "unique_in_order('ABBCcAD')         == ['A', 'B', 'C', 'c', 'A', 'D']\n",
    "\n",
    "unique_in_order([1,2,2,3,3])       == [1,2,3]"
   ]
  },
  {
   "cell_type": "code",
   "execution_count": 1,
   "id": "17c0a0af",
   "metadata": {},
   "outputs": [],
   "source": [
    "def unique_in_order(args):\n",
    "    list1 = []\n",
    "    index = 1\n",
    "    for i in args :\n",
    "        if i != args[index]:\n",
    "            list1.append(i)\n",
    "        index += 1\n",
    "        if index == len(args):\n",
    "            if i != args[index-1]:\n",
    "                list1.append(args[index-1])\n",
    "            else :\n",
    "                list1.append(i)\n",
    "            break\n",
    "    return list1\n",
    "        "
   ]
  },
  {
   "cell_type": "code",
   "execution_count": 3,
   "id": "d9ae2b8d",
   "metadata": {},
   "outputs": [
    {
     "data": {
      "text/plain": [
       "[1, 2, 3]"
      ]
     },
     "execution_count": 3,
     "metadata": {},
     "output_type": "execute_result"
    }
   ],
   "source": [
    "unique_in_order([1,2,2,3,3])"
   ]
  },
  {
   "cell_type": "code",
   "execution_count": 87,
   "id": "ffb5191a",
   "metadata": {},
   "outputs": [
    {
     "data": {
      "text/plain": [
       "[1, 2, 3]"
      ]
     },
     "execution_count": 87,
     "metadata": {},
     "output_type": "execute_result"
    }
   ],
   "source": [
    "unique_in_order([1,2,2,3,3])"
   ]
  },
  {
   "cell_type": "code",
   "execution_count": 85,
   "id": "81c2a5ee",
   "metadata": {},
   "outputs": [
    {
     "name": "stdout",
     "output_type": "stream",
     "text": [
      "['A', 'B', 'C', 'D', 'A', 'B']\n"
     ]
    }
   ],
   "source": [
    "list2 = list('AAAABBBCCDAABBB')\n",
    "list1 = []\n",
    "index = 1\n",
    "for i in list2 :\n",
    "    if i != list2[index]:\n",
    "        list1.append(i)\n",
    "    index += 1\n",
    "    if index == len(list2):\n",
    "        list1.append(i)\n",
    "        break\n",
    "print(list1)"
   ]
  },
  {
   "cell_type": "code",
   "execution_count": null,
   "id": "8d59c42a",
   "metadata": {},
   "outputs": [],
   "source": []
  }
 ],
 "metadata": {
  "kernelspec": {
   "display_name": "Python 3 (ipykernel)",
   "language": "python",
   "name": "python3"
  },
  "language_info": {
   "codemirror_mode": {
    "name": "ipython",
    "version": 3
   },
   "file_extension": ".py",
   "mimetype": "text/x-python",
   "name": "python",
   "nbconvert_exporter": "python",
   "pygments_lexer": "ipython3",
   "version": "3.9.6"
  }
 },
 "nbformat": 4,
 "nbformat_minor": 5
}
