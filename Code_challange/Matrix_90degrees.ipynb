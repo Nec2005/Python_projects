{
 "cells": [
  {
   "cell_type": "markdown",
   "id": "9bcd0151",
   "metadata": {},
   "source": [
    "Given an N by N matrix, rotate it by 90 degrees clockwise. For example, given the following matrix:\n",
    "[[1, 2, 3],\n",
    "[4, 5, 6],\n",
    "[7, 8, 9]]\n",
    "You should return:\n",
    "[[7, 4, 1],\n",
    "[8, 5, 2],\n",
    "[9, 6, 3]]"
   ]
  },
  {
   "cell_type": "code",
   "execution_count": 27,
   "id": "e7f2f36a",
   "metadata": {},
   "outputs": [
    {
     "data": {
      "text/plain": [
       "[[7, 4, 1], [8, 5, 2], [9, 6, 3]]"
      ]
     },
     "execution_count": 27,
     "metadata": {},
     "output_type": "execute_result"
    }
   ],
   "source": [
    "matrix1 = [[1, 2, 3], [4, 5, 6], [7, 8, 9]]\n",
    "\n",
    "\n",
    "def rotate_list(matrix):\n",
    "    x, y = 0, 0\n",
    "    list1 = []\n",
    "    for i in range(len(matrix)):\n",
    "        list1.append([])\n",
    "        \n",
    "        # list1 =[[], [], []] \n",
    "    matrix.reverse() \n",
    "         # matrix1 =[[7, 8, 9], [4, 5, 6], [1, 2, 3]]\n",
    "    for i in range(len(matrix)*len(list1)):\n",
    "        list1[y].append(matrix[x][y])\n",
    "        x += 1\n",
    "        if x == len(matrix[0]) :\n",
    "            x = 0\n",
    "            y += 1\n",
    "    return list1\n",
    "\n",
    "rotate_list(matrix1)"
   ]
  },
  {
   "cell_type": "code",
   "execution_count": null,
   "id": "d03235a9",
   "metadata": {},
   "outputs": [],
   "source": []
  },
  {
   "cell_type": "code",
   "execution_count": null,
   "id": "9e5e0431",
   "metadata": {},
   "outputs": [],
   "source": []
  },
  {
   "cell_type": "code",
   "execution_count": null,
   "id": "a9c0a9bb",
   "metadata": {},
   "outputs": [],
   "source": []
  },
  {
   "cell_type": "code",
   "execution_count": 56,
   "id": "03b5f55f",
   "metadata": {},
   "outputs": [
    {
     "data": {
      "text/plain": [
       "[[7, 8, 9], [4, 5, 6], [1, 2, 3]]"
      ]
     },
     "execution_count": 56,
     "metadata": {},
     "output_type": "execute_result"
    }
   ],
   "source": [
    "matrix1.reverse()\n",
    "matrix1"
   ]
  },
  {
   "cell_type": "code",
   "execution_count": null,
   "id": "57dfb58c",
   "metadata": {},
   "outputs": [],
   "source": []
  },
  {
   "cell_type": "code",
   "execution_count": 28,
   "id": "e7e32fc4",
   "metadata": {},
   "outputs": [
    {
     "name": "stdout",
     "output_type": "stream",
     "text": [
      "[[7, 4, 1], [8, 5, 2], [9, 6, 3]]\n"
     ]
    }
   ],
   "source": [
    "a=[[1,2,3],[4,5,6],[7,8,9]]\n",
    "for i in range(len(a)):\n",
    "    for j in range(i,len(a)):\n",
    "        a[i][j], a[j][i] = a[j][i], a[i][j]\n",
    "for i in a:\n",
    "    i.reverse()\n",
    "print(a)"
   ]
  },
  {
   "cell_type": "code",
   "execution_count": null,
   "id": "c88948d3",
   "metadata": {},
   "outputs": [],
   "source": []
  },
  {
   "cell_type": "code",
   "execution_count": 29,
   "id": "029af30f",
   "metadata": {},
   "outputs": [
    {
     "data": {
      "text/plain": [
       "[[7, 4, 1], [8, 5, 2], [9, 6, 3]]"
      ]
     },
     "execution_count": 29,
     "metadata": {},
     "output_type": "execute_result"
    }
   ],
   "source": [
    "def rotate(matrixNN):\n",
    "  lst1 = []\n",
    "  k = 0\n",
    "  while k < len(matrixNN[0]):\n",
    "    lst2 = []\n",
    "    for i in matrixNN[::-1]:\n",
    "      lst2.append(i[k])\n",
    "    lst1.append(lst2)\n",
    "    k += 1\n",
    "  return lst1\n",
    "\n",
    "rotate([[1, 2, 3],[4, 5, 6],[7, 8, 9]])"
   ]
  },
  {
   "cell_type": "code",
   "execution_count": null,
   "id": "b5cb0a07",
   "metadata": {},
   "outputs": [],
   "source": []
  },
  {
   "cell_type": "code",
   "execution_count": null,
   "id": "6fe39147",
   "metadata": {},
   "outputs": [],
   "source": []
  },
  {
   "cell_type": "code",
   "execution_count": null,
   "id": "cab53dd8",
   "metadata": {},
   "outputs": [],
   "source": []
  }
 ],
 "metadata": {
  "kernelspec": {
   "display_name": "Python 3 (ipykernel)",
   "language": "python",
   "name": "python3"
  },
  "language_info": {
   "codemirror_mode": {
    "name": "ipython",
    "version": 3
   },
   "file_extension": ".py",
   "mimetype": "text/x-python",
   "name": "python",
   "nbconvert_exporter": "python",
   "pygments_lexer": "ipython3",
   "version": "3.9.6"
  }
 },
 "nbformat": 4,
 "nbformat_minor": 5
}
