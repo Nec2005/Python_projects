{
 "cells": [
  {
   "cell_type": "markdown",
   "id": "2564a9c8",
   "metadata": {},
   "source": [
    "String ends with?\n",
    "Complete the solution so that it returns true if the first argument(string) passed in ends with the 2nd argument (also a string).\n",
    "\n",
    "Examples:\n",
    "\n",
    "solution('abc', 'bc') # returns true\n",
    "solution('abc', 'd') # returns false"
   ]
  },
  {
   "cell_type": "code",
   "execution_count": 4,
   "id": "6780c7ff",
   "metadata": {},
   "outputs": [],
   "source": [
    "def solution(string, ending):\n",
    "    return string.endswith(ending)\n",
    " "
   ]
  },
  {
   "cell_type": "code",
   "execution_count": 5,
   "id": "fbd353ee",
   "metadata": {},
   "outputs": [
    {
     "data": {
      "text/plain": [
       "True"
      ]
     },
     "execution_count": 5,
     "metadata": {},
     "output_type": "execute_result"
    }
   ],
   "source": [
    "solution('abc', 'bc')"
   ]
  },
  {
   "cell_type": "markdown",
   "id": "7458f115",
   "metadata": {},
   "source": [
    "Who likes it?\n",
    "\n",
    "You probably know the \"like\" system from Facebook and other pages. People can \"like\" blog posts, pictures or other items. We want to create the text that should be displayed next to such an item.\n",
    "\n",
    "Implement the function likes which takes an array containing the names of people that like an item. It must return the display text as shown in the examples:\n",
    "\n",
    "likes([]) # must be \"no one likes this\"\n",
    "\n",
    "likes([\"Peter\"]) # must be \"Peter likes this\"\n",
    "\n",
    "likes([\"Jacob\", \"Alex\"]) # must be \"Jacob and Alex like this\"\n",
    "\n",
    "likes([\"Max\", \"John\", \"Mark\"]) # must be \"Max, John and Mark like this\"\n",
    "\n",
    "likes([\"Alex\", \"Jacob\", \"Mark\", \"Max\"]) # must be \"Alex, Jacob and 2 others like this\""
   ]
  },
  {
   "cell_type": "code",
   "execution_count": null,
   "id": "4854364d",
   "metadata": {},
   "outputs": [],
   "source": [
    "def likes(names):\n",
    "    # your code here\n",
    "    "
   ]
  },
  {
   "cell_type": "code",
   "execution_count": 19,
   "id": "f32563bf",
   "metadata": {},
   "outputs": [
    {
     "data": {
      "text/plain": [
       "'Alex, Jacob and 3 others like this'"
      ]
     },
     "execution_count": 19,
     "metadata": {},
     "output_type": "execute_result"
    }
   ],
   "source": [
    "# names = [\"Alex\", \"Jacob\", \"Mark\", \"Max\"]\n",
    "\n",
    "def likes(names):\n",
    "    if len(names) == 2:\n",
    "        return f\"{names[0]} and {names[1]} like this\"\n",
    "    \n",
    "    elif len(names) == 3:\n",
    "        return f\"{names[0]}, {names[1]} and {names[2]} like this\"\n",
    "    \n",
    "    elif len(names) > 3:\n",
    "        return f\"{names[0]}, {names[1]} and {len(names) - 2} others like this\"\n",
    "    \n",
    "    elif len(names) == 1:\n",
    "        return f\"{names[0]} likes this\"\n",
    "    \n",
    "    else:\n",
    "        return \"no one likes this\"\n",
    "    \n",
    "\n",
    "    \n",
    "likes([\"Alex\", \"Jacob\", \"Mark\", \"Max\", \"veli\"])"
   ]
  },
  {
   "cell_type": "code",
   "execution_count": 20,
   "id": "b4e62d64",
   "metadata": {},
   "outputs": [
    {
     "data": {
      "text/plain": [
       "'no one likes this'"
      ]
     },
     "execution_count": 20,
     "metadata": {},
     "output_type": "execute_result"
    }
   ],
   "source": [
    "likes([])"
   ]
  },
  {
   "cell_type": "code",
   "execution_count": null,
   "id": "03ee8d61",
   "metadata": {},
   "outputs": [],
   "source": []
  }
 ],
 "metadata": {
  "kernelspec": {
   "display_name": "Python 3 (ipykernel)",
   "language": "python",
   "name": "python3"
  },
  "language_info": {
   "codemirror_mode": {
    "name": "ipython",
    "version": 3
   },
   "file_extension": ".py",
   "mimetype": "text/x-python",
   "name": "python",
   "nbconvert_exporter": "python",
   "pygments_lexer": "ipython3",
   "version": "3.9.6"
  }
 },
 "nbformat": 4,
 "nbformat_minor": 5
}
