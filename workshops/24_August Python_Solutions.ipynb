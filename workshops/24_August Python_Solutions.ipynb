{
 "cells": [
  {
   "cell_type": "markdown",
   "id": "0f9b1fd0",
   "metadata": {},
   "source": [
    "# Answer-1\n",
    "\n",
    "Negatif olmayan iki sayı alınız ve bu iki sayı arasındaki sayılardan tek olanları key, karelerini de value olacak şekilde sözlük haline getiren bir fonksiyon yazınız. (Sayıların kendileri dahil!)"
   ]
  },
  {
   "cell_type": "code",
   "execution_count": 3,
   "id": "3648f1a2",
   "metadata": {},
   "outputs": [
    {
     "data": {
      "text/plain": [
       "{1: 1, 3: 9, 5: 25, 7: 49, 9: 81, 11: 121, 13: 169, 15: 225, 17: 289, 19: 361}"
      ]
     },
     "execution_count": 3,
     "metadata": {},
     "output_type": "execute_result"
    }
   ],
   "source": [
    "def kare_al(num1, num2):\n",
    "    sozluk = dict()\n",
    "    \n",
    "    for i in range(num1, num2+1):\n",
    "        if i%2 != 0:\n",
    "            sozluk[i] = i ** 2\n",
    "            \n",
    "    return sozluk\n",
    "\n",
    "kare_al(1, 20)"
   ]
  },
  {
   "cell_type": "markdown",
   "id": "d47272cb",
   "metadata": {},
   "source": [
    "# Answer-2\n",
    "\n",
    "Verilen bir kuruluşu oluşturan kelimelerin baş harflerini kullanarak kısaltma oluşturan bir fonksiyon yazınız."
   ]
  },
  {
   "cell_type": "code",
   "execution_count": 8,
   "id": "ef1762b5",
   "metadata": {},
   "outputs": [
    {
     "name": "stdout",
     "output_type": "stream",
     "text": [
      "TTO"
     ]
    }
   ],
   "source": [
    "def kisaltma(kurulus):\n",
    "    liste = []\n",
    "    kurulus = kurulus.title().split()\n",
    "    \n",
    "    for i in kurulus:\n",
    "        print(i[0], end=\"\")\n",
    "\n",
    "\n",
    "kisaltma(\"turk ticaret odasi\")"
   ]
  },
  {
   "cell_type": "markdown",
   "id": "a9ca7c9f",
   "metadata": {},
   "source": [
    "# Answer-3\n",
    "\n",
    "Ardışık sıfırlar ve birler:\n",
    "\n",
    "Bu sorunun amacı, yalnızca sıfırlar ve birlerden oluşan bir ikili diziyi analiz etmektir. Kodunuz, dizedeki en büyük ardışık sıfır ve birlerin sayısını bulmalıdır. Örneğin, dize verildiğinde:\n",
    "\n",
    "\"1001101000110\" Ardışık sıfırların en büyük sayısı 3'tür.\n",
    "\n",
    "\"1001101000110\" Ardışık birlerin en büyük sayısı 2'dir.\n",
    "\n",
    "Sıfırlar ve birler dizisi olan tek bir parametre alan ardışık_sıfırlar adlı bir işlev tanımlayın. İşleviniz yukarıda açıklanan numarayı döndürmelidir."
   ]
  },
  {
   "cell_type": "code",
   "execution_count": 13,
   "id": "a58d8c9f",
   "metadata": {},
   "outputs": [
    {
     "name": "stdout",
     "output_type": "stream",
     "text": [
      "Ardışık sıfırların en büyük sayısı:  3\n",
      "Ardışık sıfırların en büyük sayısı: 2\n"
     ]
    }
   ],
   "source": [
    "def ardisik_sayi(number):\n",
    "    number=str(number)\n",
    "    \n",
    "    number0 = number.split(\"1\")\n",
    "    number1 = number.split(\"0\")\n",
    "    \n",
    "    print(\"Ardışık sıfırların en büyük sayısı: \", len(max(number0)))\n",
    "    print(\"Ardışık sıfırların en büyük sayısı:\", len(max(number1)))\n",
    "    \n",
    "    \n",
    "\n",
    "ardisik_sayi(1001101000110)"
   ]
  },
  {
   "cell_type": "code",
   "execution_count": null,
   "id": "67937145",
   "metadata": {},
   "outputs": [],
   "source": []
  },
  {
   "cell_type": "markdown",
   "id": "f3636c1e",
   "metadata": {},
   "source": [
    "# Answer-4\n",
    "\n",
    "Parametre olarak negatif olmayan bir sayı alan \"format_number\" adında bir fonksiyon yazın.\n",
    "\n",
    "Fonksiyonunuz sayıyı bir stringe dönüştürmeli ve binlik ayırıcı olarak virgül eklemelidir.\n",
    "\n",
    "Örneğin, format_number(1000000) Output: \"1,000,000\" çıktısını vermelidir."
   ]
  },
  {
   "cell_type": "code",
   "execution_count": 22,
   "id": "8e382d13",
   "metadata": {},
   "outputs": [
    {
     "data": {
      "text/plain": [
       "'1,000,000'"
      ]
     },
     "execution_count": 22,
     "metadata": {},
     "output_type": "execute_result"
    }
   ],
   "source": [
    "def format_number(number):\n",
    "    number = str(number)\n",
    "    \n",
    "    liste = []\n",
    "    while number.isdigit():\n",
    "        liste.append(number[-3:])\n",
    "        number = number[:-3]\n",
    "    return number + \",\".join(reversed(liste))\n",
    "        \n",
    "        \n",
    "    \n",
    "    \n",
    "format_number(1000000)   "
   ]
  },
  {
   "cell_type": "code",
   "execution_count": null,
   "id": "42da5989",
   "metadata": {},
   "outputs": [],
   "source": []
  },
  {
   "cell_type": "markdown",
   "id": "bc1f8af7",
   "metadata": {},
   "source": [
    "# Answer-5\n",
    "\n",
    "Kullanıcıdan alınan bir text dizisinin tüm noktalama işaretlerini temizleyen bir fonksiyon yazınız.\n"
   ]
  },
  {
   "cell_type": "code",
   "execution_count": 23,
   "id": "b45d0aad",
   "metadata": {},
   "outputs": [
    {
     "data": {
      "text/plain": [
       "'Dışişleri Bakanı Çavuşoğlu İngiliz basınında yer alan Türkiyede iltica merkezi kurulacağına yönelik iddiaların gerçek dışı olduğunu söyledi '"
      ]
     },
     "execution_count": 23,
     "metadata": {},
     "output_type": "execute_result"
    }
   ],
   "source": [
    "import string\n",
    "\n",
    "def clean_text(text):\n",
    "    for i in string.punctuation:\n",
    "        if i in text:\n",
    "            text = text.replace(i, \"\")\n",
    "    return text\n",
    "    \n",
    "clean_text(\"Dışişleri Bakanı Çavuşoğlu, İngiliz basınında yer alan Türkiye'de iltica merkezi kurulacağına yönelik iddiaların gerçek dışı olduğunu söyledi. \")"
   ]
  },
  {
   "cell_type": "code",
   "execution_count": null,
   "id": "34ffdb94",
   "metadata": {},
   "outputs": [],
   "source": [
    "string.punctuation()"
   ]
  },
  {
   "cell_type": "code",
   "execution_count": null,
   "id": "7be4d264",
   "metadata": {},
   "outputs": [],
   "source": []
  },
  {
   "cell_type": "code",
   "execution_count": null,
   "id": "2d74bf02",
   "metadata": {},
   "outputs": [],
   "source": []
  },
  {
   "cell_type": "markdown",
   "id": "1903900c",
   "metadata": {},
   "source": [
    "# Answer-6\n",
    "\n",
    "Bir markete gittiniz. Markette her ürünün bir kod numarası var.\n",
    "1 : Domates 2 : Soğan 3 : Biber 4 : Yumurta 5 : Elma 6 : Armut ... vs. şeklinde.\n",
    "Kullanıcıya almak istediği ürünü sorunuz ve kod numarası ile seçim yaptırınız. Çıkış için \"q\" opsiyonunu sununuz. Kullanıcının her ürün seçimi sonrası \" .... domates sepete eklendi\" gibi bir dönüt veriniz. Kullanıcı ürün almaya devam ettikçe ürünleri bir listede toplayınız, almaktan vazgeçtiği durumda teşekkür edip, aldığı toplam ürünleri çıktı veren bir kod yazınız.\n",
    "Beklenen Çıktı:\n",
    "Teşekkür Ederiz...\n",
    "Sepetinizde Bulunan Ürünler: elma, armut, yumurta ... vs.\n"
   ]
  },
  {
   "cell_type": "code",
   "execution_count": 26,
   "id": "123d6b14",
   "metadata": {},
   "outputs": [
    {
     "name": "stdout",
     "output_type": "stream",
     "text": [
      "urun kodu giriniz, cikmak icin q'ya basiniz:2\n",
      "Onion sepetinize eklendi...\n",
      "urun kodu giriniz, cikmak icin q'ya basiniz:4\n",
      "Milk sepetinize eklendi...\n",
      "urun kodu giriniz, cikmak icin q'ya basiniz:q\n",
      "Yine bekleriz...\n",
      "Sepetinizdeki urunler:  ['Onion', 'Milk']\n"
     ]
    }
   ],
   "source": [
    "products = {1 : 'Tomato', 2 : 'Onion', 3 : 'Pepper', 4 : 'Milk', 5 : 'Egg', 6 : 'Apple', 7 : 'Pear', 'q' : 'Exit'}\n",
    "\n",
    "sepet = []\n",
    "\n",
    "while True :\n",
    "    \n",
    "    select = input(\"urun kodu giriniz, cikmak icin q'ya basiniz:\")\n",
    "    \n",
    "    if select == 'q' or select == 'Q':\n",
    "        print(\"Yine bekleriz...\")\n",
    "        break\n",
    "    elif int(select) in products:\n",
    "        sepet.append(products[int(select)])\n",
    "        print(products[int(select)], \"sepetinize eklendi...\")\n",
    "        \n",
    "    else:\n",
    "        print(\"Hatali giris yaptiniz, tekrar deneyiniz\")\n",
    "\n",
    "print('Sepetinizdeki urunler: ', sepet)   "
   ]
  },
  {
   "cell_type": "code",
   "execution_count": null,
   "id": "024f6341",
   "metadata": {},
   "outputs": [],
   "source": []
  },
  {
   "cell_type": "code",
   "execution_count": null,
   "id": "80c8b9cb",
   "metadata": {},
   "outputs": [],
   "source": []
  },
  {
   "cell_type": "code",
   "execution_count": 24,
   "id": "5c6da623",
   "metadata": {},
   "outputs": [
    {
     "name": "stdout",
     "output_type": "stream",
     "text": [
      "1:Tomato, 2:Onion, 3:Pepper, 4:Milk, 5:Egg, 6:Apple, 7:Pear, q:Exit                 \n",
      "Enter the code number of your products:1\n",
      "Tomato added your cart.\n",
      "1:Tomato, 2:Onion, 3:Pepper, 4:Milk, 5:Egg, 6:Apple, 7:Pear, q:Exit                 \n",
      "Enter the code number of your products:3\n",
      "Pepper added your cart.\n",
      "1:Tomato, 2:Onion, 3:Pepper, 4:Milk, 5:Egg, 6:Apple, 7:Pear, q:Exit                 \n",
      "Enter the code number of your products:5\n",
      "Egg added your cart.\n",
      "1:Tomato, 2:Onion, 3:Pepper, 4:Milk, 5:Egg, 6:Apple, 7:Pear, q:Exit                 \n",
      "Enter the code number of your products:6\n",
      "Apple added your cart.\n",
      "1:Tomato, 2:Onion, 3:Pepper, 4:Milk, 5:Egg, 6:Apple, 7:Pear, q:Exit                 \n",
      "Enter the code number of your products:q\n",
      "Thank You.Items in your cart :\n",
      "Tomato Pepper Egg Apple "
     ]
    }
   ],
   "source": [
    "products = {1 : 'Tomato', 2 : 'Onion', 3 : 'Pepper', 4 : 'Milk', 5 : 'Egg', 6 : 'Apple', 7 : 'Pear', 'q' : 'Exit'}\n",
    "\n",
    "ask = '1:Tomato, 2:Onion, 3:Pepper, 4:Milk, 5:Egg, 6:Apple, 7:Pear, q:Exit \\\n",
    "                \\nEnter the code number of your products:'\n",
    "\n",
    "cart = []\n",
    "\n",
    "chosen = input(ask)\n",
    "for i in products:\n",
    "    if chosen.isnumeric():\n",
    "        if int(chosen) == i:\n",
    "            cart.append(products[i])\n",
    "            print('{} added your cart.'.format(products[i]))\n",
    "            chosen = input(ask)\n",
    "    else : \n",
    "        print('Thank You.Items in your cart :')\n",
    "        for j in cart:\n",
    "            print(j, end=\" \")\n",
    "                \n",
    "        break\n",
    "    "
   ]
  },
  {
   "cell_type": "code",
   "execution_count": null,
   "id": "4fe8f355",
   "metadata": {},
   "outputs": [],
   "source": []
  },
  {
   "cell_type": "markdown",
   "id": "0bb7c2ea",
   "metadata": {},
   "source": [
    "# Answer-7\n",
    "\n",
    "1 Ocak 1900 tarihi Pazartesi günüdür.\n",
    "\n",
    "1 Ocak 1900 ile 31 Aralık 2000 arasında kaç tane pazar günü olduğunu hesaplayan python kodu yazınız.\n",
    "\n",
    "Soruyu datetime modülünü kullanarak çözünüz."
   ]
  },
  {
   "cell_type": "code",
   "execution_count": 27,
   "id": "214832c6",
   "metadata": {},
   "outputs": [],
   "source": [
    "from datetime import date"
   ]
  },
  {
   "cell_type": "code",
   "execution_count": 29,
   "id": "763aacee",
   "metadata": {},
   "outputs": [
    {
     "data": {
      "text/plain": [
       "36890"
      ]
     },
     "execution_count": 29,
     "metadata": {},
     "output_type": "execute_result"
    }
   ],
   "source": [
    "date1 = date(1900, 1, 1)\n",
    "date2 = date(2001, 1, 1)\n",
    "\n",
    "gun_sayisi = (date2 - date1).days\n",
    "gun_sayisi"
   ]
  },
  {
   "cell_type": "code",
   "execution_count": 32,
   "id": "f9cacc5c",
   "metadata": {},
   "outputs": [
    {
     "name": "stdout",
     "output_type": "stream",
     "text": [
      "5270\n"
     ]
    }
   ],
   "source": [
    "pazar_sayisi = gun_sayisi // 7\n",
    "    \n",
    "print(pazar_sayisi)"
   ]
  },
  {
   "cell_type": "code",
   "execution_count": null,
   "id": "7cb72616",
   "metadata": {},
   "outputs": [],
   "source": []
  },
  {
   "cell_type": "code",
   "execution_count": null,
   "id": "471c38e7",
   "metadata": {},
   "outputs": [],
   "source": []
  },
  {
   "cell_type": "code",
   "execution_count": null,
   "id": "e737cf95",
   "metadata": {},
   "outputs": [],
   "source": []
  },
  {
   "cell_type": "code",
   "execution_count": null,
   "id": "b0de8244",
   "metadata": {},
   "outputs": [],
   "source": []
  }
 ],
 "metadata": {
  "kernelspec": {
   "display_name": "Python 3 (ipykernel)",
   "language": "python",
   "name": "python3"
  },
  "language_info": {
   "codemirror_mode": {
    "name": "ipython",
    "version": 3
   },
   "file_extension": ".py",
   "mimetype": "text/x-python",
   "name": "python",
   "nbconvert_exporter": "python",
   "pygments_lexer": "ipython3",
   "version": "3.9.6"
  }
 },
 "nbformat": 4,
 "nbformat_minor": 5
}
