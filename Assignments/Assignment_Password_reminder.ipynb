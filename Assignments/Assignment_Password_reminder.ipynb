{
 "cells": [
  {
   "cell_type": "markdown",
   "id": "5396c368",
   "metadata": {},
   "source": [
    "Task : Let's say; you left a message in the past that prints a password you need. To see the password you wrote, you need to enter your name and the program should recognize you. Write a program that\n",
    "\n",
    "Takes the first name from the user and compares it to yours, Then if the name the user entered is the same as yours, print out such as : \"Hello, Joseph! The password is : W@12\", If the name the user entered is not the same as yours, print out such as : \"Hello, Amina! See you later.\""
   ]
  },
  {
   "cell_type": "code",
   "execution_count": 23,
   "id": "c675132b",
   "metadata": {},
   "outputs": [
    {
     "name": "stdout",
     "output_type": "stream",
     "text": [
      "Enter user name:tomas\n",
      "Hello, Tomas! The password is : Aw59+*\n"
     ]
    }
   ],
   "source": [
    "password = 'Aw59+*'\n",
    "name = 'Tomas'\n",
    "\n",
    "user_name = input('Enter user name:').title()\n",
    "if name == user_name :\n",
    "    print(f\"Hello, {user_name}! The password is : {password}\")\n",
    "else :\n",
    "    print(f\"Hello, {user_name}! See you later\")\n"
   ]
  }
 ],
 "metadata": {
  "kernelspec": {
   "display_name": "Python 3 (ipykernel)",
   "language": "python",
   "name": "python3"
  },
  "language_info": {
   "codemirror_mode": {
    "name": "ipython",
    "version": 3
   },
   "file_extension": ".py",
   "mimetype": "text/x-python",
   "name": "python",
   "nbconvert_exporter": "python",
   "pygments_lexer": "ipython3",
   "version": "3.9.6"
  }
 },
 "nbformat": 4,
 "nbformat_minor": 5
}
