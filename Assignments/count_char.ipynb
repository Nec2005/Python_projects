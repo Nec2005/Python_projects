{
 "cells": [
  {
   "cell_type": "markdown",
   "id": "80db7c41",
   "metadata": {},
   "source": [
    "Task:\n",
    "\n",
    "Count the number of each letter in a sentence.\n",
    "\n",
    "The department you work for undertook a project construction that makes word / text analysis. You are asked to calculate the number of letters or any chars in the sentences entered under this project.\n",
    "Write a Python program that;\n",
    "takes a sentence from the user,\n",
    "counts the number of each letter of the sentence,\n",
    "collects the letters/chars as a key and the counted numbers as a value in a dictionary.\n",
    "\n",
    "hippo runs to us!\t\n",
    "{'s': 2, 'r': 1, 't': 1, 'h': 1, 'n': 1, \n",
    "'i': 1, 'u': 2, 'o': 2, 'p': 2, ' ': 3, '!': 1}"
   ]
  },
  {
   "cell_type": "code",
   "execution_count": null,
   "id": "f912f530",
   "metadata": {},
   "outputs": [],
   "source": []
  },
  {
   "cell_type": "markdown",
   "id": "c2c73a4d",
   "metadata": {},
   "source": [
    "hippo runs to us! ====> {'s': 2, 'r': 1, 't': 1, 'h': 1, 'n': 1, 'i': 1, 'u': 2, 'o': 2, 'p': 2, ' ': 3, '!': 1}"
   ]
  },
  {
   "cell_type": "code",
   "execution_count": 13,
   "id": "936ca260",
   "metadata": {},
   "outputs": [
    {
     "name": "stdout",
     "output_type": "stream",
     "text": [
      "Enter a sentence :hippu run us!\n",
      "{'h': 1, 'i': 1, 'p': 2, 'u': 3, ' ': 2, 'r': 1, 'n': 1, 's': 1, '!': 1}\n"
     ]
    }
   ],
   "source": [
    "sent = input(\"Enter a sentence :\")\n",
    "dict1 = {}\n",
    "\n",
    "for i in sent:\n",
    "    if i not in dict1:\n",
    "        dict1[i] = sent.count(i)\n",
    "print(dict1)"
   ]
  },
  {
   "cell_type": "code",
   "execution_count": 11,
   "id": "4f2b6910",
   "metadata": {},
   "outputs": [
    {
     "data": {
      "text/plain": [
       "1"
      ]
     },
     "execution_count": 11,
     "metadata": {},
     "output_type": "execute_result"
    }
   ],
   "source": [
    "a= \"hippo runs to us!\"\n",
    "a.count('!')"
   ]
  },
  {
   "cell_type": "code",
   "execution_count": 12,
   "id": "7d5fa210",
   "metadata": {},
   "outputs": [
    {
     "data": {
      "text/plain": [
       "{'h': 1,\n",
       " 'i': 1,\n",
       " 'p': 2,\n",
       " 'o': 2,\n",
       " ' ': 3,\n",
       " 'r': 1,\n",
       " 'u': 2,\n",
       " 'n': 1,\n",
       " 's': 2,\n",
       " 't': 1,\n",
       " '!': 1}"
      ]
     },
     "execution_count": 12,
     "metadata": {},
     "output_type": "execute_result"
    }
   ],
   "source": [
    "dict1 = {}\n",
    "a= \"hippo runs to us!\"\n",
    "for i in a:\n",
    "    if i not in dict1:\n",
    "        dict1[i] = a.count(i)\n",
    "dict1\n",
    "    "
   ]
  },
  {
   "cell_type": "code",
   "execution_count": 4,
   "id": "b5eb381e",
   "metadata": {},
   "outputs": [
    {
     "data": {
      "text/plain": [
       "{'s': ''}"
      ]
     },
     "execution_count": 4,
     "metadata": {},
     "output_type": "execute_result"
    }
   ],
   "source": [
    "dict1 = {}\n",
    "dict1['s'] = ''\n",
    "dict1"
   ]
  },
  {
   "cell_type": "code",
   "execution_count": null,
   "id": "59bae48c",
   "metadata": {},
   "outputs": [],
   "source": []
  },
  {
   "cell_type": "code",
   "execution_count": 7,
   "id": "0ee55760",
   "metadata": {},
   "outputs": [
    {
     "data": {
      "text/plain": [
       "1"
      ]
     },
     "execution_count": 7,
     "metadata": {},
     "output_type": "execute_result"
    }
   ],
   "source": [
    "dict1['s'] = 1\n",
    "dict1['s']"
   ]
  },
  {
   "cell_type": "code",
   "execution_count": null,
   "id": "f89e97b6",
   "metadata": {},
   "outputs": [],
   "source": []
  }
 ],
 "metadata": {
  "kernelspec": {
   "display_name": "Python 3 (ipykernel)",
   "language": "python",
   "name": "python3"
  },
  "language_info": {
   "codemirror_mode": {
    "name": "ipython",
    "version": 3
   },
   "file_extension": ".py",
   "mimetype": "text/x-python",
   "name": "python",
   "nbconvert_exporter": "python",
   "pygments_lexer": "ipython3",
   "version": "3.9.6"
  }
 },
 "nbformat": 4,
 "nbformat_minor": 5
}
