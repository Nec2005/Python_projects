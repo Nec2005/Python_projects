{
 "cells": [
  {
   "cell_type": "markdown",
   "id": "97ad8ae8",
   "metadata": {},
   "source": [
    "Task : Write a program that takes a number from the user and prints the result to check if it is a prime number."
   ]
  },
  {
   "cell_type": "code",
   "execution_count": 79,
   "id": "ec314ed0",
   "metadata": {},
   "outputs": [
    {
     "name": "stdout",
     "output_type": "stream",
     "text": [
      "Enter a number to check prime number:127\n",
      "127 is  a prime number\n"
     ]
    }
   ],
   "source": [
    "num = int(input('Enter a number to check prime number:'))\n",
    "check_list = []\n",
    "for i in range(2, 100) :\n",
    "    a = num%i != 0 and num > 1 and num%1 == 0 and num%num == 0\n",
    "    if i == num:\n",
    "        continue\n",
    "    check_list.append(a)\n",
    "    \n",
    "if False in check_list :\n",
    "    print(num, 'is not a prime number')\n",
    "else:\n",
    "    print(num, 'is  a prime number')\n",
    "        \n",
    "\n",
    "        \n",
    "\n"
   ]
  },
  {
   "cell_type": "code",
   "execution_count": null,
   "id": "3e3f579a",
   "metadata": {},
   "outputs": [],
   "source": []
  },
  {
   "cell_type": "code",
   "execution_count": 8,
   "id": "1172a03f",
   "metadata": {},
   "outputs": [
    {
     "data": {
      "text/plain": [
       "True"
      ]
     },
     "execution_count": 8,
     "metadata": {},
     "output_type": "execute_result"
    }
   ],
   "source": [
    "(7%1==0 and 7%7==0) and (7%2 != 0 and 7%3 != 0 and 7%5 !=0 )"
   ]
  },
  {
   "cell_type": "code",
   "execution_count": 73,
   "id": "909168b4",
   "metadata": {},
   "outputs": [
    {
     "data": {
      "text/plain": [
       "False"
      ]
     },
     "execution_count": 73,
     "metadata": {},
     "output_type": "execute_result"
    }
   ],
   "source": [
    "num = 13\n",
    "a= num%13 != 0 and num > 1 and num%1 == 0 and num%num == 0\n",
    "a"
   ]
  },
  {
   "cell_type": "code",
   "execution_count": 71,
   "id": "dbdd39ed",
   "metadata": {},
   "outputs": [
    {
     "data": {
      "text/plain": [
       "False"
      ]
     },
     "execution_count": 71,
     "metadata": {},
     "output_type": "execute_result"
    }
   ],
   "source": [
    "num = 121\n",
    "a= num%121 != 0 and num > 1 and num%1 == 0\n",
    "a"
   ]
  },
  {
   "cell_type": "code",
   "execution_count": 16,
   "id": "551b0650",
   "metadata": {},
   "outputs": [
    {
     "data": {
      "text/plain": [
       "True"
      ]
     },
     "execution_count": 16,
     "metadata": {},
     "output_type": "execute_result"
    }
   ],
   "source": [
    "(num%1==0 and num%num==0) and (num%2 != 0 and num%3 != 0 and num%5 !=0 num%7 != 0 )"
   ]
  },
  {
   "cell_type": "code",
   "execution_count": null,
   "id": "3522141b",
   "metadata": {},
   "outputs": [],
   "source": []
  },
  {
   "cell_type": "code",
   "execution_count": null,
   "id": "189c969f",
   "metadata": {},
   "outputs": [],
   "source": []
  }
 ],
 "metadata": {
  "kernelspec": {
   "display_name": "Python 3 (ipykernel)",
   "language": "python",
   "name": "python3"
  },
  "language_info": {
   "codemirror_mode": {
    "name": "ipython",
    "version": 3
   },
   "file_extension": ".py",
   "mimetype": "text/x-python",
   "name": "python",
   "nbconvert_exporter": "python",
   "pygments_lexer": "ipython3",
   "version": "3.9.6"
  }
 },
 "nbformat": 4,
 "nbformat_minor": 5
}
