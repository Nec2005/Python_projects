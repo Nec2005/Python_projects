{
 "cells": [
  {
   "cell_type": "markdown",
   "id": "c22cb59c",
   "metadata": {},
   "source": [
    "Estimating the risk of death from coronavirus. Write a program that;\n",
    "\n",
    "\n",
    "Set a logical algorithm using boolean logic operators (and/or) and use if-statements with the given variables in order to print out us a message : \"You are in risky group\"(if True ) or \"You are not in risky group\" (if False)."
   ]
  },
  {
   "cell_type": "code",
   "execution_count": null,
   "id": "b48fb746",
   "metadata": {},
   "outputs": [],
   "source": [
    "print('Only input True or False!')\n",
    "age = input('Are you a cigarette addict older than 75 years old?')\n",
    "chronic = input('Do you have a severe chronic disease?')\n",
    "immune = input('Is your immune system too weak?')\n",
    "obesity = input('Have you been diagnosed with obesity?')\n",
    "risk = age.title() or chronic.title() or immune.title() or obesity.title()\n",
    "if risk == True :\n",
    "  print('You are in risky group')\n",
    "else:\n",
    "  print('You are not in risky group')"
   ]
  },
  {
   "cell_type": "code",
   "execution_count": null,
   "id": "42f73868",
   "metadata": {},
   "outputs": [],
   "source": []
  }
 ],
 "metadata": {
  "kernelspec": {
   "display_name": "Python 3 (ipykernel)",
   "language": "python",
   "name": "python3"
  },
  "language_info": {
   "codemirror_mode": {
    "name": "ipython",
    "version": 3
   },
   "file_extension": ".py",
   "mimetype": "text/x-python",
   "name": "python",
   "nbconvert_exporter": "python",
   "pygments_lexer": "ipython3",
   "version": "3.9.6"
  }
 },
 "nbformat": 4,
 "nbformat_minor": 5
}
