{
 "cells": [
  {
   "cell_type": "code",
   "execution_count": 6,
   "source": [
    "from datetime import datetime\r\n",
    "from datetime import date"
   ],
   "outputs": [],
   "metadata": {}
  },
  {
   "cell_type": "code",
   "execution_count": 5,
   "source": [
    "\r\n",
    "    now = datetime.now()\r\n",
    "    print(now.strftime('year: %Y'))\r\n",
    "\r\n",
    "\r\n"
   ],
   "outputs": [
    {
     "output_type": "stream",
     "name": "stdout",
     "text": [
      "year: 2021\n"
     ]
    }
   ],
   "metadata": {}
  },
  {
   "cell_type": "code",
   "execution_count": 13,
   "source": [
    "help('strftime()')"
   ],
   "outputs": [
    {
     "output_type": "stream",
     "name": "stdout",
     "text": [
      "No Python documentation found for 'strftime()'.\n",
      "Use help() to get the interactive help utility.\n",
      "Use help(str) for help on the str class.\n",
      "\n"
     ]
    }
   ],
   "metadata": {}
  },
  {
   "cell_type": "code",
   "execution_count": 5,
   "source": [
    "print(datetime.now())"
   ],
   "outputs": [
    {
     "output_type": "stream",
     "name": "stdout",
     "text": [
      "2021-08-23 07:48:36.681655\n"
     ]
    }
   ],
   "metadata": {}
  },
  {
   "cell_type": "code",
   "execution_count": 6,
   "source": [
    "print (now.strftime(\"The current year is: %Y\")) # full year with century\r\n",
    "print (now.strftime(\"%a, %d %B, %y\")) # abbreviated day, num, full month, abbreviated year"
   ],
   "outputs": [
    {
     "output_type": "stream",
     "name": "stdout",
     "text": [
      "The current year is: 2021\n",
      "Tue, 24 August, 21\n"
     ]
    }
   ],
   "metadata": {}
  },
  {
   "cell_type": "code",
   "execution_count": 8,
   "source": [
    "# %c - locale's date and time, %x - locale's date, %X - locale's time\r\n",
    "print (now.strftime(\"Locale date and time: %c\"))\r\n",
    "print (now.strftime(\"Locale date: %x\"))\r\n",
    "print (now.strftime(\"Locale time: %X\"))"
   ],
   "outputs": [
    {
     "output_type": "stream",
     "name": "stdout",
     "text": [
      "Locale date and time: Tue Aug 24 13:35:17 2021\n",
      "Locale date: 08/24/21\n",
      "Locale time: 13:35:17\n"
     ]
    }
   ],
   "metadata": {}
  },
  {
   "cell_type": "code",
   "execution_count": 9,
   "source": [
    "#### Time Formatting ####\r\n",
    "  \r\n",
    "  # %I/%H - 12/24 Hour, %M - minute, %S - second, %p - locale's AM/PM\r\n",
    "print (now.strftime(\"Current time: %I:%M:%S %p\")) # 12-Hour:Minute:Second:AM\r\n",
    "print (now.strftime(\"24-hour time: %H:%M\")) # 24-Hour:Minute"
   ],
   "outputs": [
    {
     "output_type": "stream",
     "name": "stdout",
     "text": [
      "Current time: 01:35:17 PM\n",
      "24-hour time: 13:35\n"
     ]
    }
   ],
   "metadata": {}
  },
  {
   "cell_type": "code",
   "execution_count": 9,
   "source": [
    "today = date.today()\r\n",
    "print(today)\r\n",
    "days = ['m', 't', 'w', 'th', 'fr', 'sat', 'sun']\r\n",
    "print(\"tomorrow :\" + days[(today.weekday()+1)%7])"
   ],
   "outputs": [
    {
     "output_type": "stream",
     "name": "stdout",
     "text": [
      "2021-08-24\n",
      "tomorrow :w\n"
     ]
    }
   ],
   "metadata": {}
  },
  {
   "cell_type": "code",
   "execution_count": 11,
   "source": [
    "print(date.today())"
   ],
   "outputs": [
    {
     "output_type": "stream",
     "name": "stdout",
     "text": [
      "2021-08-24\n"
     ]
    }
   ],
   "metadata": {}
  },
  {
   "cell_type": "code",
   "execution_count": 16,
   "source": [
    "print(datetime.date(datetime.now()))"
   ],
   "outputs": [
    {
     "output_type": "stream",
     "name": "stdout",
     "text": [
      "2021-08-24\n"
     ]
    }
   ],
   "metadata": {}
  }
 ],
 "metadata": {
  "orig_nbformat": 4,
  "language_info": {
   "name": "python",
   "version": "3.9.6",
   "mimetype": "text/x-python",
   "codemirror_mode": {
    "name": "ipython",
    "version": 3
   },
   "pygments_lexer": "ipython3",
   "nbconvert_exporter": "python",
   "file_extension": ".py"
  },
  "kernelspec": {
   "name": "python3",
   "display_name": "Python 3.9.6 64-bit"
  },
  "interpreter": {
   "hash": "bf18297ba29ab59974e3cde921359bf4732846305eb0ebd212cf3897d725727a"
  }
 },
 "nbformat": 4,
 "nbformat_minor": 2
}