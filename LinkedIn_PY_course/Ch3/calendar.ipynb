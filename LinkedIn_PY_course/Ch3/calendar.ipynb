{
 "cells": [
  {
   "cell_type": "code",
   "execution_count": 8,
   "source": [
    "#\r\n",
    "# Example file for working with Calendars\r\n",
    "# import the calendar module\r\n",
    "import calendar\r\n",
    "\r\n",
    "# create a plain text calendar\r\n",
    "c = calendar.TextCalendar(calendar.SUNDAY)\r\n",
    "st = c.formatmonth(2022, 1, 0, 0)\r\n",
    "print(st)\r\n",
    "\r\n"
   ],
   "outputs": [
    {
     "output_type": "stream",
     "name": "stdout",
     "text": [
      "    January 2022\n",
      "Su Mo Tu We Th Fr Sa\n",
      "                   1\n",
      " 2  3  4  5  6  7  8\n",
      " 9 10 11 12 13 14 15\n",
      "16 17 18 19 20 21 22\n",
      "23 24 25 26 27 28 29\n",
      "30 31\n",
      "\n"
     ]
    }
   ],
   "metadata": {}
  },
  {
   "cell_type": "code",
   "execution_count": null,
   "source": [
    "# create an HTML formatted calendar\r\n",
    "hc = calendar.HTMLCalendar(calendar.SUNDAY)\r\n",
    "st = hc.formatmonth(2020, 1)\r\n",
    "print(st)"
   ],
   "outputs": [],
   "metadata": {}
  },
  {
   "cell_type": "code",
   "execution_count": null,
   "source": [
    "# loop over the days of a month\r\n",
    "# zeroes mean that the day of the week is in an overlapping month\r\n",
    "for i in c.itermonthdays(2022, 8):\r\n",
    "    print(i)\r\n",
    "  "
   ],
   "outputs": [],
   "metadata": {}
  },
  {
   "cell_type": "code",
   "execution_count": null,
   "source": [
    "# The Calendar module provides useful utilities for the given locale,\r\n",
    "# such as the names of days and months in both full and abbreviated forms\r\n",
    "for name in calendar.month_name:\r\n",
    "    print(name)\r\n",
    "\r\n",
    "for day in calendar.day_name:\r\n",
    "    print(day)\r\n",
    "\r\n"
   ],
   "outputs": [],
   "metadata": {}
  },
  {
   "cell_type": "code",
   "execution_count": null,
   "source": [],
   "outputs": [],
   "metadata": {}
  },
  {
   "cell_type": "code",
   "execution_count": 20,
   "source": [
    "calendar.monthcalendar(2021, 5)"
   ],
   "outputs": [
    {
     "output_type": "execute_result",
     "data": {
      "text/plain": [
       "[[0, 0, 0, 0, 0, 1, 2],\n",
       " [3, 4, 5, 6, 7, 8, 9],\n",
       " [10, 11, 12, 13, 14, 15, 16],\n",
       " [17, 18, 19, 20, 21, 22, 23],\n",
       " [24, 25, 26, 27, 28, 29, 30],\n",
       " [31, 0, 0, 0, 0, 0, 0]]"
      ]
     },
     "metadata": {},
     "execution_count": 20
    }
   ],
   "metadata": {}
  },
  {
   "cell_type": "code",
   "execution_count": 16,
   "source": [
    "(calendar.FRIDAY()"
   ],
   "outputs": [
    {
     "output_type": "error",
     "ename": "TypeError",
     "evalue": "'int' object is not callable",
     "traceback": [
      "\u001b[1;31m---------------------------------------------------------------------------\u001b[0m",
      "\u001b[1;31mTypeError\u001b[0m                                 Traceback (most recent call last)",
      "\u001b[1;32m~\\AppData\\Local\\Temp/ipykernel_10892/237528766.py\u001b[0m in \u001b[0;36m<module>\u001b[1;34m\u001b[0m\n\u001b[1;32m----> 1\u001b[1;33m \u001b[0mhelp\u001b[0m\u001b[1;33m(\u001b[0m\u001b[0mcalendar\u001b[0m\u001b[1;33m.\u001b[0m\u001b[0mFRIDAY\u001b[0m\u001b[1;33m(\u001b[0m\u001b[1;33m)\u001b[0m\u001b[1;33m)\u001b[0m\u001b[1;33m\u001b[0m\u001b[1;33m\u001b[0m\u001b[0m\n\u001b[0m",
      "\u001b[1;31mTypeError\u001b[0m: 'int' object is not callable"
     ]
    }
   ],
   "metadata": {}
  },
  {
   "cell_type": "code",
   "execution_count": 17,
   "source": [
    "# Calculate days based on a rule: For example, consider\r\n",
    "# a team meeting on the first Friday of every month.\r\n",
    "# To figure out what days that would be for each month,\r\n",
    "# we can use this script:\r\n",
    "\r\n",
    "print(\"Team meetings will be on:\")\r\n",
    "for m in range(1, 13):\r\n",
    "    cal = calendar.monthcalendar(2021, m)\r\n",
    "    weekone = cal[0]\r\n",
    "    weektwo = cal[1]\r\n",
    "\r\n",
    "\r\n",
    "    if weekone[calendar.FRIDAY] != 0:\r\n",
    "        meetday = weekone[calendar.FRIDAY]\r\n",
    "    else:\r\n",
    "        meetday =  weektwo[calendar.FRIDAY]\r\n",
    "    print(\"%10s %2d\" %(calendar.month_name[m], meetday))"
   ],
   "outputs": [
    {
     "output_type": "stream",
     "name": "stdout",
     "text": [
      "Team meetings will be on:\n",
      "   January  1\n",
      "  February  5\n",
      "     March  5\n",
      "     April  2\n",
      "       May  7\n",
      "      June  4\n",
      "      July  2\n",
      "    August  6\n",
      " September  3\n",
      "   October  1\n",
      "  November  5\n",
      "  December  3\n"
     ]
    }
   ],
   "metadata": {}
  },
  {
   "cell_type": "code",
   "execution_count": 21,
   "source": [
    "today = date.today()"
   ],
   "outputs": [
    {
     "output_type": "error",
     "ename": "NameError",
     "evalue": "name 'date' is not defined",
     "traceback": [
      "\u001b[1;31m---------------------------------------------------------------------------\u001b[0m",
      "\u001b[1;31mNameError\u001b[0m                                 Traceback (most recent call last)",
      "\u001b[1;32m~\\AppData\\Local\\Temp/ipykernel_10892/2703848651.py\u001b[0m in \u001b[0;36m<module>\u001b[1;34m\u001b[0m\n\u001b[1;32m----> 1\u001b[1;33m \u001b[0mtoday\u001b[0m \u001b[1;33m=\u001b[0m \u001b[0mdate\u001b[0m\u001b[1;33m.\u001b[0m\u001b[0mtoday\u001b[0m\u001b[1;33m(\u001b[0m\u001b[1;33m)\u001b[0m\u001b[1;33m\u001b[0m\u001b[1;33m\u001b[0m\u001b[0m\n\u001b[0m",
      "\u001b[1;31mNameError\u001b[0m: name 'date' is not defined"
     ]
    }
   ],
   "metadata": {}
  },
  {
   "cell_type": "code",
   "execution_count": null,
   "source": [],
   "outputs": [],
   "metadata": {}
  }
 ],
 "metadata": {
  "orig_nbformat": 4,
  "language_info": {
   "name": "python",
   "version": "3.9.6",
   "mimetype": "text/x-python",
   "codemirror_mode": {
    "name": "ipython",
    "version": 3
   },
   "pygments_lexer": "ipython3",
   "nbconvert_exporter": "python",
   "file_extension": ".py"
  },
  "kernelspec": {
   "name": "python3",
   "display_name": "Python 3.9.6 64-bit"
  },
  "interpreter": {
   "hash": "bf18297ba29ab59974e3cde921359bf4732846305eb0ebd212cf3897d725727a"
  }
 },
 "nbformat": 4,
 "nbformat_minor": 2
}