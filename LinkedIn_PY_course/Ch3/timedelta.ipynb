{
 "cells": [
  {
   "cell_type": "code",
   "execution_count": 2,
   "source": [
    "# Example file for working with timedelta objects\r\n",
    "#\r\n",
    "\r\n",
    "from datetime import date\r\n",
    "from datetime import time\r\n",
    "from datetime import datetime\r\n",
    "from datetime import timedelta\r\n"
   ],
   "outputs": [],
   "metadata": {}
  },
  {
   "cell_type": "code",
   "execution_count": 5,
   "source": [
    "# construct a basic timedelta and print it\r\n",
    "\r\n",
    "print(timedelta(days=365,hours=5, minutes=1))"
   ],
   "outputs": [
    {
     "output_type": "stream",
     "name": "stdout",
     "text": [
      "365 days, 5:01:00\n"
     ]
    }
   ],
   "metadata": {}
  },
  {
   "cell_type": "code",
   "execution_count": null,
   "source": [
    "help(timedelta())"
   ],
   "outputs": [],
   "metadata": {}
  },
  {
   "cell_type": "code",
   "execution_count": 6,
   "source": [
    "# print today's date\r\n",
    "now = datetime.now()\r\n",
    "print(\"today is: \" + str(now))\r\n",
    "\r\n",
    "\r\n",
    "# print today's date one year from now\r\n",
    "print(\"one year from now it will be:\" + str(now + timedelta(days=365)))"
   ],
   "outputs": [
    {
     "output_type": "stream",
     "name": "stdout",
     "text": [
      "today is: 2021-08-24 13:48:33.678780\n",
      "one year from now it will be:2022-08-24 13:48:33.678780\n"
     ]
    }
   ],
   "metadata": {}
  },
  {
   "cell_type": "code",
   "execution_count": 12,
   "source": [
    "\r\n",
    "# create a timedelta that uses more than one argument\r\n",
    "\r\n",
    "print(\"In 2 days and 3 weeks, it will be \" + \r\n",
    "        str(now + timedelta(days=2, weeks=3)))"
   ],
   "outputs": [
    {
     "output_type": "stream",
     "name": "stdout",
     "text": [
      "In 2 days and 3 weeks, it will be 2021-09-16 13:48:33.678780\n"
     ]
    }
   ],
   "metadata": {}
  },
  {
   "cell_type": "code",
   "execution_count": 14,
   "source": [
    "# calculate the date 1 week ago, formatted as a string\r\n",
    "t = datetime.now() - timedelta(weeks = 1) \r\n",
    "s = t.strftime(\"%A %B %d, %Y\")\r\n",
    "print(\"One week ago it was: \" + s)"
   ],
   "outputs": [
    {
     "output_type": "stream",
     "name": "stdout",
     "text": [
      "One week ago it was: Tuesday August 17, 2021\n"
     ]
    }
   ],
   "metadata": {}
  },
  {
   "cell_type": "code",
   "execution_count": 33,
   "source": [
    "### How many days until April Fools' Day?\r\n",
    "today = date.today()\r\n",
    "afd = date(today.year, 4, 1)\r\n",
    "print('1 Nisan :', afd)\r\n",
    "print(\"today :\", today)\r\n",
    "\r\n",
    "# use date comparison to see if April Fool's has already gone for this year\r\n",
    "# if it has, use the replace() function to get the date for next year\r\n",
    "\r\n",
    "if afd < today :\r\n",
    "    print(\"April Fool's day already went by %d days ago\" %((today - afd).days))\r\n",
    "    afd = afd.replace(year = today.year+1)\r\n",
    "# Now calculate the amount of time until April Fool's Day  \r\n",
    "\r\n",
    "time_to_afd = afd - today\r\n",
    "print(\"It's just \", time_to_afd.days, \"days until April Fool's day\")"
   ],
   "outputs": [
    {
     "output_type": "stream",
     "name": "stdout",
     "text": [
      "1 Nisan : 2021-04-01\n",
      "today : 2021-08-24\n",
      "April Fool's day already went by 145 days ago\n",
      "It's just  220 days until April Fool's day\n"
     ]
    }
   ],
   "metadata": {}
  },
  {
   "cell_type": "code",
   "execution_count": 31,
   "source": [
    "\r\n",
    "print(date(today.year, 3, 2))\r\n",
    "\r\n"
   ],
   "outputs": [
    {
     "output_type": "stream",
     "name": "stdout",
     "text": [
      "2021-03-02\n"
     ]
    }
   ],
   "metadata": {}
  },
  {
   "cell_type": "code",
   "execution_count": 7,
   "source": [
    "today=date.today()\r\n",
    "bday=date(today.year,6,30)\r\n",
    "diff= (bday - today).days\r\n",
    "if diff>0:\r\n",
    "  print(\"Birthday in %d days\" % diff)\r\n",
    "else:\r\n",
    "  print(\"Birthday in %d days\" % (diff+365))"
   ],
   "outputs": [
    {
     "output_type": "stream",
     "name": "stdout",
     "text": [
      "Birthday in 310 days\n"
     ]
    }
   ],
   "metadata": {}
  },
  {
   "cell_type": "code",
   "execution_count": null,
   "source": [],
   "outputs": [],
   "metadata": {}
  },
  {
   "cell_type": "code",
   "execution_count": 5,
   "source": [
    "today=date.today()\r\n",
    "bday=date(today.year,6,30)\r\n",
    "diff= (bday - today).days\r\n",
    "print(diff)"
   ],
   "outputs": [
    {
     "output_type": "stream",
     "name": "stdout",
     "text": [
      "-55\n"
     ]
    }
   ],
   "metadata": {}
  },
  {
   "cell_type": "code",
   "execution_count": 10,
   "source": [
    "today = date.today()\r\n",
    "print(today)\r\n",
    "days = ['m', 't', 'w', 'th', 'fr', 'sat', 'sun']\r\n",
    "print(\"tomorrow :\" + days[today.weekday()+1])"
   ],
   "outputs": [
    {
     "output_type": "stream",
     "name": "stdout",
     "text": [
      "2021-08-24\n",
      "tomorrow :w\n"
     ]
    }
   ],
   "metadata": {}
  }
 ],
 "metadata": {
  "orig_nbformat": 4,
  "language_info": {
   "name": "python",
   "version": "3.9.6",
   "mimetype": "text/x-python",
   "codemirror_mode": {
    "name": "ipython",
    "version": 3
   },
   "pygments_lexer": "ipython3",
   "nbconvert_exporter": "python",
   "file_extension": ".py"
  },
  "kernelspec": {
   "name": "python3",
   "display_name": "Python 3.9.6 64-bit"
  },
  "interpreter": {
   "hash": "bf18297ba29ab59974e3cde921359bf4732846305eb0ebd212cf3897d725727a"
  }
 },
 "nbformat": 4,
 "nbformat_minor": 2
}