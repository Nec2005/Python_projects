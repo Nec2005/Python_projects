{
 "cells": [
  {
   "cell_type": "code",
   "execution_count": 2,
   "source": [
    "# Example file for parsing and processing XML\r\n",
    "import xml.dom.minidom\r\n"
   ],
   "outputs": [],
   "metadata": {}
  },
  {
   "cell_type": "code",
   "execution_count": 5,
   "source": [
    "# use the parse() function to load and parse an XML file\r\n",
    "\r\n",
    "doc = xml.dom.minidom.parse(\"samplexml.xml\")\r\n",
    "\r\n",
    "#  print out the document node and the name of the first child tag\r\n",
    "print(doc.nodeName)\r\n",
    "print(doc.firstChild.tagName)\r\n"
   ],
   "outputs": [
    {
     "output_type": "stream",
     "name": "stdout",
     "text": [
      "#document\n",
      "person\n"
     ]
    }
   ],
   "metadata": {}
  },
  {
   "cell_type": "code",
   "execution_count": 8,
   "source": [
    "  # get a list of XML tags from the document and print each one\r\n",
    "skills = doc.getElementsByTagName(\"skill\")\r\n",
    "print(\"%d skills: \" % skills.length)\r\n",
    "for skill in skills:\r\n",
    "    print(skill.getAttribute(\"name\"))\r\n",
    " \r\n"
   ],
   "outputs": [
    {
     "output_type": "stream",
     "name": "stdout",
     "text": [
      "4 skills: \n",
      "JavaScript\n",
      "Python\n",
      "C#\n",
      "HTML\n"
     ]
    }
   ],
   "metadata": {}
  },
  {
   "cell_type": "code",
   "execution_count": 9,
   "source": [
    "# create a new XML tag and add it into the document\r\n",
    "newSkill = doc.createElement(\"skill\")\r\n",
    "newSkill.setAttribute(\"name\", \"JQuery\")\r\n",
    "doc.firstChild.appendChild(newSkill)\r\n",
    "\r\n",
    "skills = doc.getElementsByTagName(\"skill\")\r\n",
    "print(\"%d skills: \" % skills.length)\r\n",
    "for skill in skills:\r\n",
    "    print(skill.getAttribute(\"name\"))\r\n",
    "\r\n"
   ],
   "outputs": [
    {
     "output_type": "stream",
     "name": "stdout",
     "text": [
      "5 skills: \n",
      "JavaScript\n",
      "Python\n",
      "C#\n",
      "HTML\n",
      "JQuery\n"
     ]
    }
   ],
   "metadata": {}
  }
 ],
 "metadata": {
  "orig_nbformat": 4,
  "language_info": {
   "name": "python",
   "version": "3.9.6",
   "mimetype": "text/x-python",
   "codemirror_mode": {
    "name": "ipython",
    "version": 3
   },
   "pygments_lexer": "ipython3",
   "nbconvert_exporter": "python",
   "file_extension": ".py"
  },
  "kernelspec": {
   "name": "python3",
   "display_name": "Python 3.9.6 64-bit"
  },
  "interpreter": {
   "hash": "bf18297ba29ab59974e3cde921359bf4732846305eb0ebd212cf3897d725727a"
  }
 },
 "nbformat": 4,
 "nbformat_minor": 2
}