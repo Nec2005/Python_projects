{
 "cells": [
  {
   "cell_type": "code",
   "execution_count": 2,
   "source": [
    "# Example file for working with os.path module\r\n",
    "#\r\n",
    "import os\r\n",
    "from os import path\r\n",
    "import datetime\r\n",
    "from datetime import date, time, timedelta\r\n",
    "import time\r\n",
    "\r\n",
    "\r\n",
    "  # Print the name of the OS\r\n",
    "print(os.name)\r\n",
    "  \r\n",
    "  \r\n",
    "  "
   ],
   "outputs": [
    {
     "output_type": "stream",
     "name": "stdout",
     "text": [
      "nt\n"
     ]
    }
   ],
   "metadata": {}
  },
  {
   "cell_type": "code",
   "execution_count": 3,
   "source": [
    "# Check for item existence and type\r\n",
    "print(\"Item exists: \" + str(path.exists(\"textfile.txt\")))\r\n",
    "print(\"Item is a file: \" + str(path.isfile(\"textfile.txt\")))\r\n",
    "print(\"Item is a directory \" + str(path.isdir(\"textfile.txt\")))\r\n",
    "  \r\n",
    "  "
   ],
   "outputs": [
    {
     "output_type": "stream",
     "name": "stdout",
     "text": [
      "Item exists: True\n",
      "Item is a file True\n",
      "Item is a directory False\n"
     ]
    }
   ],
   "metadata": {}
  },
  {
   "cell_type": "code",
   "execution_count": 6,
   "source": [
    "# Work with file paths\r\n",
    "print(\"Item path: \" + str(path.realpath(\"textfile.txt\")))\r\n",
    "print(\"Item path  and name: \" + str(path.split(path.realpath(\"textfile.txt\"))))\r\n"
   ],
   "outputs": [
    {
     "output_type": "stream",
     "name": "stdout",
     "text": [
      "Item path: D:\\my-github\\myCourse_Documents\\Python_projects\\LinkedIn_PY_course\\Ch4\\textfile.txt\n",
      "Item path  and name: ('D:\\\\my-github\\\\myCourse_Documents\\\\Python_projects\\\\LinkedIn_PY_course\\\\Ch4', 'textfile.txt')\n"
     ]
    }
   ],
   "metadata": {}
  },
  {
   "cell_type": "code",
   "execution_count": 7,
   "source": [
    "# Get the modification time\r\n",
    "t = time.ctime(path.getmtime(\"textfile.txt\"))\r\n",
    "print(t)\r\n",
    "print(datetime.datetime.fromtimestamp(path.getmtime(\"textfile.txt\")))\r\n",
    "\r\n",
    "  \r\n"
   ],
   "outputs": [
    {
     "output_type": "stream",
     "name": "stdout",
     "text": [
      "Tue Aug 24 22:47:18 2021\n",
      "2021-08-24 22:47:18.202266\n"
     ]
    }
   ],
   "metadata": {}
  },
  {
   "cell_type": "code",
   "execution_count": 10,
   "source": [
    "  # Calculate how long ago the item was modified\r\n",
    "td = datetime.datetime.now() - datetime.datetime.fromtimestamp(path.getmtime(\"textfile.txt\"))\r\n",
    "print(\"It has been \" + str(td) + \" since the file was modified\")\r\n",
    "print( \"Or, \" + str(td.total_seconds()) + \" seconds\")\r\n"
   ],
   "outputs": [
    {
     "output_type": "stream",
     "name": "stdout",
     "text": [
      "It has been 0:29:20.711896 since the file was modified\n",
      "Or, 1760.711896 seconds\n"
     ]
    }
   ],
   "metadata": {}
  }
 ],
 "metadata": {
  "orig_nbformat": 4,
  "language_info": {
   "name": "python",
   "version": "3.9.6",
   "mimetype": "text/x-python",
   "codemirror_mode": {
    "name": "ipython",
    "version": 3
   },
   "pygments_lexer": "ipython3",
   "nbconvert_exporter": "python",
   "file_extension": ".py"
  },
  "kernelspec": {
   "name": "python3",
   "display_name": "Python 3.9.6 64-bit"
  },
  "interpreter": {
   "hash": "bf18297ba29ab59974e3cde921359bf4732846305eb0ebd212cf3897d725727a"
  }
 },
 "nbformat": 4,
 "nbformat_minor": 2
}