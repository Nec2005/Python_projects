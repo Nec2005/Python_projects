{
 "cells": [
  {
   "cell_type": "code",
   "execution_count": 6,
   "source": [
    "#  Read and write files using the built-in Python file methods\r\n",
    "#\r\n",
    "  # Open a file for writing and create it if it doesn't exist\r\n",
    "f = open(\"textfile.txt\", \"w+\")\r\n",
    "  \r\n",
    "  "
   ],
   "outputs": [],
   "metadata": {}
  },
  {
   "cell_type": "code",
   "execution_count": 19,
   "source": [
    "# Open the file for appending text to the end\r\n",
    "\r\n",
    "#f = open(\"textfile.txt\", \"a\")\r\n",
    "f = open(\"textfile.txt\", \"r\")\r\n",
    " "
   ],
   "outputs": [],
   "metadata": {}
  },
  {
   "cell_type": "code",
   "execution_count": 9,
   "source": [
    " # write some lines of data to the file\r\n",
    "# for i in range(10):\r\n",
    "#     f.write(\"This is line \" + str(i) + \"\\r\\n\")\r\n",
    "\r\n",
    "#     # close the file when done\r\n",
    "# f.close()\r\n",
    "  "
   ],
   "outputs": [],
   "metadata": {}
  },
  {
   "cell_type": "code",
   "execution_count": 21,
   "source": [
    "# Open the file back up and read the contents\r\n",
    "if f.mode == 'r':\r\n",
    "    #contents = f.read()\r\n",
    "    fl = f.readlines()\r\n",
    "    for x in fl:\r\n",
    "        print(x)\r\n",
    "\r\n",
    "\r\n",
    "    # print(contents)"
   ],
   "outputs": [],
   "metadata": {}
  },
  {
   "cell_type": "code",
   "execution_count": null,
   "source": [],
   "outputs": [],
   "metadata": {}
  }
 ],
 "metadata": {
  "orig_nbformat": 4,
  "language_info": {
   "name": "python",
   "version": "3.9.6",
   "mimetype": "text/x-python",
   "codemirror_mode": {
    "name": "ipython",
    "version": 3
   },
   "pygments_lexer": "ipython3",
   "nbconvert_exporter": "python",
   "file_extension": ".py"
  },
  "kernelspec": {
   "name": "python3",
   "display_name": "Python 3.9.6 64-bit"
  },
  "interpreter": {
   "hash": "bf18297ba29ab59974e3cde921359bf4732846305eb0ebd212cf3897d725727a"
  }
 },
 "nbformat": 4,
 "nbformat_minor": 2
}