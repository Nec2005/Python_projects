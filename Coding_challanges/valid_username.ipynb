{
 "cells": [
  {
   "cell_type": "markdown",
   "id": "7c96d4b6",
   "metadata": {},
   "source": [
    "Have the function UsernameValidation(`str`) take the `str` parameter being passed and determine if the string is a valid username according to the following rules:\n",
    "\n",
    "#1. The username is between 4 and 25 characters.\n",
    "\n",
    "#2. It must start with a letter.\n",
    "\n",
    "#3. It can only contain letters, numbers, and the underscore character.\n",
    "\n",
    " 4. It cannot end with an underscore character.\n",
    " \n",
    "#If the username is valid then your program should return the string `true`, otherwise return the string `false`. The result  must  be like this :\n",
    "aa_ False\n",
    "uaa__hello_world True"
   ]
  },
  {
   "cell_type": "code",
   "execution_count": 34,
   "id": "4465a8ae",
   "metadata": {},
   "outputs": [
    {
     "data": {
      "text/plain": [
       "False"
      ]
     },
     "execution_count": 34,
     "metadata": {},
     "output_type": "execute_result"
    }
   ],
   "source": [
    "def isvalid_username(strn):\n",
    "    t = 0\n",
    "    f = 0\n",
    "    for i in strn: \n",
    "        if (i.isalpha() or i.isdigit() or  i == '_' ) and (4 <= len(strn) <= 25) and strn[0].isalpha() and strn[-1] != '_':\n",
    "            t += 1\n",
    "        else:\n",
    "            f += 1\n",
    "    if f > 0:\n",
    "        return False\n",
    "    else:\n",
    "        return True\n",
    "    \n",
    "isvalid_username('a__hello_world_')"
   ]
  },
  {
   "cell_type": "code",
   "execution_count": null,
   "id": "4b2e50b6",
   "metadata": {},
   "outputs": [],
   "source": []
  },
  {
   "cell_type": "code",
   "execution_count": null,
   "id": "3a2b5616",
   "metadata": {},
   "outputs": [],
   "source": []
  },
  {
   "cell_type": "code",
   "execution_count": 28,
   "id": "4edb5117",
   "metadata": {},
   "outputs": [
    {
     "name": "stdout",
     "output_type": "stream",
     "text": [
      "False\n"
     ]
    }
   ],
   "source": [
    "strn = 'auaa__hello_world'\n",
    "t = 0\n",
    "f = 0\n",
    "for i in strn: \n",
    "    if (i.isalpha() or i.isdigit() or  i == '_' ) and (4 <= len(strn) <= 25) and strn[0].isalpha():\n",
    "        t += 1\n",
    "    else:\n",
    "        f += 1\n",
    "if f > 0:\n",
    "    print(False)\n",
    "else:\n",
    "    print(True)\n",
    "        "
   ]
  },
  {
   "cell_type": "code",
   "execution_count": 5,
   "id": "6d566789",
   "metadata": {},
   "outputs": [
    {
     "data": {
      "text/plain": [
       "True"
      ]
     },
     "execution_count": 5,
     "metadata": {},
     "output_type": "execute_result"
    }
   ],
   "source": [
    "'z'.isalpha()"
   ]
  },
  {
   "cell_type": "code",
   "execution_count": null,
   "id": "27b03b37",
   "metadata": {},
   "outputs": [],
   "source": []
  },
  {
   "cell_type": "code",
   "execution_count": null,
   "id": "1aed4f8a",
   "metadata": {},
   "outputs": [],
   "source": []
  }
 ],
 "metadata": {
  "kernelspec": {
   "display_name": "Python 3 (ipykernel)",
   "language": "python",
   "name": "python3"
  },
  "language_info": {
   "codemirror_mode": {
    "name": "ipython",
    "version": 3
   },
   "file_extension": ".py",
   "mimetype": "text/x-python",
   "name": "python",
   "nbconvert_exporter": "python",
   "pygments_lexer": "ipython3",
   "version": "3.9.6"
  }
 },
 "nbformat": 4,
 "nbformat_minor": 5
}
