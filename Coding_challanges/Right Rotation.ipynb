{
 "cells": [
  {
   "cell_type": "markdown",
   "id": "b1ae5c83",
   "metadata": {},
   "source": [
    "Create a function which takes 2 parameters:\n",
    "\n",
    "A matrix mat with m rows and n columns, containing data of any type.\n",
    "An optional integer parameter turns giving the number of clockwise 90 degree rotations by which to transform the matrix (defaults to 1).\n",
    "The function should return a new matrix with the elements rotated clockwise or counter-clockwise by the number of turns given.\n",
    "\n",
    "For positive integers: 1 turn = 90° clockwise, 2 turns = 180° clockwise, 3 turns = 270° clockwise, 4 turns = 360° clockwise, etc.\n",
    "\n",
    "For negative integers: -1 turn = 90° counter-clockwise, -2 turns = 180° counter-clockwise, -3 turns = 270° counter-clockwise, -4 turns = 360° counter-clockwise, etc.\n",
    "\n",
    "Examples\n",
    "rotate_matrix([\n",
    "  [1,  2,  3,  4],\n",
    "  [5,  6,  7,  8],\n",
    "  [9, 10, 11, 12]\n",
    "]) ➞ [\n",
    "  [ 9, 5, 1],\n",
    "  [10, 6, 2],\n",
    "  [11, 7, 3],\n",
    "  [12, 8, 4]\n",
    "]\n",
    "# A clockwise rotation.\n",
    "# Left to right columns become rows in bottom to top order.\n",
    "\n",
    "\n",
    "rotate_matrix([[\"+\", \"-\"], [\"*\", \"/\"]], -1) ➞ [[\"-\", \"/\"], [\"+\", \"*\"]]\n",
    "# A counter-clockwise rotation.\n",
    "# Right to left columns become rows in top to bottom order.\n",
    "\n",
    "\n",
    "rotate_matrix([[1, 2, 3], [4, 5, 6]], 4) ➞ [[1, 2, 3], [4, 5, 6]]\n",
    "# A 360° turn returns all elements to their original positions."
   ]
  },
  {
   "cell_type": "code",
   "execution_count": 2,
   "id": "0c70063c",
   "metadata": {},
   "outputs": [],
   "source": [
    "list1 =[\n",
    "  [1,  2,  3,  4],\n",
    "  [5,  6,  7,  8],\n",
    "  [9, 10, 11, 12]\n",
    "] "
   ]
  },
  {
   "cell_type": "code",
   "execution_count": 25,
   "id": "36082947",
   "metadata": {},
   "outputs": [
    {
     "data": {
      "text/plain": [
       "[[12, 11, 10, 9], [8, 7, 6, 5], [4, 3, 2, 1]]"
      ]
     },
     "execution_count": 25,
     "metadata": {},
     "output_type": "execute_result"
    }
   ],
   "source": [
    "def rotate_matrix(list1, r = 1):\n",
    "    \n",
    "    if r > 0 :\n",
    "        count = 0\n",
    "        while count < r:\n",
    "            matr = [[] for i in list1[0] ]\n",
    "            ind = len(list1)-1\n",
    "            x = 0\n",
    "            for i in list1:\n",
    "                for j in matr:\n",
    "                    j.append(list1[ind][x])\n",
    "                    x += 1\n",
    "                ind -= 1\n",
    "                x = 0\n",
    "            count += 1\n",
    "            if count != r:\n",
    "                list1 = matr \n",
    "            else: \n",
    "                break             \n",
    "        \n",
    "    elif r < 0:\n",
    "        count = 0\n",
    "        while count > r:\n",
    "            matr = [[] for i in list1[0] ]\n",
    "            ind=0\n",
    "            x = len(list1[0])-1\n",
    "            for i in list1:\n",
    "                for j in matr:\n",
    "                    j.append(list1[ind][x])\n",
    "                    x -= 1\n",
    "                ind += 1\n",
    "                x = len(list1[0])-1\n",
    "            \n",
    "            count -= 1\n",
    "            if count != r:\n",
    "                list1 = matr \n",
    "            else: \n",
    "                break \n",
    "        \n",
    "    return matr \n",
    "                \n",
    "           \n",
    "             \n",
    "\n",
    "\n",
    "rotate_matrix(list1, -2)"
   ]
  },
  {
   "cell_type": "code",
   "execution_count": null,
   "id": "94133907",
   "metadata": {},
   "outputs": [],
   "source": [
    "def rotate_matrix(list1, r = 1):\n",
    "    \n",
    "    if r > 0 :\n",
    "        count = 0\n",
    "        while count < r:\n",
    "            matr = [[] for i in list1[0] ]\n",
    "            ind = len(list1)-1\n",
    "            x = 0\n",
    "            \n",
    "            matr = [ for i in list1 for j in [[] for i in list1[0]] ]\n",
    "            \n",
    "            \n",
    "            \n",
    "            for i in list1:\n",
    "                for j in matr:\n",
    "                    j.append(list1[ind][x])\n",
    "                    x += 1\n",
    "                ind -= 1\n",
    "                x = 0\n",
    "            count += 1\n",
    "            if count != r:\n",
    "                list1 = matr \n",
    "            else: \n",
    "                break             \n",
    "        \n",
    "    elif r < 0:\n",
    "        count = 0\n",
    "        while count > r:\n",
    "            matr = [[] for i in list1[0] ]\n",
    "            ind=0\n",
    "            x = len(list1[0])-1\n",
    "            for i in list1:\n",
    "                for j in matr:\n",
    "                    j.append(list1[ind][x])\n",
    "                    x -= 1\n",
    "                ind += 1\n",
    "                x = len(list1[0])-1\n",
    "            \n",
    "            count -= 1\n",
    "            if count != r:\n",
    "                list1 = matr \n",
    "            else: \n",
    "                break \n",
    "        \n",
    "    return matr \n",
    "                \n",
    "           \n",
    "             \n",
    "\n",
    "\n",
    "rotate_matrix([\n",
    "  [1,  2,  3,  4],\n",
    "  [5,  6,  7,  8],\n",
    "  [9, 10, 11, 12]\n",
    "], 2)"
   ]
  },
  {
   "cell_type": "code",
   "execution_count": null,
   "id": "4e207d3d",
   "metadata": {},
   "outputs": [],
   "source": []
  },
  {
   "cell_type": "code",
   "execution_count": null,
   "id": "d53a6f99",
   "metadata": {},
   "outputs": [],
   "source": []
  },
  {
   "cell_type": "code",
   "execution_count": 28,
   "id": "496e9668",
   "metadata": {},
   "outputs": [
    {
     "data": {
      "text/plain": [
       "[[1, 2, 3, 4], [5, 6, 7, 8], [9, 10, 11, 12]]"
      ]
     },
     "execution_count": 28,
     "metadata": {},
     "output_type": "execute_result"
    }
   ],
   "source": [
    "rotate_matrix([\n",
    "  [1,  2,  3,  4],\n",
    "  [5,  6,  7,  8],\n",
    "  [9, 10, 11, 12]\n",
    "], -4)"
   ]
  },
  {
   "cell_type": "code",
   "execution_count": null,
   "id": "5507dd1d",
   "metadata": {},
   "outputs": [],
   "source": []
  },
  {
   "cell_type": "code",
   "execution_count": 11,
   "id": "69857c8a",
   "metadata": {},
   "outputs": [],
   "source": [
    "list1 =[\n",
    "  [1,  2,  3,  4],\n",
    "  [5,  6,  7,  8],\n",
    "  [9, 10, 11, 12]\n",
    "] \n",
    "\n",
    "# dict1 = {}\n",
    "# i = 0\n",
    "# while i < len(list1[0]):\n",
    "#     dict1[i]=[]\n",
    "#     i += 1\n",
    "# dict1"
   ]
  },
  {
   "cell_type": "code",
   "execution_count": 2,
   "id": "54c9df16",
   "metadata": {},
   "outputs": [
    {
     "data": {
      "text/plain": [
       "[[], [], [], []]"
      ]
     },
     "execution_count": 2,
     "metadata": {},
     "output_type": "execute_result"
    }
   ],
   "source": [
    "matr = [[] for i in list1[0] ]\n",
    "matr"
   ]
  },
  {
   "cell_type": "code",
   "execution_count": 12,
   "id": "c2542e6b",
   "metadata": {
    "scrolled": true
   },
   "outputs": [
    {
     "name": "stdout",
     "output_type": "stream",
     "text": [
      "[[9, 5, 1, 9, 5, 1], [10, 6, 2, 10, 6, 2], [11, 7, 3, 11, 7, 3], [12, 8, 4, 12, 8, 4]]\n"
     ]
    }
   ],
   "source": [
    "\n",
    "ind=len(list1)-1\n",
    "x = 0\n",
    "for i in list1:\n",
    "    for j in matr:\n",
    "        j.append(list1[ind][x])\n",
    "        x += 1\n",
    "    ind -= 1\n",
    "    x = 0\n",
    "        \n",
    "print(matr)"
   ]
  },
  {
   "cell_type": "code",
   "execution_count": null,
   "id": "8af4d79d",
   "metadata": {},
   "outputs": [],
   "source": [
    "ikinci = [[9, 5, 1], [10, 6, 2], [11, 7, 3], [12, 8, 4]]"
   ]
  },
  {
   "cell_type": "code",
   "execution_count": 5,
   "id": "e3156a4b",
   "metadata": {},
   "outputs": [
    {
     "name": "stdout",
     "output_type": "stream",
     "text": [
      "[[4, 8, 12], [3, 7, 11], [2, 6, 10], [1, 5, 9]]\n"
     ]
    }
   ],
   "source": [
    "##saat yonu tersi tersi\n",
    "matr = [[] for i in list1[0] ]\n",
    "ind=0\n",
    "x = len(list1[0])-1\n",
    "for i in list1:\n",
    "    for j in matr:\n",
    "        j.append(list1[ind][x])\n",
    "        x -= 1\n",
    "    ind += 1\n",
    "    x = len(list1[0])-1\n",
    "        \n",
    "print(matr)"
   ]
  },
  {
   "cell_type": "code",
   "execution_count": null,
   "id": "5d72aa85",
   "metadata": {},
   "outputs": [],
   "source": []
  },
  {
   "cell_type": "code",
   "execution_count": null,
   "id": "97923623",
   "metadata": {},
   "outputs": [],
   "source": []
  },
  {
   "cell_type": "code",
   "execution_count": 11,
   "id": "c435d8c6",
   "metadata": {},
   "outputs": [
    {
     "name": "stdout",
     "output_type": "stream",
     "text": [
      "1a\n",
      "1b\n",
      "2a\n",
      "2b\n",
      "3a\n",
      "3b\n"
     ]
    }
   ],
   "source": [
    "a = ['1', '2', '3']\n",
    "b = ['a', 'b']\n",
    "\n",
    "for i in a:\n",
    "    for j in b:\n",
    "        print(i + j)"
   ]
  },
  {
   "cell_type": "code",
   "execution_count": null,
   "id": "edda2984",
   "metadata": {},
   "outputs": [],
   "source": []
  },
  {
   "cell_type": "code",
   "execution_count": null,
   "id": "5ddce89e",
   "metadata": {},
   "outputs": [],
   "source": []
  },
  {
   "cell_type": "code",
   "execution_count": null,
   "id": "e74e8922",
   "metadata": {},
   "outputs": [],
   "source": []
  },
  {
   "cell_type": "code",
   "execution_count": null,
   "id": "3ecfd435",
   "metadata": {},
   "outputs": [],
   "source": []
  },
  {
   "cell_type": "code",
   "execution_count": null,
   "id": "5774f77a",
   "metadata": {},
   "outputs": [],
   "source": []
  },
  {
   "cell_type": "code",
   "execution_count": null,
   "id": "18598eaa",
   "metadata": {},
   "outputs": [],
   "source": []
  },
  {
   "cell_type": "code",
   "execution_count": null,
   "id": "751443d9",
   "metadata": {},
   "outputs": [],
   "source": []
  },
  {
   "cell_type": "code",
   "execution_count": null,
   "id": "89012280",
   "metadata": {},
   "outputs": [],
   "source": []
  },
  {
   "cell_type": "code",
   "execution_count": null,
   "id": "9b2cb5e3",
   "metadata": {},
   "outputs": [],
   "source": []
  },
  {
   "cell_type": "code",
   "execution_count": null,
   "id": "779df1ee",
   "metadata": {},
   "outputs": [],
   "source": [
    "def mat_rot(matris,rotate):\n",
    "    if rotate<0:\n",
    "        rotate=abs(rotate)\n",
    "        for i in range(rotate):\n",
    "            rotated = list(reversed(list(zip(*matris))))\n",
    "            matris=rotated\n",
    "        return matris\n",
    "    elif rotate>0:\n",
    "        for j in range(rotate):\n",
    "            rtor = list(zip(*matris[::-1]))\n",
    "            matris=rtor\n",
    "        return matris\n",
    "    else:\n",
    "        return matris\n",
    "\n",
    "print(mat_rot([\n",
    "  [1,  2,  3,  4],\n",
    "  [5,  6,  7,  8],\n",
    "  [9, 10, 11, 12]\n",
    "],-3))"
   ]
  },
  {
   "cell_type": "code",
   "execution_count": null,
   "id": "6c133b28",
   "metadata": {},
   "outputs": [],
   "source": []
  },
  {
   "cell_type": "code",
   "execution_count": null,
   "id": "36c68965",
   "metadata": {},
   "outputs": [],
   "source": []
  },
  {
   "cell_type": "code",
   "execution_count": null,
   "id": "73737cf8",
   "metadata": {},
   "outputs": [],
   "source": [
    "def right_rotation(liste, n = 1):    \n",
    "    donusum = {-1 : 3, -2 : 2, -3 : 1, -4 : 4}\n",
    "    if n < 0:n = donusum[n]\n",
    "    a = 0\n",
    "    while a < n:\n",
    "        liste = list(map(lambda *x : [*x[::-1]], *liste))\n",
    "        a += 1\n",
    "    return liste\n",
    "\n",
    "right_rotation([\n",
    "  [1,  2,  3,  4],\n",
    "  [5,  6,  7,  8],\n",
    "  [9, 10, 11, 12]\n",
    "], 2)"
   ]
  },
  {
   "cell_type": "code",
   "execution_count": null,
   "id": "661bd146",
   "metadata": {},
   "outputs": [],
   "source": []
  },
  {
   "cell_type": "code",
   "execution_count": null,
   "id": "94ffdf53",
   "metadata": {},
   "outputs": [],
   "source": [
    "def rotate_matrix(mat, n = 1):\n",
    "\n",
    "  n = n % 4\n",
    "\n",
    "  new_mat = [[] for i in mat[0]]\n",
    "  for y in range(1, n+1):\n",
    "    for i in range(len(mat[0])):\n",
    "      for x in range(len(mat)):\n",
    "        new_mat[i] += [mat[x][i]]\n",
    "        if x == len(mat)-1:\n",
    "          new_mat[i] = new_mat[i][::-1]\n",
    "    \n",
    "    mat = new_mat\n",
    "    new_mat = [[] for i in mat[0]]      \n",
    "\n",
    "  return mat\n",
    "\n",
    "print(rotate_matrix([[1, 2, 3],[4, 5, 6]], -11))"
   ]
  }
 ],
 "metadata": {
  "kernelspec": {
   "display_name": "Python 3 (ipykernel)",
   "language": "python",
   "name": "python3"
  },
  "language_info": {
   "codemirror_mode": {
    "name": "ipython",
    "version": 3
   },
   "file_extension": ".py",
   "mimetype": "text/x-python",
   "name": "python",
   "nbconvert_exporter": "python",
   "pygments_lexer": "ipython3",
   "version": "3.9.6"
  }
 },
 "nbformat": 4,
 "nbformat_minor": 5
}
