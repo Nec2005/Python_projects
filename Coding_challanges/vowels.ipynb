{
 "cells": [
  {
   "cell_type": "markdown",
   "metadata": {},
   "source": [
    "# Coding Challenge - 014: Check Consecutive Vowels\n",
    "\n",
    "The purpose of this coding challenge is to write a program that checks if a word contains consecutive vowels or not.\n",
    "\n",
    "## Learning Outcomes\n",
    "\n",
    "At the end of this coding challenge, students will be able to;\n",
    "\n",
    "- Analyze a problem, identify, and apply programming knowledge for an appropriate solution.\n",
    "\n",
    "- Implement conditional statements effectively to solve a problem.\n",
    "\n",
    "- Implement loops to solve a problem.\n",
    "\n",
    "- Execute operations on strings.\n",
    "\n",
    "- Demonstrate their knowledge of algorithmic design principles by solving the problem effectively.\n",
    "\n",
    "## Problem Statement\n",
    "\n",
    "In this coding challenge, you are going to write a program that takes a string and checks if it contains consecutive vowels or not. It should give `Positive` as an output if it contains consecutive vowels and `Negative` otherwise. For example `saetqi` string contains `a` adjacent to `e`, which means that it contains consecutive vowels. So it should give `Positive` as an output. On the other hand, if you take the string of `statoqag`, the output should be `Negative`.\n",
    "\n",
    "- Expected Output:\n",
    "\n",
    "```text\n",
    "Please enter a string: gasdph\n",
    "Negative\n",
    "\n",
    "Please enter a string: aiou\n",
    "Positive\n",
    "\n",
    "Please enter a string: taoum\n",
    "Positive\n",
    "\n",
    "Please enter a string: a\n",
    "Negative"
   ]
  },
  {
   "cell_type": "code",
   "execution_count": null,
   "metadata": {},
   "outputs": [],
   "source": [
    "word = input(\"Please enter a string: \")\n",
    "word = word.lower()\n",
    "\n",
    "vowels = [\"a\", \"e\", \"i\", \"o\", \"u\"]\n",
    "exist = False\n",
    "\n",
    "for i in range(len(word)-1):\n",
    "  if word[i] in vowels:\n",
    "    if word[i+1] in vowels:\n",
    "      exist = True\n",
    "      break\n",
    "      \n",
    "if exist:\n",
    "  print(\"Positive\")\n",
    "else:\n",
    "  print(\"Negative\")"
   ]
  },
  {
   "cell_type": "code",
   "execution_count": null,
   "metadata": {},
   "outputs": [],
   "source": []
  },
  {
   "cell_type": "code",
   "execution_count": null,
   "metadata": {},
   "outputs": [],
   "source": []
  }
 ],
 "metadata": {
  "language_info": {
   "name": "python"
  },
  "orig_nbformat": 4
 },
 "nbformat": 4,
 "nbformat_minor": 2
}
