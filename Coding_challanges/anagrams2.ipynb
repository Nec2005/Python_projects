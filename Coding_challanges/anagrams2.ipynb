{
 "cells": [
  {
   "attachments": {},
   "cell_type": "markdown",
   "id": "1dadb8da",
   "metadata": {},
   "source": []
  },
  {
   "cell_type": "markdown",
   "id": "1c859c66",
   "metadata": {},
   "source": [
    "Take two inputs from the user word and word list and then write code that will find all the anagrams of a word from a list. You should return a list of all the anagrams or an empty list if there are none. For example:\n",
    "input1:'abba'\n",
    "input2: ['aabb', 'abcd', 'bbaa', 'dada']) \n",
    "output: ['aabb', 'bbaa']\n",
    "input1:'racer'\n",
    "input2: ['crazer', 'carer', 'racar', 'caers', 'racer'])\n",
    "output: ['carer', 'racer']\n",
    "input1:'laser'\n",
    "input2:['lazing', 'lazy',  'lacer'])\n",
    "output:[]"
   ]
  },
  {
   "cell_type": "code",
   "execution_count": null,
   "id": "3e3536f5",
   "metadata": {},
   "outputs": [],
   "source": []
  },
  {
   "cell_type": "code",
   "execution_count": 13,
   "id": "fe98a062",
   "metadata": {},
   "outputs": [
    {
     "name": "stdout",
     "output_type": "stream",
     "text": [
      "['eat', 'ate']\n"
     ]
    }
   ],
   "source": [
    "input1 = \"tea\"\n",
    "words = [\"eat\", \"tan\", \"ate\", \"nat\", \"bat\"]\n",
    "sorted_input1 = \"\".join(sorted(input1))\n",
    "\n",
    "anagrams = {}\n",
    "for i in words:\n",
    "    sorted_word = \"\".join(sorted(i))\n",
    "    if sorted_word in anagrams:\n",
    "        anagrams[sorted_word].append(i)\n",
    "    else:\n",
    "        anagrams[sorted_word] = [i]\n",
    "print(anagrams[sorted_input1])"
   ]
  },
  {
   "cell_type": "code",
   "execution_count": 8,
   "id": "95936d53",
   "metadata": {},
   "outputs": [
    {
     "data": {
      "text/plain": [
       "'tea'"
      ]
     },
     "execution_count": 8,
     "metadata": {},
     "output_type": "execute_result"
    }
   ],
   "source": [
    "input1"
   ]
  },
  {
   "cell_type": "code",
   "execution_count": 9,
   "id": "98cb90af",
   "metadata": {},
   "outputs": [
    {
     "data": {
      "text/plain": [
       "['a', 'e', 't']"
      ]
     },
     "execution_count": 9,
     "metadata": {},
     "output_type": "execute_result"
    }
   ],
   "source": [
    "sorted(input1)"
   ]
  },
  {
   "cell_type": "code",
   "execution_count": 11,
   "id": "6c6c4b5c",
   "metadata": {},
   "outputs": [],
   "source": [
    "sorted_input1 = \"\".join(sorted(input1))"
   ]
  },
  {
   "cell_type": "code",
   "execution_count": 12,
   "id": "fea48d24",
   "metadata": {},
   "outputs": [
    {
     "data": {
      "text/plain": [
       "'aet'"
      ]
     },
     "execution_count": 12,
     "metadata": {},
     "output_type": "execute_result"
    }
   ],
   "source": [
    "sorted_input1"
   ]
  }
 ],
 "metadata": {
  "kernelspec": {
   "display_name": "Python 3 (ipykernel)",
   "language": "python",
   "name": "python3"
  },
  "language_info": {
   "codemirror_mode": {
    "name": "ipython",
    "version": 3
   },
   "file_extension": ".py",
   "mimetype": "text/x-python",
   "name": "python",
   "nbconvert_exporter": "python",
   "pygments_lexer": "ipython3",
   "version": "3.9.6"
  }
 },
 "nbformat": 4,
 "nbformat_minor": 5
}
