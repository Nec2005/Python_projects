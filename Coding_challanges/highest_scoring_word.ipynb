{
  "nbformat": 4,
  "nbformat_minor": 0,
  "metadata": {
    "colab": {
      "name": "highest scoring word.ipynb",
      "provenance": [],
      "collapsed_sections": []
    },
    "kernelspec": {
      "name": "python3",
      "display_name": "Python 3"
    },
    "language_info": {
      "name": "python"
    }
  },
  "cells": [
    {
      "cell_type": "code",
      "metadata": {
        "id": "rnyf4gWR3Qlt"
      },
      "source": [
        ""
      ],
      "execution_count": null,
      "outputs": []
    },
    {
      "cell_type": "markdown",
      "metadata": {
        "id": "2H8Uhv4815JC"
      },
      "source": [
        "Given a string of words, you need to find the highest scoring word.\n",
        "Each letter of a word scores points according to its position in the alphabet: a = 1, b = 2, c = 3 etc.\n",
        "You need to return the highest scoring word as a string.\n",
        "If two words score the same, return the word that appears earliest in the original string.\n",
        "All letters will be lowercase and all inputs will be valid.\n",
        "\n",
        "Examples:\n",
        "'man i need a taxi up to ubud' ---> 'taxi'\n",
        "'what time are we climbing up the volcano' ----> 'volcano'\n",
        "'take me to semynak' ---> 'semynak'\n",
        "'aa b'  --->  'aa'\n",
        "'b aa'  --->  'b'\n",
        "'bb d'  --- > 'bb'\n",
        "'d bb'  ---> 'd'\n",
        "\"aaa b\"  -->  \"aaa\""
      ]
    },
    {
      "cell_type": "code",
      "metadata": {
        "id": "1jssxGN114Vq",
        "colab": {
          "base_uri": "https://localhost:8080/"
        },
        "outputId": "f58ec99b-6706-4f4e-dae2-29f90e7b67c8"
      },
      "source": [
        "sentence = 'what time are we climbing up the volcano'\n",
        "list_sen = sentence.split()\n",
        "list_sen"
      ],
      "execution_count": null,
      "outputs": [
        {
          "output_type": "execute_result",
          "data": {
            "text/plain": [
              "['what', 'time', 'are', 'we', 'climbing', 'up', 'the', 'volcano']"
            ]
          },
          "metadata": {
            "tags": []
          },
          "execution_count": 8
        }
      ]
    },
    {
      "cell_type": "code",
      "metadata": {
        "id": "Zs0yaAhHbbyV"
      },
      "source": [
        "alphabet = [chr(i) for i in range(97, 123)]\n",
        "alphabet\n"
      ],
      "execution_count": null,
      "outputs": []
    },
    {
      "cell_type": "code",
      "metadata": {
        "colab": {
          "base_uri": "https://localhost:8080/"
        },
        "id": "QoMwqHZWoPkV",
        "outputId": "a42a4abe-30e8-486c-94dd-13bf7352703a"
      },
      "source": [
        "sentence = 'what time are we climbing up the volcano'\n",
        "list_sen = sentence.split()\n",
        "\n",
        "alphabet = [chr(i) for i in range(97, 123)]\n",
        "\n",
        "enumerate(alphabet)\n",
        "dict_num = dict(enumerate(alphabet, start=1))\n",
        "alph_num_dict = {}\n",
        "for a, b in dict_num.items() :\n",
        "  alph_num_dict[b] = a\n",
        "print(alph_num_dict)\n",
        "\n",
        "count_dict = {}\n",
        "for word in list_sen:\n",
        "    y = 0\n",
        "    for i in word:\n",
        "        x = alph_num_dict[i]\n",
        "        count_dict[word] = x + y\n",
        "        y = x\n",
        "print(count_dict)\n",
        "\n",
        "for a, b in count_dict.items() :\n",
        "    if b == max(count_dict.values()) :\n",
        "      print(f\"{a} has the max score and its score is {b}\")"
      ],
      "execution_count": null,
      "outputs": [
        {
          "output_type": "stream",
          "text": [
            "{'a': 1, 'b': 2, 'c': 3, 'd': 4, 'e': 5, 'f': 6, 'g': 7, 'h': 8, 'i': 9, 'j': 10, 'k': 11, 'l': 12, 'm': 13, 'n': 14, 'o': 15, 'p': 16, 'q': 17, 'r': 18, 's': 19, 't': 20, 'u': 21, 'v': 22, 'w': 23, 'x': 24, 'y': 25, 'z': 26}\n",
            "{'what': 21, 'time': 18, 'are': 23, 'we': 28, 'climbing': 21, 'up': 37, 'the': 13, 'volcano': 29}\n",
            "up has the max score and its score is 37\n"
          ],
          "name": "stdout"
        }
      ]
    },
    {
      "cell_type": "code",
      "metadata": {
        "id": "9VmxYtCyukHI"
      },
      "source": [
        "for a, b in dict_num.items() :\n",
        "   if b == 1 :\n",
        "     count_dict[word] = [a]\n"
      ],
      "execution_count": null,
      "outputs": []
    },
    {
      "cell_type": "code",
      "metadata": {
        "id": "R4L1V8expNo4"
      },
      "source": [
        ""
      ],
      "execution_count": null,
      "outputs": []
    },
    {
      "cell_type": "code",
      "metadata": {
        "id": "Lk9sDAZppNr_"
      },
      "source": [
        ""
      ],
      "execution_count": null,
      "outputs": []
    },
    {
      "cell_type": "code",
      "metadata": {
        "id": "PQVfjUW4bbrw",
        "colab": {
          "base_uri": "https://localhost:8080/"
        },
        "outputId": "268b5607-ac3d-439e-ac27-0cf7ae45b830"
      },
      "source": [
        "ord('a')"
      ],
      "execution_count": null,
      "outputs": [
        {
          "output_type": "execute_result",
          "data": {
            "text/plain": [
              "97"
            ]
          },
          "metadata": {
            "tags": []
          },
          "execution_count": 9
        }
      ]
    }
  ]
}