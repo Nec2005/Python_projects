{
 "cells": [
  {
   "cell_type": "markdown",
   "source": [
    "Collatz dizisi uzunluğunu bulunuz.Collatz dizisinde bir sonraki sayıyı bulma kuralı şöyledir:\r\n",
    "ni çift sayıysa: ni+1=ni/2\r\n",
    "ni tek sayıysa: ni+1=3ni+1\r\n",
    "ni=1ise dur.\r\n",
    "Söz gelişi, 13 ile başlayan bir dizi aşağıdaki gibi olur.\r\n",
    "13, 40, 20, 10, 5, 16, 8, 4, 2, 1"
   ],
   "metadata": {}
  },
  {
   "cell_type": "code",
   "execution_count": 8,
   "source": [
    "def collatz(num):\r\n",
    "    print(num, end=\" \")\r\n",
    "    while num > 1:\r\n",
    "        if num%2 :\r\n",
    "            num = 3*num + 1\r\n",
    "            print(num, end=\" \")\r\n",
    "        else :\r\n",
    "            num = num//2\r\n",
    "            print(num, end= \" \")\r\n",
    "      \r\n",
    "            \r\n",
    "collatz(10)\r\n",
    "\r\n"
   ],
   "outputs": [
    {
     "output_type": "stream",
     "name": "stdout",
     "text": [
      "10 5 16 8 4 2 1 "
     ]
    }
   ],
   "metadata": {}
  },
  {
   "cell_type": "code",
   "execution_count": 7,
   "source": [
    "def collatz(num):\r\n",
    "    print(num, end=\" \")\r\n",
    "    while num > 1:\r\n",
    "        if num%2 :\r\n",
    "            num = 3*num + 1\r\n",
    "            print(num, end=\" \")\r\n",
    "        else :\r\n",
    "            num = num//2\r\n",
    "            print(num, end= \" \")\r\n",
    "            \r\n",
    "                \r\n",
    "collatz(10)"
   ],
   "outputs": [
    {
     "output_type": "stream",
     "name": "stdout",
     "text": [
      "10 5 16 8 4 2 1 "
     ]
    }
   ],
   "metadata": {}
  },
  {
   "cell_type": "code",
   "execution_count": null,
   "source": [],
   "outputs": [],
   "metadata": {}
  }
 ],
 "metadata": {
  "orig_nbformat": 4,
  "language_info": {
   "name": "python",
   "version": "3.9.5",
   "mimetype": "text/x-python",
   "codemirror_mode": {
    "name": "ipython",
    "version": 3
   },
   "pygments_lexer": "ipython3",
   "nbconvert_exporter": "python",
   "file_extension": ".py"
  },
  "kernelspec": {
   "name": "python3",
   "display_name": "Python 3.9.5 64-bit (windows store)"
  },
  "interpreter": {
   "hash": "91e309b0d6f9bd13113d0dab55954c7a828cac190944509a12384aacede56c3d"
  }
 },
 "nbformat": 4,
 "nbformat_minor": 2
}