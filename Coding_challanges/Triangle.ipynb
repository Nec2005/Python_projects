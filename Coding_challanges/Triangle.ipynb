{
 "cells": [
  {
   "cell_type": "code",
   "execution_count": 39,
   "id": "fe65986c",
   "metadata": {},
   "outputs": [
    {
     "name": "stdout",
     "output_type": "stream",
     "text": [
      "\n",
      "*\n",
      "**\n",
      "***\n",
      "****\n",
      "*****\n",
      "****\n",
      "***\n",
      "**\n",
      "*\n"
     ]
    }
   ],
   "source": [
    "a = '*'\n",
    "for i in range(2):\n",
    "    for j in range (6):\n",
    "        print(a*j)\n",
    "    for j in range (4, 0, -1):   \n",
    "        print(a*j)      \n",
    "    break      \n"
   ]
  },
  {
   "cell_type": "code",
   "execution_count": 14,
   "id": "48a699f4",
   "metadata": {},
   "outputs": [
    {
     "name": "stdout",
     "output_type": "stream",
     "text": [
      "*\n",
      "**\n",
      "***\n",
      "****\n",
      "*****\n",
      "****\n",
      "***\n",
      "**\n",
      "*\n"
     ]
    }
   ],
   "source": [
    "star = '*'\n",
    "a, b, c = 1, 6, 1\n",
    "for i in range(2):\n",
    "    for j in range(a, b, c):\n",
    "        print(star * j)\n",
    "        if j == 5:\n",
    "            a, b, c = 4, 0, -1"
   ]
  },
  {
   "cell_type": "code",
   "execution_count": 25,
   "id": "43460880",
   "metadata": {},
   "outputs": [
    {
     "name": "stdout",
     "output_type": "stream",
     "text": [
      "*\n",
      "* *\n",
      "* * *\n",
      "* * * *\n",
      "* * * * *\n"
     ]
    }
   ],
   "source": [
    "a = '*'\n",
    "for i in range(5):\n",
    "    print(a)\n",
    "    a += ' *'\n",
    "for i in"
   ]
  },
  {
   "cell_type": "code",
   "execution_count": 29,
   "id": "f444a73b",
   "metadata": {},
   "outputs": [],
   "source": [
    "list(a).remove('*')"
   ]
  },
  {
   "cell_type": "code",
   "execution_count": null,
   "id": "a3cec0ab",
   "metadata": {},
   "outputs": [],
   "source": []
  },
  {
   "cell_type": "code",
   "execution_count": 16,
   "id": "a82949ea",
   "metadata": {},
   "outputs": [
    {
     "data": {
      "text/plain": [
       "[4, 3, 2, 1]"
      ]
     },
     "execution_count": 16,
     "metadata": {},
     "output_type": "execute_result"
    }
   ],
   "source": [
    "list(range(4,0,-1))"
   ]
  },
  {
   "cell_type": "code",
   "execution_count": null,
   "id": "644b2bfd",
   "metadata": {},
   "outputs": [],
   "source": []
  },
  {
   "cell_type": "markdown",
   "id": "651a5c08",
   "metadata": {},
   "source": [
    "Write a Python program to check a triangle is equilateral, isosceles or scalene.\n",
    "Note :\n",
    "An equilateral triangle is a triangle in which all three sides are equal.\n",
    "A scalene triangle is a triangle that has three unequal sides.\n",
    "An isosceles triangle is a triangle with (at least) two equal sides.\n",
    "Sample Output:\n",
    "x: 6\n",
    "y:8\n",
    "z:12\n",
    "Scalene triangle"
   ]
  },
  {
   "cell_type": "code",
   "execution_count": 46,
   "id": "673a565b",
   "metadata": {},
   "outputs": [
    {
     "name": "stdout",
     "output_type": "stream",
     "text": [
      "Enter the sides of the triangle: 666\n"
     ]
    }
   ],
   "source": [
    "x, y, z = input('Enter the sides of the triangle: ')"
   ]
  },
  {
   "cell_type": "code",
   "execution_count": 58,
   "id": "cb41c50e",
   "metadata": {},
   "outputs": [
    {
     "name": "stdout",
     "output_type": "stream",
     "text": [
      "Enter the sides of the triangle: 969\n",
      "x:9 \n",
      "y:6 \n",
      "z:9 \n",
      "Isosceles triangle\n"
     ]
    }
   ],
   "source": [
    "x, y, z = input('Enter the sides of the triangle: ')\n",
    "\n",
    "triangle = 'x:{} \\ny:{} \\nz:{}'.format(x,y,z)\n",
    "if x==y==z :\n",
    "    print(triangle,  '\\nEquilateral triangle')\n",
    "\n",
    "elif x==y or x==z or y==z:\n",
    "    print(triangle, '\\nIsosceles triangle')\n",
    "\n",
    "else :\n",
    "    print(triangle, '\\nScalene triangle')\n",
    "    \n",
    "    "
   ]
  },
  {
   "cell_type": "code",
   "execution_count": 45,
   "id": "8722ef46",
   "metadata": {},
   "outputs": [
    {
     "name": "stdout",
     "output_type": "stream",
     "text": [
      "x:5 \n",
      "y:\n"
     ]
    }
   ],
   "source": [
    "print('x:{} \\ny:'.format(5))"
   ]
  },
  {
   "cell_type": "code",
   "execution_count": null,
   "id": "2e9f8ecd",
   "metadata": {},
   "outputs": [],
   "source": []
  },
  {
   "cell_type": "code",
   "execution_count": null,
   "id": "af7a25bc",
   "metadata": {},
   "outputs": [],
   "source": []
  }
 ],
 "metadata": {
  "kernelspec": {
   "display_name": "Python 3 (ipykernel)",
   "language": "python",
   "name": "python3"
  },
  "language_info": {
   "codemirror_mode": {
    "name": "ipython",
    "version": 3
   },
   "file_extension": ".py",
   "mimetype": "text/x-python",
   "name": "python",
   "nbconvert_exporter": "python",
   "pygments_lexer": "ipython3",
   "version": "3.9.6"
  }
 },
 "nbformat": 4,
 "nbformat_minor": 5
}
