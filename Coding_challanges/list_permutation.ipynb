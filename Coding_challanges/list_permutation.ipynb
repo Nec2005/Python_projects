{
 "cells": [
  {
   "cell_type": "markdown",
   "source": [
    "Problem :\n",
    "Given a collection of distinct integers, return all possible permutations.\n",
    "Example:\n",
    "\n",
    "Input:\n",
    "[1,2,3]\n",
    "\n",
    "Output:\n",
    "[\n",
    "  [1,2,3],\n",
    "  [1,3,2],\n",
    "  [2,1,3],\n",
    "  [2,3,1],\n",
    "  [3,1,2],\n",
    "  [3,2,1]\n",
    "]"
   ],
   "metadata": {}
  },
  {
   "cell_type": "code",
   "execution_count": 24,
   "source": [
    "list1 = [1, 2, 3]\r\n",
    "i = 1\r\n",
    "fact = 1\r\n",
    "while i < len(list1) + 1 :\r\n",
    "    fact *= i\r\n",
    "    i += 1\r\n",
    "i = 1\r\n",
    "fact_dict = {}\r\n",
    "while i < fact + 1:\r\n",
    "    fact_dict[i] = []\r\n",
    "    i += 1\r\n",
    "fact_dict\r\n",
    "count = 0\r\n",
    "for i in list1:\r\n",
    "       \r\n",
    "    for j in range(1, fact+1):\r\n",
    "        fact_dict[j].append(i)\r\n",
    "        count += 1\r\n",
    "    if count == fact//len(list1):\r\n",
    "        continue\r\n",
    "            \r\n",
    "\r\n",
    "print(fact_dict)\r\n"
   ],
   "outputs": [
    {
     "output_type": "stream",
     "name": "stdout",
     "text": [
      "{1: [1, 2, 3], 2: [1, 2, 3], 3: [1, 2, 3], 4: [1, 2, 3], 5: [1, 2, 3], 6: [1, 2, 3]}\n"
     ]
    }
   ],
   "metadata": {}
  },
  {
   "cell_type": "code",
   "execution_count": 4,
   "source": [
    "i"
   ],
   "outputs": [
    {
     "output_type": "execute_result",
     "data": {
      "text/plain": [
       "4"
      ]
     },
     "metadata": {},
     "execution_count": 4
    }
   ],
   "metadata": {}
  },
  {
   "cell_type": "code",
   "execution_count": null,
   "source": [
    "fact_dict = {1: [], 2: [], 3: [], 4: [], 5: [], 6: []}"
   ],
   "outputs": [],
   "metadata": {}
  },
  {
   "cell_type": "code",
   "execution_count": null,
   "source": [],
   "outputs": [],
   "metadata": {}
  },
  {
   "cell_type": "code",
   "execution_count": 10,
   "source": [
    "fruits = []\r\n",
    "\r\n",
    "fruits.insert(2, \"orange\")\r\n",
    "\r\n",
    "print(fruits)"
   ],
   "outputs": [
    {
     "output_type": "stream",
     "name": "stdout",
     "text": [
      "['orange']\n"
     ]
    }
   ],
   "metadata": {}
  },
  {
   "cell_type": "markdown",
   "source": [],
   "metadata": {}
  },
  {
   "cell_type": "code",
   "execution_count": null,
   "source": [],
   "outputs": [],
   "metadata": {}
  },
  {
   "cell_type": "code",
   "execution_count": null,
   "source": [
    "fact_dict = {1: [1, 2, 3],\r\n",
    "             2: [1, 2, 3],\r\n",
    "             3: [1, 2, 3],\r\n",
    "             4: [1, 2, 3],\r\n",
    "             5: [1, 2, 3],\r\n",
    "             6: [1, 2, 3]}"
   ],
   "outputs": [],
   "metadata": {}
  },
  {
   "cell_type": "code",
   "execution_count": null,
   "source": [],
   "outputs": [],
   "metadata": {}
  },
  {
   "cell_type": "code",
   "execution_count": 2,
   "source": [
    "lst = [1,2,3]\r\n",
    "lst_new = []\r\n",
    "for i in lst:\r\n",
    "    for j in lst:\r\n",
    "        for k in lst:\r\n",
    "            if i != j and j != k and i != k:\r\n",
    "                lst_new.append([i,j,k])\r\n",
    "print(lst_new)"
   ],
   "outputs": [
    {
     "output_type": "stream",
     "name": "stdout",
     "text": [
      "[[1, 2, 3], [1, 3, 2], [2, 1, 3], [2, 3, 1], [3, 1, 2], [3, 2, 1]]\n"
     ]
    }
   ],
   "metadata": {}
  }
 ],
 "metadata": {
  "kernelspec": {
   "name": "python3",
   "display_name": "Python 3.9.7 64-bit"
  },
  "language_info": {
   "codemirror_mode": {
    "name": "ipython",
    "version": 3
   },
   "file_extension": ".py",
   "mimetype": "text/x-python",
   "name": "python",
   "nbconvert_exporter": "python",
   "pygments_lexer": "ipython3",
   "version": "3.9.7"
  },
  "interpreter": {
   "hash": "bf18297ba29ab59974e3cde921359bf4732846305eb0ebd212cf3897d725727a"
  }
 },
 "nbformat": 4,
 "nbformat_minor": 5
}