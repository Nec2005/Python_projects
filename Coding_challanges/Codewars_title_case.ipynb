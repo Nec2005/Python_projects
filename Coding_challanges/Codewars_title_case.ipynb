{
 "cells": [
  {
   "cell_type": "markdown",
   "id": "4f032535",
   "metadata": {},
   "source": [
    "A string is considered to be in title case if each word in the string is either (a) capitalised (that is, only the first letter of the word is in upper case) or (b) considered to be an exception and put entirely into lower case unless it is the first word, which is always capitalised.\n",
    "\n",
    "Write a function that will convert a string into title case, given an optional list of exceptions (minor words). The list of minor words will be given as a string with each word separated by a space. Your function should ignore the case of the minor words string -- it should behave in the same way even if the case of the minor word string is changed.\n",
    "\n",
    "\n",
    "###Arguments \n",
    "\n",
    "First argument (required): the original string to be converted.\n",
    "Second argument (optional): space-delimited list of minor words that must always be lowercase except for the first word in the string. The JavaScript/CoffeeScript tests will pass undefined when this argument is unused.\n",
    "\n",
    "###Example\n",
    "\n",
    "title_case('a clash of KINGS', 'a an the of') # should return: 'A Clash of Kings'\n",
    "title_case('THE WIND IN THE WILLOWS', 'The In') # should return: 'The Wind in the Willows'\n",
    "title_case('the quick brown fox') # should return: 'The Quick Brown Fox'\n",
    "\n",
    "def title_case(title, minor_words=''):"
   ]
  },
  {
   "cell_type": "code",
   "execution_count": 57,
   "id": "54219425",
   "metadata": {},
   "outputs": [
    {
     "data": {
      "text/plain": [
       "['and',\n",
       " 'as',\n",
       " 'but',\n",
       " 'for',\n",
       " 'if',\n",
       " 'nor',\n",
       " 'or',\n",
       " 'so',\n",
       " 'yet',\n",
       " 'a',\n",
       " 'an',\n",
       " 'the',\n",
       " 'of',\n",
       " 'at',\n",
       " 'by',\n",
       " 'in',\n",
       " 'on',\n",
       " 'up',\n",
       " 'to']"
      ]
     },
     "execution_count": 57,
     "metadata": {},
     "output_type": "execute_result"
    }
   ],
   "source": [
    "minor_words= ['and', 'as', 'but', 'for', 'if', 'nor', 'or', 'so', 'yet', 'a', 'an', 'the', 'of', 'at', 'by', 'in', 'on' , 'up', 'to']\n",
    "x= \" \".join(minor_words)\n",
    "minor_words='and as but for if nor or so yet a an the of at by in on up to'\n",
    "minor_words = minor_words.lower().split()\n",
    "minor_wordsand as but for if nor or so yet a an the of at by in on up to\n"
   ]
  },
  {
   "cell_type": "code",
   "execution_count": 62,
   "id": "46677dbf",
   "metadata": {},
   "outputs": [
    {
     "data": {
      "text/plain": [
       "'The Wind in the Willows'"
      ]
     },
     "execution_count": 62,
     "metadata": {},
     "output_type": "execute_result"
    }
   ],
   "source": [
    "def title_case(title, minor_words=''):\n",
    "           \n",
    "    list1 = title.lower().split()\n",
    "    minor_words = minor_words.lower().split()\n",
    "    new = []\n",
    "    for i in range(len(list1)) :\n",
    "        if i == 0 :\n",
    "            new.append(list1[i].title())\n",
    "            pass\n",
    "        elif list1[i] in minor_words :\n",
    "            new.append(list1[i])\n",
    "\n",
    "        else:\n",
    "            new.append(list1[i].title())\n",
    "\n",
    "    last = \" \".join(new)\n",
    "    return last\n",
    "\n",
    "\n",
    "title_case('THE WIND IN THE WILLOWS', 'The In')"
   ]
  },
  {
   "cell_type": "code",
   "execution_count": null,
   "id": "f734a47d",
   "metadata": {},
   "outputs": [],
   "source": []
  },
  {
   "cell_type": "code",
   "execution_count": null,
   "id": "1a98af4c",
   "metadata": {},
   "outputs": [],
   "source": [
    "def title_case(title, minor_words=''):\n",
    "    title = title.capitalize().split()\n",
    "    minor_words = minor_words.lower().split()\n",
    "    return ' '.join([word if word in minor_words else word.capitalize() for word in title])"
   ]
  },
  {
   "cell_type": "code",
   "execution_count": null,
   "id": "7b0d496d",
   "metadata": {},
   "outputs": [],
   "source": [
    "def title_case(title, minor_words=''):\n",
    "    title, minor_words = title.lower().split(), minor_words.lower().split()\n",
    "    for i in range(len(title)):\n",
    "        if i == 0 or title[i] not in minor_words:\n",
    "            title[i] = title[i].capitalize()\n",
    "    return ' '.join(title)"
   ]
  },
  {
   "cell_type": "code",
   "execution_count": 3,
   "id": "2473fb39",
   "metadata": {},
   "outputs": [
    {
     "data": {
      "text/plain": [
       "'The Wind In The Willows'"
      ]
     },
     "execution_count": 3,
     "metadata": {},
     "output_type": "execute_result"
    }
   ],
   "source": [
    "a = 'THE WIND IN THE WILLOWS'\n",
    "b = a.title()\n",
    "b"
   ]
  },
  {
   "cell_type": "code",
   "execution_count": 4,
   "id": "11a4cc79",
   "metadata": {},
   "outputs": [
    {
     "data": {
      "text/plain": [
       "'A Clash Of Kings'"
      ]
     },
     "execution_count": 4,
     "metadata": {},
     "output_type": "execute_result"
    }
   ],
   "source": [
    "a = 'a clash of KINGS'\n",
    "b = a.title()\n",
    "b"
   ]
  },
  {
   "cell_type": "code",
   "execution_count": null,
   "id": "f73da8a3",
   "metadata": {},
   "outputs": [],
   "source": []
  },
  {
   "cell_type": "code",
   "execution_count": null,
   "id": "08ef4bb1",
   "metadata": {},
   "outputs": [],
   "source": []
  },
  {
   "cell_type": "code",
   "execution_count": null,
   "id": "2353b353",
   "metadata": {},
   "outputs": [],
   "source": []
  }
 ],
 "metadata": {
  "kernelspec": {
   "display_name": "Python 3 (ipykernel)",
   "language": "python",
   "name": "python3"
  },
  "language_info": {
   "codemirror_mode": {
    "name": "ipython",
    "version": 3
   },
   "file_extension": ".py",
   "mimetype": "text/x-python",
   "name": "python",
   "nbconvert_exporter": "python",
   "pygments_lexer": "ipython3",
   "version": "3.9.6"
  }
 },
 "nbformat": 4,
 "nbformat_minor": 5
}
