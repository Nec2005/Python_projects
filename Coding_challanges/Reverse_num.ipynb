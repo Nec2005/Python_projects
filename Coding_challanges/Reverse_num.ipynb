{
 "cells": [
  {
   "cell_type": "markdown",
   "id": "065be722",
   "metadata": {},
   "source": [
    "Given a signed 32-bit integer x, return x with its digits reversed. If reversing x causes the value to go outside the signed 32-bit integer range [-2^31, 2^31 - 1], then return 0.\n",
    "Assume the environment does not allow you to store 64-bit integers (signed or unsigned).\n",
    "Example 1:\n",
    "Input: x = 123\n",
    "Output: 321\n",
    " \n",
    "Example 2:\n",
    "Input: x = -123\n",
    "Output: -321\n",
    " \n",
    "Example 3:\n",
    "Input: x = 120\n",
    "Output: 21\n",
    " \n",
    "Example 4:\n",
    "Input: x = 0\n",
    "Output: 0\n",
    "Constraints:\n",
    "-2^31 <= x <= 2^31 - 1"
   ]
  },
  {
   "cell_type": "code",
   "execution_count": 1,
   "id": "39dbd573",
   "metadata": {},
   "outputs": [
    {
     "data": {
      "text/plain": [
       "2147483648"
      ]
     },
     "execution_count": 1,
     "metadata": {},
     "output_type": "execute_result"
    }
   ],
   "source": [
    "2**31"
   ]
  },
  {
   "cell_type": "code",
   "execution_count": 37,
   "id": "6c1030dc",
   "metadata": {},
   "outputs": [],
   "source": []
  },
  {
   "cell_type": "code",
   "execution_count": 27,
   "id": "b77a715e",
   "metadata": {},
   "outputs": [
    {
     "name": "stdout",
     "output_type": "stream",
     "text": [
      "Enter a number :780\n",
      "87"
     ]
    }
   ],
   "source": [
    "x = int(input('Enter a number :'))\n",
    "list_x = list(str(x))\n",
    "\n",
    "if x in range(-2**31, 2**31-1):\n",
    "    y, z = 0, 1\n",
    "    for i in list_x:\n",
    "        if list_x[len(list_x)-z] == '0':\n",
    "            list_x.remove('0')\n",
    "        if x < 0 :\n",
    "            print(list_x[y], end=\"\")\n",
    "            y = len(list_x)-z\n",
    "            z += 1\n",
    "        elif x > 0:\n",
    "            y= len(list_x)-z            \n",
    "            print(list_x[y], end=\"\")\n",
    "            z += 1\n",
    "        else :\n",
    "            print(x)\n",
    "else :\n",
    "    print(0)"
   ]
  },
  {
   "cell_type": "code",
   "execution_count": 23,
   "id": "7f3e4f71",
   "metadata": {},
   "outputs": [
    {
     "data": {
      "text/plain": [
       "['-', '1', '2']"
      ]
     },
     "execution_count": 23,
     "metadata": {},
     "output_type": "execute_result"
    }
   ],
   "source": [
    "list_x1 = ['-', '1', '2', '4']\n",
    "list_x1.remove('4')\n",
    "list_x1"
   ]
  },
  {
   "cell_type": "code",
   "execution_count": 28,
   "id": "5dbf9e1e",
   "metadata": {},
   "outputs": [
    {
     "data": {
      "text/plain": [
       "['7', '8']"
      ]
     },
     "execution_count": 28,
     "metadata": {},
     "output_type": "execute_result"
    }
   ],
   "source": [
    "list_x"
   ]
  },
  {
   "cell_type": "code",
   "execution_count": null,
   "id": "43614758",
   "metadata": {},
   "outputs": [],
   "source": []
  },
  {
   "cell_type": "code",
   "execution_count": null,
   "id": "da155304",
   "metadata": {},
   "outputs": [],
   "source": []
  },
  {
   "cell_type": "code",
   "execution_count": null,
   "id": "ff3207ff",
   "metadata": {},
   "outputs": [],
   "source": []
  },
  {
   "cell_type": "code",
   "execution_count": null,
   "id": "b3cd6ce5",
   "metadata": {},
   "outputs": [],
   "source": []
  }
 ],
 "metadata": {
  "kernelspec": {
   "display_name": "Python 3 (ipykernel)",
   "language": "python",
   "name": "python3"
  },
  "language_info": {
   "codemirror_mode": {
    "name": "ipython",
    "version": 3
   },
   "file_extension": ".py",
   "mimetype": "text/x-python",
   "name": "python",
   "nbconvert_exporter": "python",
   "pygments_lexer": "ipython3",
   "version": "3.9.6"
  }
 },
 "nbformat": 4,
 "nbformat_minor": 5
}
