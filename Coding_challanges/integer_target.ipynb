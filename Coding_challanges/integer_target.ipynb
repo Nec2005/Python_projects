{
 "cells": [
  {
   "cell_type": "markdown",
   "id": "ccef4722",
   "metadata": {},
   "source": [
    "Given an list of integers nums and an integer target, return indices of the two numbers such that they add up to target.      \n",
    " nums = [2, 7, 11, 15]                         \n",
    " target = 17      \n",
    " The indices 0 and 3 are returned here as the values in the input list 2 and 15 add up to the target value 17.  \n",
    "output:    (0, 3) "
   ]
  },
  {
   "cell_type": "code",
   "execution_count": 17,
   "id": "35934a01",
   "metadata": {},
   "outputs": [
    {
     "data": {
      "text/plain": [
       "[0, 3]"
      ]
     },
     "execution_count": 17,
     "metadata": {},
     "output_type": "execute_result"
    }
   ],
   "source": [
    "def add_target(nums, target):\n",
    "    result=[]\n",
    "    for i in nums:\n",
    "        x = target - i\n",
    "        \n",
    "        if x in nums:\n",
    "            if nums.index(i) not in result and nums.index(x) not in result:\n",
    "                result.append(nums.index(i))\n",
    "                result.append(nums.index(x))   \n",
    "    return result\n",
    "\n",
    "add_target([2, 7, 11, 15], 17)"
   ]
  },
  {
   "cell_type": "code",
   "execution_count": 16,
   "id": "5670ca58",
   "metadata": {},
   "outputs": [
    {
     "name": "stdout",
     "output_type": "stream",
     "text": [
      "[0, 3]\n"
     ]
    }
   ],
   "source": [
    "nums = [2, 7, 11, 15]\n",
    "target = 17\n",
    "result=[]\n",
    "for i in nums:\n",
    "    x = target - i\n",
    "    if x in nums:\n",
    "        if nums.index(i) not in result and nums.index(x) not in result:\n",
    "            result.append(nums.index(i))\n",
    "            result.append(nums.index(x))\n",
    "print(result)\n",
    "        \n",
    "        \n",
    "      "
   ]
  },
  {
   "cell_type": "code",
   "execution_count": null,
   "id": "09e81af6",
   "metadata": {},
   "outputs": [],
   "source": []
  }
 ],
 "metadata": {
  "kernelspec": {
   "display_name": "Python 3 (ipykernel)",
   "language": "python",
   "name": "python3"
  },
  "language_info": {
   "codemirror_mode": {
    "name": "ipython",
    "version": 3
   },
   "file_extension": ".py",
   "mimetype": "text/x-python",
   "name": "python",
   "nbconvert_exporter": "python",
   "pygments_lexer": "ipython3",
   "version": "3.9.6"
  }
 },
 "nbformat": 4,
 "nbformat_minor": 5
}
