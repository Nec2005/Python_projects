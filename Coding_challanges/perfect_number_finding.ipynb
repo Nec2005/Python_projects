{
  "nbformat": 4,
  "nbformat_minor": 0,
  "metadata": {
    "colab": {
      "name": "perfect_number_finding.ipynb",
      "provenance": [],
      "collapsed_sections": []
    },
    "kernelspec": {
      "name": "python3",
      "display_name": "Python 3"
    },
    "language_info": {
      "name": "python"
    }
  },
  "cells": [
    {
      "cell_type": "code",
      "metadata": {
        "id": "s0wOOBK1KIZ6"
      },
      "source": [
        ""
      ],
      "execution_count": null,
      "outputs": []
    },
    {
      "cell_type": "markdown",
      "metadata": {
        "id": "wPojKrROtn6y"
      },
      "source": [
        "According to Wikipedia: In number theory, a perfect number is a positive integer that is equal to the sum of its proper positive divisors, i.e. the sum of its positive divisors excluding the number itself (also known as a quotient). total). Equivalently, a perfect number is one that is half the sum of all its positive divisors (including itself). Example: The first perfect number is 6 because 1, 2, and 3 are proper positive divisors, and 1 + 2 + 3 = 6. Equivalently, the number 6 is half the sum of all its positive divisors: ( 1 + 2 + 3 + 6) / 2 = 6. The next perfect number is 28 = 1 + 2 + 4 + 7 + 14. This is followed by the perfect numbers 496 and 8128."
      ]
    },
    {
      "cell_type": "code",
      "metadata": {
        "colab": {
          "base_uri": "https://localhost:8080/"
        },
        "id": "bBDIsLVeavAM",
        "outputId": "266ff1a4-ec96-4c35-a6e3-59b5c815f9e5"
      },
      "source": [
        "num = int(input(\"Enter a number:\"))\n",
        "sum_div= []\n",
        "for i in range(1, num):\n",
        "  if num % i == 0 :\n",
        "      sum_div.append(i)\n",
        "if sum(sum_div) == num :\n",
        "  print(\"This is a perfect number\")\n",
        "else: \n",
        "  print(\"This is not a perfect number\")\n",
        "\n",
        "\n",
        "\n",
        "\n",
        "   "
      ],
      "execution_count": 2,
      "outputs": [
        {
          "output_type": "stream",
          "text": [
            "Enter a number:25\n",
            " This is not a perfect number\n"
          ],
          "name": "stdout"
        }
      ]
    },
    {
      "cell_type": "code",
      "metadata": {
        "id": "8nCG3M4ZavD9"
      },
      "source": [
        "num = 28\n",
        "sum= []"
      ],
      "execution_count": 4,
      "outputs": []
    },
    {
      "cell_type": "code",
      "metadata": {
        "id": "5eRGvfolavIa"
      },
      "source": [
        "for i in range(1, num) :\n",
        "  if num % i == 0 :\n",
        "      sum.append(i)\n",
        "sum(sum)"
      ],
      "execution_count": null,
      "outputs": []
    },
    {
      "cell_type": "code",
      "metadata": {
        "colab": {
          "base_uri": "https://localhost:8080/"
        },
        "id": "yFmaSPTjfLH2",
        "outputId": "27082b95-edf9-4c71-c5bf-7c72b2d10870"
      },
      "source": [
        "a = [3, 4, 5]\n",
        "sum(a)\n"
      ],
      "execution_count": 2,
      "outputs": [
        {
          "output_type": "execute_result",
          "data": {
            "text/plain": [
              "12"
            ]
          },
          "metadata": {
            "tags": []
          },
          "execution_count": 2
        }
      ]
    },
    {
      "cell_type": "code",
      "metadata": {
        "id": "32O1LZk0fLEP"
      },
      "source": [
        ""
      ],
      "execution_count": null,
      "outputs": []
    },
    {
      "cell_type": "code",
      "metadata": {
        "colab": {
          "base_uri": "https://localhost:8080/"
        },
        "id": "QnNUe6D7fvki",
        "outputId": "92e79b1c-5cb9-4298-9820-f4454196b6fa"
      },
      "source": [
        "a = (1, 2, 3, 4, 5)\n",
        "x = sum(a)\n",
        "print(x)"
      ],
      "execution_count": 1,
      "outputs": [
        {
          "output_type": "stream",
          "text": [
            "15\n"
          ],
          "name": "stdout"
        }
      ]
    },
    {
      "cell_type": "code",
      "metadata": {
        "id": "0GrA9eiYfveR"
      },
      "source": [
        ""
      ],
      "execution_count": null,
      "outputs": []
    },
    {
      "cell_type": "code",
      "metadata": {
        "id": "kShFQksjfvbI"
      },
      "source": [
        ""
      ],
      "execution_count": null,
      "outputs": []
    }
  ]
}