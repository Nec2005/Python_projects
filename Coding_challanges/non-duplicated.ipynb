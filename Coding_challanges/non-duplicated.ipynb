{
 "cells": [
  {
   "cell_type": "markdown",
   "id": "e6fd943f",
   "metadata": {},
   "source": [
    "Given an array of integers where every integer occurs three times except for one integer, \n",
    "which only occurs once, find and return the non-duplicated integer.\n",
    "For example, \n",
    "\n",
    "given [6, 1, 3, 3, 3, 6, 6], return 1. \n",
    "\n",
    "Given [13, 19, 13, 13], return 19. "
   ]
  },
  {
   "cell_type": "code",
   "execution_count": 45,
   "id": "b72e376b",
   "metadata": {},
   "outputs": [
    {
     "name": "stdout",
     "output_type": "stream",
     "text": [
      "[1]\n"
     ]
    }
   ],
   "source": [
    "numbers = [6, 1, 3, 3, 3, 6, 6]\n",
    "nodupl = [] \n",
    "\n",
    "num_set = list(set(numbers))\n",
    "for i in num_set: \n",
    "    count = 0 \n",
    "    for j in numbers: \n",
    "        if i == j:\n",
    "            count += 1\n",
    "    if count == 1 :\n",
    "        nodupl.append(i)\n",
    "       \n",
    "print(nodupl)        \n",
    "     \n",
    "    \n",
    "        \n",
    "        "
   ]
  },
  {
   "cell_type": "code",
   "execution_count": 43,
   "id": "f67162a9",
   "metadata": {},
   "outputs": [
    {
     "data": {
      "text/plain": [
       "[1, 3, 6]"
      ]
     },
     "execution_count": 43,
     "metadata": {},
     "output_type": "execute_result"
    }
   ],
   "source": [
    "list(set(numbers))"
   ]
  },
  {
   "cell_type": "code",
   "execution_count": 48,
   "id": "0a9718db",
   "metadata": {},
   "outputs": [
    {
     "data": {
      "text/plain": [
       "3"
      ]
     },
     "execution_count": 48,
     "metadata": {},
     "output_type": "execute_result"
    }
   ],
   "source": [
    "numbers.count(6)"
   ]
  },
  {
   "cell_type": "code",
   "execution_count": 50,
   "id": "3a06c13a",
   "metadata": {},
   "outputs": [],
   "source": [
    "def noduplicate(liste):\n",
    "    for i in liste:\n",
    "        x = liste.count(i)\n",
    "        if x == 1:\n",
    "            return x"
   ]
  },
  {
   "cell_type": "code",
   "execution_count": 51,
   "id": "57b6d699",
   "metadata": {},
   "outputs": [
    {
     "data": {
      "text/plain": [
       "1"
      ]
     },
     "execution_count": 51,
     "metadata": {},
     "output_type": "execute_result"
    }
   ],
   "source": [
    "noduplicate([6, 1, 3, 3, 3, 6, 6])"
   ]
  },
  {
   "cell_type": "code",
   "execution_count": null,
   "id": "d6b2ef47",
   "metadata": {},
   "outputs": [],
   "source": []
  }
 ],
 "metadata": {
  "kernelspec": {
   "display_name": "Python 3 (ipykernel)",
   "language": "python",
   "name": "python3"
  },
  "language_info": {
   "codemirror_mode": {
    "name": "ipython",
    "version": 3
   },
   "file_extension": ".py",
   "mimetype": "text/x-python",
   "name": "python",
   "nbconvert_exporter": "python",
   "pygments_lexer": "ipython3",
   "version": "3.9.6"
  }
 },
 "nbformat": 4,
 "nbformat_minor": 5
}
