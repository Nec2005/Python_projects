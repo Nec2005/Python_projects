{
  "nbformat": 4,
  "nbformat_minor": 0,
  "metadata": {
    "colab": {
      "name": "Leap_year.ipynb",
      "provenance": []
    },
    "kernelspec": {
      "name": "python3",
      "display_name": "Python 3"
    },
    "language_info": {
      "name": "python"
    }
  },
  "cells": [
    {
      "cell_type": "markdown",
      "metadata": {
        "id": "F3YKCkTUvZ01"
      },
      "source": [
        "How to determine whether a year is a leap year\n",
        "To determine whether a year is a leap year, follow these steps:\n",
        "\n",
        "1. If the year is evenly divisible by 4, go to step 2. Otherwise, go to step 5.\n",
        "2. If the year is evenly divisible by 100, go to step 3. Otherwise, go to step 4.\n",
        "3. If the year is evenly divisible by 400, go to step 4. Otherwise, go to step 5.\n",
        "4. The year is a leap year (it has 366 days).\n",
        "5. The year is not a leap year (it has 365 days)."
      ]
    },
    {
      "cell_type": "code",
      "metadata": {
        "id": "G_Iibauut8MS"
      },
      "source": [
        ""
      ],
      "execution_count": null,
      "outputs": []
    },
    {
      "cell_type": "code",
      "metadata": {
        "colab": {
          "base_uri": "https://localhost:8080/"
        },
        "id": "tCjVT_naxS07",
        "outputId": "ddc09dde-9c59-4f9d-a9e5-a0af85c79f3e"
      },
      "source": [
        "year = int(input(\"Enter a year :\"))\n",
        "if (year%4 == 0 and year%100 != 0 ) or (year%100 == 0 and year%400 == 0):\n",
        "  print('This is a leap year')\n",
        "else :\n",
        "  print('This is not a leap year')\n"
      ],
      "execution_count": 6,
      "outputs": [
        {
          "output_type": "stream",
          "text": [
            "Enter a year :1904\n",
            "This is a leap year\n"
          ],
          "name": "stdout"
        }
      ]
    },
    {
      "cell_type": "code",
      "metadata": {
        "id": "-4sZ_L1txSw8"
      },
      "source": [
        ""
      ],
      "execution_count": null,
      "outputs": []
    },
    {
      "cell_type": "code",
      "metadata": {
        "id": "4pi0fFQixSjr"
      },
      "source": [
        ""
      ],
      "execution_count": null,
      "outputs": []
    }
  ]
}