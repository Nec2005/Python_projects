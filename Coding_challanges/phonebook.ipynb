{
 "cells": [
  {
   "cell_type": "code",
   "execution_count": null,
   "id": "947791d6",
   "metadata": {},
   "outputs": [],
   "source": [
    " Write a program that creates a phonebook, adds requested contacts to the phonebook, finds them, and removes them.\n",
    "\n",
    "- There should be 4 options available to the user and from the options, users should be able to add, find, delete contacts, or terminate the program as shown below.\n",
    "\n",
    "- Phonebook has users and their corresponding phone numbers.\n",
    "\n",
    "- At the beginning of the program the phonebook will be empty and user can choose to add new contacts to the phonebook.\n",
    "\n",
    "- Program should ask user for the input, after giving information text shown as below.\n",
    "\n",
    "```text\n",
    "Welcome to the phonebook application\n",
    "1. Find phone number\n",
    "2. Insert a phone number\n",
    "3. Delete a person from the phonebook\n",
    "4. Terminate\n",
    "Select operation on Phonebook App (1/2/3) :\n",
    "```\n",
    "\n",
    "- Application should be case sensitive and run until the user types `4`.\n",
    "\n",
    "- Example for user inputs and respective outputs\n",
    "\n",
    "```text\n",
    "Welcome to the phonebook application\n",
    "1. Find phone number\n",
    "2. Insert a phone number\n",
    "3. Delete a person from the phonebook\n",
    "4. Terminate\n",
    "Select operation on Phonebook App (1/2/3) : 2\n",
    "Insert name of the person : John\n",
    "Insert phone number of the person: ten\n",
    "Invalid input format, cancelling operation ...\n",
    "\n",
    "1. Find phone number\n",
    "2. Insert a phone number\n",
    "3. Delete a person from the phonebook\n",
    "4. Terminate\n",
    "Select operation on Phonebook App (1/2/3) : 2\n",
    "Insert name of the person : Alex\n",
    "Insert phone number of the person: 1234\n",
    "Phone number of Alex is inserted into the phonebook\n",
    "\n",
    "1. Find phone number\n",
    "2. Insert a phone number\n",
    "3. Delete a person from the phonebook\n",
    "4. Terminate\n",
    "Select operation on Phonebook App (1/2/3) : 1\n",
    "Find the phone number of : Alex\n",
    "1234\n",
    "\n",
    "1. Find phone number\n",
    "2. Insert a phone number\n",
    "3. Delete a person from the phonebook\n",
    "4. Terminate\n",
    "Select operation on Phonebook App (1/2/3) : 3\n",
    "Whom to delete from phonebook : Alex\n",
    "Alex is deleted from the phonebook\n",
    "\n",
    "1. Find phone number\n",
    "2. Insert a phone number\n",
    "3. Delete a person from the phonebook\n",
    "4. Terminate\n",
    "Select operation on Phonebook App (1/2/3) : 1\n",
    "Find the phone number of : Alex\n",
    "Couldn't find phone number of Alex\n",
    "\n",
    "1. Find phone number\n",
    "2. Insert a phone number\n",
    "3. Delete a person from the phonebook\n",
    "4. Terminate\n",
    "Select operation on Phonebook App (1/2/3) : 4\n",
    "Exiting Phonebook\n",
    "```"
   ]
  },
  {
   "cell_type": "code",
   "execution_count": 1,
   "id": "d7db6b18",
   "metadata": {},
   "outputs": [
    {
     "data": {
      "text/plain": [
       "{'Alex': 1234}"
      ]
     },
     "execution_count": 1,
     "metadata": {},
     "output_type": "execute_result"
    }
   ],
   "source": [
    "phonedict = {}\n",
    "phonedict['Alex'] = 1234\n",
    "phonedict"
   ]
  },
  {
   "cell_type": "code",
   "execution_count": 12,
   "id": "2e74bc45",
   "metadata": {},
   "outputs": [
    {
     "data": {
      "text/plain": [
       "1234"
      ]
     },
     "execution_count": 12,
     "metadata": {},
     "output_type": "execute_result"
    }
   ],
   "source": [
    "phonedict['Alex']"
   ]
  },
  {
   "cell_type": "code",
   "execution_count": 36,
   "id": "8c5bf76d",
   "metadata": {},
   "outputs": [
    {
     "ename": "TypeError",
     "evalue": "'str' object is not callable",
     "output_type": "error",
     "traceback": [
      "\u001b[1;31m---------------------------------------------------------------------------\u001b[0m",
      "\u001b[1;31mTypeError\u001b[0m                                 Traceback (most recent call last)",
      "\u001b[1;32m~\\AppData\\Local\\Temp/ipykernel_2568/1115995152.py\u001b[0m in \u001b[0;36m<module>\u001b[1;34m\u001b[0m\n\u001b[1;32m----> 1\u001b[1;33m \u001b[0mselect\u001b[0m \u001b[1;33m=\u001b[0m \u001b[0minput\u001b[0m\u001b[1;33m(\u001b[0m\u001b[1;34m\"Welcome to the phonebook application\\n 1. Find phone number 2. Insert a phone number \\n 3. Delete a person from the phonebook \\n 4. Terminate \\nSelect operation on Phonebook App (1/2/3) : \"\u001b[0m\u001b[1;33m)\u001b[0m\u001b[1;33m\u001b[0m\u001b[1;33m\u001b[0m\u001b[0m\n\u001b[0m",
      "\u001b[1;31mTypeError\u001b[0m: 'str' object is not callable"
     ]
    }
   ],
   "source": [
    "select = input(\"Welcome to the phonebook application\\n 1. Find phone number 2. Insert a phone number \\n 3. Delete a person from the phonebook \\n 4. Terminate \\nSelect operation on Phonebook App (1/2/3) : \")"
   ]
  },
  {
   "cell_type": "code",
   "execution_count": 11,
   "id": "ea1dc867",
   "metadata": {},
   "outputs": [],
   "source": [
    "select = int(select)"
   ]
  },
  {
   "cell_type": "code",
   "execution_count": 13,
   "id": "f6bc4717",
   "metadata": {},
   "outputs": [
    {
     "name": "stdout",
     "output_type": "stream",
     "text": [
      "Welcome to the phonebook application\n",
      " 1. Find phone number\n",
      " 2. Insert a phone number \n",
      " 3. Delete a person from the phonebook \n",
      " 4. Terminate \n",
      "Select operation on Phonebook App (1/2/3) : 2\n",
      "Insert name of the person: tom\n",
      "phone number of the person: 21456\n",
      "Phone number of tom is inserted into the phonebook\n",
      "{'tom': 21456}\n",
      "Welcome to the phonebook application\n",
      " 1. Find phone number\n",
      " 2. Insert a phone number \n",
      " 3. Delete a person from the phonebook \n",
      " 4. Terminate \n",
      "Select operation on Phonebook App (1/2/3) : 2\n",
      "Insert name of the person: ken\n",
      "phone number of the person: 098436\n",
      "Phone number of ken is inserted into the phonebook\n",
      "{'tom': 21456, 'ken': 98436}\n",
      "Welcome to the phonebook application\n",
      " 1. Find phone number\n",
      " 2. Insert a phone number \n",
      " 3. Delete a person from the phonebook \n",
      " 4. Terminate \n",
      "Select operation on Phonebook App (1/2/3) : 4\n",
      "Exiting Phonebook\n"
     ]
    }
   ],
   "source": [
    "phonedict = {'tom': 21456, 'ken': 98436}\n",
    "while True:\n",
    "    select = int(input(\"Welcome to the phonebook application\\n 1. Find phone number\\n 2. Insert a phone number \\n 3. Delete a person from the phonebook \\n 4. Terminate \\nSelect operation on Phonebook App (1/2/3) : \"))\n",
    "    #select = int(select)\n",
    "    if select == 2 :\n",
    "        name = input(\"Insert name of the person: \")\n",
    "        num = input(\"phone number of the person: \")\n",
    "        if not num.isdigit():\n",
    "            print(\"Invalid input format, canceling operation ...\")\n",
    "            \n",
    "        phonedict[name] = int(num)\n",
    "        print(f\"Phone number of {name} is inserted into the phonebook\")\n",
    "        print(phonedict)\n",
    "    if select == 1:\n",
    "        find = input(\"Find the phone number of: \")\n",
    "        find_name = phonedict[find]\n",
    "        print(find_name)\n",
    "        \n",
    "        \n",
    "    if select == 3:\n",
    "        del_name = input(\"Whom to delete from phonebook: \")\n",
    "        phonedict.pop(del_name)\n",
    "        print(f\"{del_name.item()} is deleted from the phonebook\")\n",
    "    if select == 4:\n",
    "        print(f\"Exiting Phonebook..\\nyour phonebook : {phonedict}\")\n",
    "        break\n",
    "\n",
    "    \n",
    "    \n",
    "    "
   ]
  },
  {
   "cell_type": "code",
   "execution_count": 14,
   "id": "d77f3165",
   "metadata": {},
   "outputs": [
    {
     "data": {
      "text/plain": [
       "{'tom': 21456, 'ken': 98436}"
      ]
     },
     "execution_count": 14,
     "metadata": {},
     "output_type": "execute_result"
    }
   ],
   "source": [
    "phonedict"
   ]
  },
  {
   "cell_type": "code",
   "execution_count": 11,
   "id": "3bcfa19b",
   "metadata": {},
   "outputs": [],
   "source": [
    "dict1 = {}\n",
    "dict1['ken'] = 123\n",
    "name = 'tom'\n",
    "num = '1245'\n",
    "dict1[name] = int(num)\n"
   ]
  },
  {
   "cell_type": "code",
   "execution_count": 12,
   "id": "3e446cd3",
   "metadata": {},
   "outputs": [
    {
     "data": {
      "text/plain": [
       "{'ken': 123, 'tom': 1245}"
      ]
     },
     "execution_count": 12,
     "metadata": {},
     "output_type": "execute_result"
    }
   ],
   "source": [
    "dict1"
   ]
  },
  {
   "cell_type": "code",
   "execution_count": null,
   "id": "da328327",
   "metadata": {},
   "outputs": [],
   "source": []
  },
  {
   "cell_type": "code",
   "execution_count": null,
   "id": "9b3e3360",
   "metadata": {},
   "outputs": [],
   "source": []
  },
  {
   "cell_type": "code",
   "execution_count": null,
   "id": "202ce465",
   "metadata": {},
   "outputs": [],
   "source": []
  },
  {
   "cell_type": "code",
   "execution_count": null,
   "id": "f63cef83",
   "metadata": {},
   "outputs": [],
   "source": []
  }
 ],
 "metadata": {
  "kernelspec": {
   "display_name": "Python 3 (ipykernel)",
   "language": "python",
   "name": "python3"
  },
  "language_info": {
   "codemirror_mode": {
    "name": "ipython",
    "version": 3
   },
   "file_extension": ".py",
   "mimetype": "text/x-python",
   "name": "python",
   "nbconvert_exporter": "python",
   "pygments_lexer": "ipython3",
   "version": "3.9.7"
  }
 },
 "nbformat": 4,
 "nbformat_minor": 5
}
