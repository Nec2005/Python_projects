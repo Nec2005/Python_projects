{
 "cells": [
  {
   "cell_type": "markdown",
   "source": [
    "Your task is to sort a given string. Each word in the string will contain a single number. This number is the position the word should have in the result.\r\n",
    "\r\n",
    "Note: Numbers can be from 1 to 9. So 1 will be the first word (not 0).\r\n",
    "\r\n",
    "If the input string is empty, return an empty string. The words in the input String will only contain valid consecutive numbers.\r\n",
    "\r\n",
    "Examples\r\n",
    "\r\n",
    "\"is2 Thi1s T4est 3a\"  -->  \"Thi1s is2 3a T4est\"\r\n",
    "\r\n",
    "\"4of Fo1r pe6ople g3ood th5e the2\"  -->  \"Fo1r the2 g3ood 4of th5e pe6ople\"\r\n",
    "\r\n",
    "\"\"  -->  \"\""
   ],
   "metadata": {}
  },
  {
   "cell_type": "code",
   "execution_count": 31,
   "source": [
    "q = 'is2 H1e teach4er 3a'\r\n",
    "w = q.split()\r\n",
    "w"
   ],
   "outputs": [
    {
     "output_type": "execute_result",
     "data": {
      "text/plain": [
       "['is2', 'H1e', 'teach4er', '3a']"
      ]
     },
     "metadata": {},
     "execution_count": 31
    }
   ],
   "metadata": {}
  },
  {
   "cell_type": "code",
   "execution_count": 7,
   "source": [
    "w.sort()\r\n",
    "w"
   ],
   "outputs": [
    {
     "output_type": "execute_result",
     "data": {
      "text/plain": [
       "['3a', 'H1e', 'is2', 'teach4er']"
      ]
     },
     "metadata": {},
     "execution_count": 7
    }
   ],
   "metadata": {}
  },
  {
   "cell_type": "code",
   "execution_count": 36,
   "source": [
    "\r\n",
    "newsen = \"\"\r\n",
    "i = 1\r\n",
    "while i < len(w) + 1:\r\n",
    "    for word in w:\r\n",
    "        if str(i) in word:\r\n",
    "            newsen += word + ' '\r\n",
    "    i += 1\r\n",
    "newsen.strip()"
   ],
   "outputs": [
    {
     "output_type": "execute_result",
     "data": {
      "text/plain": [
       "'H1e is2 3a teach4er'"
      ]
     },
     "metadata": {},
     "execution_count": 36
    }
   ],
   "metadata": {}
  },
  {
   "cell_type": "code",
   "execution_count": 38,
   "source": [
    "def order(list1):\r\n",
    "    w = list1.split()\r\n",
    "    newsen = \"\"\r\n",
    "    i = 1\r\n",
    "    while i < len(w) + 1:\r\n",
    "        for word in w:\r\n",
    "            if str(i) in word:\r\n",
    "                newsen += word + ' '\r\n",
    "        i += 1\r\n",
    "    return newsen.strip()\r\n",
    "    "
   ],
   "outputs": [],
   "metadata": {}
  },
  {
   "cell_type": "code",
   "execution_count": 39,
   "source": [
    "order(\"is2 Thi1s T4est 3a\")"
   ],
   "outputs": [
    {
     "output_type": "execute_result",
     "data": {
      "text/plain": [
       "'Thi1s is2 3a T4est'"
      ]
     },
     "metadata": {},
     "execution_count": 39
    }
   ],
   "metadata": {}
  },
  {
   "cell_type": "code",
   "execution_count": 40,
   "source": [
    "order(\"\")"
   ],
   "outputs": [
    {
     "output_type": "execute_result",
     "data": {
      "text/plain": [
       "''"
      ]
     },
     "metadata": {},
     "execution_count": 40
    }
   ],
   "metadata": {}
  },
  {
   "cell_type": "code",
   "execution_count": 30,
   "source": [
    "newsen = \"\"\r\n",
    "newsen + w[2] + ' '\r\n",
    " "
   ],
   "outputs": [
    {
     "output_type": "execute_result",
     "data": {
      "text/plain": [
       "'teach4er '"
      ]
     },
     "metadata": {},
     "execution_count": 30
    }
   ],
   "metadata": {}
  },
  {
   "cell_type": "markdown",
   "source": [
    "Examples +++++++++++++++++"
   ],
   "metadata": {}
  },
  {
   "cell_type": "code",
   "execution_count": null,
   "source": [
    "def order(sentence):\r\n",
    "    return \" \".join(sorted(sentence.split(), key=lambda x: int(filter(str.isdigit, x))))"
   ],
   "outputs": [],
   "metadata": {}
  },
  {
   "cell_type": "code",
   "execution_count": null,
   "source": [
    "def order(words):\r\n",
    "  return ' '.join(sorted(words.split(), key=lambda w:sorted(w)))"
   ],
   "outputs": [],
   "metadata": {}
  },
  {
   "cell_type": "code",
   "execution_count": null,
   "source": [
    "def comp(x):\r\n",
    "  for i in x:\r\n",
    "      if i.isdigit():\r\n",
    "          return int(i)\r\n",
    "\r\n",
    "def order(sentence):\r\n",
    "    return ' '.join(sorted(sentence.split(), key=comp))"
   ],
   "outputs": [],
   "metadata": {}
  }
 ],
 "metadata": {
  "orig_nbformat": 4,
  "language_info": {
   "name": "python",
   "version": "3.9.6",
   "mimetype": "text/x-python",
   "codemirror_mode": {
    "name": "ipython",
    "version": 3
   },
   "pygments_lexer": "ipython3",
   "nbconvert_exporter": "python",
   "file_extension": ".py"
  },
  "kernelspec": {
   "name": "python3",
   "display_name": "Python 3.9.6 64-bit"
  },
  "interpreter": {
   "hash": "bf18297ba29ab59974e3cde921359bf4732846305eb0ebd212cf3897d725727a"
  }
 },
 "nbformat": 4,
 "nbformat_minor": 2
}