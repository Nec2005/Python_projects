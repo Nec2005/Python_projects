{
  "nbformat": 4,
  "nbformat_minor": 0,
  "metadata": {
    "colab": {
      "name": "Code Challange_25th Jul.ipynb",
      "provenance": [],
      "collapsed_sections": []
    },
    "kernelspec": {
      "name": "python3",
      "display_name": "Python 3"
    },
    "language_info": {
      "name": "python"
    }
  },
  "cells": [
    {
      "cell_type": "code",
      "metadata": {
        "id": "3gV2-5WAzUPV"
      },
      "source": [
        ""
      ],
      "execution_count": null,
      "outputs": []
    },
    {
      "cell_type": "markdown",
      "metadata": {
        "id": "cv3AHR48ziyq"
      },
      "source": [
        "Write a Python program that accepts a string and calculates the number of digits and letters. Example Data: Python 3.2 Expected Output: Letters 6 Digits 2"
      ]
    },
    {
      "cell_type": "code",
      "metadata": {
        "colab": {
          "base_uri": "https://localhost:8080/"
        },
        "id": "DfUZOx04zk8G",
        "outputId": "e17c592a-b77e-48c2-fc81-763af05012c2"
      },
      "source": [
        "sentence = 'Clarusway 009/21 course'\n",
        "let =[]\n",
        "num = []\n",
        "for i in sentence:\n",
        "  if i.isnumeric() :\n",
        "    num.append(i)\n",
        "  else:\n",
        "    let.append(i)\n",
        "\n",
        "print(f\"letters :{len(let)} \\nnumbers:{len(num)}\")\n",
        "\n"
      ],
      "execution_count": null,
      "outputs": [
        {
          "output_type": "stream",
          "text": [
            "letters :18 \n",
            "numbers:5\n"
          ],
          "name": "stdout"
        }
      ]
    },
    {
      "cell_type": "code",
      "metadata": {
        "id": "ruAjtolg2Br1"
      },
      "source": [
        ""
      ],
      "execution_count": null,
      "outputs": []
    },
    {
      "cell_type": "code",
      "metadata": {
        "id": "gkVk2bp_2Bbz"
      },
      "source": [
        ""
      ],
      "execution_count": null,
      "outputs": []
    },
    {
      "cell_type": "markdown",
      "metadata": {
        "id": "-QMyz-wpzlOg"
      },
      "source": [
        "Hello Friends, happy holidays again. Make a solution that takes a list of numbers or strings and returns a list with the items from the original list stored into sublists. Items of the same value should be in the same sublist. Examples\n",
        "[2, 1, 2, 1] ➞ [[2, 2], [1, 1]], [5, 4, 5, 5, 4, 3] ➞ [[5, 5, 5], [4, 4], [3]], [\"b\", \"a\", \"b\", \"a\", \"c\"] ➞ [[\"b\", \"b\"], [\"a\", \"a\"], [\"c\"]]\n",
        "Notes\n",
        "The sublists should be returned in the order of each element's first appearance in the given list."
      ]
    },
    {
      "cell_type": "code",
      "metadata": {
        "colab": {
          "base_uri": "https://localhost:8080/"
        },
        "id": "ClcVF3tYzuQb",
        "outputId": "75a57796-baad-4b7e-d194-fcc38c1e9926"
      },
      "source": [
        "list1 = [5, 4, 5, 5, 4, 3]\n",
        "dict1= {}\n",
        "\n",
        "for i in list1 :\n",
        "    if i in dict1 :\n",
        "      dict1[i].append(i)\n",
        "    else :\n",
        "      dict1[i] = [i]\n",
        "     \n",
        "print(dict1)  \n",
        "print(list(dict1.values()))\n",
        "\n"
      ],
      "execution_count": null,
      "outputs": [
        {
          "output_type": "stream",
          "text": [
            "{5: [5, 5, 5], 4: [4, 4], 3: [3]}\n",
            "[[5, 5, 5], [4, 4], [3]]\n"
          ],
          "name": "stdout"
        }
      ]
    },
    {
      "cell_type": "code",
      "metadata": {
        "id": "grykNFLEzuTr"
      },
      "source": [
        ""
      ],
      "execution_count": null,
      "outputs": []
    },
    {
      "cell_type": "code",
      "metadata": {
        "colab": {
          "base_uri": "https://localhost:8080/"
        },
        "id": "biowFbgrfKRo",
        "outputId": "c4ca89fe-732c-4374-bf33-9437854abf3d"
      },
      "source": [
        "dict2 = {}\n",
        "a = 1\n",
        "dict2[a] = []\n",
        "dict2"
      ],
      "execution_count": null,
      "outputs": [
        {
          "output_type": "execute_result",
          "data": {
            "text/plain": [
              "{1: []}"
            ]
          },
          "metadata": {
            "tags": []
          },
          "execution_count": 13
        }
      ]
    },
    {
      "cell_type": "code",
      "metadata": {
        "colab": {
          "base_uri": "https://localhost:8080/"
        },
        "id": "1gXAQVh0fKH-",
        "outputId": "313564df-ffae-49c6-f909-3aa09ca8d1ed"
      },
      "source": [
        "dict2[a].append(99)\n",
        "dict2"
      ],
      "execution_count": null,
      "outputs": [
        {
          "output_type": "execute_result",
          "data": {
            "text/plain": [
              "{1: [99, 99]}"
            ]
          },
          "metadata": {
            "tags": []
          },
          "execution_count": 15
        }
      ]
    },
    {
      "cell_type": "code",
      "metadata": {
        "id": "1K02dQ9wgDfz"
      },
      "source": [
        ""
      ],
      "execution_count": null,
      "outputs": []
    },
    {
      "cell_type": "code",
      "metadata": {
        "id": "0Pmzy2eogDOe"
      },
      "source": [
        ""
      ],
      "execution_count": null,
      "outputs": []
    },
    {
      "cell_type": "markdown",
      "metadata": {
        "id": "cDDXv6A5z6ta"
      },
      "source": [
        "Arkadaşlar selam, bir string içerisinden bir bölümü ayıklarken \"partition\" metodu ile sonuca ulaşmak sanırım daha hızlı sonuç veriyor.  \"partition()\" girilen parametreye göre stringi 3 parçaya bölüp tuple'a dönüştürüp bırakıyor ve girdiğiniz parametre her zaman 1. index olarak ortada kalıyor. Hatırlarsanız daha önceki domain bulma sorusunda birçok farklı çözüm paylaşmıştı arkadaşlar. Bir de aşağıdaki gibi bir çözüm daha kısa olabilir.\n"
      ]
    },
    {
      "cell_type": "code",
      "metadata": {
        "colab": {
          "base_uri": "https://localhost:8080/"
        },
        "id": "3DUdhQK9zuWr",
        "outputId": "14335fb0-aaf3-4801-aef8-5c959743caa5"
      },
      "source": [
        "mail = \"from Ahmet, mail to: abcxyz@gmail.com 15:1990:01\"\n",
        "beta = mail.partition(\"gmail.com\")\n",
        "print(beta[1])"
      ],
      "execution_count": null,
      "outputs": [
        {
          "output_type": "stream",
          "text": [
            "gmail.com\n"
          ],
          "name": "stdout"
        }
      ]
    },
    {
      "cell_type": "code",
      "metadata": {
        "colab": {
          "base_uri": "https://localhost:8080/"
        },
        "id": "hFRHU-EazuZ3",
        "outputId": "dd85de87-e500-4137-f847-71c17d2529e3"
      },
      "source": [
        "mail = \"from Ahmet, mail to: abcxyz@gmail.com 15:1990:01\"\n",
        "a = mail.partition('to')\n",
        "a"
      ],
      "execution_count": null,
      "outputs": [
        {
          "output_type": "execute_result",
          "data": {
            "text/plain": [
              "('from Ahmet, mail ', 'to', ': abcxyz@gmail.com 15:1990:01')"
            ]
          },
          "metadata": {
            "tags": []
          },
          "execution_count": 4
        }
      ]
    },
    {
      "cell_type": "code",
      "metadata": {
        "colab": {
          "base_uri": "https://localhost:8080/",
          "height": 35
        },
        "id": "2HTDRPXo0rXL",
        "outputId": "2eb8e2fc-68f4-461e-ab54-181188c1c372"
      },
      "source": [
        "mail = \"from Ahmet, mail to: abcxyz@gmail.com 15:1990:01\"\n",
        "a = mail.partition('to')\n",
        "a[0]"
      ],
      "execution_count": null,
      "outputs": [
        {
          "output_type": "execute_result",
          "data": {
            "application/vnd.google.colaboratory.intrinsic+json": {
              "type": "string"
            },
            "text/plain": [
              "'from Ahmet, mail '"
            ]
          },
          "metadata": {
            "tags": []
          },
          "execution_count": 5
        }
      ]
    },
    {
      "cell_type": "code",
      "metadata": {
        "id": "9PbSroZr14b9"
      },
      "source": [
        ""
      ],
      "execution_count": null,
      "outputs": []
    },
    {
      "cell_type": "code",
      "metadata": {
        "id": "YBUHDf8N14ZH"
      },
      "source": [
        ""
      ],
      "execution_count": null,
      "outputs": []
    }
  ]
}