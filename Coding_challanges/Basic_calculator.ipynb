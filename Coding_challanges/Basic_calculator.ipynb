{
 "cells": [
  {
   "cell_type": "markdown",
   "id": "2a73af47",
   "metadata": {},
   "source": [
    "Create a function that takes two numbers and a mathematical operator + - / * and will perform a calculation with the given numbers.\n",
    "\n",
    "Examples\n",
    "calculator(2, \"+\", 2) ➞ 4\n",
    "\n",
    "calculator(2, \"*\", 2) ➞ 4\n",
    "\n",
    "calculator(4, \"/\", 2) ➞ 2\n",
    "Notes\n",
    "If the input tries to divide by 0, return: \"Can't divide by 0!\""
   ]
  },
  {
   "cell_type": "code",
   "execution_count": 48,
   "id": "85fab747",
   "metadata": {},
   "outputs": [],
   "source": [
    "def calculator(x, y, z) :\n",
    "    if (y == '/') and (z == 0) :\n",
    "        print(\"Can't divide by 0!\")\n",
    "    else :\n",
    "        a = str(x)+y+str(z)\n",
    "        return eval(a)"
   ]
  },
  {
   "cell_type": "code",
   "execution_count": 50,
   "id": "dc355c70",
   "metadata": {},
   "outputs": [
    {
     "data": {
      "text/plain": [
       "20"
      ]
     },
     "execution_count": 50,
     "metadata": {},
     "output_type": "execute_result"
    }
   ],
   "source": [
    "calculator(4, '*', 5)\n"
   ]
  },
  {
   "cell_type": "code",
   "execution_count": 5,
   "id": "d5f0192c",
   "metadata": {},
   "outputs": [
    {
     "data": {
      "text/plain": [
       "2"
      ]
     },
     "execution_count": 5,
     "metadata": {},
     "output_type": "execute_result"
    }
   ],
   "source": [
    "x = 1\n",
    "eval('x+1')"
   ]
  },
  {
   "cell_type": "code",
   "execution_count": null,
   "id": "5475f9fd",
   "metadata": {},
   "outputs": [],
   "source": []
  },
  {
   "cell_type": "code",
   "execution_count": 8,
   "id": "b3de3943",
   "metadata": {},
   "outputs": [
    {
     "data": {
      "text/plain": [
       "20"
      ]
     },
     "execution_count": 8,
     "metadata": {},
     "output_type": "execute_result"
    }
   ],
   "source": [
    "eval('4''*''5')"
   ]
  },
  {
   "cell_type": "code",
   "execution_count": 31,
   "id": "041d4c5d",
   "metadata": {},
   "outputs": [
    {
     "data": {
      "text/plain": [
       "18"
      ]
     },
     "execution_count": 31,
     "metadata": {},
     "output_type": "execute_result"
    }
   ],
   "source": [
    "a = '6'\n",
    "b = '*'\n",
    "c = '3'\n",
    "\n",
    "w = a+b+c\n",
    "eval(w)"
   ]
  },
  {
   "cell_type": "code",
   "execution_count": 14,
   "id": "6560b6b9",
   "metadata": {},
   "outputs": [
    {
     "data": {
      "text/plain": [
       "False"
      ]
     },
     "execution_count": 14,
     "metadata": {},
     "output_type": "execute_result"
    }
   ],
   "source": [
    "y , z = '/', '1'\n",
    "(y == '/') and (z == '0')"
   ]
  },
  {
   "cell_type": "code",
   "execution_count": null,
   "id": "20c1af5a",
   "metadata": {},
   "outputs": [],
   "source": []
  }
 ],
 "metadata": {
  "kernelspec": {
   "display_name": "Python 3 (ipykernel)",
   "language": "python",
   "name": "python3"
  },
  "language_info": {
   "codemirror_mode": {
    "name": "ipython",
    "version": 3
   },
   "file_extension": ".py",
   "mimetype": "text/x-python",
   "name": "python",
   "nbconvert_exporter": "python",
   "pygments_lexer": "ipython3",
   "version": "3.9.6"
  }
 },
 "nbformat": 4,
 "nbformat_minor": 5
}
