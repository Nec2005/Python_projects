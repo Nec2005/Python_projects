{
 "cells": [
  {
   "cell_type": "markdown",
   "id": "cba92ef9",
   "metadata": {},
   "source": [
    "Convert a Number to Base-2\n",
    "Create a function that returns a base-2 (binary) representation of a base-10 (decimal) string number. To convert is simple: ((2) means base-2 and (10) means base-10) 010101001(2) = 1 + 8 + 32 + 128.\n",
    "\n",
    "Going from right to left, the value of the most right bit is 1, now from that every bit to the left will be x2 the value, value of an 8 bit binary numbers are (256, 128, 64, 32, 16, 8, 4, 2, 1).\n",
    "\n",
    "Examples\n",
    "binary(1) ➞ \"1\"\n",
    "# 1*1 = 1\n",
    "\n",
    "binary(5) ➞ \"101\"\n",
    "# 1*1 + 1*4 = 5\n",
    "\n",
    "binary(10) ➞ \"1010\"\n",
    "# 1*2 + 1*8 = 10\n",
    "Notes\n",
    "Numbers will always be below 1024 (not including 1024).\n",
    "The strings will always go to the length at which the most left bit's value gets bigger than the number in decimal.\n",
    "If a binary conversion for 0 is attempted, return \"0\"."
   ]
  },
  {
   "cell_type": "code",
   "execution_count": 59,
   "id": "233239e3",
   "metadata": {},
   "outputs": [
    {
     "name": "stdout",
     "output_type": "stream",
     "text": [
      "1101111"
     ]
    }
   ],
   "source": [
    "num = 111\n",
    "list_bnry = []\n",
    "\n",
    "while True :\n",
    "    x = num % 2 \n",
    "    list_bnry.append(x)\n",
    "    num = num // 2 \n",
    "    if num == 2 or num == 3 :\n",
    "       x = num % 2\n",
    "       list_bnry.append(x)\n",
    "       list_bnry.append(num//2)\n",
    "       break  \n",
    "            \n",
    "list_bnry.reverse()\n",
    "\n",
    "index = 0\n",
    "for i in list_bnry:\n",
    "    print(str(list_bnry[index]), end=\"\")\n",
    "    index += 1\n",
    "    "
   ]
  },
  {
   "cell_type": "code",
   "execution_count": 60,
   "id": "43b2dd20",
   "metadata": {},
   "outputs": [
    {
     "data": {
      "text/plain": [
       "[1, 0, 1, 0]"
      ]
     },
     "execution_count": 60,
     "metadata": {},
     "output_type": "execute_result"
    }
   ],
   "source": [
    "w =[0, 1, 0, 1]\n",
    "w[::-1]"
   ]
  },
  {
   "cell_type": "code",
   "execution_count": 35,
   "id": "921e0749",
   "metadata": {},
   "outputs": [
    {
     "name": "stdout",
     "output_type": "stream",
     "text": [
      "[1, 0, 1, 0]\n"
     ]
    }
   ],
   "source": [
    "w =[0, 1, 0, 1]\n",
    "w.reverse()\n",
    "print(w)\n"
   ]
  },
  {
   "cell_type": "code",
   "execution_count": 19,
   "id": "15e65212",
   "metadata": {},
   "outputs": [
    {
     "data": {
      "text/plain": [
       "'1010'"
      ]
     },
     "execution_count": 19,
     "metadata": {},
     "output_type": "execute_result"
    }
   ],
   "source": [
    "w =['1', '0', '1', '0']\n",
    "\n",
    "result = \"\".join(w)\n",
    "result"
   ]
  },
  {
   "cell_type": "code",
   "execution_count": 45,
   "id": "cc133b7c",
   "metadata": {},
   "outputs": [
    {
     "name": "stdout",
     "output_type": "stream",
     "text": [
      "1101111\n"
     ]
    }
   ],
   "source": [
    "def binary(decimal):\n",
    "    result = \"\"\n",
    "    while decimal >=1:\n",
    "        result += str(int(decimal%2))\n",
    "        decimal -= (decimal/2)\n",
    "    return result[::-1]\n",
    "print(binary(111))"
   ]
  },
  {
   "cell_type": "code",
   "execution_count": 47,
   "id": "d17c0ea8",
   "metadata": {},
   "outputs": [],
   "source": [
    "result = \"\""
   ]
  },
  {
   "cell_type": "code",
   "execution_count": 56,
   "id": "ad594dc9",
   "metadata": {},
   "outputs": [],
   "source": [
    "result += '4'"
   ]
  },
  {
   "cell_type": "code",
   "execution_count": 57,
   "id": "f863e69c",
   "metadata": {},
   "outputs": [
    {
     "data": {
      "text/plain": [
       "'23244'"
      ]
     },
     "execution_count": 57,
     "metadata": {},
     "output_type": "execute_result"
    }
   ],
   "source": [
    "result"
   ]
  },
  {
   "cell_type": "code",
   "execution_count": 58,
   "id": "39cf274e",
   "metadata": {},
   "outputs": [
    {
     "data": {
      "text/plain": [
       "'44232'"
      ]
     },
     "execution_count": 58,
     "metadata": {},
     "output_type": "execute_result"
    }
   ],
   "source": [
    "result[::-1]"
   ]
  }
 ],
 "metadata": {
  "kernelspec": {
   "display_name": "Python 3 (ipykernel)",
   "language": "python",
   "name": "python3"
  },
  "language_info": {
   "codemirror_mode": {
    "name": "ipython",
    "version": 3
   },
   "file_extension": ".py",
   "mimetype": "text/x-python",
   "name": "python",
   "nbconvert_exporter": "python",
   "pygments_lexer": "ipython3",
   "version": "3.9.6"
  }
 },
 "nbformat": 4,
 "nbformat_minor": 5
}
