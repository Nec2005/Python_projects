{
    "cells": [
        {
            "cell_type": "markdown",
            "source": [
                "\"Loves me, loves me not\" is a traditional game in which a person plucks off all the petals of a flower one by one, saying the phrase \"Loves me\" and \"Loves me not\" when determining whether the one that they love, loves them back.\r\n",
                "\r\n",
                "Given a number of petals, return a string which repeats the phrases \"Loves me\" and \"Loves me not\" for every alternating petal, and return the last phrase in all caps. Remember to put a comma and space between phrases.\r\n",
                "\r\n",
                "Examples\r\n",
                "loves_me(3) ➞ \"Loves me, Loves me not, LOVES ME\"\r\n",
                "\r\n",
                "loves_me(6) ➞ \"Loves me, Loves me not, Loves me, Loves me not, Loves me, LOVES ME NOT\"\r\n",
                "\r\n",
                "loves_me(1) ➞ \"LOVES ME\""
            ],
            "metadata": {}
        },
        {
            "cell_type": "code",
            "execution_count": 38,
            "source": [
                "def loves_me(num):\r\n",
                "    \r\n",
                "    for i in range(1, num+1):\r\n",
                "        if num == 1:\r\n",
                "            print(\"Loves me\".upper())\r\n",
                "            break\r\n",
                "        elif i%2 != 0 and i == num:\r\n",
                "            print(\"Loves me\".upper(), end= \" \")\r\n",
                "        elif i%2 != 0:\r\n",
                "            print(\"Loves me,\", end=\" \")  \r\n",
                "        elif  i%2 == 0 and i == num:\r\n",
                "            print('Loves me not'.upper(), end=\" \")\r\n",
                "        elif i%2 == 0: \r\n",
                "                print('Loves me not,', end=\" \")\r\n",
                "\r\n",
                "        \r\n",
                "\r\n",
                "            \r\n",
                "\r\n",
                "\r\n"
            ],
            "outputs": [],
            "metadata": {}
        },
        {
            "cell_type": "code",
            "execution_count": 41,
            "source": [
                "loves_me(6)"
            ],
            "outputs": [
                {
                    "output_type": "stream",
                    "name": "stdout",
                    "text": [
                        "Loves me, Loves me not, Loves me, Loves me not, Loves me, LOVES ME NOT "
                    ]
                }
            ],
            "metadata": {}
        },
        {
            "cell_type": "code",
            "execution_count": 20,
            "source": [
                "list(range(1,5))"
            ],
            "outputs": [
                {
                    "output_type": "execute_result",
                    "data": {
                        "text/plain": [
                            "[1, 2, 3, 4]"
                        ]
                    },
                    "metadata": {},
                    "execution_count": 20
                }
            ],
            "metadata": {}
        },
        {
            "cell_type": "code",
            "execution_count": null,
            "source": [
                "num = 5\r\n",
                "q= 'loves me'\r\n",
                "w = 'not love'\r\n",
                "for i in range(1, 6) :\r\n",
                "    \r\n"
            ],
            "outputs": [],
            "metadata": {}
        },
        {
            "cell_type": "code",
            "execution_count": 42,
            "source": [
                "def loves_me(n):\r\n",
                "  lst =[]\r\n",
                "  for i in range(1,n+1):\r\n",
                "    if i%2 :\r\n",
                "      lst.append(\"loves me, \")\r\n",
                "    else:\r\n",
                "      lst.append(\"loves me not, \")\r\n",
                "  lst[-1] = lst[-1].upper()\r\n",
                "  return \"\".join(lst)\r\n",
                "loves_me(10)"
            ],
            "outputs": [
                {
                    "output_type": "execute_result",
                    "data": {
                        "text/plain": [
                            "'loves me, loves me not, loves me, loves me not, loves me, loves me not, loves me, loves me not, loves me, LOVES ME NOT, '"
                        ]
                    },
                    "metadata": {},
                    "execution_count": 42
                }
            ],
            "metadata": {}
        },
        {
            "cell_type": "code",
            "execution_count": null,
            "source": [
                "def loves_me(n):\r\n",
                "\tlst = [\"Loves me\"+\" not\"*(i%2) for i in range(n)]\r\n",
                "\tlst[-1] = lst[-1].upper()\r\n",
                "\treturn \", \".join(lst)"
            ],
            "outputs": [],
            "metadata": {}
        },
        {
            "cell_type": "code",
            "execution_count": 43,
            "source": [
                "loves_me(5)"
            ],
            "outputs": [
                {
                    "output_type": "execute_result",
                    "data": {
                        "text/plain": [
                            "'loves me, loves me not, loves me, loves me not, LOVES ME, '"
                        ]
                    },
                    "metadata": {},
                    "execution_count": 43
                }
            ],
            "metadata": {}
        },
        {
            "cell_type": "code",
            "execution_count": null,
            "source": [],
            "outputs": [],
            "metadata": {}
        }
    ],
    "metadata": {
        "orig_nbformat": 4,
        "language_info": {
            "name": "python",
            "version": "3.9.5",
            "mimetype": "text/x-python",
            "codemirror_mode": {
                "name": "ipython",
                "version": 3
            },
            "pygments_lexer": "ipython3",
            "nbconvert_exporter": "python",
            "file_extension": ".py"
        },
        "kernelspec": {
            "name": "python3",
            "display_name": "Python 3.9.5 64-bit (windows store)"
        },
        "interpreter": {
            "hash": "91e309b0d6f9bd13113d0dab55954c7a828cac190944509a12384aacede56c3d"
        }
    },
    "nbformat": 4,
    "nbformat_minor": 2
}