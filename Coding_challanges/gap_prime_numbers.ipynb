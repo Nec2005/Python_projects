{
 "cells": [
  {
   "cell_type": "markdown",
   "id": "b6e0c621",
   "metadata": {},
   "source": [
    "Asal sayılar düzenli aralıklarla yerleştirilmez. Örnek için 2için 3boşluğudur 1. Gönderen 3için 5boşluğudur 2. Gönderen 7için 11öyle 4. 2 ile 50 arasında, aşağıdaki 2 boşluklu asal çiftlere sahibiz: 3-5, 5-7, 11-13, 17-19, 29-31, 41-43\n",
    "n uzunluğunda bir asal boşluk, iki ardışık asal sayı arasındaki n-1 ardışık bileşik sayı dizisidir (bkz: http://mathworld.wolfram.com/PrimeGaps.html ).\n",
    "Parametrelerle bir fonksiyon boşluğu yazacağız:\n",
    "g (integer >= 2) aradığımız boşluğu gösterir\n",
    "m (integer > 2) aramanın başlangıcını verir (m dahil)\n",
    "n (integer >= m) aramanın sonunu verir (n dahil)\n",
    "n 1100000'in ötesine geçmeyecek.\n",
    "Yukarıdaki örnekte , 2 boşluklu 3 ile 50 arasındaki ilk çift olan gap(2, 3, 50)geri dönecektir [3, 5] or (3, 5) or {3, 5}.\n",
    "Bu nedenle, bu işlev , bu sayılar aksi takdirde `nil veya null veya None veya Nothing (veya ... dile bağlı olarak) varsa , sınırlar arasında boşluk bırakılmış iki asal sayının ilk çiftini döndürmelidir .gmn\n",
    "C++'da Lua: böyle bir durumda dönüş {0, 0}. F#'da: dönüş [||]. Kotlin, Dart ve Prolog'da: return []. Pascal'da: TGap (0, 0) yazın.\n",
    "Örnekler:\n",
    "gap(2, 5, 7) --> [5, 7] or (5, 7) or {5, 7}\n",
    "gap(2, 5, 5) --> nil. In C++ {0, 0}. In F# [||]. In Kotlin, Dart and Prolog return []`\n",
    "gap(4, 130, 200) --> [163, 167] or (163, 167) or {163, 167}\n",
    "([193, 197] ayrıca 130 ile 200 arasında 4 boşluklu bir asal sayıdır ancak ilk çift değildir)\n",
    "gap(6,100,110) --> nil or {0, 0} or ...: 100 ile 110 arasında var 101, 103, 107, 109ama 101-1076 boşluk değil çünkü arada var 103ve 103-1096 boşluk değil çünkü arada var 107.\n",
    "Örnek Testlerde daha fazla iade örneği görebilirsiniz.\n",
    "Git için Not\n",
    "Go için: m ve n arasında boşluk olmadığında sıfır dilim beklenir. Örnek: boşluk(11,30000,100000) --> nil\n"
   ]
  },
  {
   "cell_type": "code",
   "execution_count": null,
   "id": "eace16cd",
   "metadata": {},
   "outputs": [],
   "source": []
  },
  {
   "cell_type": "code",
   "execution_count": 8,
   "id": "ce75bb45",
   "metadata": {},
   "outputs": [
    {
     "data": {
      "text/plain": [
       "[]"
      ]
     },
     "execution_count": 8,
     "metadata": {},
     "output_type": "execute_result"
    }
   ],
   "source": [
    "def gap(g, m, n):\n",
    "    prime_list = []\n",
    "    result = []\n",
    "    for i in range(m, n+1):\n",
    "        count = 0\n",
    "        for j in range(1, n+1) :\n",
    "            if  i%j == 0: \n",
    "                count += 1\n",
    "        if count < 3 and i != 0 and i != 1: \n",
    "            prime_list.append(i)\n",
    "    \n",
    "    for i in range(len(prime_list)-1):\n",
    "        if prime_list[i+1] - prime_list[i] == g :\n",
    "            result.append(prime_list[i])\n",
    "            result.append(prime_list[i+1])\n",
    "            break\n",
    "        \n",
    "        else:\n",
    "            result = []\n",
    "    return result        \n",
    "\n",
    "gap(4, 130, 200)"
   ]
  },
  {
   "cell_type": "code",
   "execution_count": null,
   "id": "7f7865b7",
   "metadata": {},
   "outputs": [],
   "source": [
    "def gap(g,m,n) = 130\n",
    "n2 = 200\n",
    "\n",
    "prime_list = []\n",
    "\n",
    "for i in range(n1, n2+1):\n",
    "    count = 0\n",
    "    for j in range(1, n2+1) :\n",
    "        if  i%j == 0: \n",
    "            count += 1\n",
    "    if count < 3 and i != 0 and i != 1: \n",
    "        prime_list.append(i)\n",
    "        \n",
    "print(prime_list)"
   ]
  },
  {
   "cell_type": "code",
   "execution_count": 1,
   "id": "8e2f886f",
   "metadata": {},
   "outputs": [
    {
     "data": {
      "text/plain": [
       "15"
      ]
     },
     "execution_count": 1,
     "metadata": {},
     "output_type": "execute_result"
    }
   ],
   "source": [
    "prime_list = [131, 137, 139, 149, 151, 157, 163, 167, 173, 179, 181, 191, 193, 197, 199]\n",
    "len(prime_list)"
   ]
  },
  {
   "cell_type": "code",
   "execution_count": 4,
   "id": "8cce6d5c",
   "metadata": {},
   "outputs": [
    {
     "data": {
      "text/plain": [
       "[163, 167]"
      ]
     },
     "execution_count": 4,
     "metadata": {},
     "output_type": "execute_result"
    }
   ],
   "source": [
    "result = []\n",
    "for i in range(len(prime_list)-1):\n",
    "    if prime_list[i+1] - prime_list[i] == 4 :\n",
    "        result.append(prime_list[i])\n",
    "        result.append(prime_list[i+1])\n",
    "        break\n",
    "result        "
   ]
  },
  {
   "cell_type": "code",
   "execution_count": null,
   "id": "cdcb3449",
   "metadata": {},
   "outputs": [],
   "source": []
  },
  {
   "cell_type": "code",
   "execution_count": null,
   "id": "cdd5e3ed",
   "metadata": {},
   "outputs": [],
   "source": []
  },
  {
   "cell_type": "code",
   "execution_count": 10,
   "id": "e1e44892",
   "metadata": {},
   "outputs": [],
   "source": [
    "def my_min(*numbers):\n",
    "    return min(numbers)"
   ]
  },
  {
   "cell_type": "code",
   "execution_count": 11,
   "id": "78492f33",
   "metadata": {},
   "outputs": [
    {
     "data": {
      "text/plain": [
       "4"
      ]
     },
     "execution_count": 11,
     "metadata": {},
     "output_type": "execute_result"
    }
   ],
   "source": [
    "my_min(4,5,6)"
   ]
  },
  {
   "cell_type": "code",
   "execution_count": 9,
   "id": "12884b21",
   "metadata": {},
   "outputs": [
    {
     "data": {
      "text/plain": [
       "3"
      ]
     },
     "execution_count": 9,
     "metadata": {},
     "output_type": "execute_result"
    }
   ],
   "source": [
    "min(3,4,5,9)"
   ]
  },
  {
   "cell_type": "code",
   "execution_count": 15,
   "id": "ceaf76dd",
   "metadata": {},
   "outputs": [
    {
     "data": {
      "text/plain": [
       "8"
      ]
     },
     "execution_count": 15,
     "metadata": {},
     "output_type": "execute_result"
    }
   ],
   "source": [
    "def my_sum(*numbers):\n",
    "    return sum(numbers)\n",
    "\n",
    "my_sum(3,5,0)"
   ]
  },
  {
   "cell_type": "code",
   "execution_count": 19,
   "id": "dac46d0d",
   "metadata": {},
   "outputs": [
    {
     "data": {
      "text/plain": [
       "['Mike', 'Emme', 'Kelly', 'Brad']"
      ]
     },
     "execution_count": 19,
     "metadata": {},
     "output_type": "execute_result"
    }
   ],
   "source": [
    "list1= ['Mike', \"\", 'Emme', \"\", 'Kelly', \"\", 'Brad']\n",
    "\n",
    "result = list(filter( lambda x: x != \"\", list1))\n",
    "result"
   ]
  },
  {
   "cell_type": "code",
   "execution_count": 22,
   "id": "8ab21b45",
   "metadata": {},
   "outputs": [
    {
     "data": {
      "text/plain": [
       "59"
      ]
     },
     "execution_count": 22,
     "metadata": {},
     "output_type": "execute_result"
    }
   ],
   "source": [
    "test_list = [[2,4,5], [7,8,9], [0,2,4,], [5,5,8]]\n",
    "\n",
    "result = sum(list(map(lambda x : sum(x), test_list)))\n",
    "result"
   ]
  },
  {
   "cell_type": "code",
   "execution_count": null,
   "id": "4b38e694",
   "metadata": {},
   "outputs": [],
   "source": [
    "[11, 24, 6, 18]"
   ]
  },
  {
   "cell_type": "code",
   "execution_count": 33,
   "id": "67572dcb",
   "metadata": {},
   "outputs": [
    {
     "name": "stdout",
     "output_type": "stream",
     "text": [
      "[131, 137, 139, 149, 151, 157, 163, 167, 173, 179, 181, 191, 193, 197, 199]\n"
     ]
    }
   ],
   "source": [
    "n1 = 130\n",
    "n2 = 200\n",
    "\n",
    "prime_list = []\n",
    "\n",
    "for i in range(n1, n2+1):\n",
    "    count = 0\n",
    "    for j in range(1, n2+1) :\n",
    "        if  i%j == 0: \n",
    "            count += 1\n",
    "    if count < 3 and i != 0 and i != 1: \n",
    "        prime_list.append(i)\n",
    "        \n",
    "print(prime_list)\n"
   ]
  },
  {
   "cell_type": "code",
   "execution_count": null,
   "id": "fe6dc86a",
   "metadata": {},
   "outputs": [],
   "source": []
  },
  {
   "cell_type": "code",
   "execution_count": 25,
   "id": "fa1b98e0",
   "metadata": {},
   "outputs": [
    {
     "name": "stdout",
     "output_type": "stream",
     "text": [
      "[2, 3, 5, 7, 11, 13, 17, 19, 23]\n"
     ]
    }
   ],
   "source": [
    "number = 25\n",
    "\n",
    "prime_list = []\n",
    "\n",
    "for i in range(1, number+1):\n",
    "    count = 0\n",
    "    for j in range(1, number+1) :\n",
    "        if  i%j == 0: \n",
    "            count += 1\n",
    "    if count < 3 and i != 0 and i != 1: \n",
    "        prime_list.append(i)\n",
    "        \n",
    "print(prime_list)"
   ]
  },
  {
   "cell_type": "code",
   "execution_count": null,
   "id": "5119488d",
   "metadata": {},
   "outputs": [],
   "source": []
  },
  {
   "cell_type": "code",
   "execution_count": null,
   "id": "8c526906",
   "metadata": {},
   "outputs": [],
   "source": []
  },
  {
   "cell_type": "code",
   "execution_count": null,
   "id": "47bc7cf4",
   "metadata": {},
   "outputs": [],
   "source": []
  },
  {
   "cell_type": "code",
   "execution_count": null,
   "id": "28ba30d9",
   "metadata": {},
   "outputs": [],
   "source": []
  }
 ],
 "metadata": {
  "kernelspec": {
   "display_name": "Python 3 (ipykernel)",
   "language": "python",
   "name": "python3"
  },
  "language_info": {
   "codemirror_mode": {
    "name": "ipython",
    "version": 3
   },
   "file_extension": ".py",
   "mimetype": "text/x-python",
   "name": "python",
   "nbconvert_exporter": "python",
   "pygments_lexer": "ipython3",
   "version": "3.9.6"
  }
 },
 "nbformat": 4,
 "nbformat_minor": 5
}
