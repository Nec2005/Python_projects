{
  "nbformat": 4,
  "nbformat_minor": 0,
  "metadata": {
    "colab": {
      "name": "Floyd Triangle.ipynb",
      "provenance": [],
      "collapsed_sections": []
    },
    "kernelspec": {
      "name": "python3",
      "display_name": "Python 3"
    },
    "language_info": {
      "name": "python"
    }
  },
  "cells": [
    {
      "cell_type": "code",
      "metadata": {
        "colab": {
          "base_uri": "https://localhost:8080/"
        },
        "id": "kIfySPBpibSs",
        "outputId": "5965298c-3094-4570-f42d-3d9ddeb64f58"
      },
      "source": [
        "for i in range(1, 11) :\n",
        "  for j in range(1, 11) :\n",
        "    print(str(i) + str(j), end = \" \")"
      ],
      "execution_count": 20,
      "outputs": [
        {
          "output_type": "stream",
          "text": [
            "11 12 13 14 15 16 17 18 19 110 21 22 23 24 25 26 27 28 29 210 31 32 33 34 35 36 37 38 39 310 41 42 43 44 45 46 47 48 49 410 51 52 53 54 55 56 57 58 59 510 61 62 63 64 65 66 67 68 69 610 71 72 73 74 75 76 77 78 79 710 81 82 83 84 85 86 87 88 89 810 91 92 93 94 95 96 97 98 99 910 101 102 103 104 105 106 107 108 109 1010 "
          ],
          "name": "stdout"
        }
      ]
    },
    {
      "cell_type": "code",
      "metadata": {
        "id": "3VPKnI0FibHd"
      },
      "source": [
        ""
      ],
      "execution_count": null,
      "outputs": []
    },
    {
      "cell_type": "code",
      "metadata": {
        "colab": {
          "base_uri": "https://localhost:8080/"
        },
        "id": "EVViw9wSiaUx",
        "outputId": "db61112d-3d03-4287-9db5-fd60289f9745"
      },
      "source": [
        "sayı = int(input(\"sayı giriniz  : \"))\n",
        "x = 1\n",
        "for i in range(1, sayı + 1):\n",
        "    for j in range(1, i + 1):        \n",
        "        print(x, end = '  ')\n",
        "        x = x + 1\n",
        "    print()"
      ],
      "execution_count": 1,
      "outputs": [
        {
          "output_type": "stream",
          "text": [
            "sayı giriniz  : 11\n",
            "1  \n",
            "2  3  \n",
            "4  5  6  \n",
            "7  8  9  10  \n",
            "11  12  13  14  15  \n",
            "16  17  18  19  20  21  \n",
            "22  23  24  25  26  27  28  \n",
            "29  30  31  32  33  34  35  36  \n",
            "37  38  39  40  41  42  43  44  45  \n",
            "46  47  48  49  50  51  52  53  54  55  \n",
            "56  57  58  59  60  61  62  63  64  65  66  \n"
          ],
          "name": "stdout"
        }
      ]
    },
    {
      "cell_type": "code",
      "metadata": {
        "id": "Ihh6RjaoiaL2"
      },
      "source": [
        ""
      ],
      "execution_count": null,
      "outputs": []
    },
    {
      "cell_type": "code",
      "metadata": {
        "id": "y7Zos9Nf87o-"
      },
      "source": [
        ""
      ],
      "execution_count": null,
      "outputs": []
    }
  ]
}