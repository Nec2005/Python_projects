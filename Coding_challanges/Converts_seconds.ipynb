{
 "cells": [
  {
   "cell_type": "markdown",
   "id": "5bace132",
   "metadata": {},
   "source": [
    "Get the total number of seconds from the user.\n",
    "Write a program that returns the total seconds in hours, minutes and seconds.\n",
    "For example: 4565436 seconds is 1268 hours, 10 minutes and 36 seconds."
   ]
  },
  {
   "cell_type": "code",
   "execution_count": 21,
   "id": "ee0d5b1e",
   "metadata": {},
   "outputs": [
    {
     "name": "stdout",
     "output_type": "stream",
     "text": [
      "Enter total numbervof seconds: 4565436\n",
      "4565436 seconds is 1268 hours, 10 minutes and 36 seconds\n"
     ]
    }
   ],
   "source": [
    "num = int(input('Enter total numbervof seconds: '))\n",
    "print(f\"{num} seconds is {num//3600} hours, {(num%3600)//60} minutes and {num%60} seconds\")"
   ]
  },
  {
   "cell_type": "code",
   "execution_count": null,
   "id": "ae730ac0",
   "metadata": {},
   "outputs": [],
   "source": []
  },
  {
   "cell_type": "code",
   "execution_count": 1,
   "id": "b82505bf",
   "metadata": {},
   "outputs": [
    {
     "data": {
      "text/plain": [
       "9.663611111111111"
      ]
     },
     "execution_count": 1,
     "metadata": {},
     "output_type": "execute_result"
    }
   ],
   "source": [
    "34789/3600\n"
   ]
  },
  {
   "cell_type": "code",
   "execution_count": 20,
   "id": "2ce91641",
   "metadata": {},
   "outputs": [
    {
     "data": {
      "text/plain": [
       "36"
      ]
     },
     "execution_count": 20,
     "metadata": {},
     "output_type": "execute_result"
    }
   ],
   "source": [
    "4565436 % 60"
   ]
  },
  {
   "cell_type": "code",
   "execution_count": 6,
   "id": "ae64f244",
   "metadata": {},
   "outputs": [
    {
     "data": {
      "text/plain": [
       "29.433333333333334"
      ]
     },
     "execution_count": 6,
     "metadata": {},
     "output_type": "execute_result"
    }
   ],
   "source": [
    "1766/60"
   ]
  },
  {
   "cell_type": "code",
   "execution_count": 17,
   "id": "9e4bf377",
   "metadata": {},
   "outputs": [
    {
     "data": {
      "text/plain": [
       "10.6"
      ]
     },
     "execution_count": 17,
     "metadata": {},
     "output_type": "execute_result"
    }
   ],
   "source": [
    "636/60"
   ]
  }
 ],
 "metadata": {
  "kernelspec": {
   "display_name": "Python 3 (ipykernel)",
   "language": "python",
   "name": "python3"
  },
  "language_info": {
   "codemirror_mode": {
    "name": "ipython",
    "version": 3
   },
   "file_extension": ".py",
   "mimetype": "text/x-python",
   "name": "python",
   "nbconvert_exporter": "python",
   "pygments_lexer": "ipython3",
   "version": "3.9.6"
  }
 },
 "nbformat": 4,
 "nbformat_minor": 5
}
