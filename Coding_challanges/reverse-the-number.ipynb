{
 "cells": [
  {
   "cell_type": "markdown",
   "metadata": {},
   "source": [
    "# Coding Challenge - 001 : Reverse Input Number.\n",
    "\n",
    "Purpose of the this coding challenge is to write a script that reverse the given numbers.\n",
    "\n",
    "## Learning Outcomes\n",
    "\n",
    "At the end of the this coding challenge, students will be able to;\n",
    "\n",
    "- analyze a problem, identify and apply programming knowledge for appropriate solution.\n",
    "\n",
    "- design, implement `ìf` and `else` effectively in bash script to solve the given problem.\n",
    "\n",
    "- apply arithmetic operations on basic data types in Bash Scripting.\n",
    "\n",
    "- demonstrate their knowledge of algorithmic design principles by using function effectively.\n",
    "   \n",
    "## Problem Statement\n",
    "- Write a shell script to print the reverse of an input number.\n",
    "\n",
    "Example:\n",
    "\n",
    "input: 957105\n",
    "\n",
    "output: 501759"
   ]
  },
  {
   "cell_type": "code",
   "execution_count": 1,
   "metadata": {},
   "outputs": [],
   "source": [
    "num1 = 987654\n"
   ]
  },
  {
   "cell_type": "code",
   "execution_count": 2,
   "metadata": {},
   "outputs": [
    {
     "name": "stdout",
     "output_type": "stream",
     "text": [
      "7654321\n"
     ]
    }
   ],
   "source": [
    "num = input(\"Enter a number to reverse:\")\n",
    "\n",
    "revnum=\"\"\n",
    "n=-1\n",
    "for i in num:\n",
    "    revnum = revnum + num[n]\n",
    "    n -= 1\n",
    "\n",
    "print(revnum)\n",
    "\n",
    "\n",
    "\n"
   ]
  },
  {
   "cell_type": "code",
   "execution_count": 4,
   "metadata": {},
   "outputs": [
    {
     "data": {
      "text/plain": [
       "'34356789'"
      ]
     },
     "execution_count": 4,
     "metadata": {},
     "output_type": "execute_result"
    }
   ],
   "source": [
    "def revnum(x) :\n",
    "    num = str(x) \n",
    "    rev_num = \"\"\n",
    "    n = -1\n",
    "    for i in num:\n",
    "        rev_num = rev_num + num[n]\n",
    "        n -= 1\n",
    "    return rev_num \n",
    "    \n",
    "revnum(98765343)"
   ]
  }
 ],
 "metadata": {
  "interpreter": {
   "hash": "bf18297ba29ab59974e3cde921359bf4732846305eb0ebd212cf3897d725727a"
  },
  "kernelspec": {
   "display_name": "Python 3.9.7 64-bit",
   "language": "python",
   "name": "python3"
  },
  "language_info": {
   "codemirror_mode": {
    "name": "ipython",
    "version": 3
   },
   "file_extension": ".py",
   "mimetype": "text/x-python",
   "name": "python",
   "nbconvert_exporter": "python",
   "pygments_lexer": "ipython3",
   "version": "3.9.7"
  },
  "orig_nbformat": 4
 },
 "nbformat": 4,
 "nbformat_minor": 2
}
