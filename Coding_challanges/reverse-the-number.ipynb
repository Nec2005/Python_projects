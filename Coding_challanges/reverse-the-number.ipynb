{
 "cells": [
  {
   "cell_type": "markdown",
   "metadata": {},
   "source": [
    "# Coding Challenge - 001 : Reverse Input Number.\n",
    "\n",
    "Purpose of the this coding challenge is to write a script that reverse the given numbers.\n",
    "\n",
    "## Learning Outcomes\n",
    "\n",
    "At the end of the this coding challenge, students will be able to;\n",
    "\n",
    "- analyze a problem, identify and apply programming knowledge for appropriate solution.\n",
    "\n",
    "- design, implement `ìf` and `else` effectively in bash script to solve the given problem.\n",
    "\n",
    "- apply arithmetic operations on basic data types in Bash Scripting.\n",
    "\n",
    "- demonstrate their knowledge of algorithmic design principles by using function effectively.\n",
    "   \n",
    "## Problem Statement\n",
    "- Write a shell script to print the reverse of an input number.\n",
    "\n",
    "Example:\n",
    "\n",
    "input: 957105\n",
    "\n",
    "output: 501759"
   ]
  },
  {
   "cell_type": "code",
   "execution_count": null,
   "metadata": {},
   "outputs": [],
   "source": []
  },
  {
   "cell_type": "code",
   "execution_count": null,
   "metadata": {},
   "outputs": [],
   "source": []
  },
  {
   "cell_type": "code",
   "execution_count": null,
   "metadata": {},
   "outputs": [],
   "source": []
  }
 ],
 "metadata": {
  "language_info": {
   "name": "python"
  },
  "orig_nbformat": 4
 },
 "nbformat": 4,
 "nbformat_minor": 2
}
