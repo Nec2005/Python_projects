{
 "cells": [
  {
   "cell_type": "markdown",
   "id": "5a6b8524",
   "metadata": {},
   "source": [
    "Given a list of integers S and a target number k, write a function that returns a subset of S that adds up to k. If such a subset cannot be made, then return null.\n",
    "Integers can appear more than once in the list. You may assume all numbers in the list are positive.\n",
    "For example, given S = [12, 1, 61, 5, 9, 2] and k = 24, return [12, 9, 2,1] since it sums up to 24."
   ]
  },
  {
   "cell_type": "code",
   "execution_count": null,
   "id": "cad4f083",
   "metadata": {},
   "outputs": [],
   "source": []
  },
  {
   "cell_type": "code",
   "execution_count": null,
   "id": "e73ecaa4",
   "metadata": {},
   "outputs": [],
   "source": []
  },
  {
   "cell_type": "code",
   "execution_count": null,
   "id": "b56cc346",
   "metadata": {},
   "outputs": [],
   "source": []
  },
  {
   "cell_type": "code",
   "execution_count": null,
   "id": "b84b319e",
   "metadata": {},
   "outputs": [],
   "source": [
    "def subset(liste, k):\n",
    "    res = [[]]\n",
    "    resa = []\n",
    "    for i in liste:\n",
    "        for j in res:\n",
    "            res = res + [j + [i]]\n",
    "            if sum(res[-1]) == k:\n",
    "                if res[-1] not in resa:\n",
    "                    resa.append(res[-1])\n",
    "    if resa == []:\n",
    "        return 'Null'\n",
    "    else:\n",
    "        return resa # tum sonuclar icin\n",
    "       # return resa[-1] tek sonuc icin\n",
    "        \n",
    "subset([1,3,5,12,15,7,8,23,9], 24)"
   ]
  },
  {
   "cell_type": "code",
   "execution_count": null,
   "id": "67cf1f22",
   "metadata": {},
   "outputs": [],
   "source": []
  }
 ],
 "metadata": {
  "kernelspec": {
   "display_name": "Python 3 (ipykernel)",
   "language": "python",
   "name": "python3"
  },
  "language_info": {
   "codemirror_mode": {
    "name": "ipython",
    "version": 3
   },
   "file_extension": ".py",
   "mimetype": "text/x-python",
   "name": "python",
   "nbconvert_exporter": "python",
   "pygments_lexer": "ipython3",
   "version": "3.9.7"
  }
 },
 "nbformat": 4,
 "nbformat_minor": 5
}
