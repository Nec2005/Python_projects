{
 "cells": [
  {
   "cell_type": "markdown",
   "id": "8ed5ba4d",
   "metadata": {},
   "source": [
    "Other examples:\n",
    "In [\"NORTH\", \"SOUTH\", \"EAST\", \"WEST\"], the direction \"NORTH\" + \"SOUTH\" is going north and coming back right away.\n",
    "\n",
    "The path becomes [\"EAST\", \"WEST\"], now \"EAST\" and \"WEST\" annihilate each other, therefore, the final result is [] (nil in Clojure).\n",
    "\n",
    "In [\"NORTH\", \"EAST\", \"WEST\", \"SOUTH\", \"WEST\", \"WEST\"], \"NORTH\" and \"SOUTH\" are not directly opposite but they become directly opposite after the reduction of \"EAST\" and \"WEST\" so the whole path is reducible to [\"WEST\", \"WEST\"].\n",
    "\n",
    "Task\n",
    "Write a function dirReduc which will take an array of strings and returns an array of strings with the needless directions removed (W<->E or S<->N side by side).\n",
    "\n",
    "The Haskell version takes a list of directions with data Direction = North | East | West | South.\n",
    "The Clojure version returns nil when the path is reduced to nothing.\n",
    "The Rust version takes a slice of enum Direction {North, East, West, South}.\n",
    "See more examples in \"Sample Tests:\"\n",
    "Notes\n",
    "Not all paths can be made simpler. The path [\"NORTH\", \"WEST\", \"SOUTH\", \"EAST\"] is not reducible. \"NORTH\" and \"WEST\", \"WEST\" and \"SOUTH\", \"SOUTH\" and \"EAST\" are not directly opposite of each other and can't become such. Hence the result path is itself : [\"NORTH\", \"WEST\", \"SOUTH\", \"EAST\"]."
   ]
  },
  {
   "cell_type": "code",
   "execution_count": null,
   "id": "fe5e88e9",
   "metadata": {},
   "outputs": [],
   "source": []
  },
  {
   "cell_type": "code",
   "execution_count": 4,
   "id": "e39fc9c7",
   "metadata": {},
   "outputs": [],
   "source": [
    "def dirReduc(arr):\n",
    "    new  = \"\".join(arr).upper()\n",
    "\n",
    "    while 'NORTHSOUTH' in new or 'SOUTHNORTH' in new or 'WESTEAST' in new or 'EASTWEST' in new:\n",
    "        new = new.replace('NORTHSOUTH', '').replace('SOUTHNORTH', '').replace('WESTEAST', '').replace('EASTWEST', '')\n",
    "\n",
    "    result = []\n",
    "    while True:\n",
    "            for i in [\"NORTH\", \"WEST\", \"SOUTH\", \"EAST\"]:\n",
    "                if i in new:\n",
    "                    result.append(i)\n",
    "                    new = new.replace(i, '', 1)\n",
    "            if new == '':\n",
    "                break\n",
    "    return result\n",
    "           "
   ]
  },
  {
   "cell_type": "code",
   "execution_count": null,
   "id": "bb40411c",
   "metadata": {},
   "outputs": [],
   "source": []
  },
  {
   "cell_type": "code",
   "execution_count": 27,
   "id": "af79654d",
   "metadata": {},
   "outputs": [
    {
     "ename": "IndexError",
     "evalue": "list index out of range",
     "output_type": "error",
     "traceback": [
      "\u001b[1;31m---------------------------------------------------------------------------\u001b[0m",
      "\u001b[1;31mIndexError\u001b[0m                                Traceback (most recent call last)",
      "\u001b[1;32m~\\AppData\\Local\\Temp/ipykernel_6152/2769691625.py\u001b[0m in \u001b[0;36m<module>\u001b[1;34m\u001b[0m\n\u001b[0;32m      8\u001b[0m \u001b[1;33m\u001b[0m\u001b[0m\n\u001b[0;32m      9\u001b[0m \u001b[1;33m\u001b[0m\u001b[0m\n\u001b[1;32m---> 10\u001b[1;33m     \u001b[1;32melif\u001b[0m \u001b[1;33m(\u001b[0m\u001b[0mnew\u001b[0m\u001b[1;33m[\u001b[0m\u001b[0mi\u001b[0m\u001b[1;33m]\u001b[0m \u001b[1;33m==\u001b[0m \u001b[1;34m'east'\u001b[0m \u001b[1;32mand\u001b[0m \u001b[0mnew\u001b[0m\u001b[1;33m[\u001b[0m\u001b[0mi\u001b[0m\u001b[1;33m+\u001b[0m\u001b[1;36m1\u001b[0m\u001b[1;33m]\u001b[0m \u001b[1;33m==\u001b[0m \u001b[1;34m'west'\u001b[0m\u001b[1;33m)\u001b[0m \u001b[1;32mor\u001b[0m  \u001b[1;33m(\u001b[0m\u001b[0mnew\u001b[0m\u001b[1;33m[\u001b[0m\u001b[0mi\u001b[0m\u001b[1;33m]\u001b[0m \u001b[1;33m==\u001b[0m \u001b[1;34m'west'\u001b[0m \u001b[1;32mand\u001b[0m \u001b[0mnew\u001b[0m\u001b[1;33m[\u001b[0m\u001b[0mi\u001b[0m\u001b[1;33m+\u001b[0m\u001b[1;36m1\u001b[0m\u001b[1;33m]\u001b[0m \u001b[1;33m==\u001b[0m \u001b[1;34m'east'\u001b[0m\u001b[1;33m)\u001b[0m\u001b[1;33m:\u001b[0m\u001b[1;33m\u001b[0m\u001b[1;33m\u001b[0m\u001b[0m\n\u001b[0m\u001b[0;32m     11\u001b[0m \u001b[1;33m\u001b[0m\u001b[0m\n\u001b[0;32m     12\u001b[0m         \u001b[1;32mdel\u001b[0m \u001b[0mnew\u001b[0m\u001b[1;33m[\u001b[0m\u001b[0mi\u001b[0m\u001b[1;33m]\u001b[0m\u001b[1;33m\u001b[0m\u001b[1;33m\u001b[0m\u001b[0m\n",
      "\u001b[1;31mIndexError\u001b[0m: list index out of range"
     ]
    }
   ],
   "source": [
    "b = ['North', 'South', 'South', 'East', 'West', 'North', 'West']\n",
    "new = list(map(lambda x : x.lower(), b))\n",
    "# directions = ['north', 'south', 'west', 'east']\n",
    "for i in range(len(new) - 1):\n",
    "    if (new[i] == 'north' and new[i+1] == 'south') or  (new[i] == 'south' and new[i+1] == 'south'):\n",
    "        del new[i]\n",
    "        del new[i+1]\n",
    "        \n",
    "    \n",
    "    if (new[i] == 'east' and new[i+1] == 'west') or  (new[i] == 'west' and new[i+1] == 'east'):\n",
    "        \n",
    "        del new[i]\n",
    "        del new[i+1]\n",
    "    \n",
    "    \n",
    "    else:\n",
    "        break\n",
    "\n",
    "         \n",
    "    \n",
    "print(new)\n",
    "\n"
   ]
  },
  {
   "cell_type": "code",
   "execution_count": 1,
   "id": "c6e3e214",
   "metadata": {},
   "outputs": [
    {
     "data": {
      "text/plain": [
       "'NW'"
      ]
     },
     "execution_count": 1,
     "metadata": {},
     "output_type": "execute_result"
    }
   ],
   "source": [
    "def dirReduc(dir):\n",
    "    while \"NS\" in dir or \"SN\" in dir or \"WE\" in dir or \"EW\" in dir:\n",
    "        dir = dir.replace(\"NS\",\"\").replace(\"SN\",\"\").replace(\"WE\",\"\").replace(\"EW\",\"\")\n",
    "    if dir == \"\" :\n",
    "        return 0\n",
    "    else:\n",
    "        return dir\n",
    "dirReduc(\"NWNSWE\")"
   ]
  },
  {
   "cell_type": "code",
   "execution_count": 3,
   "id": "6118a003",
   "metadata": {},
   "outputs": [
    {
     "data": {
      "text/plain": [
       "['SOUTH', 'EAST', 'SOUTH']"
      ]
     },
     "execution_count": 3,
     "metadata": {},
     "output_type": "execute_result"
    }
   ],
   "source": [
    "dirReduc([\"NORTH\", \"SOUTH\", \"SOUTH\", \"EAST\", \"NORTH\", \"WEST\", \"EAST\", \"SOUTH\", \"SOUTH\"])"
   ]
  },
  {
   "cell_type": "code",
   "execution_count": null,
   "id": "d47952f2",
   "metadata": {},
   "outputs": [],
   "source": []
  }
 ],
 "metadata": {
  "kernelspec": {
   "display_name": "Python 3 (ipykernel)",
   "language": "python",
   "name": "python3"
  },
  "language_info": {
   "codemirror_mode": {
    "name": "ipython",
    "version": 3
   },
   "file_extension": ".py",
   "mimetype": "text/x-python",
   "name": "python",
   "nbconvert_exporter": "python",
   "pygments_lexer": "ipython3",
   "version": "3.9.6"
  }
 },
 "nbformat": 4,
 "nbformat_minor": 5
}
