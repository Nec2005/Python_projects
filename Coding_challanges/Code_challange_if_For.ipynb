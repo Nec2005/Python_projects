{
 "cells": [
  {
   "cell_type": "code",
   "execution_count": 1,
   "id": "8ce7a338",
   "metadata": {},
   "outputs": [
    {
     "name": "stdout",
     "output_type": "stream",
     "text": [
      "[0, 2, 6, 8]\n"
     ]
    }
   ],
   "source": [
    "word = 'AsTergHyB'\n",
    "result = []\n",
    "for i in word:\n",
    "\tif i.isupper():\n",
    "\t\tresult.append(word.index(i))\n",
    "print(result)"
   ]
  },
  {
   "cell_type": "code",
   "execution_count": null,
   "id": "4da6437a",
   "metadata": {},
   "outputs": [],
   "source": []
  },
  {
   "cell_type": "markdown",
   "id": "32396dbc",
   "metadata": {},
   "source": [
    "Write a Python function that accepts a string and calculates the number of uppercase and lowercase letters.\n",
    "Example String : 'The quick Brow Fox'\n",
    "Expected Output :\n",
    "Number of uppercase characters : 3\n",
    "Number of lowercase characters : 12"
   ]
  },
  {
   "cell_type": "code",
   "execution_count": 28,
   "id": "f132106c",
   "metadata": {},
   "outputs": [
    {
     "name": "stdout",
     "output_type": "stream",
     "text": [
      "Enter a sentence :The quick Brow Fox\n",
      "Number of uppercase characters: 3\n",
      "Number of lowercase characters: 12\n"
     ]
    }
   ],
   "source": [
    "sentence = input('Enter a sentence :')\n",
    "upper_in_sen = []\n",
    "lower_in_sen = []\n",
    "for i in sentence:\n",
    "    if i.isupper() :\n",
    "        upper_in_sen.append(i)\n",
    "    elif i.islower() :\n",
    "        lower_in_sen.append(i)\n",
    "print(f\"Number of uppercase characters: {len(upper_in_sen)}\")\n",
    "print(f\"Number of lowercase characters: {len(lower_in_sen)}\")\n",
    "\n"
   ]
  },
  {
   "cell_type": "code",
   "execution_count": 21,
   "id": "d1fb2ae3",
   "metadata": {},
   "outputs": [
    {
     "data": {
      "text/plain": [
       "['T', 'B', 'F']"
      ]
     },
     "execution_count": 21,
     "metadata": {},
     "output_type": "execute_result"
    }
   ],
   "source": [
    "c = 'The quick Brow Fox'\n",
    "upper_in_sen = []\n",
    "for i in c :\n",
    "    if i.isupper() :\n",
    "        upper_in_sen.append(i)\n",
    "upper_in_sen"
   ]
  },
  {
   "cell_type": "code",
   "execution_count": null,
   "id": "6d4182ec",
   "metadata": {},
   "outputs": [],
   "source": []
  },
  {
   "cell_type": "code",
   "execution_count": 29,
   "id": "bd0a2011",
   "metadata": {},
   "outputs": [
    {
     "data": {
      "text/plain": [
       "[1, 3, 6, 10, 15, 21]"
      ]
     },
     "execution_count": 29,
     "metadata": {},
     "output_type": "execute_result"
    }
   ],
   "source": [
    "num = [1, 2, 3, 4, 5, 6]\n",
    "new_list = []\n",
    "i = 0\n",
    "a = 0\n",
    "while i < len(num):\n",
    "    a += num[i]\n",
    "    i += 1\n",
    "    new_list.append(a)\n",
    "new_list"
   ]
  },
  {
   "cell_type": "code",
   "execution_count": null,
   "id": "26718785",
   "metadata": {},
   "outputs": [],
   "source": []
  },
  {
   "cell_type": "markdown",
   "id": "a207ca2a",
   "metadata": {},
   "source": [
    "Write a Python code to sort the list at below without using .sort() method of list. elements of list = [999, 333, 2, 8982, 12, 45, 77, 99, 11] Expected output: [2, 11, 12, 45, 77, 99, 333, 999, 8982]\n",
    "\n",
    "[ ]\n"
   ]
  },
  {
   "cell_type": "code",
   "execution_count": null,
   "id": "34a38f6a",
   "metadata": {},
   "outputs": [],
   "source": [
    "list1 = [999, 333, 2, 8982, 12, 45, 77, 99, 11]\n",
    "list2 = []\n",
    "x = 0\n",
    "for i in list1 :\n",
    "    if i < list1[x] :\n",
    "      list2.append(i)\n",
    "    else:\n",
    "       x += 1\n",
    "list2"
   ]
  },
  {
   "cell_type": "code",
   "execution_count": null,
   "id": "cec5ebb9",
   "metadata": {},
   "outputs": [],
   "source": []
  },
  {
   "cell_type": "code",
   "execution_count": 42,
   "id": "2d267a11",
   "metadata": {},
   "outputs": [],
   "source": [
    "def contains_even_number(l):\n",
    "    for ele in l:\n",
    "        if ele % 2 == 0:\n",
    "            print (\"list contains an even number\")\n",
    "            break \n",
    "  \n",
    "    # This else executes only if break is NEVER\n",
    "    # reached and loop terminated after all iterations.\n",
    "    else:     \n",
    "        print (\"list does not contain an even number\")"
   ]
  },
  {
   "cell_type": "code",
   "execution_count": 43,
   "id": "aa761b3a",
   "metadata": {},
   "outputs": [
    {
     "name": "stdout",
     "output_type": "stream",
     "text": [
      "list contains an even number\n"
     ]
    }
   ],
   "source": [
    "contains_even_number([3, 6, 9, 5, 8, 7, 10])"
   ]
  },
  {
   "cell_type": "code",
   "execution_count": null,
   "id": "5162756f",
   "metadata": {},
   "outputs": [],
   "source": []
  }
 ],
 "metadata": {
  "kernelspec": {
   "display_name": "Python 3 (ipykernel)",
   "language": "python",
   "name": "python3"
  },
  "language_info": {
   "codemirror_mode": {
    "name": "ipython",
    "version": 3
   },
   "file_extension": ".py",
   "mimetype": "text/x-python",
   "name": "python",
   "nbconvert_exporter": "python",
   "pygments_lexer": "ipython3",
   "version": "3.9.6"
  }
 },
 "nbformat": 4,
 "nbformat_minor": 5
}
