{
 "cells": [
  {
   "cell_type": "markdown",
   "metadata": {
    "id": "DpXjn6Vd9Yw6"
   },
   "source": [
    "1- Write a program to prompt for a score between 0.0 and 1.0. If the score is out of range, print an error. If the score is between 0.0 and 1.0, print a grade using the following table: Score Grade\n",
    "\n",
    "0.9 A\n",
    "\n",
    "0.8 B\n",
    "\n",
    "0.7 C\n",
    "\n",
    "0.6 D\n",
    "\n",
    "0.6 F\n",
    "\n",
    "If the user enters a value out of range, print a suitable error message and exit. For the test, enter a score of 0.85"
   ]
  },
  {
   "cell_type": "code",
   "execution_count": 1,
   "metadata": {},
   "outputs": [],
   "source": [
    "def prompt_score(score):\n",
    "    if score > 0.0 and score < 1.0 :\n",
    "        if score == 0.9:\n",
    "            result = 'A'\n",
    "        elif score == 0.8:\n",
    "            result = 'B'\n",
    "        elif score == 0.7:\n",
    "            result = 'C'\n",
    "        elif score == 0.6 :\n",
    "            result = 'D'\n",
    "        elif score == 0.5 :\n",
    "            result = 'F'\n",
    "        print(score, result)\n",
    "    else :\n",
    "        print('Enter valid input')\n",
    "    "
   ]
  },
  {
   "cell_type": "code",
   "execution_count": 4,
   "metadata": {},
   "outputs": [
    {
     "name": "stdout",
     "output_type": "stream",
     "text": [
      "Enter valid input\n"
     ]
    }
   ],
   "source": [
    "prompt_score(1.2)"
   ]
  },
  {
   "cell_type": "code",
   "execution_count": 1,
   "metadata": {},
   "outputs": [
    {
     "name": "stdout",
     "output_type": "stream",
     "text": [
      "Enter a score : 0.85\n",
      "B\n"
     ]
    }
   ],
   "source": [
    "s = float(input('Enter a score : '))\n",
    "if 0.0 <= s <= 1.0 :\n",
    "    if s >= 0.9:\n",
    "        print('A')\n",
    "    elif s >= 0.8 :\n",
    "        print('B')\n",
    "    elif s >= 0.7 :\n",
    "        print('C')\n",
    "    elif s >= 0.6 :\n",
    "        print('D')\n",
    "    elif s < 0.6 :\n",
    "        print('F')\n",
    "else :\n",
    "    print('invalid input')"
   ]
  },
  {
   "cell_type": "code",
   "execution_count": null,
   "metadata": {},
   "outputs": [],
   "source": []
  },
  {
   "cell_type": "markdown",
   "metadata": {
    "id": "k7W9-BOA9n7O"
   },
   "source": [
    "2- Yazi olarak girilen string ifadenin içindeki harfler tamamen büyük veya tamamen küçük ise True, küçük ve büyük harlerden oluşmuş ise False veren bir fonksiyon yazalım."
   ]
  },
  {
   "cell_type": "code",
   "execution_count": 2,
   "metadata": {},
   "outputs": [],
   "source": [
    "def up_low(sentence) :\n",
    "    if sentence.lower() == sentence or sentence.upper() == sentence :\n",
    "        return True\n",
    "    else:\n",
    "        return False\n"
   ]
  },
  {
   "cell_type": "code",
   "execution_count": 4,
   "metadata": {},
   "outputs": [
    {
     "data": {
      "text/plain": [
       "True"
      ]
     },
     "execution_count": 4,
     "metadata": {},
     "output_type": "execute_result"
    }
   ],
   "source": [
    "up_low('tomas')"
   ]
  },
  {
   "cell_type": "markdown",
   "metadata": {
    "id": "6PFwqEFO9nxy"
   },
   "source": [
    "3- Sayıyı kalansız bölen sayıları bulan bir fonksiyon yazalım"
   ]
  },
  {
   "cell_type": "code",
   "execution_count": 19,
   "metadata": {},
   "outputs": [],
   "source": [
    "def mod_num(number) :\n",
    "    list1 = []\n",
    "    for i in range(1, number+1):\n",
    "        if number % i == 0 :\n",
    "            list1.append(i)\n",
    "    return list1\n"
   ]
  },
  {
   "cell_type": "code",
   "execution_count": 20,
   "metadata": {},
   "outputs": [
    {
     "data": {
      "text/plain": [
       "[1, 2, 7, 14]"
      ]
     },
     "execution_count": 20,
     "metadata": {},
     "output_type": "execute_result"
    }
   ],
   "source": [
    "mod_num(14)"
   ]
  },
  {
   "cell_type": "code",
   "execution_count": null,
   "metadata": {},
   "outputs": [],
   "source": []
  },
  {
   "cell_type": "markdown",
   "metadata": {
    "id": "rgWFi-lZ9noI"
   },
   "source": [
    "4- Cümlenin içindeki sesli harfleri kaldıran bir fonksiyon yazalım.\n",
    "print(sessiz_yap(\"Hayat beni neden yoruyosun?:)\")) --> hyt bn ndn yrysn?:)"
   ]
  },
  {
   "cell_type": "code",
   "execution_count": 13,
   "metadata": {},
   "outputs": [
    {
     "data": {
      "text/plain": [
       "'Hyt bn ndn yryrsn'"
      ]
     },
     "execution_count": 13,
     "metadata": {},
     "output_type": "execute_result"
    }
   ],
   "source": [
    "def sessiz_yap(sentence):\n",
    "    vowel = 'aeiuoAEIOU'\n",
    "    for i in sentence:\n",
    "        for i in vowel :\n",
    "            sentence = sentence.replace(i, '')\n",
    "    return sentence\n",
    "sessiz_yap(\"Hayat beni neden yoruyorsun\")"
   ]
  },
  {
   "cell_type": "code",
   "execution_count": 17,
   "metadata": {},
   "outputs": [
    {
     "data": {
      "text/plain": [
       "'Hyt bn ndn yryrsn'"
      ]
     },
     "execution_count": 17,
     "metadata": {},
     "output_type": "execute_result"
    }
   ],
   "source": [
    "def sessiz_yap(sentence):\n",
    "    yeni = ''\n",
    "    vowel = 'aeiuoAEIOU'\n",
    "    for i in sentence:\n",
    "        if i not in vowel:\n",
    "            yeni += i\n",
    "    return yeni\n",
    "\n",
    "sessiz_yap(\"Hayat beni neden yoruyorsun\")"
   ]
  },
  {
   "cell_type": "code",
   "execution_count": null,
   "metadata": {},
   "outputs": [],
   "source": []
  },
  {
   "cell_type": "markdown",
   "metadata": {
    "id": "yxwOQSQe9ne1"
   },
   "source": [
    "5- Tarihi yüzyıla çeviren bir fonksiyon yazalım.\n",
    "print(yüzyıl_yap(1738)) --> 18. yüzyıl"
   ]
  },
  {
   "cell_type": "code",
   "execution_count": 18,
   "metadata": {},
   "outputs": [
    {
     "data": {
      "text/plain": [
       "'18. century'"
      ]
     },
     "execution_count": 18,
     "metadata": {},
     "output_type": "execute_result"
    }
   ],
   "source": [
    "def century(number):\n",
    "    return f\"{(number//100) + 1}. century\"\n",
    "\n",
    "century(1756)"
   ]
  },
  {
   "cell_type": "code",
   "execution_count": null,
   "metadata": {},
   "outputs": [],
   "source": []
  },
  {
   "cell_type": "markdown",
   "metadata": {
    "id": "E4tCFCc-9nVQ"
   },
   "source": []
  },
  {
   "cell_type": "markdown",
   "metadata": {
    "id": "Y4qLf-_89nL4"
   },
   "source": [
    "6- Yazının içersindeki kelimelerin ilk ve son karakterleri sabit tutup diğer karakterleri yerine - çizgi koyan fonksiyon yazalım.\n",
    "print(dönüstür(\"hello world\")) --> h---o w---d "
   ]
  },
  {
   "cell_type": "code",
   "execution_count": 24,
   "metadata": {},
   "outputs": [],
   "source": [
    "def change(sentence):\n",
    "    list1 = sentence.split()\n",
    "    new = ''\n",
    "    for i in list1:\n",
    "        for ii in i :\n",
    "            if i.index(ii) == 0:\n",
    "                new += ii\n",
    "            elif i.index(ii) == len(i)-1 :\n",
    "                new += ii + ' '\n",
    "            else:\n",
    "                new += '-'\n",
    "    return new.strip()"
   ]
  },
  {
   "cell_type": "code",
   "execution_count": 28,
   "metadata": {},
   "outputs": [
    {
     "name": "stdout",
     "output_type": "stream",
     "text": [
      "h---o w---d\n"
     ]
    }
   ],
   "source": [
    "print(change('hello world'))"
   ]
  },
  {
   "cell_type": "code",
   "execution_count": 55,
   "metadata": {},
   "outputs": [
    {
     "name": "stdout",
     "output_type": "stream",
     "text": [
      "h---o w-------d\n"
     ]
    }
   ],
   "source": [
    "x = \"hello worllllld\"\n",
    "y = x.split(\" \")\n",
    "a = \"\"\n",
    "for i in y:\n",
    "    for j in i:\n",
    "        if not j==i[0] and not j==i[-1] :\n",
    "            i=i.replace(j,\"-\")\n",
    "    a += i + \" \"\n",
    "print(a.strip())"
   ]
  },
  {
   "cell_type": "code",
   "execution_count": 40,
   "metadata": {},
   "outputs": [
    {
     "data": {
      "text/plain": [
       "'R---e H--a K--g'"
      ]
     },
     "execution_count": 40,
     "metadata": {},
     "output_type": "execute_result"
    }
   ],
   "source": [
    "def donustur(a):\n",
    "    b = a.split()\n",
    "    new = \"\"\n",
    "    for i in b:\n",
    "        x = len(i)\n",
    "        c = i.replace(i[1:(x-1):1], \"-\" *(x-2))\n",
    "        new += c + \" \"\n",
    "    return new.strip()\n",
    "donustur(\"Raife Hoca King\")"
   ]
  },
  {
   "cell_type": "code",
   "execution_count": null,
   "metadata": {},
   "outputs": [],
   "source": []
  },
  {
   "cell_type": "markdown",
   "metadata": {
    "id": "mEPc7d0Z9nAI"
   },
   "source": [
    "7- Her girdi listesinde iki tanesi hariç her rakam en az bir kere tekrarlıyor.iki benzersiz sayıyı döndüren bir fonksiyon yazalım.\n",
    "benzersizi_bul([2,2,3,11,3,6,5]) --> [6, 5]  # 11 te 2 tane 1 var"
   ]
  },
  {
   "cell_type": "code",
   "execution_count": 31,
   "metadata": {},
   "outputs": [],
   "source": [
    "def unique_find(list1):\n",
    "    new = []\n",
    "    s = ''\n",
    "     \n",
    "    for i in list1 :\n",
    "        s += str(i)\n",
    "    for k in set(s):\n",
    "        if s.count(k) == 1:\n",
    "            new.append(int(k))\n",
    "    return new\n",
    "\n",
    "        "
   ]
  },
  {
   "cell_type": "code",
   "execution_count": 33,
   "metadata": {},
   "outputs": [
    {
     "data": {
      "text/plain": [
       "[6, 5]"
      ]
     },
     "execution_count": 33,
     "metadata": {},
     "output_type": "execute_result"
    }
   ],
   "source": [
    "list1 = [2,2,3,11,3,6,5]\n",
    "unique_find(list1)"
   ]
  },
  {
   "cell_type": "markdown",
   "metadata": {
    "id": "GMgm2Jhu9mQj"
   },
   "source": [
    "8- Bir stringi(kelime) alan ve birbirini izleyen aynı harfleri çıkaran bir fonksiyon oluşturun.\n",
    "print(cıkar(\"mmmeeerrhhhaaabbbaaa\")) --> merhaba"
   ]
  },
  {
   "cell_type": "code",
   "execution_count": 36,
   "metadata": {},
   "outputs": [],
   "source": [
    "def minus(word):\n",
    "    new = ''\n",
    "    for i in range(len(word)-1):\n",
    "        if word[i] != word[i+1]:\n",
    "            new += word[i]\n",
    "    new += word[-1]\n",
    "    return new"
   ]
  },
  {
   "cell_type": "code",
   "execution_count": 37,
   "metadata": {},
   "outputs": [
    {
     "data": {
      "text/plain": [
       "'merhaba'"
      ]
     },
     "execution_count": 37,
     "metadata": {},
     "output_type": "execute_result"
    }
   ],
   "source": [
    "minus('mmmeeerrhhhaaabbbaaa')"
   ]
  },
  {
   "cell_type": "code",
   "execution_count": null,
   "metadata": {},
   "outputs": [],
   "source": []
  },
  {
   "cell_type": "markdown",
   "metadata": {
    "id": "3oD9kK_q9mBH"
   },
   "source": [
    "9- Belirli aralıkta(sınırlar dahil) verilen rakamın kaç kere olduğunu sayan bir fonksiyon yazalım. print(kac_tane(50,55,5)) --> 7"
   ]
  },
  {
   "cell_type": "code",
   "execution_count": 38,
   "metadata": {},
   "outputs": [],
   "source": [
    "def count_num(a, b, c):\n",
    "    result = 0\n",
    "    for i in range(a, b+1):\n",
    "        result += str(i).count(str(c))\n",
    "    return result"
   ]
  },
  {
   "cell_type": "code",
   "execution_count": 39,
   "metadata": {},
   "outputs": [
    {
     "data": {
      "text/plain": [
       "7"
      ]
     },
     "execution_count": 39,
     "metadata": {},
     "output_type": "execute_result"
    }
   ],
   "source": [
    "count_num(50, 55, 5)"
   ]
  },
  {
   "cell_type": "markdown",
   "metadata": {
    "id": "n1Tuy6szEGR8"
   },
   "source": [
    "10- Yüksekliği verilen yılbaşı ağacını oluşturan bir fonksiyon yazalım. agac(7)\n",
    "\n",
    "\n",
    "```\n",
    "      #      \n",
    "     ###     \n",
    "    #####    \n",
    "   #######   \n",
    "  #########  \n",
    " ########### \n",
    "############# \n",
    "```\n",
    "\n"
   ]
  },
  {
   "cell_type": "code",
   "execution_count": 44,
   "metadata": {},
   "outputs": [
    {
     "name": "stdout",
     "output_type": "stream",
     "text": [
      "      #      \n",
      "     ###     \n",
      "    #####    \n",
      "   #######   \n",
      "  #########  \n",
      " ########### \n",
      "#############\n"
     ]
    }
   ],
   "source": [
    "def tree(height) :\n",
    "    for i in range(1, 2*height, 2):\n",
    "        print((i*'#').center(2*height-1))\n",
    "tree(7)"
   ]
  },
  {
   "cell_type": "code",
   "execution_count": 51,
   "metadata": {},
   "outputs": [],
   "source": [
    "def tree1(height):\n",
    "    i = 1\n",
    "    while i <= 2*height - 1 :\n",
    "        print((i*'#').center(2*height-1))\n",
    "        i += 2\n",
    "\n"
   ]
  },
  {
   "cell_type": "code",
   "execution_count": 52,
   "metadata": {},
   "outputs": [
    {
     "name": "stdout",
     "output_type": "stream",
     "text": [
      "       #       \n",
      "      ###      \n",
      "     #####     \n",
      "    #######    \n",
      "   #########   \n",
      "  ###########  \n",
      " ############# \n",
      "###############\n"
     ]
    }
   ],
   "source": [
    "tree1(8)"
   ]
  },
  {
   "cell_type": "code",
   "execution_count": null,
   "metadata": {},
   "outputs": [],
   "source": []
  }
 ],
 "metadata": {
  "colab": {
   "name": "group_2.ipynb",
   "provenance": []
  },
  "kernelspec": {
   "display_name": "Python 3 (ipykernel)",
   "language": "python",
   "name": "python3"
  },
  "language_info": {
   "codemirror_mode": {
    "name": "ipython",
    "version": 3
   },
   "file_extension": ".py",
   "mimetype": "text/x-python",
   "name": "python",
   "nbconvert_exporter": "python",
   "pygments_lexer": "ipython3",
   "version": "3.9.6"
  }
 },
 "nbformat": 4,
 "nbformat_minor": 1
}
