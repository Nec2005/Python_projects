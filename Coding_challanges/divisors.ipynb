{
 "cells": [
  {
   "cell_type": "code",
   "execution_count": null,
   "id": "0541d39d",
   "metadata": {},
   "outputs": [],
   "source": [
    "Count the divisors of a number\n",
    "Count the number of divisors of a non-negative integer n.\n",
    "\n",
    "Random tests go up to n = 500000.\n",
    "\n",
    "Examples\n",
    "divisors(4)  == 3  # 1, 2, 4\n",
    "divisors(5)  == 2  # 1, 5\n",
    "divisors(12) == 6  # 1, 2, 3, 4, 6, 12\n",
    "divisors(30) == 8  # 1, 2, 3, 5, 6, 10, 15, 30"
   ]
  },
  {
   "cell_type": "code",
   "execution_count": 1,
   "id": "dcceed01",
   "metadata": {},
   "outputs": [
    {
     "data": {
      "text/plain": [
       "8"
      ]
     },
     "execution_count": 1,
     "metadata": {},
     "output_type": "execute_result"
    }
   ],
   "source": [
    "def divisors(n) :\n",
    "    result = []\n",
    "    for i in range(1, n+1):\n",
    "        if n%i == 0:\n",
    "            result.append(i)\n",
    "    return len(result)\n",
    "\n",
    "divisors(30)"
   ]
  },
  {
   "cell_type": "code",
   "execution_count": 7,
   "id": "6f3a1317",
   "metadata": {},
   "outputs": [
    {
     "data": {
      "text/plain": [
       "8"
      ]
     },
     "execution_count": 7,
     "metadata": {},
     "output_type": "execute_result"
    }
   ],
   "source": [
    "def divisors(n) :\n",
    "    result = [i  for i in range(1, n+1) if n % i == 0]\n",
    "    return len(result)\n",
    "\n",
    "divisors(30)\n",
    "\n",
    "\n"
   ]
  },
  {
   "cell_type": "code",
   "execution_count": 12,
   "id": "2da8b645",
   "metadata": {},
   "outputs": [
    {
     "data": {
      "text/plain": [
       "6"
      ]
     },
     "execution_count": 12,
     "metadata": {},
     "output_type": "execute_result"
    }
   ],
   "source": [
    "def divisors(n):\n",
    "    return sum(1 for i in range(1, n + 1) if n % i == 0)\n",
    "\n",
    "divisors(12)"
   ]
  }
 ],
 "metadata": {
  "kernelspec": {
   "display_name": "Python 3 (ipykernel)",
   "language": "python",
   "name": "python3"
  },
  "language_info": {
   "codemirror_mode": {
    "name": "ipython",
    "version": 3
   },
   "file_extension": ".py",
   "mimetype": "text/x-python",
   "name": "python",
   "nbconvert_exporter": "python",
   "pygments_lexer": "ipython3",
   "version": "3.9.6"
  }
 },
 "nbformat": 4,
 "nbformat_minor": 5
}
